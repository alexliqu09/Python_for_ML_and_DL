{
  "nbformat": 4,
  "nbformat_minor": 0,
  "metadata": {
    "colab": {
      "name": "Data_Strcutct.ipynb",
      "private_outputs": true,
      "provenance": [],
      "toc_visible": true,
      "authorship_tag": "ABX9TyPjy+hLLQovi+BhGDXSIgSl",
      "include_colab_link": true
    },
    "kernelspec": {
      "name": "python3",
      "display_name": "Python 3"
    },
    "accelerator": "GPU"
  },
  "cells": [
    {
      "cell_type": "markdown",
      "metadata": {
        "id": "view-in-github",
        "colab_type": "text"
      },
      "source": [
        "<a href=\"https://colab.research.google.com/github/alexliqu09/Python_for_ML_and_DL/blob/main/Notebooks/Data_Strcutct.ipynb\" target=\"_parent\"><img src=\"https://colab.research.google.com/assets/colab-badge.svg\" alt=\"Open In Colab\"/></a>"
      ]
    },
    {
      "cell_type": "markdown",
      "metadata": {
        "id": "onA4ewmBm-s9"
      },
      "source": [
        "#***Python for ML/DL***\n",
        "---\n",
        "<center>\n",
        "<img src=\"https://ehackz.com/wp-content/uploads/2018/02/Python.jpg\">\n"
      ]
    },
    {
      "cell_type": "markdown",
      "metadata": {
        "id": "vo8mCfgD0RUF"
      },
      "source": [
        "## **List**\n",
        "\n",
        "---\n"
      ]
    },
    {
      "cell_type": "markdown",
      "metadata": {
        "id": "Q6uYoCnD7n9r"
      },
      "source": [
        "### **Initialize list**"
      ]
    },
    {
      "cell_type": "code",
      "metadata": {
        "id": "0m3l1_jx7IT3"
      },
      "source": [
        "Blanck = [] \n",
        "List = [1, 2, 3, \"Acecom\", 'AI', \"\"]\n",
        "Number = [0, 1, 4, 5, 3, 4]"
      ],
      "execution_count": null,
      "outputs": []
    },
    {
      "cell_type": "markdown",
      "metadata": {
        "id": "k_i2kXki_PC6"
      },
      "source": [
        "### **Index operation**\n",
        "\n",
        "---\n",
        "\n",
        "<p>\n",
        "Example = [star : stop : step]\n",
        "</p>\n",
        "\n",
        "remember that range is **star** throught **stop** - 1"
      ]
    },
    {
      "cell_type": "markdown",
      "metadata": {
        "id": "Lkh-wlPDdxtd"
      },
      "source": [
        "<center>\n",
        "<img width=\"60%\" height=\"40%\" src=\"https://railsware.com/blog/wp-content/uploads/2018/10/first-slice.png\"></img>\n",
        "\n",
        "<a href=\"https://railsware.com/blog/wp-content/uploads/2018/10/first-slice.png\">Slicing of a List<a>"
      ]
    },
    {
      "cell_type": "markdown",
      "metadata": {
        "id": "LBRdOP9dOqjo"
      },
      "source": [
        "\n",
        "0.   Example [0]\n",
        "1.   Example1 [ : ]\n",
        "2.   Example2 [1:]\n",
        "3.   Example3 [4:9] \n"
      ]
    },
    {
      "cell_type": "code",
      "metadata": {
        "id": "gPMNjtC38DOo"
      },
      "source": [
        "Example = [255,164,135,100,45,95,24,49,25,14,1,3,67]\n",
        "print(f'Example0: {Example[0]},\\nExample1:{Example[:]},\\nExample2:{Example[1:]},\\nExample3:{Example[4:9]}')"
      ],
      "execution_count": null,
      "outputs": []
    },
    {
      "cell_type": "markdown",
      "metadata": {
        "id": "G4zWKy3PQ-fT"
      },
      "source": [
        "5. Example5 [5:10]\n",
        "6. Example6 [9 : : len(Example)%2]"
      ]
    },
    {
      "cell_type": "code",
      "metadata": {
        "id": "SLYFBFEKRHYc"
      },
      "source": [
        "print(f'Example5:{Example[5:10]},\\nExample6:{Example[9::len(Example)%2]}')"
      ],
      "execution_count": null,
      "outputs": []
    },
    {
      "cell_type": "markdown",
      "metadata": {
        "id": "zog93LCenpvD"
      },
      "source": [
        "<center>\n",
        "<img width=\"60%\" height=\"40%\" src=\"https://miro.medium.com/max/1838/1*HqdR129XR8-1ojtTYLou7g.png\"></img>\n",
        "\n",
        "[Negative Index](https://miro.medium.com/max/1838/1*HqdR129XR8-1ojtTYLou7g.png)"
      ]
    },
    {
      "cell_type": "markdown",
      "metadata": {
        "id": "XKqRhZySaOhg"
      },
      "source": [
        "7. Example [-1]\n",
        "8. Example7 [ : :-1]\n",
        "9. Example8 [ :-4]\n",
        "10. Example10 [-4:-1]\n",
        "11. Example11 [-10:-1:2]"
      ]
    },
    {
      "cell_type": "code",
      "metadata": {
        "id": "Pt4b7kofbA5T"
      },
      "source": [
        "print(f\"Example7:{Example[-1]},\\nExample8:{Example[::-1]},\\nExample9:{Example[:-4]},\\nExample10:{Example[-4:-1]},\\nExample11:{Example[-10:-1:2]}\")"
      ],
      "execution_count": null,
      "outputs": []
    },
    {
      "cell_type": "markdown",
      "metadata": {
        "id": "j3zkjEK60NVv"
      },
      "source": [
        "### **SubList**"
      ]
    },
    {
      "cell_type": "code",
      "metadata": {
        "id": "nY2GUyBO03ZE"
      },
      "source": [
        "Matrix = [[1, 2, 4, 0, 14], [2, 3, 5, 2, 6], [3, 4, 5, 12, 25]]\n",
        "List_1 = [1, 2, 6, [1, 2, 3]]\n",
        "List_2 = [[1, 2, 3], [1, 2, [1, 2]], [1, 5, 4]]\n",
        "\n",
        "print(f'Matrix{Matrix},\\nList_1{List_1},\\nList_2{List_2}')"
      ],
      "execution_count": null,
      "outputs": []
    },
    {
      "cell_type": "markdown",
      "metadata": {
        "id": "uKGXgFR3Lzu-"
      },
      "source": [
        "12. Example12: Matrix [ 0 ]\n",
        "13. Example13: Matrix [ 0 : 2 ]\n",
        "14. Example14: Matrix [ 0 ][ 0 : 3 ]\n",
        "15. Example15: Matrix [ 1 ][ : -1 ] "
      ]
    },
    {
      "cell_type": "code",
      "metadata": {
        "id": "G_PQzxvoGA2P"
      },
      "source": [
        "print(f'Example12: {Matrix[0]},\\nExample13: {Matrix[0:2]},\\nExample14: {Matrix[0][0:3]},\\nExample15: {Matrix[1][:-1]}')"
      ],
      "execution_count": null,
      "outputs": []
    },
    {
      "cell_type": "markdown",
      "metadata": {
        "id": "0372VQw7Ntur"
      },
      "source": [
        "16. Example16: List_1 [ 0 ]\n",
        "17. Example17: List_1 [ 3 ][ : : -1]\n",
        "18. Example18: List_2 [ 1 ][ 1 : ]\n",
        "19. Example19: List_2 [ 1 ][ 2 ][ : -1 ]"
      ]
    },
    {
      "cell_type": "code",
      "metadata": {
        "id": "wcelq9_lO-5D"
      },
      "source": [
        "print(f'Example16: {List_1[0]}, \\nExample17: {List_1[3][::-1]},\\nExample18: {List_2[1][1:]},\\nExample19: {List_2 [1][2][:-1]}')"
      ],
      "execution_count": null,
      "outputs": []
    },
    {
      "cell_type": "markdown",
      "metadata": {
        "id": "5Hbtkhk9rXIF"
      },
      "source": [
        "### **List Methods**\n",
        "\n",
        "---\n",
        "\n"
      ]
    },
    {
      "cell_type": "code",
      "metadata": {
        "id": "X7AX948pt72o"
      },
      "source": [
        "Eg = [[1, 2, 4], [2, 5,7]]\n",
        "Eg_1 = [[1, 2, 4], [2, 5,7]]\n",
        "Eg_2 =[]\n",
        "print(f'Eg: {Eg}, \\nEg_1: {Eg_1},\\nEg_2: {Eg_2}')"
      ],
      "execution_count": null,
      "outputs": []
    },
    {
      "cell_type": "markdown",
      "metadata": {
        "id": "8wK1ofAotHfe"
      },
      "source": [
        "16. **Append**\n",
        "17. **Extend** \n",
        "18. **Insert**\n",
        "19.**Remove**"
      ]
    },
    {
      "cell_type": "code",
      "metadata": {
        "id": "lQoXDmS4swKZ"
      },
      "source": [
        "Eg.append(3)\n",
        "Eg_1[len(Eg_1):]= [3]\n",
        "Eg_2 += [2,3,5,7]\n",
        "print(f'Append Methods: {Eg}, \\nsame: {Eg_1}, \\nOther example {Eg_2}' )"
      ],
      "execution_count": null,
      "outputs": []
    },
    {
      "cell_type": "code",
      "metadata": {
        "id": "B74786N-xd13"
      },
      "source": [
        "Eg.extend([1,2])\n",
        "Eg_1[len(Eg_1):]= [1,2,5]\n",
        "print(f'Extend Methods: {Eg}, \\nsame: {Eg}')"
      ],
      "execution_count": null,
      "outputs": []
    },
    {
      "cell_type": "code",
      "metadata": {
        "id": "HW15lCsZwZB1"
      },
      "source": [
        "Eg.insert(2,4)\n",
        "Eg_1.remove(3)\n",
        "print(f'Insert Methods: {Eg}, \\nRemove methoda{Eg_1}')"
      ],
      "execution_count": null,
      "outputs": []
    },
    {
      "cell_type": "markdown",
      "metadata": {
        "id": "U0CJvNhQ2KK5"
      },
      "source": [
        "20. **Pop**\n",
        "21. **Clear**"
      ]
    },
    {
      "cell_type": "code",
      "metadata": {
        "id": "DECxq6B-2gsB"
      },
      "source": [
        "Eg.pop(4)\n",
        "Eg_1.pop()\n",
        "print(f'Pop methods{Eg}, \\nRemove the last element: {Eg_1}')\n",
        "Eg.clear()\n",
        "Eg"
      ],
      "execution_count": null,
      "outputs": []
    },
    {
      "cell_type": "markdown",
      "metadata": {
        "id": "F4hyAgkr443i"
      },
      "source": [
        "22. **Index**\n",
        "23. **Count**"
      ]
    },
    {
      "cell_type": "code",
      "metadata": {
        "id": "cwHj8FNZ6Too"
      },
      "source": [
        "print(f'The index is : {Eg_1.index([1,2,4])},\\nNumber of times {2} appears in the list: {Eg_1.count(2)}')\n"
      ],
      "execution_count": null,
      "outputs": []
    },
    {
      "cell_type": "markdown",
      "metadata": {
        "id": "hGAMnxjbZW0X"
      },
      "source": [
        "### **Deep Learning Aplication**\n",
        "\n",
        "---\n"
      ]
    },
    {
      "cell_type": "code",
      "metadata": {
        "id": "VfhB-pV6ZQaV"
      },
      "source": [
        "import torch\n",
        "import torch.nn as nn\n",
        "import torch.nn.functional as F\n",
        "\n",
        "class Model(nn.Module):\n",
        "    \n",
        "    def __init__(self):\n",
        "        super(Model,self).__init__()\n",
        "        \n",
        "        self.num_filters= [64,128,256]\n",
        "        \n",
        "        self.Hyperparameters = [self.num_filters, 4, 2]\n",
        "        \n",
        "        self.block1 = self.downsample(self.Hyperparameters[0][0], \n",
        "                                      self.Hyperparameters[0][1], \n",
        "                                      self.Hyperparameters[1],\n",
        "                                      self.Hyperparameters[2], \n",
        "                                      apply_normalizate=False)\n",
        "        \n",
        "        self.block2 = self.downsample(self.Hyperparameters[0][1], \n",
        "                                      self.Hyperparameters[0][2], \n",
        "                                      self.Hyperparameters[1],\n",
        "                                      self.Hyperparameters[2])\n",
        "        \n",
        "        self.dense = nn.Linear(self.Hyperparameters[0][2], \n",
        "                               self.Hyperparameters[0][2]//2)\n",
        "        \n",
        "        self.dense2 = nn.Linear(self.Hyperparameters[0][2]//2, \n",
        "                                self.Hyperparameters[0][2]//4)\n",
        "        \n",
        "        self.block = [self.block1, \n",
        "                      self.block2, \n",
        "                      self.dense, \n",
        "                      self.dense2]\n",
        "    \n",
        "    def downsample(self, filters, output, kernel_size, stride, apply_normalizate=True):\n",
        "        if apply_normalizate:\n",
        "            block = [\n",
        "                        nn.Conv2d(filters, output, kernel_size=kernel_size, stride=stride),\n",
        "                        nn.BatchNorm2d(output),\n",
        "                        nn.ReLU()\n",
        "                    ]\n",
        "        else:\n",
        "            block = [\n",
        "                            nn.Conv2d(filters, output, kernel_size=kernel_size, stride=stride),\n",
        "                            nn.ReLU()\n",
        "                        ]        \n",
        "        return block\n",
        "    def forward(self, x):\n",
        "        x = self.block[0][0](x)\n",
        "        x = self.block[0][1](x)\n",
        "        x = self.block[1][0](x)\n",
        "        x = self.block[1][1](x)\n",
        "        x = self.block[1][2](x)\n",
        "        x = x.view(-1,x.shape[1])\n",
        "        x = F.relu(self.block[2](x))\n",
        "        x = F.relu(self.block[3](x))\n",
        "        return x\n",
        "Net = Model()\n"
      ],
      "execution_count": null,
      "outputs": []
    },
    {
      "cell_type": "markdown",
      "metadata": {
        "id": "TVpAUoDNEZtw"
      },
      "source": [
        "## **Tuples**\n",
        "\n",
        "---\n",
        "\n",
        "\n",
        "\n"
      ]
    },
    {
      "cell_type": "markdown",
      "metadata": {
        "id": "EQktACEpXo51"
      },
      "source": [
        "### **Initialize Tuple**"
      ]
    },
    {
      "cell_type": "code",
      "metadata": {
        "id": "39NBsQQGX01_"
      },
      "source": [
        "tuple_1 = ()\n",
        "tuple_2 = 1.3,4,\"Alexander\",'A',\"I\"\n",
        "tuple_3 = ('Deep Learning',)\n",
        "print(f'Example tuple 1: {tuple_1}, \\nExample tuple 2:{tuple_2}, \\nExample 3: {tuple_3}')"
      ],
      "execution_count": null,
      "outputs": []
    },
    {
      "cell_type": "markdown",
      "metadata": {
        "id": "isMO6vQherMe"
      },
      "source": [
        "### **Index operation**"
      ]
    },
    {
      "cell_type": "markdown",
      "metadata": {
        "id": "vjUuCsVDf6hy"
      },
      "source": [
        "1. Example_1: tuple_2 [ 0 ]\n",
        "2. Example_2: tuple_2 [ 1 : 4 ]\n",
        "3. Example_3: tuple_2 [ : -2 ]\n",
        "4. Example_4: tuple_2 [ : : -1 ]\n",
        "5. Example_5: tuple_3 [ 0 ][ : : -1 ]"
      ]
    },
    {
      "cell_type": "code",
      "metadata": {
        "id": "d7lFszptevQi"
      },
      "source": [
        "print(f'Example1: {tuple_2[0]}, \\nExample2: {tuple_2[1:4]},\\nExample3: {tuple_2[:-2]}, \\nExampe4 {tuple_2[::-1]}, \\nExample5: {tuple_3[0][::-1]}')"
      ],
      "execution_count": null,
      "outputs": []
    },
    {
      "cell_type": "markdown",
      "metadata": {
        "id": "iAwnJTgpiz-d"
      },
      "source": [
        "### **SubTuple**\n",
        "\n",
        "---\n",
        "\n"
      ]
    },
    {
      "cell_type": "code",
      "metadata": {
        "id": "meMTdWSiizX9"
      },
      "source": [
        "tupla = 'Acecom',('Deep','Learning','A','I'),'NN'\n",
        "print(f'Tuple: {tupla}')"
      ],
      "execution_count": null,
      "outputs": []
    },
    {
      "cell_type": "markdown",
      "metadata": {
        "id": "bj8alB2RriVw"
      },
      "source": [
        "6. Example_6 : tupla [ 0 ]\n",
        "7. Example_7 : tupla [ 0 ][ : -2 ]\n",
        "8. Example_8 : tupla [ 1 ] [ 1 ][ : : -1 ]"
      ]
    },
    {
      "cell_type": "code",
      "metadata": {
        "id": "MZTV0_3iqHQM"
      },
      "source": [
        "print(f'Example6: {tupla[0]}, \\nExample7: {tupla[0][:-2]},\\nExample8: {tupla[1][1][::-1]}')"
      ],
      "execution_count": null,
      "outputs": []
    },
    {
      "cell_type": "markdown",
      "metadata": {
        "id": "0dx5eroAsr6A"
      },
      "source": [
        "### **Tuple Methods**\n",
        "\n",
        "---\n",
        "\n"
      ]
    },
    {
      "cell_type": "markdown",
      "metadata": {
        "id": "5Xq7-cGOsxhm"
      },
      "source": [
        "9. **count**\n",
        "10. **index**"
      ]
    },
    {
      "cell_type": "code",
      "metadata": {
        "id": "uHFBQv4Hsw-C"
      },
      "source": [
        "print('Count Examples')\n",
        "print(f\"Num of time apperends NN: {tupla.count('NN')},\\nNum of time apperends e in the position[1][0]: {tupla[1][0].count('e')} \")\n",
        "print('\\nIndex Example')\n",
        "print(f\"The index of 'Acecom' is : {tupla.index('Acecom')} , \\nThe index of 'A' is: {tupla[1].index('A')}\")\n"
      ],
      "execution_count": null,
      "outputs": []
    },
    {
      "cell_type": "markdown",
      "metadata": {
        "id": "1GppeHxkWaCu"
      },
      "source": [
        "### **Structured Data** "
      ]
    },
    {
      "cell_type": "code",
      "metadata": {
        "id": "B4o1PqEVErUB"
      },
      "source": [
        "import os \n",
        "os.environ['KAGGLE_CONFIG_DIR']='/content'"
      ],
      "execution_count": null,
      "outputs": []
    },
    {
      "cell_type": "code",
      "metadata": {
        "id": "Q4HrCdFFOgg0"
      },
      "source": [
        "!kaggle datasets download -d mirichoi0218/insurance"
      ],
      "execution_count": null,
      "outputs": []
    },
    {
      "cell_type": "code",
      "metadata": {
        "id": "AwZ6X4ciPjgd"
      },
      "source": [
        "import zipfile\n",
        "zip = zipfile.ZipFile('insurance.zip')\n",
        "zip.extractall()"
      ],
      "execution_count": null,
      "outputs": []
    },
    {
      "cell_type": "code",
      "metadata": {
        "id": "eJZK3HgsQG_5"
      },
      "source": [
        "import pandas as pd \n",
        "\n",
        "column = 'bmi','charges'\n",
        "data = pd.read_csv('insurance.csv',usecols=column)\n",
        "\n",
        "data"
      ],
      "execution_count": null,
      "outputs": []
    },
    {
      "cell_type": "code",
      "metadata": {
        "id": "JAX5WmMUVKGn"
      },
      "source": [
        "x,y = data\n",
        "\n",
        "t = x,y\n",
        "\n",
        "print(f'X\\n\\n{data[t[0]]}')\n"
      ],
      "execution_count": null,
      "outputs": []
    },
    {
      "cell_type": "markdown",
      "metadata": {
        "id": "Gd70fqBusOoH"
      },
      "source": [
        "## **Extra List and Tuple**\n",
        "\n",
        "---\n",
        "\n"
      ]
    },
    {
      "cell_type": "markdown",
      "metadata": {
        "id": "lUUPGABg5-4Y"
      },
      "source": [
        "### **List and Tuple Combination**\n",
        "\n",
        "---\n",
        "\n"
      ]
    },
    {
      "cell_type": "code",
      "metadata": {
        "id": "-cln0J6Q8hdP"
      },
      "source": [
        "tuple_of_list = ['Artficial', 'Intelligence'], ['Machine', 'Learninig'], 'Deep Larning'\n",
        "\n",
        "list_of_tuple = [('key', 1), \n",
        "                 ('Weight', [[0.5,0.3,0.2], [1,0,0.2,0.6], [0.3,0.0,1]]),\n",
        "                 ('learning_rate', 0.001),\n",
        "                 ('bias', 0.3)\n",
        "                 ]\n",
        "\n",
        "print(f'Tuple of list : {tuple_of_list},\\nList of tuple {list_of_tuple}')"
      ],
      "execution_count": null,
      "outputs": []
    },
    {
      "cell_type": "code",
      "metadata": {
        "id": "BhfFQ7_K_kkv"
      },
      "source": [
        "tuple_of_list[0].append('Cool') \n",
        "print(f'Tuple_of_list: {tuple_of_list}')\n",
        "tuple_of_list[0].remove('Cool') \n",
        "print(f'Tuple_of_list: {tuple_of_list}')"
      ],
      "execution_count": null,
      "outputs": []
    },
    {
      "cell_type": "code",
      "metadata": {
        "id": "VU86p3GQGFmT"
      },
      "source": [
        "list_of_tuple.append(\"09\")\n",
        "print(f'List of tuple {list_of_tuple}')"
      ],
      "execution_count": null,
      "outputs": []
    },
    {
      "cell_type": "markdown",
      "metadata": {
        "id": "OJTkw_ztMcfs"
      },
      "source": [
        "## **Dictionary**\n",
        "\n",
        "---\n",
        "\n"
      ]
    },
    {
      "cell_type": "markdown",
      "metadata": {
        "id": "jwLg1Z9FNYyn"
      },
      "source": [
        "### **Initialize Directory**\n",
        "\n",
        "---\n",
        "\n"
      ]
    },
    {
      "cell_type": "code",
      "metadata": {
        "id": "sevBTD1xNnec"
      },
      "source": [
        "Dictionary_1 = {}\n",
        "\n",
        "Dictionary_2 = {\n",
        "    'key': [1,3,4,5,6,7],\n",
        "    'key2':2,\n",
        "    'key3':3\n",
        "}\n",
        "print(f'Dictionary 1: {Dictionary_1}, \\nDictionary 2 : {Dictionary_2}')"
      ],
      "execution_count": null,
      "outputs": []
    },
    {
      "cell_type": "markdown",
      "metadata": {
        "id": "gnuNOV2lWOyB"
      },
      "source": [
        "### **SubDictionary**\n",
        "\n",
        "---\n",
        "\n"
      ]
    },
    {
      "cell_type": "code",
      "metadata": {
        "id": "yTbJ7fd1Pt4R"
      },
      "source": [
        "Dictionary_3 = { \n",
        "                'list': [3,4,2,5,8],\n",
        "                'A': [1,2],\n",
        "                'tuple': ('A','E','I','O'),\n",
        "                'Dictionary_2':Dictionary_2\n",
        "            }\n",
        "print(f'Dictionary: {Dictionary_3}')"
      ],
      "execution_count": null,
      "outputs": []
    },
    {
      "cell_type": "markdown",
      "metadata": {
        "id": "8k2mh5BYReiP"
      },
      "source": [
        "### **Index Operations**"
      ]
    },
    {
      "cell_type": "markdown",
      "metadata": {
        "id": "8PzUrbNVTEW9"
      },
      "source": [
        "\n",
        "\n",
        "1.   Example1: Dictionary_3 [ \"A\" ]\n",
        "2.   Example2: Dictionary_3 [ \"Dictionary_2\" ]\n",
        "3.   Example3: Dictionary_3 [ \"Dictionary_2\" ][ \"key2\" ]"
      ]
    },
    {
      "cell_type": "code",
      "metadata": {
        "id": "Oq9u6GyqRbPo"
      },
      "source": [
        "print(f'Example1 : {Dictionary_3[\"A\"]},\\nExample2: {Dictionary_3[\"Dictionary_2\"]},\\nExample3: {Dictionary_3[\"Dictionary_2\"][\"key2\"]} ')"
      ],
      "execution_count": null,
      "outputs": []
    },
    {
      "cell_type": "markdown",
      "metadata": {
        "id": "BJoqiMvsVSrN"
      },
      "source": [
        "4. Example4: Dictionary_3 [ \"A\" ] [ 0 ]\n",
        "5. Example5: Dictionary_3 [ \"tuple\"] [ 1 : -1 ]\n",
        "6. Example6: Dictionary_3 [ \"Dictionary_2\" ] [ \"key\" ][ : : 2 ]"
      ]
    },
    {
      "cell_type": "code",
      "metadata": {
        "id": "553MTvTIUlrK"
      },
      "source": [
        "print(f'Example1 : {Dictionary_3[\"A\"][0]},\\nExample2: {Dictionary_3[\"tuple\"][1:-1]},\\nExample3: {Dictionary_3[\"Dictionary_2\"][\"key\"][::2]} ')"
      ],
      "execution_count": null,
      "outputs": []
    },
    {
      "cell_type": "markdown",
      "metadata": {
        "id": "hxSUyb6nW05f"
      },
      "source": [
        "### **Dictionary Methods**\n",
        "\n",
        "---\n",
        "\n"
      ]
    },
    {
      "cell_type": "markdown",
      "metadata": {
        "id": "L_4m3eM5apF5"
      },
      "source": [
        "7.  **get**\n",
        "8.  **pop**\n",
        "9.  **clear**"
      ]
    },
    {
      "cell_type": "code",
      "metadata": {
        "id": "-nGcDMe7Y72I"
      },
      "source": [
        "print(f'Use get: {Dictionary_3.get(\"A\")}')"
      ],
      "execution_count": null,
      "outputs": []
    },
    {
      "cell_type": "code",
      "metadata": {
        "id": "Uuuaa6YWbplN"
      },
      "source": [
        "print(f'Directory : {Dictionary_3.pop(\"A\")},\\nNew Dictionary: {Dictionary_3}')"
      ],
      "execution_count": null,
      "outputs": []
    },
    {
      "cell_type": "code",
      "metadata": {
        "id": "W0-zwgjFcaYc"
      },
      "source": [
        "print(f\"Clear: {Dictionary_2.clear()}\")"
      ],
      "execution_count": null,
      "outputs": []
    },
    {
      "cell_type": "markdown",
      "metadata": {
        "id": "jgAO0E3NeEOW"
      },
      "source": [
        "10. **Keys**\n",
        "11. **Items**\n",
        "13. **Values**\n",
        "12. **Copy**"
      ]
    },
    {
      "cell_type": "code",
      "metadata": {
        "id": "NQKnM5DFckRZ"
      },
      "source": [
        "print(f'Keys: {Dictionary_3.keys()}')"
      ],
      "execution_count": null,
      "outputs": []
    },
    {
      "cell_type": "code",
      "metadata": {
        "id": "AUSNJXvCgDNp"
      },
      "source": [
        "print(f'Items in the directory: {Dictionary_3.items()}')"
      ],
      "execution_count": null,
      "outputs": []
    },
    {
      "cell_type": "code",
      "metadata": {
        "id": "9UlflR6ahAs6"
      },
      "source": [
        "print(f'Values: {Dictionary_3.values()}')"
      ],
      "execution_count": null,
      "outputs": []
    },
    {
      "cell_type": "code",
      "metadata": {
        "id": "EYAw7UzPekU2"
      },
      "source": [
        "Dictionary_2 = {'num':3, 'bmi':4}\n",
        "Dictionary_1 = Dictionary_2.copy()\n",
        "Dictionary_1[\"s\"]=5\n",
        "print(f'Compare: {Dictionary_1}, {Dictionary_2}')"
      ],
      "execution_count": null,
      "outputs": []
    },
    {
      "cell_type": "markdown",
      "metadata": {
        "id": "A9aMbN0Vl1AP"
      },
      "source": [
        "### **Deep Learning Aplication**"
      ]
    },
    {
      "cell_type": "code",
      "metadata": {
        "id": "H5_lCelLlsgz"
      },
      "source": [
        "data = torch.load('/content/data.pth')"
      ],
      "execution_count": null,
      "outputs": []
    },
    {
      "cell_type": "code",
      "metadata": {
        "id": "RhgyXyz9nN9B"
      },
      "source": [
        "type(data)"
      ],
      "execution_count": null,
      "outputs": []
    },
    {
      "cell_type": "code",
      "metadata": {
        "id": "3JYYSs_9ocli"
      },
      "source": [
        "print(f'Tags in the Trained Model: {data[\"tags\"]}')"
      ],
      "execution_count": null,
      "outputs": []
    },
    {
      "cell_type": "code",
      "metadata": {
        "id": "EJyqM0yMmSYi"
      },
      "source": [
        "Directory_Model = {\n",
        "    'Modelo': data[\"model_state\"],\n",
        "    'Entrada': data[\"input_size\"],\n",
        "    'Capa Oculta': data[\"hidden_size\"],\n",
        "    'Salida': data[\"output_size\"],\n",
        "    'All_Words': data['all_words'],\n",
        "    'Etiquetas': data['tags'],\n",
        "}\n",
        "print(Directory_Model.keys())"
      ],
      "execution_count": null,
      "outputs": []
    },
    {
      "cell_type": "code",
      "metadata": {
        "id": "hEBrrbAwnzY5"
      },
      "source": [
        "Model = data.copy()\n",
        "print(Model.values())"
      ],
      "execution_count": null,
      "outputs": []
    }
  ]
}
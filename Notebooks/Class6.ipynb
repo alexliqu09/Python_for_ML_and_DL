{
  "nbformat": 4,
  "nbformat_minor": 0,
  "metadata": {
    "colab": {
      "name": "Class6.ipynb",
      "private_outputs": true,
      "provenance": []
    },
    "kernelspec": {
      "name": "python376jvsc74a57bd0fb75a475a3d6917a9e253b9fdafa885e7e8e1c35bc6fe6d521e6c38deb231d62",
      "display_name": "Python 3.7.6 64-bit ('base': conda)"
    },
    "language_info": {
      "name": "python",
      "version": "3.7.6-final"
    },
    "metadata": {
      "interpreter": {
        "hash": "fb75a475a3d6917a9e253b9fdafa885e7e8e1c35bc6fe6d521e6c38deb231d62"
      }
    }
  },
  "cells": [
    {
      "cell_type": "markdown",
      "metadata": {
        "id": "kXtxgNER2yeJ"
      },
      "source": [
        "# ***Python for ML/DL***\n",
        "---\n",
        "<center>\n",
        "<img src=\"https://ehackz.com/wp-content/uploads/2018/02/Python.jpg\" \n",
        "height = \"50%\" width = \"70%\">"
      ]
    },
    {
      "cell_type": "code",
      "metadata": {
        "id": "1Mxr3rABCDYx"
      },
      "source": [
        "import numpy as np\n",
        "import torch\n",
        "import tensorflow as tf"
      ],
      "execution_count": 2,
      "outputs": []
    },
    {
      "source": [
        "## **Tensor**"
      ],
      "cell_type": "markdown",
      "metadata": {}
    },
    {
      "source": [
        "### **Torch**\n",
        "---\n",
        "- **Initialize Pytorch's tensor**"
      ],
      "cell_type": "markdown",
      "metadata": {}
    },
    {
      "cell_type": "code",
      "execution_count": 5,
      "metadata": {},
      "outputs": [],
      "source": [
        "tensor_list = torch.tensor([1, 2, 4, 5]) #Convert a Python's list for Pytorch's tensor\n",
        "#print(tensor_list)\n",
        "tensor_numpy = torch.tensor(np.random.randn(3,2)) #Convert for Pytorch'a tensor\n",
        "#print(tensor)\n",
        "tensor_numpy_1 = torch.from_numpy(np.random.randn(3,2)) \n",
        "##Convert Numpy array for Pytorch'a tensor\n",
        "#print(tensor_numpy_1) \n",
        "tensor_float32 = torch.empty(size = (3, 4)) #Initialize  Pytorch's tensor with dtype float32.\n",
        "#print(tensor)\n",
        "tensor_zeros = torch.zeros_like(tensor_float32) \n",
        "#Initialize Pytorch's tensor with same shape tensor float32\n",
        "#print(tensor_zeros) \n",
        "tensor_ones = torch.ones((3,2)) #Initialize Pytorch's tensor of ones\n",
        "#print(tensor_ones)\n",
        "tensor_eyes = torch.eye(5,5) \n",
        "#Returns a 2-D tensor with ones on the diagonal and zeros elsewhere.\n",
        "#print(tensor_eyes)\n",
        "tensor_arange = torch.arange(start=1, end=20, step=3) \n",
        "#Pytorch's tensor with [x+3, x+6, x+9,...] sequence"
      ]
    },
    {
      "source": [
        "**Convert Pytorch's tensor to ...**"
      ],
      "cell_type": "markdown",
      "metadata": {}
    },
    {
      "cell_type": "code",
      "execution_count": 46,
      "metadata": {},
      "outputs": [
        {
          "output_type": "stream",
          "name": "stdout",
          "text": [
            "tensor([[-1,  0,  0],\n        [-1,  0,  0],\n        [ 0,  0,  1]], dtype=torch.int32) \n\ntensor([[True, True, True],\n        [True, True, True],\n        [True, True, True]]) \n\ntensor([[-1.1628,  0.3329,  0.4296],\n        [-1.3063, -0.6097, -0.6267],\n        [-0.6229, -0.7377,  1.7460]]) \n\n[[-1.16278542  0.33292708  0.4296377 ]\n [-1.30625093 -0.60968602 -0.62668454]\n [-0.6228853  -0.73767189  1.74602179]] \n\n"
          ]
        }
      ],
      "source": [
        "tensor_convert = torch.tensor(np.random.randn(3,3))\n",
        "print(tensor_convert.int(),'\\n') #convert values Pytorch tensor to int32\n",
        "print(tensor_convert.bool(),'\\n') #convert values pytorch tensor to boolen\n",
        "print(tensor_convert.float(), '\\n') #convert values pytorch tensor to float32\n",
        "print(tensor_convert.numpy(), '\\n') #convrt pytorch tensor to numpy array"
      ]
    },
    {
      "source": [
        "### **shape**"
      ],
      "cell_type": "markdown",
      "metadata": {}
    },
    {
      "cell_type": "code",
      "execution_count": 43,
      "metadata": {},
      "outputs": [],
      "source": [
        "tensor_list.shape\n",
        "tensor_float32.shape\n",
        "tensor_zeros.shape"
      ]
    },
    {
      "source": [
        "### **Index**"
      ],
      "cell_type": "markdown",
      "metadata": {}
    },
    {
      "cell_type": "code",
      "execution_count": 42,
      "metadata": {},
      "outputs": [],
      "source": [
        "tensor_float32[0] #Access to tensor with 2D for all the first rown\n",
        "tensor_float32[:] #Access all the tensor\n",
        "tensor_float32[1:, :] #Acces to sice second rown until last rown and all column  "
      ]
    },
    {
      "source": [
        "### **Compare tensors**\n",
        "---\n",
        "- torch tensor\n",
        "\n",
        "- tensorflow tensor"
      ],
      "cell_type": "markdown",
      "metadata": {}
    },
    {
      "cell_type": "code",
      "execution_count": 5,
      "metadata": {},
      "outputs": [],
      "source": [
        "img = tf.constant(np.random.randn(4, 4, 3))*0.01 # shape  [height, width, color_channels]\n",
        "\n",
        "img  = torch.rand(3, 4, 4) # shape (channels, rown, column)"
      ]
    },
    {
      "cell_type": "code",
      "execution_count": 4,
      "metadata": {},
      "outputs": [],
      "source": [
        "img_more_example = torch.rand(5, 3, 8, 8) # shape (batch_size, channels, rown, column)\n",
        "img_more_example = tf.Variable(np.random.randn(5, 8, 8, 3)) \n",
        "#shape (batch_size, rown, column, channels)"
      ]
    },
    {
      "source": [
        "**[Operation with Tensor](https://medium.com/analytics-vidhya/pytorch-part1-9a63a063de31)**"
      ],
      "cell_type": "markdown",
      "metadata": {}
    },
    {
      "cell_type": "code",
      "execution_count": 163,
      "metadata": {},
      "outputs": [],
      "source": [
        "x =  torch.tensor([[1, 2, 4, 5]]) \n",
        "#Create a Pytorch's tensor \n",
        "y =  torch.tensor([[1, 2, 4, 5]])\n",
        "#Create a Pytorch's tensor\n",
        "\n",
        "z = x + y  #Addition\n",
        "#z = torch.add(x, y) #proof \n",
        "#print(z)\n",
        "\n",
        "z = x - y  #Substraction\n",
        "#z = torch.sub(x, y) #proof\n",
        "#print(z)\n",
        "\n",
        "z = x * y #Wise Multy\n",
        "#z = torch.mm(x.T, y) # Matrix Multiplication \n",
        "#z = torch.dot(x, y) # Matrix dot product\n",
        "#print(z)\n",
        "\n",
        "\n",
        "\n",
        "z = torch.true_divide(x, y) #Division\n",
        "#print(z)\n",
        "\n",
        "z = x ** 2  #Pow\n",
        "#z = torch.matrix_power(x, 2) #proof\n",
        "#print(z) "
      ]
    },
    {
      "source": [
        "## **Broadcasting**"
      ],
      "cell_type": "markdown",
      "metadata": {}
    },
    {
      "cell_type": "code",
      "execution_count": 49,
      "metadata": {},
      "outputs": [
        {
          "output_type": "stream",
          "name": "stdout",
          "text": [
            "tensor([[1.6511, 1.3060, 0.9616, 0.9937],\n        [1.6532, 1.0537, 1.2476, 1.7126]]) \n\ntensor([[1.0239, 0.9900, 0.8337, 2.6836],\n        [1.0212, 1.6083, 0.5394, 0.7322]]) \n\n"
          ]
        }
      ],
      "source": [
        "example_1 = torch.rand((2, 4))\n",
        "example_2 = torch.rand((1, 4))\n",
        "\n",
        "print(example_1 + example_2, '\\n')\n",
        "print(torch.true_divide(example_2, example_1), '\\n')"
      ]
    },
    {
      "source": [
        "### **[unsqueeze](https://pytorch.org/docs/stable/generated/torch.unsqueeze.html)**\n",
        "\n",
        "Returns a new tensor with a dimension of size one inserted at the specified position.\n",
        "\n",
        "A dim value within the range [-input.dim() - 1, input.dim() + 1) can be used. Negative dim will correspond to unsqueeze() applied at dim = dim + input.dim() + 1."
      ],
      "cell_type": "markdown",
      "metadata": {}
    },
    {
      "cell_type": "code",
      "execution_count": 99,
      "metadata": {},
      "outputs": [
        {
          "output_type": "execute_result",
          "data": {
            "text/plain": [
              "torch.Size([1, 2, 4, 1])"
            ]
          },
          "metadata": {},
          "execution_count": 99
        }
      ],
      "source": [
        "x = torch.tensor([[1, 2, 3, 4], [2, 3, 6, 3]])  \n",
        "#Expected to be in range of [-3, 2] , tensor 2D shape [2, 4]\n",
        "\n",
        "torch.unsqueeze(x, -3).unsqueeze(3).shape  #shape ??  "
      ]
    },
    {
      "cell_type": "code",
      "execution_count": 109,
      "metadata": {},
      "outputs": [
        {
          "output_type": "execute_result",
          "data": {
            "text/plain": [
              "torch.Size([2, 3, 5, 5])"
            ]
          },
          "metadata": {},
          "execution_count": 109
        }
      ],
      "source": [
        "tensor_1 = torch.randn(2, 3, 5, 5)\n",
        "tensor_2 = torch.randn(3, 1, 1)\n",
        "(tensor_1 + tensor_2).shape"
      ]
    },
    {
      "cell_type": "code",
      "execution_count": 188,
      "metadata": {},
      "outputs": [
        {
          "output_type": "execute_result",
          "data": {
            "text/plain": [
              "torch.return_types.max(values=tensor([1, 1, 1]), indices=tensor([0, 2, 1]))"
            ]
          },
          "metadata": {},
          "execution_count": 188
        }
      ],
      "source": [
        "torch_eye = torch.tensor([[1, 0, 0], \n",
        "                          [0, 0, 1], \n",
        "                          [0, 1, 0]])\n",
        "torch.max(torch_eye, dim=0)"
      ]
    },
    {
      "source": [
        "## **Moving tensors to GPU**"
      ],
      "cell_type": "markdown",
      "metadata": {}
    },
    {
      "cell_type": "code",
      "execution_count": 12,
      "metadata": {},
      "outputs": [],
      "source": [
        "tensor_gpu = torch.tensor(np.random.randn(3, 4, 4), device='cuda')"
      ]
    },
    {
      "cell_type": "code",
      "execution_count": 13,
      "metadata": {},
      "outputs": [],
      "source": [
        "tensor_gpu = img.to(device= 'cuda')"
      ]
    },
    {
      "cell_type": "code",
      "execution_count": 14,
      "metadata": {},
      "outputs": [
        {
          "output_type": "execute_result",
          "data": {
            "text/plain": [
              "tensor([[[0.0633, 0.7552, 0.9489, 0.5855],\n",
              "         [0.0539, 0.7949, 0.1653, 0.8080],\n",
              "         [0.1182, 0.2571, 0.5503, 0.5415],\n",
              "         [0.8357, 0.8037, 0.1432, 0.2735]],\n",
              "\n",
              "        [[0.9916, 0.9885, 0.7092, 0.0180],\n",
              "         [0.1020, 0.7994, 0.4515, 0.9751],\n",
              "         [0.6581, 0.5432, 0.6755, 0.4545],\n",
              "         [0.4521, 0.8461, 0.7149, 0.5417]],\n",
              "\n",
              "        [[0.2283, 0.7322, 0.6143, 0.8275],\n",
              "         [0.8980, 0.0502, 0.9908, 0.9815],\n",
              "         [0.3917, 0.8269, 0.0238, 0.0482],\n",
              "         [0.7104, 0.7135, 0.3543, 0.6880]]], device='cuda:0')"
            ]
          },
          "metadata": {},
          "execution_count": 14
        }
      ],
      "source": [
        "device = 'cuda' if torch.cuda.is_available else 'cpu'\n",
        "tensor_gpu.to(device=device)"
      ]
    },
    {
      "cell_type": "code",
      "execution_count": 15,
      "metadata": {},
      "outputs": [],
      "source": [
        "tensor_gpu = tensor_gpu + 4"
      ]
    },
    {
      "cell_type": "code",
      "execution_count": 16,
      "metadata": {},
      "outputs": [
        {
          "output_type": "execute_result",
          "data": {
            "text/plain": [
              "tensor([[[6.0633, 6.7552, 6.9489, 6.5855],\n",
              "         [6.0539, 6.7949, 6.1653, 6.8080],\n",
              "         [6.1182, 6.2571, 6.5503, 6.5415],\n",
              "         [6.8357, 6.8037, 6.1432, 6.2735]],\n",
              "\n",
              "        [[6.9916, 6.9885, 6.7092, 6.0180],\n",
              "         [6.1020, 6.7994, 6.4515, 6.9751],\n",
              "         [6.6581, 6.5432, 6.6755, 6.4545],\n",
              "         [6.4521, 6.8461, 6.7149, 6.5417]],\n",
              "\n",
              "        [[6.2283, 6.7322, 6.6143, 6.8275],\n",
              "         [6.8980, 6.0502, 6.9908, 6.9815],\n",
              "         [6.3917, 6.8269, 6.0238, 6.0482],\n",
              "         [6.7104, 6.7135, 6.3543, 6.6880]]])"
            ]
          },
          "metadata": {},
          "execution_count": 16
        }
      ],
      "source": [
        "tensor_gpu = tensor_gpu.to(device='cpu') + 2\n",
        "tensor_gpu"
      ]
    },
    {
      "source": [
        "## **Real-world data representation using tensors**"
      ],
      "cell_type": "markdown",
      "metadata": {}
    },
    {
      "source": [
        "## **Working with images**"
      ],
      "cell_type": "markdown",
      "metadata": {}
    },
    {
      "cell_type": "code",
      "execution_count": 129,
      "metadata": {},
      "outputs": [],
      "source": [
        "import imageio \n",
        "\n",
        "img = imageio.imread('../src/image.png')"
      ]
    },
    {
      "cell_type": "code",
      "execution_count": 130,
      "metadata": {},
      "outputs": [
        {
          "output_type": "execute_result",
          "data": {
            "text/plain": [
              "(243, 702, 4)"
            ]
          },
          "metadata": {},
          "execution_count": 130
        }
      ],
      "source": [
        "img.shape #Height width Channel"
      ]
    },
    {
      "source": [
        "## **Don't forget** \n",
        "\n",
        "Pytorch tensor when working with an image, the dimension has to be C x H x W"
      ],
      "cell_type": "markdown",
      "metadata": {}
    },
    {
      "cell_type": "code",
      "execution_count": 131,
      "metadata": {},
      "outputs": [],
      "source": [
        "img = torch.from_numpy(img)"
      ]
    },
    {
      "cell_type": "code",
      "execution_count": 132,
      "metadata": {},
      "outputs": [
        {
          "output_type": "execute_result",
          "data": {
            "text/plain": [
              "torch.Size([243, 702, 4])"
            ]
          },
          "metadata": {},
          "execution_count": 132
        }
      ],
      "source": [
        "img.shape #Height  width Channel"
      ]
    },
    {
      "cell_type": "code",
      "execution_count": 133,
      "metadata": {},
      "outputs": [
        {
          "output_type": "execute_result",
          "data": {
            "text/plain": [
              "torch.Size([4, 243, 702])"
            ]
          },
          "metadata": {},
          "execution_count": 133
        }
      ],
      "source": [
        "img_1 = img.permute(2, 0, 1)\n",
        "img_1.shape"
      ]
    },
    {
      "cell_type": "code",
      "execution_count": 134,
      "metadata": {},
      "outputs": [
        {
          "output_type": "execute_result",
          "data": {
            "text/plain": [
              "torch.Size([243, 702, 4])"
            ]
          },
          "metadata": {},
          "execution_count": 134
        }
      ],
      "source": [
        "img.shape"
      ]
    },
    {
      "source": [
        "## **Parser Argument**\n",
        "---\n",
        "If you want to see the code of parser.py, base_option.py you could check [here](https://github.com/alexliqu09/Python_for_ML_and_DL/tree/main/src)\n"
      ],
      "cell_type": "markdown",
      "metadata": {
        "id": "ZPWfs7joaWsP"
      }
    },
    {
      "cell_type": "code",
      "metadata": {
        "id": "uud3vz8TaWOc"
      },
      "source": [
        "!python ../src/parser.py 3"
      ],
      "execution_count": 207,
      "outputs": [
        {
          "output_type": "stream",
          "name": "stdout",
          "text": [
            "Your argument is: 3 and the result is: 1.004969823313689\n"
          ]
        }
      ]
    },
    {
      "source": [
        "!python ../src/function.py tanh  3"
      ],
      "cell_type": "code",
      "metadata": {},
      "execution_count": 54,
      "outputs": [
        {
          "output_type": "stream",
          "name": "stdout",
          "text": [
            "0.9950547536867306\n"
          ]
        }
      ]
    },
    {
      "cell_type": "code",
      "execution_count": 25,
      "metadata": {},
      "outputs": [
        {
          "output_type": "stream",
          "name": "stdout",
          "text": [
            "============Training Model==========\n           model:AlexNet\n           batch_size: 4\n           epoch: 50\n           input_nc: 3\n           lr_decay: 7\n           gpu_is: 0\n------------------------------------\n"
          ]
        }
      ],
      "source": [
        "!python ../src/base_option.py  --lr_decay 7 --epoch 50 --batch_size 4 --model \"AlexNet\""
      ]
    },
    {
      "cell_type": "markdown",
      "metadata": {
        "id": "HzL41xEJ3ZXb"
      },
      "source": [
        "## **Decorators**"
      ]
    },
    {
      "cell_type": "markdown",
      "metadata": {
        "id": "hcQsFsJHK3p8"
      },
      "source": [
        "## **Simple decorator**"
      ]
    },
    {
      "cell_type": "code",
      "metadata": {
        "id": "06CBA-rJK3Lf"
      },
      "source": [
        "def my_decorator(function):\n",
        "    def print_Init_format():\n",
        "        print(\"=============Initialize parameters===========\\n\")\n",
        "        function()\n",
        "        print(\"===========================================\\n\")\n",
        "    return print_Init_format\n",
        "\n",
        "def initializer_weight():\n",
        "    W1 = tf.constant(np.random.randn(2, 3), tf.float16)*0.01\n",
        "    b1 = tf.constant(np.zeros((2, 1)), tf.float16)\n",
        "    W2 = tf.constant(np.random.randn(2, 3), tf.float16)*0.01\n",
        "    b2 = tf.constant(np.zeros((2, 1)), tf.float16)\n",
        "    print(\"W1: {},\\n\\nW2: {},\\n\\nb1: {},\\n\\nb2: {} \".format(W1, W2, b1, b2))\n",
        "\n",
        "decorator = my_decorator(initializer_weight)\n",
        "\n",
        "decorator()"
      ],
      "execution_count": 2,
      "outputs": [
        {
          "output_type": "stream",
          "name": "stdout",
          "text": [
            "=============Initialize parameters===========\n",
            "\n",
            "W1: [[-0.00808   0.004425  0.02357 ]\n",
            " [-0.001951 -0.004627  0.01457 ]],\n",
            "\n",
            "W2: [[-0.0004516 -0.008736   0.01617  ]\n",
            " [-0.010185  -0.005676  -0.01481  ]],\n",
            "\n",
            "b1: [[0.]\n",
            " [0.]],\n",
            "\n",
            "b2: [[0.]\n",
            " [0.]] \n",
            "===========================================\n",
            "\n"
          ]
        }
      ]
    },
    {
      "cell_type": "markdown",
      "metadata": {
        "id": "RgpRygjQ3w4I"
      },
      "source": [
        "### **[Pie-decorator](https://www.python.org/dev/peps/pep-0318/#background)**\n",
        "\n",
        "Python allows you to use decorators in a simpler way with the @ symbol, sometimes called the “pie” syntax. \n"
      ]
    },
    {
      "cell_type": "code",
      "metadata": {
        "id": "ONBpRRVw2mjW"
      },
      "source": [
        "def my_decorator(function):\n",
        "    def print_Init_format():\n",
        "        print(\"=============Initialize parameters===========\\n\")\n",
        "        function()\n",
        "        print(\"===========================================\\n\")\n",
        "    return print_Init_format\n",
        "\n",
        "@my_decorator\n",
        "def initializer_weight():\n",
        "    W1 = tf.constant(np.random.randn(2, 3), tf.float16)*0.01\n",
        "    b1 = tf.constant(np.zeros((2, 1)), tf.float16)\n",
        "    W2 = tf.constant(np.random.randn(2, 3), tf.float16)*0.01\n",
        "    b2 = tf.constant(np.zeros((2, 1)), tf.float16)\n",
        "\n",
        "    print(\"W1: {},\\n\\nW2: {},\\n\\nb1: {},\\n\\nb2: {} \".format(W1, W2, b1, b2))\n",
        "\n",
        "initializer_weight()"
      ],
      "execution_count": null,
      "outputs": []
    },
    {
      "cell_type": "markdown",
      "metadata": {
        "id": "854x4Dy3PpHO"
      },
      "source": [
        "## **Decorating Functions With Arguments**\n"
      ]
    },
    {
      "cell_type": "code",
      "metadata": {
        "id": "y0z3Yf5eQWyh"
      },
      "source": [
        "def initilizer(func):\n",
        "    def wrapper(*args):\n",
        "        function = func(*args)\n",
        "        print(f\"Original sigmoid:\\n\\n{function},\\n\\nSigmoid > 0.5\\n\\n{function[function > 0.5]}\")\n",
        "    return wrapper\n",
        "\n",
        "@initilizer\n",
        "def sigmoid(x):\n",
        "    return 1/(1 + np.exp(-x))\n",
        "\n",
        "\n",
        "sigmoid(torch.tensor(np.random.randn(3,2)))"
      ],
      "execution_count": 3,
      "outputs": [
        {
          "output_type": "stream",
          "name": "stdout",
          "text": [
            "Original sigmoid:\n\n[[0.4740459  0.28621845]\n [0.66564275 0.63275348]\n [0.08450159 0.71326616]],\n\nSigmoid > 0.5\n\n[0.66564275 0.63275348 0.71326616]\n"
          ]
        }
      ]
    },
    {
      "source": [
        "### **Numba**"
      ],
      "cell_type": "markdown",
      "metadata": {}
    },
    {
      "cell_type": "code",
      "execution_count": 13,
      "metadata": {},
      "outputs": [],
      "source": [
        "from numba import jit \n",
        "from time import time"
      ]
    },
    {
      "cell_type": "code",
      "execution_count": 87,
      "metadata": {},
      "outputs": [],
      "source": [
        "matrix_random = np.random.rand(10,10)"
      ]
    },
    {
      "cell_type": "code",
      "execution_count": 88,
      "metadata": {},
      "outputs": [],
      "source": [
        "def multiplicacion_matricial(X, Y):\n",
        "    matrix_mult = np.zeros_like(matrix_random)\n",
        "    for rown in range(len(X)):\n",
        "        for  column in range(len(Y[0])):\n",
        "            for aux in range(len(Y)):\n",
        "                matrix_mult[rown, column] += X[rown, aux]*Y[aux, column]\n",
        "    return matrix_mult"
      ]
    },
    {
      "cell_type": "code",
      "execution_count": 89,
      "metadata": {},
      "outputs": [
        {
          "output_type": "stream",
          "name": "stdout",
          "text": [
            "time: 0.002145051956176758 \n"
          ]
        }
      ],
      "source": [
        "start = time()\n",
        "multiplicacion_matricial(matrix_random, matrix_random)\n",
        "\n",
        "finish = time()\n",
        "print(f\"time: {finish - start} \")"
      ]
    },
    {
      "cell_type": "code",
      "execution_count": 83,
      "metadata": {},
      "outputs": [],
      "source": [
        "@jit\n",
        "def multiplicacion_matricil_jit(X, Y):\n",
        "    matrix_mult = np.zeros_like(matrix_random)\n",
        "    for rown in range(len(X)):\n",
        "        for  column in range(len(Y[0])):\n",
        "            for aux in range(len(Y)):\n",
        "                matrix_mult[rown, column] += X[rown, aux]*Y[aux, column]\n",
        "    return matrix_mult"
      ]
    },
    {
      "cell_type": "code",
      "execution_count": 90,
      "metadata": {},
      "outputs": [
        {
          "output_type": "stream",
          "name": "stdout",
          "text": [
            "time: 0.00012993812561035156 \n"
          ]
        }
      ],
      "source": [
        "start = time()\n",
        "multiplicacion_matricil_jit(matrix_random, matrix_random)\n",
        "finish = time()\n",
        "print(f\"time: {finish - start} \")"
      ]
    },
    {
      "source": [
        "### **tf.function**"
      ],
      "cell_type": "markdown",
      "metadata": {}
    }
  ]
}
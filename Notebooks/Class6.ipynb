{
  "nbformat": 4,
  "nbformat_minor": 0,
  "metadata": {
    "colab": {
      "name": "Class6.ipynb",
      "private_outputs": true,
      "provenance": []
    },
    "kernelspec": {
      "name": "python376jvsc74a57bd0fb75a475a3d6917a9e253b9fdafa885e7e8e1c35bc6fe6d521e6c38deb231d62",
      "display_name": "Python 3.7.6 64-bit ('base': conda)"
    },
    "language_info": {
      "name": "python",
      "version": "3.7.6-final"
    },
    "metadata": {
      "interpreter": {
        "hash": "fb75a475a3d6917a9e253b9fdafa885e7e8e1c35bc6fe6d521e6c38deb231d62"
      }
    }
  },
  "cells": [
    {
      "cell_type": "markdown",
      "metadata": {
        "id": "kXtxgNER2yeJ"
      },
      "source": [
        "# ***Python for ML/DL***\n",
        "---\n",
        "<center>\n",
        "<img src=\"https://ehackz.com/wp-content/uploads/2018/02/Python.jpg\" \n",
        "height = \"50%\" width = \"70%\">"
      ]
    },
    {
      "cell_type": "code",
      "metadata": {
        "id": "1Mxr3rABCDYx"
      },
      "source": [
        "import numpy as np\n",
        "import torch\n",
        "import tensorflow as tf"
      ],
      "execution_count": 1,
      "outputs": []
    },
    {
      "source": [
        "## **Tensor**"
      ],
      "cell_type": "markdown",
      "metadata": {}
    },
    {
      "source": [
        "### **Torch**"
      ],
      "cell_type": "markdown",
      "metadata": {}
    },
    {
      "cell_type": "code",
      "execution_count": 6,
      "metadata": {},
      "outputs": [
        {
          "output_type": "stream",
          "name": "stdout",
          "text": [
            "tensor([[-0.0486, -1.9073],\n        [-0.5751, -0.3748],\n        [ 1.4850, -2.4018]], dtype=torch.float64)\n"
          ]
        }
      ],
      "source": [
        "x = torch.tensor([1, 2, 4, 5]) #Convert a Python's list for Pytorch's tensor\n",
        "#print(X)\n",
        "x = torch.tensor(np.random.randn(3,2)) #Convert Numpy array for Pytorch'a tensor\n",
        "#print(x)\n",
        "  "
      ]
    },
    {
      "cell_type": "markdown",
      "metadata": {
        "id": "ZPWfs7joaWsP"
      },
      "source": [
        "## **Parser Argument**"
      ]
    },
    {
      "cell_type": "code",
      "metadata": {
        "id": "uud3vz8TaWOc"
      },
      "source": [],
      "execution_count": null,
      "outputs": []
    },
    {
      "cell_type": "markdown",
      "metadata": {
        "id": "HzL41xEJ3ZXb"
      },
      "source": [
        "## **Decorators**"
      ]
    },
    {
      "cell_type": "markdown",
      "metadata": {
        "id": "hcQsFsJHK3p8"
      },
      "source": [
        "## **Simple decorator**"
      ]
    },
    {
      "cell_type": "code",
      "metadata": {
        "id": "06CBA-rJK3Lf"
      },
      "source": [
        "def my_decorator(function):\n",
        "    def print_Init_format():\n",
        "        print(\"=============Initialize parameters===========\\n\")\n",
        "        function()\n",
        "        print(\"===========================================\\n\")\n",
        "    return print_Init_format\n",
        "\n",
        "def initializer_weight():\n",
        "    W1 = tf.constant(np.random.randn(2, 3), tf.float16)*0.01\n",
        "    b1 = tf.constant(np.zeros((2, 1)), tf.float16)\n",
        "    W2 = tf.constant(np.random.randn(2, 3), tf.float16)*0.01\n",
        "    b2 = tf.constant(np.zeros((2, 1)), tf.float16)\n",
        "    print(\"W1: {},\\n\\nW2: {},\\n\\nb1: {},\\n\\nb2: {} \".format(W1, W2, b1, b2))\n",
        "\n",
        "decorator = my_decorator(initializer_weight)\n",
        "\n",
        "decorator()"
      ],
      "execution_count": 2,
      "outputs": [
        {
          "output_type": "stream",
          "name": "stdout",
          "text": [
            "=============Initialize parameters===========\n",
            "\n",
            "W1: [[-0.00808   0.004425  0.02357 ]\n",
            " [-0.001951 -0.004627  0.01457 ]],\n",
            "\n",
            "W2: [[-0.0004516 -0.008736   0.01617  ]\n",
            " [-0.010185  -0.005676  -0.01481  ]],\n",
            "\n",
            "b1: [[0.]\n",
            " [0.]],\n",
            "\n",
            "b2: [[0.]\n",
            " [0.]] \n",
            "===========================================\n",
            "\n"
          ]
        }
      ]
    },
    {
      "cell_type": "markdown",
      "metadata": {
        "id": "RgpRygjQ3w4I"
      },
      "source": [
        "### **[Pie-decorator](https://www.python.org/dev/peps/pep-0318/#background)**\n",
        "\n",
        "Python allows you to use decorators in a simpler way with the @ symbol, sometimes called the “pie” syntax. \n"
      ]
    },
    {
      "cell_type": "code",
      "metadata": {
        "id": "ONBpRRVw2mjW"
      },
      "source": [
        "def my_decorator(function):\n",
        "    def print_Init_format():\n",
        "        print(\"=============Initialize parameters===========\\n\")\n",
        "        function()\n",
        "        print(\"===========================================\\n\")\n",
        "    return print_Init_format\n",
        "\n",
        "@my_decorator\n",
        "def initializer_weight():\n",
        "    W1 = tf.constant(np.random.randn(2, 3), tf.float16)*0.01\n",
        "    b1 = tf.constant(np.zeros((2, 1)), tf.float16)\n",
        "    W2 = tf.constant(np.random.randn(2, 3), tf.float16)*0.01\n",
        "    b2 = tf.constant(np.zeros((2, 1)), tf.float16)\n",
        "\n",
        "    print(\"W1: {},\\n\\nW2: {},\\n\\nb1: {},\\n\\nb2: {} \".format(W1, W2, b1, b2))\n",
        "\n",
        "initializer_weight()"
      ],
      "execution_count": null,
      "outputs": []
    },
    {
      "cell_type": "markdown",
      "metadata": {
        "id": "854x4Dy3PpHO"
      },
      "source": [
        "## **Decorating Functions With Arguments**\n"
      ]
    },
    {
      "cell_type": "code",
      "metadata": {
        "id": "y0z3Yf5eQWyh"
      },
      "source": [
        "def initilizer(func):\n",
        "    def wrapper(*args):\n",
        "        function = func(*args)\n",
        "        print(f\"Original sigmoid:\\n\\n{function},\\n\\nSigmoid > 0.5\\n\\n{function[function > 0.5]}\")\n",
        "    return wrapper\n",
        "\n",
        "@initilizer\n",
        "def sigmoid(x):\n",
        "    return 1/(1 + np.exp(-x))\n",
        "\n",
        "\n",
        "sigmoid(torch.tensor(np.random.randn(3,2)))"
      ],
      "execution_count": 3,
      "outputs": [
        {
          "output_type": "stream",
          "name": "stdout",
          "text": [
            "Original sigmoid:\n\n[[0.4740459  0.28621845]\n [0.66564275 0.63275348]\n [0.08450159 0.71326616]],\n\nSigmoid > 0.5\n\n[0.66564275 0.63275348 0.71326616]\n"
          ]
        }
      ]
    }
  ]
}
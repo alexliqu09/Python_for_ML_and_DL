{
  "nbformat": 4,
  "nbformat_minor": 0,
  "metadata": {
    "colab": {
      "name": "Class6.ipynb",
      "private_outputs": true,
      "provenance": []
    },
    "kernelspec": {
      "name": "python376jvsc74a57bd0fb75a475a3d6917a9e253b9fdafa885e7e8e1c35bc6fe6d521e6c38deb231d62",
      "display_name": "Python 3.7.6 64-bit ('base': conda)"
    },
    "language_info": {
      "name": "python",
      "version": "3.7.6-final"
    },
    "metadata": {
      "interpreter": {
        "hash": "fb75a475a3d6917a9e253b9fdafa885e7e8e1c35bc6fe6d521e6c38deb231d62"
      }
    }
  },
  "cells": [
    {
      "cell_type": "markdown",
      "metadata": {
        "id": "kXtxgNER2yeJ"
      },
      "source": [
        "# ***Python for ML/DL***\n",
        "---\n",
        "<center>\n",
        "<img src=\"https://ehackz.com/wp-content/uploads/2018/02/Python.jpg\" \n",
        "height = \"50%\" width = \"70%\">"
      ]
    },
    {
      "cell_type": "code",
      "metadata": {
        "id": "1Mxr3rABCDYx"
      },
      "source": [
        "import numpy as np\n",
        "import torch\n",
        "import tensorflow as tf"
      ],
      "execution_count": 1,
      "outputs": []
    },
    {
      "source": [
        "## **Tensor**\n",
        "\n",
        "For us, the tensor is a multidimensional matrix and from this a simple way of processing for the Neural Network.\n",
        "\n",
        "<center>\n",
        "<img src=\"https://static.javatpoint.com/tutorial/pytorch/images/pytorch-tensors.png\" height=\"40%\" width = \"40%\">"
      ],
      "cell_type": "markdown",
      "metadata": {}
    },
    {
      "source": [
        "### **[Torch](https://cleverpy.com/que-es-pytorch-y-como-se-instala/)**\n",
        "---\n",
        "\n",
        "It is a Python package designed to perform numerical calculations using the programming of tensors. It also allows its execution on GPU to speed up calculations.\n",
        "\n",
        "Typically PyTorch is used both for replacing numpy and processing calculations on GPUs and for research and development in the field of machine learning, mainly focused on the development of neural networks.\n",
        "\n",
        "- **Initialize Pytorch's tensor**"
      ],
      "cell_type": "markdown",
      "metadata": {}
    },
    {
      "cell_type": "code",
      "execution_count": 66,
      "metadata": {},
      "outputs": [],
      "source": [
        "tensor_list = torch.tensor([1, 2, 4, 5]) #Convert a Python's list for Pytorch's tensor\n",
        "#print(tensor_list)\n",
        "tensor_numpy = torch.tensor(np.random.randn(3,2)) #Convert for Pytorch'a tensor\n",
        "#print(tensor_numpy)\n",
        "tensor_numpy_1 = torch.from_numpy(np.random.randn(3,2)) \n",
        "##Convert Numpy array for Pytorch'a tensor\n",
        "#print(tensor_numpy_1) \n",
        "tensor_float32 = torch.empty(size = (3, 4)) #Initialize  Pytorch's tensor with dtype float32.\n",
        "#print(tensor)\n",
        "tensor_zeros = torch.zeros_like(tensor_float32) \n",
        "#Initialize Pytorch's tensor with same shape tensor float32\n",
        "#print(tensor_zeros) \n",
        "tensor_ones = torch.ones((3,2)) #Initialize Pytorch's tensor of ones\n",
        "#print(tensor_ones)\n",
        "tensor_eyes = torch.eye(5,5) \n",
        "#Returns a 2-D tensor with ones on the diagonal and zeros elsewhere.\n",
        "#print(tensor_eyes)\n",
        "tensor_arange = torch.arange(start=1, end=20, step=3) \n",
        "#Pytorch's tensor with [x+3, x+6, x+9,...] sequence"
      ]
    },
    {
      "source": [
        "torch.tensor vs torch.from_numpy  you would see [here](https://gist.github.com/Hanrui-Wang/4b5a8d997a806957b951bd230fc9aaa3) \n",
        "\n"
      ],
      "cell_type": "markdown",
      "metadata": {}
    },
    {
      "cell_type": "code",
      "execution_count": 67,
      "metadata": {},
      "outputs": [
        {
          "output_type": "stream",
          "name": "stdout",
          "text": [
            "int64  ,  torch.float32  ,  torch.int64\n"
          ]
        }
      ],
      "source": [
        "a = np.arange(5)\n",
        "ft = torch.Tensor(a)  # same as torch.FloatTensor\n",
        "it = torch.from_numpy(a)\n",
        "\n",
        "a.dtype  # == dtype('int64')\n",
        "ft.dtype  # == torch.float32\n",
        "it.dtype  # == torch.int64\n",
        "\n",
        "print(a.dtype, \" , \",ft.dtype,\" , \",it.dtype)"
      ]
    },
    {
      "source": [
        "**Convert Pytorch's tensor to ...**"
      ],
      "cell_type": "markdown",
      "metadata": {}
    },
    {
      "cell_type": "code",
      "execution_count": 88,
      "metadata": {},
      "outputs": [
        {
          "output_type": "stream",
          "name": "stdout",
          "text": [
            "tensor([[0, 0, 0],\n        [0, 0, 0],\n        [0, 0, 0]], dtype=torch.int32) \n\ntensor([[ 0.3462, -0.1293, -0.1014],\n        [ 0.2020,  0.0770,  0.7964],\n        [ 0.0038,  0.5776, -0.0624]], dtype=torch.float16) \n\ntensor([[ 0.3461, -0.1293, -0.1014],\n        [ 0.2021,  0.0770,  0.7962],\n        [ 0.0038,  0.5775, -0.0624]]) \n\ntensor([[ 0.3461, -0.1293, -0.1014],\n        [ 0.2021,  0.0770,  0.7962],\n        [ 0.0038,  0.5775, -0.0624]], dtype=torch.float64) \n\n[[ 0.34607064 -0.12925898 -0.10141441]\n [ 0.20208686  0.07696103  0.79623753]\n [ 0.00378283  0.57753536 -0.06244242]] \n\n"
          ]
        }
      ],
      "source": [
        "tensor_convert = torch.tensor(np.random.randn(3,3))\n",
        "print(tensor_convert.int(),'\\n') #convert values Pytorch tensor to int32\n",
        "print(tensor_convert.half(), '\\n') #convert values pytorch tensor to float16\n",
        "print(tensor_convert.float(), '\\n') #convert values pytorch tensor to float32\n",
        "print(tensor_convert.double(), '\\n') #convert values pytorch tensor to float64\n",
        "print(tensor_convert.numpy(), '\\n') #convrt pytorch tensor to numpy array"
      ]
    },
    {
      "source": [
        "### **shape**"
      ],
      "cell_type": "markdown",
      "metadata": {}
    },
    {
      "cell_type": "code",
      "execution_count": 68,
      "metadata": {},
      "outputs": [
        {
          "output_type": "stream",
          "name": "stdout",
          "text": [
            "torch.Size([4]) \n torch.Size([3, 4]) \n torch.Size([3, 4])\n"
          ]
        }
      ],
      "source": [
        "print(tensor_list.shape,'\\n',tensor_float32.shape,'\\n',tensor_zeros.shape)\n"
      ]
    },
    {
      "source": [
        "### **Index**"
      ],
      "cell_type": "markdown",
      "metadata": {}
    },
    {
      "cell_type": "code",
      "execution_count": 42,
      "metadata": {},
      "outputs": [],
      "source": [
        "tensor_float32[0] #Access to tensor with 2D for all the first rown\n",
        "tensor_float32[:] #Access all the tensor\n",
        "tensor_float32[1:, :] #Acces to sice second rown until last rown and all column  "
      ]
    },
    {
      "source": [
        "### **Compare tensors**\n",
        "---\n",
        "- torch tensor\n",
        "\n",
        "- tensorflow tensor"
      ],
      "cell_type": "markdown",
      "metadata": {}
    },
    {
      "cell_type": "code",
      "execution_count": 5,
      "metadata": {},
      "outputs": [],
      "source": [
        "img = tf.constant(np.random.randn(4, 4, 3))*0.01 # shape  [height, width, color_channels]\n",
        "\n",
        "img  = torch.rand(3, 4, 4) # shape (channels, rown, column)"
      ]
    },
    {
      "cell_type": "code",
      "execution_count": 4,
      "metadata": {},
      "outputs": [],
      "source": [
        "img_more_example = torch.rand(5, 3, 8, 8) # shape (batch_size, channels, rown, column)\n",
        "img_more_example = tf.Variable(np.random.randn(5, 8, 8, 3)) \n",
        "#shape (batch_size, rown, column, channels)"
      ]
    },
    {
      "source": [
        "Note: In the case of Video:\n",
        "- Torch: (Frame, Channel, Height, Width)\n",
        "\n",
        "- Tensorflow: (num_frames, height, width, channels)"
      ],
      "cell_type": "markdown",
      "metadata": {}
    },
    {
      "source": [
        "## **[Operation with Tensor](https://medium.com/analytics-vidhya/pytorch-part1-9a63a063de31)**"
      ],
      "cell_type": "markdown",
      "metadata": {}
    },
    {
      "cell_type": "code",
      "execution_count": 163,
      "metadata": {},
      "outputs": [],
      "source": [
        "x =  torch.tensor([[1, 2, 4, 5]]) \n",
        "#Create a Pytorch's tensor \n",
        "y =  torch.tensor([[1, 2, 4, 5]])\n",
        "#Create a Pytorch's tensor\n",
        "\n",
        "z = x + y  #Addition\n",
        "#z = torch.add(x, y) #proof \n",
        "#print(z)\n",
        "\n",
        "z = x - y  #Substraction\n",
        "#z = torch.sub(x, y) #proof\n",
        "#print(z)\n",
        "\n",
        "z = x * y #Wise Multy\n",
        "#z = torch.mm(x.T, y) # Matrix Multiplication \n",
        "#z = torch.dot(x, y) # Matrix dot product\n",
        "#print(z)\n",
        "\n",
        "\n",
        "\n",
        "z = torch.true_divide(x, y) #Division\n",
        "#print(z)\n",
        "\n",
        "z = x ** 2  #Pow\n",
        "#z = torch.matrix_power(x, 2) #proof\n",
        "#print(z) "
      ]
    },
    {
      "source": [
        "### **View**"
      ],
      "cell_type": "markdown",
      "metadata": {}
    },
    {
      "cell_type": "code",
      "execution_count": 52,
      "metadata": {},
      "outputs": [
        {
          "output_type": "execute_result",
          "data": {
            "text/plain": [
              "tensor([[0.3619],\n",
              "        [0.7004],\n",
              "        [0.5812],\n",
              "        [0.5573],\n",
              "        [0.8253],\n",
              "        [0.3247],\n",
              "        [0.3720],\n",
              "        [0.7050],\n",
              "        [0.7847],\n",
              "        [0.2642],\n",
              "        [0.7949],\n",
              "        [0.3080],\n",
              "        [0.0050],\n",
              "        [0.6806],\n",
              "        [0.3648],\n",
              "        [0.2936]], dtype=torch.float64)"
            ]
          },
          "metadata": {},
          "execution_count": 52
        }
      ],
      "source": [
        "torch_tensor = torch.tensor(np.random.rand(4, 4))\n",
        "torch_tensor.view(16, 1)"
      ]
    },
    {
      "cell_type": "code",
      "execution_count": 53,
      "metadata": {},
      "outputs": [
        {
          "output_type": "execute_result",
          "data": {
            "text/plain": [
              "tensor([[0.3619, 0.7004, 0.5812, 0.5573],\n",
              "        [0.8253, 0.3247, 0.3720, 0.7050],\n",
              "        [0.7847, 0.2642, 0.7949, 0.3080],\n",
              "        [0.0050, 0.6806, 0.3648, 0.2936]], dtype=torch.float64)"
            ]
          },
          "metadata": {},
          "execution_count": 53
        }
      ],
      "source": [
        "torch_tensor"
      ]
    },
    {
      "cell_type": "code",
      "execution_count": 56,
      "metadata": {},
      "outputs": [
        {
          "output_type": "stream",
          "name": "stdout",
          "text": [
            "New tensor:tensor([[0.3619, 0.7004],\n        [0.5812, 0.5573],\n        [0.8253, 0.3247],\n        [0.3720, 0.7050],\n        [0.7847, 0.2642],\n        [0.7949, 0.3080],\n        [0.0050, 0.6806],\n        [0.3648, 0.2936]], dtype=torch.float64)\n\nOriginal tensor tensor([[0.3619, 0.7004, 0.5812, 0.5573],\n        [0.8253, 0.3247, 0.3720, 0.7050],\n        [0.7847, 0.2642, 0.7949, 0.3080],\n        [0.0050, 0.6806, 0.3648, 0.2936]], dtype=torch.float64)\n"
          ]
        }
      ],
      "source": [
        "print(f\"New tensor:{torch_tensor.view(8, 2)}\\n\\nOriginal tensor {torch_tensor}\")"
      ]
    },
    {
      "cell_type": "code",
      "execution_count": 58,
      "metadata": {},
      "outputs": [
        {
          "output_type": "stream",
          "name": "stdout",
          "text": [
            "New tensor:tensor([[0.3619, 0.7004, 0.5812, 0.5573],\n        [0.8253, 0.3247, 0.3720, 0.7050],\n        [0.7847, 0.2642, 0.7949, 0.3080],\n        [0.0050, 0.6806, 0.3648, 0.2936]], dtype=torch.float64)\n\nOriginal tensor tensor([[0.3619, 0.7004, 0.5812, 0.5573],\n        [0.8253, 0.3247, 0.3720, 0.7050],\n        [0.7847, 0.2642, 0.7949, 0.3080],\n        [0.0050, 0.6806, 0.3648, 0.2936]], dtype=torch.float64)\n"
          ]
        }
      ],
      "source": [
        "print(f\"New tensor:{torch_tensor.view(4, -1)}\\n\\nOriginal tensor {torch_tensor}\")"
      ]
    },
    {
      "source": [
        "## **Broadcasting**"
      ],
      "cell_type": "markdown",
      "metadata": {}
    },
    {
      "cell_type": "code",
      "execution_count": 49,
      "metadata": {},
      "outputs": [
        {
          "output_type": "stream",
          "name": "stdout",
          "text": [
            "tensor([[1.6511, 1.3060, 0.9616, 0.9937],\n        [1.6532, 1.0537, 1.2476, 1.7126]]) \n\ntensor([[1.0239, 0.9900, 0.8337, 2.6836],\n        [1.0212, 1.6083, 0.5394, 0.7322]]) \n\n"
          ]
        }
      ],
      "source": [
        "example_1 = torch.rand((2, 4))\n",
        "example_2 = torch.rand((1, 4))\n",
        "\n",
        "print(example_1 + example_2, '\\n')\n",
        "print(torch.true_divide(example_2, example_1), '\\n')"
      ]
    },
    {
      "source": [
        "### **[unsqueeze](https://pytorch.org/docs/stable/generated/torch.unsqueeze.html)**\n",
        "\n",
        "Returns a new tensor with a dimension of size one inserted at the specified position.\n",
        "\n",
        "A dim value within the range [-input.dim() - 1, input.dim() + 1) can be used. Negative dim will correspond to unsqueeze() applied at dim = dim + input.dim() + 1."
      ],
      "cell_type": "markdown",
      "metadata": {}
    },
    {
      "cell_type": "code",
      "execution_count": 99,
      "metadata": {},
      "outputs": [
        {
          "output_type": "execute_result",
          "data": {
            "text/plain": [
              "torch.Size([1, 2, 4, 1])"
            ]
          },
          "metadata": {},
          "execution_count": 99
        }
      ],
      "source": [
        "x = torch.tensor([[1, 2, 3, 4], [2, 3, 6, 3]])  \n",
        "#Expected to be in range of [-3, 2] , tensor 2D shape [2, 4]\n",
        "\n",
        "torch.unsqueeze(x, -3).unsqueeze(3).shape  #shape ??  "
      ]
    },
    {
      "cell_type": "code",
      "execution_count": 109,
      "metadata": {},
      "outputs": [
        {
          "output_type": "execute_result",
          "data": {
            "text/plain": [
              "torch.Size([2, 3, 5, 5])"
            ]
          },
          "metadata": {},
          "execution_count": 109
        }
      ],
      "source": [
        "tensor_1 = torch.randn(2, 3, 5, 5)\n",
        "tensor_2 = torch.randn(3, 1, 1)\n",
        "(tensor_1 + tensor_2).shape"
      ]
    },
    {
      "cell_type": "code",
      "execution_count": 188,
      "metadata": {},
      "outputs": [
        {
          "output_type": "execute_result",
          "data": {
            "text/plain": [
              "torch.return_types.max(values=tensor([1, 1, 1]), indices=tensor([0, 2, 1]))"
            ]
          },
          "metadata": {},
          "execution_count": 188
        }
      ],
      "source": [
        "torch_eye = torch.tensor([[1, 0, 0], \n",
        "                          [0, 0, 1], \n",
        "                          [0, 1, 0]])\n",
        "torch.max(torch_eye, dim=0)"
      ]
    },
    {
      "source": [
        "## **Moving tensors to GPU**"
      ],
      "cell_type": "markdown",
      "metadata": {}
    },
    {
      "cell_type": "code",
      "execution_count": 12,
      "metadata": {},
      "outputs": [],
      "source": [
        "tensor_gpu = torch.tensor(np.random.randn(3, 4, 4), device='cuda')"
      ]
    },
    {
      "cell_type": "code",
      "execution_count": 13,
      "metadata": {},
      "outputs": [],
      "source": [
        "tensor_gpu = img.to(device= 'cuda')"
      ]
    },
    {
      "cell_type": "code",
      "execution_count": 14,
      "metadata": {},
      "outputs": [
        {
          "output_type": "execute_result",
          "data": {
            "text/plain": [
              "tensor([[[0.0633, 0.7552, 0.9489, 0.5855],\n",
              "         [0.0539, 0.7949, 0.1653, 0.8080],\n",
              "         [0.1182, 0.2571, 0.5503, 0.5415],\n",
              "         [0.8357, 0.8037, 0.1432, 0.2735]],\n",
              "\n",
              "        [[0.9916, 0.9885, 0.7092, 0.0180],\n",
              "         [0.1020, 0.7994, 0.4515, 0.9751],\n",
              "         [0.6581, 0.5432, 0.6755, 0.4545],\n",
              "         [0.4521, 0.8461, 0.7149, 0.5417]],\n",
              "\n",
              "        [[0.2283, 0.7322, 0.6143, 0.8275],\n",
              "         [0.8980, 0.0502, 0.9908, 0.9815],\n",
              "         [0.3917, 0.8269, 0.0238, 0.0482],\n",
              "         [0.7104, 0.7135, 0.3543, 0.6880]]], device='cuda:0')"
            ]
          },
          "metadata": {},
          "execution_count": 14
        }
      ],
      "source": [
        "device = 'cuda' if torch.cuda.is_available else 'cpu'\n",
        "tensor_gpu.to(device=device)"
      ]
    },
    {
      "cell_type": "code",
      "execution_count": 15,
      "metadata": {},
      "outputs": [],
      "source": [
        "tensor_gpu = tensor_gpu + 4"
      ]
    },
    {
      "cell_type": "code",
      "execution_count": 16,
      "metadata": {},
      "outputs": [
        {
          "output_type": "execute_result",
          "data": {
            "text/plain": [
              "tensor([[[6.0633, 6.7552, 6.9489, 6.5855],\n",
              "         [6.0539, 6.7949, 6.1653, 6.8080],\n",
              "         [6.1182, 6.2571, 6.5503, 6.5415],\n",
              "         [6.8357, 6.8037, 6.1432, 6.2735]],\n",
              "\n",
              "        [[6.9916, 6.9885, 6.7092, 6.0180],\n",
              "         [6.1020, 6.7994, 6.4515, 6.9751],\n",
              "         [6.6581, 6.5432, 6.6755, 6.4545],\n",
              "         [6.4521, 6.8461, 6.7149, 6.5417]],\n",
              "\n",
              "        [[6.2283, 6.7322, 6.6143, 6.8275],\n",
              "         [6.8980, 6.0502, 6.9908, 6.9815],\n",
              "         [6.3917, 6.8269, 6.0238, 6.0482],\n",
              "         [6.7104, 6.7135, 6.3543, 6.6880]]])"
            ]
          },
          "metadata": {},
          "execution_count": 16
        }
      ],
      "source": [
        "tensor_gpu = tensor_gpu.to(device='cpu') + 2\n",
        "tensor_gpu"
      ]
    },
    {
      "source": [
        "## **Real-world data representation using tensors**"
      ],
      "cell_type": "markdown",
      "metadata": {}
    },
    {
      "source": [
        "## **Working with images**"
      ],
      "cell_type": "markdown",
      "metadata": {}
    },
    {
      "cell_type": "code",
      "execution_count": 129,
      "metadata": {},
      "outputs": [],
      "source": [
        "import imageio \n",
        "\n",
        "img = imageio.imread('../src/image.png')"
      ]
    },
    {
      "cell_type": "code",
      "execution_count": 130,
      "metadata": {},
      "outputs": [
        {
          "output_type": "execute_result",
          "data": {
            "text/plain": [
              "(243, 702, 4)"
            ]
          },
          "metadata": {},
          "execution_count": 130
        }
      ],
      "source": [
        "img.shape #Height width Channel"
      ]
    },
    {
      "source": [
        "## **Don't forget** \n",
        "\n",
        "Pytorch tensor when working with an image, the dimension has to be C x H x W"
      ],
      "cell_type": "markdown",
      "metadata": {}
    },
    {
      "cell_type": "code",
      "execution_count": 131,
      "metadata": {},
      "outputs": [],
      "source": [
        "img = torch.from_numpy(img)"
      ]
    },
    {
      "cell_type": "code",
      "execution_count": 132,
      "metadata": {},
      "outputs": [
        {
          "output_type": "execute_result",
          "data": {
            "text/plain": [
              "torch.Size([243, 702, 4])"
            ]
          },
          "metadata": {},
          "execution_count": 132
        }
      ],
      "source": [
        "img.shape #Height  width Channel"
      ]
    },
    {
      "cell_type": "code",
      "execution_count": 133,
      "metadata": {},
      "outputs": [
        {
          "output_type": "execute_result",
          "data": {
            "text/plain": [
              "torch.Size([4, 243, 702])"
            ]
          },
          "metadata": {},
          "execution_count": 133
        }
      ],
      "source": [
        "img_1 = img.permute(2, 0, 1)\n",
        "img_1.shape"
      ]
    },
    {
      "cell_type": "code",
      "execution_count": 134,
      "metadata": {},
      "outputs": [
        {
          "output_type": "execute_result",
          "data": {
            "text/plain": [
              "torch.Size([243, 702, 4])"
            ]
          },
          "metadata": {},
          "execution_count": 134
        }
      ],
      "source": [
        "img.shape"
      ]
    },
    {
      "source": [
        "## **Parser Argument**\n",
        "---\n",
        "If you want to see the code of parser.py, base_option.py you could check [here](https://github.com/alexliqu09/Python_for_ML_and_DL/tree/main/src)\n"
      ],
      "cell_type": "markdown",
      "metadata": {
        "id": "ZPWfs7joaWsP"
      }
    },
    {
      "cell_type": "code",
      "metadata": {
        "id": "uud3vz8TaWOc"
      },
      "source": [
        "!python ../src/parser.py 3"
      ],
      "execution_count": 207,
      "outputs": [
        {
          "output_type": "stream",
          "name": "stdout",
          "text": [
            "Your argument is: 3 and the result is: 1.004969823313689\n"
          ]
        }
      ]
    },
    {
      "source": [
        "!python ../src/function.py tanh  3"
      ],
      "cell_type": "code",
      "metadata": {},
      "execution_count": 54,
      "outputs": [
        {
          "output_type": "stream",
          "name": "stdout",
          "text": [
            "0.9950547536867306\n"
          ]
        }
      ]
    },
    {
      "cell_type": "code",
      "execution_count": 25,
      "metadata": {},
      "outputs": [
        {
          "output_type": "stream",
          "name": "stdout",
          "text": [
            "============Training Model==========\n           model:AlexNet\n           batch_size: 4\n           epoch: 50\n           input_nc: 3\n           lr_decay: 7\n           gpu_is: 0\n------------------------------------\n"
          ]
        }
      ],
      "source": [
        "!python ../src/base_option.py  --lr_decay 7 --epoch 50 --batch_size 4 --model \"AlexNet\""
      ]
    },
    {
      "cell_type": "markdown",
      "metadata": {
        "id": "HzL41xEJ3ZXb"
      },
      "source": [
        "## **Decorators**"
      ]
    },
    {
      "cell_type": "markdown",
      "metadata": {
        "id": "hcQsFsJHK3p8"
      },
      "source": [
        "## **Simple decorator**"
      ]
    },
    {
      "cell_type": "code",
      "metadata": {
        "id": "06CBA-rJK3Lf"
      },
      "source": [
        "def my_decorator(function):\n",
        "    def print_Init_format():\n",
        "        print(\"=============Initialize parameters===========\\n\")\n",
        "        function()\n",
        "        print(\"===========================================\\n\")\n",
        "    return print_Init_format\n",
        "\n",
        "def initializer_weight():\n",
        "    W1 = tf.constant(np.random.randn(2, 3), tf.float16)*0.01\n",
        "    b1 = tf.constant(np.zeros((2, 1)), tf.float16)\n",
        "    W2 = tf.constant(np.random.randn(2, 3), tf.float16)*0.01\n",
        "    b2 = tf.constant(np.zeros((2, 1)), tf.float16)\n",
        "    print(\"W1: {},\\n\\nW2: {},\\n\\nb1: {},\\n\\nb2: {} \".format(W1, W2, b1, b2))\n",
        "\n",
        "decorator = my_decorator(initializer_weight)\n",
        "\n",
        "decorator()"
      ],
      "execution_count": 2,
      "outputs": [
        {
          "output_type": "stream",
          "name": "stdout",
          "text": [
            "=============Initialize parameters===========\n",
            "\n",
            "W1: [[-0.00808   0.004425  0.02357 ]\n",
            " [-0.001951 -0.004627  0.01457 ]],\n",
            "\n",
            "W2: [[-0.0004516 -0.008736   0.01617  ]\n",
            " [-0.010185  -0.005676  -0.01481  ]],\n",
            "\n",
            "b1: [[0.]\n",
            " [0.]],\n",
            "\n",
            "b2: [[0.]\n",
            " [0.]] \n",
            "===========================================\n",
            "\n"
          ]
        }
      ]
    },
    {
      "cell_type": "markdown",
      "metadata": {
        "id": "RgpRygjQ3w4I"
      },
      "source": [
        "### **[Pie-decorator](https://www.python.org/dev/peps/pep-0318/#background)**\n",
        "\n",
        "Python allows you to use decorators in a simpler way with the @ symbol, sometimes called the “pie” syntax. \n"
      ]
    },
    {
      "cell_type": "code",
      "metadata": {
        "id": "ONBpRRVw2mjW"
      },
      "source": [
        "def my_decorator(function):\n",
        "    def print_Init_format():\n",
        "        print(\"=============Initialize parameters===========\\n\")\n",
        "        function()\n",
        "        print(\"===========================================\\n\")\n",
        "    return print_Init_format\n",
        "\n",
        "@my_decorator\n",
        "def initializer_weight():\n",
        "    W1 = tf.constant(np.random.randn(2, 3), tf.float16)*0.01\n",
        "    b1 = tf.constant(np.zeros((2, 1)), tf.float16)\n",
        "    W2 = tf.constant(np.random.randn(2, 3), tf.float16)*0.01\n",
        "    b2 = tf.constant(np.zeros((2, 1)), tf.float16)\n",
        "\n",
        "    print(\"W1: {},\\n\\nW2: {},\\n\\nb1: {},\\n\\nb2: {} \".format(W1, W2, b1, b2))\n",
        "\n",
        "initializer_weight()"
      ],
      "execution_count": null,
      "outputs": []
    },
    {
      "cell_type": "markdown",
      "metadata": {
        "id": "854x4Dy3PpHO"
      },
      "source": [
        "## **Decorating Functions With Arguments**\n"
      ]
    },
    {
      "cell_type": "code",
      "metadata": {
        "id": "y0z3Yf5eQWyh"
      },
      "source": [
        "def initilizer(func):\n",
        "    def wrapper(*args):\n",
        "        function = func(*args)\n",
        "        print(f\"Original sigmoid:\\n\\n{function},\\n\\nSigmoid > 0.5\\n\\n{function[function > 0.5]}\")\n",
        "    return wrapper\n",
        "\n",
        "@initilizer\n",
        "def sigmoid(x):\n",
        "    return 1/(1 + np.exp(-x))\n",
        "\n",
        "\n",
        "sigmoid(torch.tensor(np.random.randn(3,2)))"
      ],
      "execution_count": 3,
      "outputs": [
        {
          "output_type": "stream",
          "name": "stdout",
          "text": [
            "Original sigmoid:\n\n[[0.4740459  0.28621845]\n [0.66564275 0.63275348]\n [0.08450159 0.71326616]],\n\nSigmoid > 0.5\n\n[0.66564275 0.63275348 0.71326616]\n"
          ]
        }
      ]
    },
    {
      "source": [
        "### **Numba**"
      ],
      "cell_type": "markdown",
      "metadata": {}
    },
    {
      "cell_type": "code",
      "execution_count": 2,
      "metadata": {},
      "outputs": [],
      "source": [
        "from numba import jit \n",
        "from time import time"
      ]
    },
    {
      "cell_type": "code",
      "execution_count": 87,
      "metadata": {},
      "outputs": [],
      "source": [
        "matrix_random = np.random.rand(10,10)"
      ]
    },
    {
      "cell_type": "code",
      "execution_count": 88,
      "metadata": {},
      "outputs": [],
      "source": [
        "def multiplicacion_matricial(X, Y):\n",
        "    matrix_mult = np.zeros_like(matrix_random)\n",
        "    for rown in range(len(X)):\n",
        "        for  column in range(len(Y[0])):\n",
        "            for aux in range(len(Y)):\n",
        "                matrix_mult[rown, column] += X[rown, aux]*Y[aux, column]\n",
        "    return matrix_mult"
      ]
    },
    {
      "cell_type": "code",
      "execution_count": 89,
      "metadata": {},
      "outputs": [
        {
          "output_type": "stream",
          "name": "stdout",
          "text": [
            "time: 0.002145051956176758 \n"
          ]
        }
      ],
      "source": [
        "start = time()\n",
        "multiplicacion_matricial(matrix_random, matrix_random)\n",
        "\n",
        "finish = time()\n",
        "print(f\"time: {finish - start} \")"
      ]
    },
    {
      "cell_type": "code",
      "execution_count": 83,
      "metadata": {},
      "outputs": [],
      "source": [
        "@jit\n",
        "def multiplicacion_matricial_jit(X, Y):\n",
        "    matrix_mult = np.zeros_like(matrix_random)\n",
        "    for rown in range(len(X)):\n",
        "        for  column in range(len(Y[0])):\n",
        "            for aux in range(len(Y)):\n",
        "                matrix_mult[rown, column] += X[rown, aux]*Y[aux, column]\n",
        "    return matrix_mult"
      ]
    },
    {
      "cell_type": "code",
      "execution_count": 90,
      "metadata": {},
      "outputs": [
        {
          "output_type": "stream",
          "name": "stdout",
          "text": [
            "time: 0.00012993812561035156 \n"
          ]
        }
      ],
      "source": [
        "start = time()\n",
        "multiplicacion_matricial_jit(matrix_random, matrix_random)\n",
        "finish = time()\n",
        "print(f\"time: {finish - start} \")"
      ]
    },
    {
      "cell_type": "code",
      "execution_count": 10,
      "metadata": {},
      "outputs": [],
      "source": [
        "def serie(n):\n",
        "    sum=0\n",
        "    for i in range(1,n):\n",
        "        sum=sum+1/(2*i-1)**3\n",
        "    return sum"
      ]
    },
    {
      "cell_type": "code",
      "execution_count": 18,
      "metadata": {},
      "outputs": [
        {
          "output_type": "stream",
          "name": "stdout",
          "text": [
            "time: 0.00013780593872070312 \n"
          ]
        }
      ],
      "source": [
        "start = time()\n",
        "serie(100)\n",
        "finish = time()\n",
        "print(f\"time: {finish - start} \")"
      ]
    },
    {
      "cell_type": "code",
      "execution_count": 13,
      "metadata": {},
      "outputs": [],
      "source": [
        "@jit\n",
        "def serie_numba(n):\n",
        "    sum=0\n",
        "    for i in range(1,n):\n",
        "        sum=sum+1/(2*i-1)**3\n",
        "    return sum"
      ]
    },
    {
      "cell_type": "code",
      "execution_count": 17,
      "metadata": {},
      "outputs": [
        {
          "output_type": "stream",
          "name": "stdout",
          "text": [
            "time: 5.1021575927734375e-05 \n"
          ]
        }
      ],
      "source": [
        "start = time()\n",
        "serie_numba(100)\n",
        "finish = time()\n",
        "print(f\"time: {finish - start} \")"
      ]
    },
    {
      "source": [
        "### **tf.function**"
      ],
      "cell_type": "markdown",
      "metadata": {}
    },
    {
      "cell_type": "code",
      "execution_count": 19,
      "metadata": {},
      "outputs": [
        {
          "output_type": "execute_result",
          "data": {
            "text/plain": [
              "16"
            ]
          },
          "metadata": {},
          "execution_count": 19
        }
      ],
      "source": [
        "def polynomic(x):\n",
        "    return x**2 + 2*x + 1\n",
        "\n",
        "polynomic(3)"
      ]
    },
    {
      "cell_type": "code",
      "execution_count": 20,
      "metadata": {},
      "outputs": [],
      "source": [
        "array = np.random.rand(3, 3)"
      ]
    },
    {
      "cell_type": "code",
      "execution_count": 21,
      "metadata": {},
      "outputs": [
        {
          "output_type": "execute_result",
          "data": {
            "text/plain": [
              "array([[1.30176537, 1.12584902, 1.30148465],\n",
              "       [1.24259152, 3.64723247, 1.3500604 ],\n",
              "       [1.49765522, 1.77196068, 2.16489643]])"
            ]
          },
          "metadata": {},
          "execution_count": 21
        }
      ],
      "source": [
        "polynomic(array)"
      ]
    },
    {
      "cell_type": "code",
      "execution_count": 22,
      "metadata": {},
      "outputs": [
        {
          "output_type": "execute_result",
          "data": {
            "text/plain": [
              "<tf.Tensor: shape=(3, 3), dtype=float64, numpy=\n",
              "array([[1.30176537, 1.12584902, 1.30148465],\n",
              "       [1.24259152, 3.64723247, 1.3500604 ],\n",
              "       [1.49765522, 1.77196068, 2.16489643]])>"
            ]
          },
          "metadata": {},
          "execution_count": 22
        }
      ],
      "source": [
        "polynomic(tf.Variable(array))"
      ]
    },
    {
      "cell_type": "code",
      "execution_count": 23,
      "metadata": {},
      "outputs": [],
      "source": [
        "@tf.function\n",
        "def polynomic_tf_fuction(x):\n",
        "    return x**2 + 2*x + 1 "
      ]
    },
    {
      "cell_type": "code",
      "execution_count": 24,
      "metadata": {},
      "outputs": [
        {
          "output_type": "execute_result",
          "data": {
            "text/plain": [
              "<tf.Tensor: shape=(), dtype=int32, numpy=16>"
            ]
          },
          "metadata": {},
          "execution_count": 24
        }
      ],
      "source": [
        "polynomic_tf_fuction(3)"
      ]
    },
    {
      "cell_type": "code",
      "execution_count": 25,
      "metadata": {},
      "outputs": [
        {
          "output_type": "execute_result",
          "data": {
            "text/plain": [
              "<tf.Tensor: shape=(3, 3), dtype=float64, numpy=\n",
              "array([[1.30176537, 1.12584902, 1.30148465],\n",
              "       [1.24259152, 3.64723247, 1.3500604 ],\n",
              "       [1.49765522, 1.77196068, 2.16489643]])>"
            ]
          },
          "metadata": {},
          "execution_count": 25
        }
      ],
      "source": [
        "polynomic_tf_fuction(array)"
      ]
    },
    {
      "cell_type": "code",
      "execution_count": 26,
      "metadata": {},
      "outputs": [
        {
          "output_type": "execute_result",
          "data": {
            "text/plain": [
              "<tf.Tensor: shape=(3, 3), dtype=float64, numpy=\n",
              "array([[1.30176537, 1.12584902, 1.30148465],\n",
              "       [1.24259152, 3.64723247, 1.3500604 ],\n",
              "       [1.49765522, 1.77196068, 2.16489643]])>"
            ]
          },
          "metadata": {},
          "execution_count": 26
        }
      ],
      "source": [
        "polynomic_tf_fuction(tf.Variable(array))"
      ]
    },
    {
      "cell_type": "code",
      "execution_count": 27,
      "metadata": {},
      "outputs": [
        {
          "output_type": "stream",
          "name": "stdout",
          "text": [
            "polynomic_tf_fuction(x=3)\n  Returns:\n    int32 Tensor, shape=()\n\npolynomic_tf_fuction(x)\n  Args:\n    x: VariableSpec(shape=(3, 3), dtype=tf.float64, name='x')\n  Returns:\n    float64 Tensor, shape=(3, 3)\n\npolynomic_tf_fuction(x)\n  Args:\n    x: float64 Tensor, shape=(3, 3)\n  Returns:\n    float64 Tensor, shape=(3, 3)\n"
          ]
        }
      ],
      "source": [
        "print(polynomic_tf_fuction.pretty_printed_concrete_signatures(),end='\\n')"
      ]
    },
    {
      "cell_type": "code",
      "execution_count": 28,
      "metadata": {},
      "outputs": [
        {
          "output_type": "execute_result",
          "data": {
            "text/plain": [
              "<tf.Tensor: shape=(), dtype=int32, numpy=25>"
            ]
          },
          "metadata": {},
          "execution_count": 28
        }
      ],
      "source": [
        "polynomic_tf_fuction(4)"
      ]
    },
    {
      "cell_type": "code",
      "execution_count": 29,
      "metadata": {},
      "outputs": [
        {
          "output_type": "stream",
          "name": "stdout",
          "text": [
            "polynomic_tf_fuction(x=3)\n  Returns:\n    int32 Tensor, shape=()\n\npolynomic_tf_fuction(x)\n  Args:\n    x: VariableSpec(shape=(3, 3), dtype=tf.float64, name='x')\n  Returns:\n    float64 Tensor, shape=(3, 3)\n\npolynomic_tf_fuction(x)\n  Args:\n    x: float64 Tensor, shape=(3, 3)\n  Returns:\n    float64 Tensor, shape=(3, 3)\n\npolynomic_tf_fuction(x=4)\n  Returns:\n    int32 Tensor, shape=()\n"
          ]
        }
      ],
      "source": [
        "print(polynomic_tf_fuction.pretty_printed_concrete_signatures(),end='\\n')"
      ]
    },
    {
      "cell_type": "code",
      "execution_count": 30,
      "metadata": {},
      "outputs": [],
      "source": [
        "def tf_function_native_python(x):\n",
        "    print(\"Prepare...\")\n",
        "    tf.print(\"Excecute...\")\n",
        "    tf.print(\"nox....\")\n",
        "    print(\"hang on momment\")\n",
        "    return x"
      ]
    },
    {
      "cell_type": "code",
      "execution_count": 31,
      "metadata": {},
      "outputs": [
        {
          "output_type": "stream",
          "name": "stdout",
          "text": [
            "Prepare...\n",
            "Excecute...\n",
            "nox....\n",
            "hang on momment\n"
          ]
        },
        {
          "output_type": "execute_result",
          "data": {
            "text/plain": [
              "[1, 2, 4, 6]"
            ]
          },
          "metadata": {},
          "execution_count": 31
        }
      ],
      "source": [
        "tf_function_native_python([1, 2, 4, 6])"
      ]
    },
    {
      "cell_type": "code",
      "execution_count": 32,
      "metadata": {},
      "outputs": [],
      "source": [
        "@tf.function\n",
        "def tf_function_tf_function(x):\n",
        "    print(\"Prepare...\")\n",
        "    tf.print(\"Excecute...\")\n",
        "    tf.print(\"nox....\")\n",
        "    print(\"hang on momment\")\n",
        "    return x"
      ]
    },
    {
      "cell_type": "code",
      "execution_count": 33,
      "metadata": {},
      "outputs": [
        {
          "output_type": "stream",
          "name": "stdout",
          "text": [
            "Prepare...\n",
            "hang on momment\n",
            "Excecute...\n",
            "nox....\n"
          ]
        },
        {
          "output_type": "execute_result",
          "data": {
            "text/plain": [
              "[<tf.Tensor: shape=(), dtype=int32, numpy=1>,\n",
              " <tf.Tensor: shape=(), dtype=int32, numpy=2>,\n",
              " <tf.Tensor: shape=(), dtype=int32, numpy=4>,\n",
              " <tf.Tensor: shape=(), dtype=int32, numpy=6>]"
            ]
          },
          "metadata": {},
          "execution_count": 33
        }
      ],
      "source": [
        "tf_function_tf_function([1, 2, 4, 6])"
      ]
    },
    {
      "cell_type": "code",
      "execution_count": 34,
      "metadata": {},
      "outputs": [
        {
          "output_type": "stream",
          "name": "stdout",
          "text": [
            "Excecute...\n",
            "nox....\n"
          ]
        },
        {
          "output_type": "execute_result",
          "data": {
            "text/plain": [
              "[<tf.Tensor: shape=(), dtype=int32, numpy=1>,\n",
              " <tf.Tensor: shape=(), dtype=int32, numpy=2>,\n",
              " <tf.Tensor: shape=(), dtype=int32, numpy=4>,\n",
              " <tf.Tensor: shape=(), dtype=int32, numpy=6>]"
            ]
          },
          "metadata": {},
          "execution_count": 34
        }
      ],
      "source": [
        "tf_function_tf_function([1, 2, 4, 6])"
      ]
    },
    {
      "source": [
        "### **Time**\n"
      ],
      "cell_type": "markdown",
      "metadata": {}
    },
    {
      "cell_type": "code",
      "execution_count": 35,
      "metadata": {},
      "outputs": [],
      "source": [
        "Y = tf.Variable(np.random.rand(10000, 10000))\n",
        "Y_hat = tf.Variable(np.random.rand(10000, 10000))"
      ]
    },
    {
      "cell_type": "code",
      "execution_count": 36,
      "metadata": {},
      "outputs": [],
      "source": [
        "def L1_loss(y, y_hat):\n",
        "    return tf.reduce_mean(tf.abs(y - y_hat))\n",
        "\n",
        "start = time()\n",
        "\n",
        "L1_loss(Y, Y_hat)\n",
        "\n",
        "finish = time()"
      ]
    },
    {
      "cell_type": "code",
      "execution_count": 37,
      "metadata": {},
      "outputs": [
        {
          "output_type": "stream",
          "name": "stdout",
          "text": [
            "Time: 1.5757434368133545\n"
          ]
        }
      ],
      "source": [
        "print(f\"Time: {finish - start}\")"
      ]
    },
    {
      "cell_type": "code",
      "execution_count": 42,
      "metadata": {},
      "outputs": [],
      "source": [
        "@tf.function\n",
        "def L1_loss_tf_fucntion(y, y_hat):\n",
        "    return tf.reduce_mean(tf.abs(y - y_hat))\n",
        "\n",
        "start = time()\n",
        "\n",
        "L1_loss_tf_fucntion(Y, Y_hat)\n",
        "\n",
        "finish = time()"
      ]
    },
    {
      "cell_type": "code",
      "execution_count": 43,
      "metadata": {},
      "outputs": [
        {
          "output_type": "stream",
          "name": "stdout",
          "text": [
            "Time: 0.3595244884490967\n"
          ]
        }
      ],
      "source": [
        "print(f\"Time: {finish - start}\")"
      ]
    },
    {
      "cell_type": "code",
      "execution_count": 44,
      "metadata": {},
      "outputs": [],
      "source": [
        "def L1_loss_numpy(y, y_hat):\n",
        "    return np.mean(np.abs(y - y_hat))\n",
        "\n",
        "start = time()\n",
        "\n",
        "L1_loss_numpy(Y, Y_hat)\n",
        "\n",
        "finish = time()"
      ]
    },
    {
      "cell_type": "code",
      "execution_count": 45,
      "metadata": {},
      "outputs": [
        {
          "output_type": "stream",
          "name": "stdout",
          "text": [
            "Time: 0.41753268241882324\n"
          ]
        }
      ],
      "source": [
        "print(f\"Time: {finish - start}\")"
      ]
    },
    {
      "cell_type": "code",
      "execution_count": 46,
      "metadata": {},
      "outputs": [],
      "source": [
        "def L2_loss(y, y_hat):\n",
        "    return tf.reduce_mean(tf.pow((y - y_hat),2))\n",
        "\n",
        "start = time()\n",
        "\n",
        "L2_loss(Y, Y_hat)\n",
        "\n",
        "finish = time()"
      ]
    },
    {
      "cell_type": "code",
      "execution_count": 47,
      "metadata": {},
      "outputs": [
        {
          "output_type": "stream",
          "name": "stdout",
          "text": [
            "Time: 1.2439534664154053\n"
          ]
        }
      ],
      "source": [
        "print(f\"Time: {finish - start}\")"
      ]
    },
    {
      "cell_type": "code",
      "execution_count": 48,
      "metadata": {},
      "outputs": [],
      "source": [
        "@tf.function\n",
        "def L2_loss_tf_fucntion(y, y_hat):\n",
        "    return tf.reduce_mean(tf.pow((y - y_hat),2))\n",
        "\n",
        "start = time()\n",
        "\n",
        "L2_loss_tf_fucntion(Y, Y_hat)\n",
        "\n",
        "finish = time()"
      ]
    },
    {
      "cell_type": "code",
      "execution_count": 49,
      "metadata": {},
      "outputs": [
        {
          "output_type": "stream",
          "name": "stdout",
          "text": [
            "Time: 0.3158111572265625\n"
          ]
        }
      ],
      "source": [
        "print(f\"Time: {finish - start}\")"
      ]
    },
    {
      "cell_type": "code",
      "execution_count": 50,
      "metadata": {},
      "outputs": [],
      "source": [
        "def L2_loss_numpy(y, y_hat):\n",
        "    return np.mean(np.power((y - y_hat), 2))\n",
        "\n",
        "start = time()\n",
        "\n",
        "L2_loss_numpy(Y, Y_hat)\n",
        "\n",
        "finish = time()"
      ]
    },
    {
      "cell_type": "code",
      "execution_count": 51,
      "metadata": {},
      "outputs": [
        {
          "output_type": "stream",
          "name": "stdout",
          "text": [
            "Time: 3.190126895904541\n"
          ]
        }
      ],
      "source": [
        "    print(f\"Time: {finish - start}\")"
      ]
    }
  ]
}
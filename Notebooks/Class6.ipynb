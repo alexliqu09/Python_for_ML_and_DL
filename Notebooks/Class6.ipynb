{
  "nbformat": 4,
  "nbformat_minor": 0,
  "metadata": {
    "colab": {
      "name": "Class6.ipynb",
      "private_outputs": true,
      "provenance": []
    },
    "kernelspec": {
      "name": "python376jvsc74a57bd0fb75a475a3d6917a9e253b9fdafa885e7e8e1c35bc6fe6d521e6c38deb231d62",
      "display_name": "Python 3.7.6 64-bit ('base': conda)"
    },
    "language_info": {
      "name": "python",
      "version": "3.7.6-final"
    },
    "metadata": {
      "interpreter": {
        "hash": "fb75a475a3d6917a9e253b9fdafa885e7e8e1c35bc6fe6d521e6c38deb231d62"
      }
    }
  },
  "cells": [
    {
      "cell_type": "markdown",
      "metadata": {
        "id": "kXtxgNER2yeJ"
      },
      "source": [
        "# ***Python for ML/DL***\n",
        "---\n",
        "<center>\n",
        "<img src=\"https://ehackz.com/wp-content/uploads/2018/02/Python.jpg\" \n",
        "height = \"50%\" width = \"70%\">"
      ]
    },
    {
      "cell_type": "code",
      "metadata": {
        "id": "1Mxr3rABCDYx"
      },
      "source": [
        "import numpy as np\n",
        "import torch\n",
        "import tensorflow as tf"
      ],
      "execution_count": 1,
      "outputs": []
    },
    {
      "source": [
        "## **Tensor**"
      ],
      "cell_type": "markdown",
      "metadata": {}
    },
    {
      "source": [
        "### **Torch**\n",
        "---\n",
        "- **Initialize Pytorch's tensor**"
      ],
      "cell_type": "markdown",
      "metadata": {}
    },
    {
      "cell_type": "code",
      "execution_count": 61,
      "metadata": {},
      "outputs": [],
      "source": [
        "tensor_list = torch.tensor([1, 2, 4, 5]) #Convert a Python's list for Pytorch's tensor\n",
        "#print(tensor_list)\n",
        "tensor_numpy = torch.tensor(np.random.randn(3,2)) #Convert for Pytorch'a tensor\n",
        "#print(tensor)\n",
        "tensor_numpy_1 = torch.from_numpy(np.random.randn(3,2)) \n",
        "##Convert Numpy array for Pytorch'a tensor\n",
        "#print(tensor_numpy_1) \n",
        "tensor_float32 = torch.empty(size = (3, 4)) #Initiaze  Pytorch's tensor with dtype float32.\n",
        "#print(tensor)\n",
        "tensor_zeros = torch.zeros_like(tensor_float32) \n",
        "#Initialize Pytorch's tensor with same shape tensor float32\n",
        "#print(tensor_zeros)\n",
        "tensor_eyes = torch.eye(5,5) \n",
        "#Returns a 2-D tensor with ones on the diagonal and zeros elsewhere.\n",
        "#print(tensor_eyes)\n",
        "tensor_arange = torch.arange(start=1, end=20, step=3) \n",
        "#Pytorch's tensor with [x+3, x+6, x+9,...] sequence"
      ]
    },
    {
      "source": [
        "**Convert Pytorch's tensor to ...**"
      ],
      "cell_type": "markdown",
      "metadata": {}
    },
    {
      "cell_type": "code",
      "execution_count": 75,
      "metadata": {},
      "outputs": [],
      "source": [
        "tensor_convert = torch.tensor(np.random.randn(3,3))\n",
        "#print(tensor_convert.int()) #convert values Pytorch tensor to int32\n",
        "#print(tensor_convert.bool()) #convert values pytorch tensor to boolen\n",
        "#print(tensor_convert.float().dtype) #convert values pytorch tensor to float32\n",
        "#print(tensor_convert.numpy()) #convrt pytorch tensor to numpy array"
      ]
    },
    {
      "source": [
        "**[Operation with Tensor](https://medium.com/analytics-vidhya/pytorch-part1-9a63a063de31)**"
      ],
      "cell_type": "markdown",
      "metadata": {}
    },
    {
      "cell_type": "code",
      "execution_count": 163,
      "metadata": {},
      "outputs": [],
      "source": [
        "x =  torch.tensor([[1, 2, 4, 5]]) \n",
        "#Create a Pytorch's tensor \n",
        "y =  torch.tensor([[1, 2, 4, 5]])\n",
        "#Create a Pytorch's tensor\n",
        "\n",
        "z = x + y  #Addition\n",
        "#z = torch.add(x, y) #proof \n",
        "#print(z)\n",
        "\n",
        "z = x - y  #Substraction\n",
        "#z = torch.sub(x, y) #proof\n",
        "#print(z)\n",
        "\n",
        "z = x * y #Wise Multy\n",
        "#z = torch.mm(x.T, y) # Matrix Multiplication \n",
        "#z = torch.dot(x, y) # Matrix dot product\n",
        "#print(z)\n",
        "\n",
        "\n",
        "\n",
        "z = torch.true_divide(x, y) #Division\n",
        "#print(z)\n",
        "\n",
        "z = x ** 2  #Pow\n",
        "#z = torch.matrix_power(x, 2) #proof\n",
        "#print(z) "
      ]
    },
    {
      "source": [
        "## **Broadcasting**"
      ],
      "cell_type": "markdown",
      "metadata": {}
    },
    {
      "cell_type": "code",
      "execution_count": 186,
      "metadata": {},
      "outputs": [],
      "source": [
        "example_1 = torch.rand((2, 4))\n",
        "example_2 = torch.rand((1, 4))\n",
        "\n",
        "#print(example_1 + example_2)\n",
        "#print(torch.true_divide(example_2, example_1))"
      ]
    },
    {
      "cell_type": "code",
      "execution_count": 188,
      "metadata": {},
      "outputs": [
        {
          "output_type": "execute_result",
          "data": {
            "text/plain": [
              "torch.return_types.max(values=tensor([1, 1, 1]), indices=tensor([0, 2, 1]))"
            ]
          },
          "metadata": {},
          "execution_count": 188
        }
      ],
      "source": [
        "torch_eye = torch.tensor([[1, 0, 0], \n",
        "                          [0, 0, 1], \n",
        "                          [0, 1, 0]])\n",
        "torch.max(torch_eye, dim=0)"
      ]
    },
    {
      "source": [
        "## **Parser Argument**\n",
        "---\n",
        "If you want to see the code of parser.py, base_option.py you could check [here](https://github.com/alexliqu09/Python_for_ML_and_DL/tree/main/src)\n"
      ],
      "cell_type": "markdown",
      "metadata": {
        "id": "ZPWfs7joaWsP"
      }
    },
    {
      "cell_type": "code",
      "metadata": {
        "id": "uud3vz8TaWOc"
      },
      "source": [
        "!python ../src/parser.py 3"
      ],
      "execution_count": 207,
      "outputs": [
        {
          "output_type": "stream",
          "name": "stdout",
          "text": [
            "Your argument is: 3 and the result is: 1.004969823313689\n"
          ]
        }
      ]
    },
    {
      "cell_type": "code",
      "execution_count": 19,
      "metadata": {},
      "outputs": [
        {
          "output_type": "stream",
          "name": "stdout",
          "text": [
            "============Training Model==========\n           model:AlexNet\n           batch_size: 4\n           epoch: 50\n           input_nc: 3\n           lr_decay: 7\n           gpu_is: 0\n------------------------------------\n"
          ]
        }
      ],
      "source": [
        "!python ../src/base_option.py --lr_decay 7 --epoch 50 --batch_size 4 --model \"AlexNet\""
      ]
    },
    {
      "cell_type": "markdown",
      "metadata": {
        "id": "HzL41xEJ3ZXb"
      },
      "source": [
        "## **Decorators**"
      ]
    },
    {
      "cell_type": "markdown",
      "metadata": {
        "id": "hcQsFsJHK3p8"
      },
      "source": [
        "## **Simple decorator**"
      ]
    },
    {
      "cell_type": "code",
      "metadata": {
        "id": "06CBA-rJK3Lf"
      },
      "source": [
        "def my_decorator(function):\n",
        "    def print_Init_format():\n",
        "        print(\"=============Initialize parameters===========\\n\")\n",
        "        function()\n",
        "        print(\"===========================================\\n\")\n",
        "    return print_Init_format\n",
        "\n",
        "def initializer_weight():\n",
        "    W1 = tf.constant(np.random.randn(2, 3), tf.float16)*0.01\n",
        "    b1 = tf.constant(np.zeros((2, 1)), tf.float16)\n",
        "    W2 = tf.constant(np.random.randn(2, 3), tf.float16)*0.01\n",
        "    b2 = tf.constant(np.zeros((2, 1)), tf.float16)\n",
        "    print(\"W1: {},\\n\\nW2: {},\\n\\nb1: {},\\n\\nb2: {} \".format(W1, W2, b1, b2))\n",
        "\n",
        "decorator = my_decorator(initializer_weight)\n",
        "\n",
        "decorator()"
      ],
      "execution_count": 2,
      "outputs": [
        {
          "output_type": "stream",
          "name": "stdout",
          "text": [
            "=============Initialize parameters===========\n",
            "\n",
            "W1: [[-0.00808   0.004425  0.02357 ]\n",
            " [-0.001951 -0.004627  0.01457 ]],\n",
            "\n",
            "W2: [[-0.0004516 -0.008736   0.01617  ]\n",
            " [-0.010185  -0.005676  -0.01481  ]],\n",
            "\n",
            "b1: [[0.]\n",
            " [0.]],\n",
            "\n",
            "b2: [[0.]\n",
            " [0.]] \n",
            "===========================================\n",
            "\n"
          ]
        }
      ]
    },
    {
      "cell_type": "markdown",
      "metadata": {
        "id": "RgpRygjQ3w4I"
      },
      "source": [
        "### **[Pie-decorator](https://www.python.org/dev/peps/pep-0318/#background)**\n",
        "\n",
        "Python allows you to use decorators in a simpler way with the @ symbol, sometimes called the “pie” syntax. \n"
      ]
    },
    {
      "cell_type": "code",
      "metadata": {
        "id": "ONBpRRVw2mjW"
      },
      "source": [
        "def my_decorator(function):\n",
        "    def print_Init_format():\n",
        "        print(\"=============Initialize parameters===========\\n\")\n",
        "        function()\n",
        "        print(\"===========================================\\n\")\n",
        "    return print_Init_format\n",
        "\n",
        "@my_decorator\n",
        "def initializer_weight():\n",
        "    W1 = tf.constant(np.random.randn(2, 3), tf.float16)*0.01\n",
        "    b1 = tf.constant(np.zeros((2, 1)), tf.float16)\n",
        "    W2 = tf.constant(np.random.randn(2, 3), tf.float16)*0.01\n",
        "    b2 = tf.constant(np.zeros((2, 1)), tf.float16)\n",
        "\n",
        "    print(\"W1: {},\\n\\nW2: {},\\n\\nb1: {},\\n\\nb2: {} \".format(W1, W2, b1, b2))\n",
        "\n",
        "initializer_weight()"
      ],
      "execution_count": null,
      "outputs": []
    },
    {
      "cell_type": "markdown",
      "metadata": {
        "id": "854x4Dy3PpHO"
      },
      "source": [
        "## **Decorating Functions With Arguments**\n"
      ]
    },
    {
      "cell_type": "code",
      "metadata": {
        "id": "y0z3Yf5eQWyh"
      },
      "source": [
        "def initilizer(func):\n",
        "    def wrapper(*args):\n",
        "        function = func(*args)\n",
        "        print(f\"Original sigmoid:\\n\\n{function},\\n\\nSigmoid > 0.5\\n\\n{function[function > 0.5]}\")\n",
        "    return wrapper\n",
        "\n",
        "@initilizer\n",
        "def sigmoid(x):\n",
        "    return 1/(1 + np.exp(-x))\n",
        "\n",
        "\n",
        "sigmoid(torch.tensor(np.random.randn(3,2)))"
      ],
      "execution_count": 3,
      "outputs": [
        {
          "output_type": "stream",
          "name": "stdout",
          "text": [
            "Original sigmoid:\n\n[[0.4740459  0.28621845]\n [0.66564275 0.63275348]\n [0.08450159 0.71326616]],\n\nSigmoid > 0.5\n\n[0.66564275 0.63275348 0.71326616]\n"
          ]
        }
      ]
    }
  ]
}
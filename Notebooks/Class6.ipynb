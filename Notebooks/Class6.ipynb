{
  "nbformat": 4,
  "nbformat_minor": 0,
  "metadata": {
    "colab": {
      "name": "Class6.ipynb",
      "private_outputs": true,
      "provenance": []
    },
    "kernelspec": {
      "name": "python376jvsc74a57bd0fb75a475a3d6917a9e253b9fdafa885e7e8e1c35bc6fe6d521e6c38deb231d62",
      "display_name": "Python 3.7.6 64-bit ('base': conda)"
    },
    "language_info": {
      "name": "python",
      "version": "3.7.6-final"
    },
    "metadata": {
      "interpreter": {
        "hash": "fb75a475a3d6917a9e253b9fdafa885e7e8e1c35bc6fe6d521e6c38deb231d62"
      }
    }
  },
  "cells": [
    {
      "cell_type": "markdown",
      "metadata": {
        "id": "kXtxgNER2yeJ"
      },
      "source": [
        "# ***Python for ML/DL***\n",
        "---\n",
        "<center>\n",
        "<img src=\"https://ehackz.com/wp-content/uploads/2018/02/Python.jpg\" \n",
        "height = \"50%\" width = \"70%\">"
      ]
    },
    {
      "cell_type": "code",
      "metadata": {
        "id": "1Mxr3rABCDYx"
      },
      "source": [
        "import numpy as np\n",
        "import torch\n",
        "import tensorflow as tf"
      ],
      "execution_count": 1,
      "outputs": []
    },
    {
      "source": [
        "## **Tensor**"
      ],
      "cell_type": "markdown",
      "metadata": {}
    },
    {
      "source": [
        "### **Torch**\n",
        "---\n",
        "- **Initialize Pytorch's tensor**"
      ],
      "cell_type": "markdown",
      "metadata": {}
    },
    {
      "cell_type": "code",
      "execution_count": 61,
      "metadata": {},
      "outputs": [],
      "source": [
        "tensor_list = torch.tensor([1, 2, 4, 5]) #Convert a Python's list for Pytorch's tensor\n",
        "#print(tensor_list)\n",
        "tensor_numpy = torch.tensor(np.random.randn(3,2)) #Convert for Pytorch'a tensor\n",
        "#print(tensor)\n",
        "tensor_numpy_1 = torch.from_numpy(np.random.randn(3,2)) \n",
        "##Convert Numpy array for Pytorch'a tensor\n",
        "#print(tensor_numpy_1) \n",
        "tensor_float32 = torch.empty(size = (3, 4)) #Initiaze  Pytorch's tensor with dtype float32.\n",
        "#print(tensor)\n",
        "tensor_zeros = torch.zeros_like(tensor_float32) \n",
        "#Initialize Pytorch's tensor with same shape tensor float32\n",
        "#print(tensor_zeros)\n",
        "tensor_eyes = torch.eye(5,5) \n",
        "#Returns a 2-D tensor with ones on the diagonal and zeros elsewhere.\n",
        "#print(tensor_eyes)\n",
        "tensor_arange = torch.arange(start=1, end=20, step=3) \n",
        "#Pytorch's tensor with [x+3, x+6, x+9,...] sequence"
      ]
    },
    {
      "source": [
        "**Convert Pytorch's tensor to ...**"
      ],
      "cell_type": "markdown",
      "metadata": {}
    },
    {
      "cell_type": "code",
      "execution_count": 75,
      "metadata": {},
      "outputs": [],
      "source": [
        "tensor_convert = torch.tensor(np.random.randn(3,3))\n",
        "#print(tensor_convert.int()) #convert values Pytorch tensor to int32\n",
        "#print(tensor_convert.bool()) #convert values pytorch tensor to boolen\n",
        "#print(tensor_convert.float().dtype) #convert values pytorch tensor to float32\n",
        "#print(tensor_convert.numpy()) #convrt pytorch tensor to numpy array"
      ]
    },
    {
      "source": [
        "**[Operation with Tensor](https://medium.com/analytics-vidhya/pytorch-part1-9a63a063de31)**"
      ],
      "cell_type": "markdown",
      "metadata": {}
    },
    {
      "cell_type": "code",
      "execution_count": 126,
      "metadata": {},
      "outputs": [],
      "source": [
        "x = torch.tensor([[1, 3, 5, 3]])  #Create a Pytorch's tensor \n",
        "#proof in torch.tensor: np.random.rand(4, 1, 1, 3)\n",
        "y = torch.tensor([[1, 2, 2, 5]])  #Create a Pytorch's tensor\n",
        "\n",
        "z = x + y  #Addition\n",
        "#z = torch.add(x, y) #proof \n",
        "#print(z)\n",
        "\n",
        "z = x - y  #Substraction\n",
        "#z = torch.sub(x, y) #proof\n",
        "#print(z)\n",
        "\n",
        "z = x * y #Multiply\n",
        "#z = torch.mm(x.T, y) # proof\n",
        "#print(z)\n",
        "\n",
        "z = torch.true_divide(x, y) #Division\n",
        "#print(z)\n",
        "\n",
        "z = x**y  #Pow\n",
        "#z = x.pow(2) #proof\n",
        "#print(z) "
      ]
    },
    {
      "source": [
        "## **Parser Argument**"
      ],
      "cell_type": "markdown",
      "metadata": {
        "id": "ZPWfs7joaWsP"
      }
    },
    {
      "cell_type": "code",
      "metadata": {
        "id": "uud3vz8TaWOc"
      },
      "source": [],
      "execution_count": null,
      "outputs": []
    },
    {
      "cell_type": "markdown",
      "metadata": {
        "id": "HzL41xEJ3ZXb"
      },
      "source": [
        "## **Decorators**"
      ]
    },
    {
      "cell_type": "markdown",
      "metadata": {
        "id": "hcQsFsJHK3p8"
      },
      "source": [
        "## **Simple decorator**"
      ]
    },
    {
      "cell_type": "code",
      "metadata": {
        "id": "06CBA-rJK3Lf"
      },
      "source": [
        "def my_decorator(function):\n",
        "    def print_Init_format():\n",
        "        print(\"=============Initialize parameters===========\\n\")\n",
        "        function()\n",
        "        print(\"===========================================\\n\")\n",
        "    return print_Init_format\n",
        "\n",
        "def initializer_weight():\n",
        "    W1 = tf.constant(np.random.randn(2, 3), tf.float16)*0.01\n",
        "    b1 = tf.constant(np.zeros((2, 1)), tf.float16)\n",
        "    W2 = tf.constant(np.random.randn(2, 3), tf.float16)*0.01\n",
        "    b2 = tf.constant(np.zeros((2, 1)), tf.float16)\n",
        "    print(\"W1: {},\\n\\nW2: {},\\n\\nb1: {},\\n\\nb2: {} \".format(W1, W2, b1, b2))\n",
        "\n",
        "decorator = my_decorator(initializer_weight)\n",
        "\n",
        "decorator()"
      ],
      "execution_count": 2,
      "outputs": [
        {
          "output_type": "stream",
          "name": "stdout",
          "text": [
            "=============Initialize parameters===========\n",
            "\n",
            "W1: [[-0.00808   0.004425  0.02357 ]\n",
            " [-0.001951 -0.004627  0.01457 ]],\n",
            "\n",
            "W2: [[-0.0004516 -0.008736   0.01617  ]\n",
            " [-0.010185  -0.005676  -0.01481  ]],\n",
            "\n",
            "b1: [[0.]\n",
            " [0.]],\n",
            "\n",
            "b2: [[0.]\n",
            " [0.]] \n",
            "===========================================\n",
            "\n"
          ]
        }
      ]
    },
    {
      "cell_type": "markdown",
      "metadata": {
        "id": "RgpRygjQ3w4I"
      },
      "source": [
        "### **[Pie-decorator](https://www.python.org/dev/peps/pep-0318/#background)**\n",
        "\n",
        "Python allows you to use decorators in a simpler way with the @ symbol, sometimes called the “pie” syntax. \n"
      ]
    },
    {
      "cell_type": "code",
      "metadata": {
        "id": "ONBpRRVw2mjW"
      },
      "source": [
        "def my_decorator(function):\n",
        "    def print_Init_format():\n",
        "        print(\"=============Initialize parameters===========\\n\")\n",
        "        function()\n",
        "        print(\"===========================================\\n\")\n",
        "    return print_Init_format\n",
        "\n",
        "@my_decorator\n",
        "def initializer_weight():\n",
        "    W1 = tf.constant(np.random.randn(2, 3), tf.float16)*0.01\n",
        "    b1 = tf.constant(np.zeros((2, 1)), tf.float16)\n",
        "    W2 = tf.constant(np.random.randn(2, 3), tf.float16)*0.01\n",
        "    b2 = tf.constant(np.zeros((2, 1)), tf.float16)\n",
        "\n",
        "    print(\"W1: {},\\n\\nW2: {},\\n\\nb1: {},\\n\\nb2: {} \".format(W1, W2, b1, b2))\n",
        "\n",
        "initializer_weight()"
      ],
      "execution_count": null,
      "outputs": []
    },
    {
      "cell_type": "markdown",
      "metadata": {
        "id": "854x4Dy3PpHO"
      },
      "source": [
        "## **Decorating Functions With Arguments**\n"
      ]
    },
    {
      "cell_type": "code",
      "metadata": {
        "id": "y0z3Yf5eQWyh"
      },
      "source": [
        "def initilizer(func):\n",
        "    def wrapper(*args):\n",
        "        function = func(*args)\n",
        "        print(f\"Original sigmoid:\\n\\n{function},\\n\\nSigmoid > 0.5\\n\\n{function[function > 0.5]}\")\n",
        "    return wrapper\n",
        "\n",
        "@initilizer\n",
        "def sigmoid(x):\n",
        "    return 1/(1 + np.exp(-x))\n",
        "\n",
        "\n",
        "sigmoid(torch.tensor(np.random.randn(3,2)))"
      ],
      "execution_count": 3,
      "outputs": [
        {
          "output_type": "stream",
          "name": "stdout",
          "text": [
            "Original sigmoid:\n\n[[0.4740459  0.28621845]\n [0.66564275 0.63275348]\n [0.08450159 0.71326616]],\n\nSigmoid > 0.5\n\n[0.66564275 0.63275348 0.71326616]\n"
          ]
        }
      ]
    }
  ]
}
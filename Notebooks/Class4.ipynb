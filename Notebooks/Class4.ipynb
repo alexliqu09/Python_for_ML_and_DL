{
 "metadata": {
  "language_info": {
   "codemirror_mode": {
    "name": "ipython",
    "version": 3
   },
   "file_extension": ".py",
   "mimetype": "text/x-python",
   "name": "python",
   "nbconvert_exporter": "python",
   "pygments_lexer": "ipython3",
   "version": "3.7.6-final"
  },
  "orig_nbformat": 2,
  "kernelspec": {
   "name": "python37664bitenvvenv21fe8ca208ed41e988733c4ab5dda3b2",
   "display_name": "Python 3.7.6 64-bit ('env': venv)",
   "language": "python"
  }
 },
 "nbformat": 4,
 "nbformat_minor": 2,
 "cells": [
  {
   "source": [
    "# ***Python for ML/DL***\n",
    "---\n",
    "<center>\n",
    "<img src=\"https://ehackz.com/wp-content/uploads/2018/02/Python.jpg\" height = \"40%\" width = \"60%\">"
   ],
   "cell_type": "markdown",
   "metadata": {}
  },
  {
   "source": [
    "## **Object Oriented Programming**\n",
    "\n",
    "OOP is a paradigm of program where the component is divided into objects that have data and behaviors and communicate with each other.\n",
    "<center>\n",
    "<img src=\"https://wideinfo.org/wp-content/uploads/2018/08/mahirkoding_oop-1200x762_c.jpg\" height=\"60%\" width=\"65%\">"
   ],
   "cell_type": "markdown",
   "metadata": {}
  },
  {
   "source": [
    "## **Class**\n",
    "\n",
    "The class is a template that contains general characteristics of the objects of that class.\n",
    "\n",
    "<center>\n",
    "<img src=\"https://media.geeksforgeeks.org/wp-content/cdn-uploads/20190501121513/inheritance.png\" height=\"60%\" width=\"50%\">"
   ],
   "cell_type": "markdown",
   "metadata": {}
  },
  {
   "source": [
    "## **Objects**\n",
    "\n",
    "**Objects** are generally real-life bodies that contain data and behaviors, and these objects are created by **instantiating** a class.\n",
    "\n",
    "-  Atributtes: Attributes are the individual characteristics that differentiate one object from another and determine its appearance, state, or other qualities.\n",
    "\n",
    "-  Methods: On objects it is possible to perform actions (operations, calculations)\n",
    "\n",
    "\n",
    "<center>\n",
    "<img src=\"https://miro.medium.com/max/810/1*xiYI_rl-_pX_27BAjxBL3g.png\"  height=\"40%\" width=\"50%\">"
   ],
   "cell_type": "markdown",
   "metadata": {}
  },
  {
   "source": [],
   "cell_type": "markdown",
   "metadata": {}
  }
 ]
}
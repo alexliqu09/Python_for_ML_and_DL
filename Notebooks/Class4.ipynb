{
 "metadata": {
  "language_info": {
   "codemirror_mode": {
    "name": "ipython",
    "version": 3
   },
   "file_extension": ".py",
   "mimetype": "text/x-python",
   "name": "python",
   "nbconvert_exporter": "python",
   "pygments_lexer": "ipython3",
   "version": "3.7.6-final"
  },
  "orig_nbformat": 2,
  "kernelspec": {
   "name": "python37664bitenvvenv21fe8ca208ed41e988733c4ab5dda3b2",
   "display_name": "Python 3.7.6 64-bit ('env': venv)",
   "language": "python"
  }
 },
 "nbformat": 4,
 "nbformat_minor": 2,
 "cells": [
  {
   "source": [
    "# ***Python for ML/DL***\n",
    "---\n",
    "<center>\n",
    "<img src=\"https://ehackz.com/wp-content/uploads/2018/02/Python.jpg\" height = \"40%\" width = \"60%\">"
   ],
   "cell_type": "markdown",
   "metadata": {}
  },
  {
   "source": [
    "## **Object Oriented Programming**\n",
    "\n",
    "OOP is a paradigm of program where the component is divided into objects that have data and behaviors and communicate with each other.\n",
    "<center>\n",
    "<img src=\"https://wideinfo.org/wp-content/uploads/2018/08/mahirkoding_oop-1200x762_c.jpg\" height=\"60%\" width=\"65%\">"
   ],
   "cell_type": "markdown",
   "metadata": {}
  },
  {
   "source": [
    "## **Class**\n",
    "\n",
    "The class is a template that contains general characteristics of the objects of that class.\n",
    "\n",
    "<center>\n",
    "<img src=\"https://media.geeksforgeeks.org/wp-content/cdn-uploads/20190501121513/inheritance.png\" height=\"60%\" width=\"50%\">"
   ],
   "cell_type": "markdown",
   "metadata": {}
  },
  {
   "source": [
    "## **Objects**\n",
    "\n",
    "**Objects** are generally real-life bodies that contain data and behaviors, and these objects are created by **instantiating** a class.\n",
    "\n",
    "-  Atributtes: Attributes are the individual characteristics that differentiate one object from another and determine its appearance, state, or other qualities.\n",
    "\n",
    "-  Methods: On objects it is possible to perform actions (operations, calculations)\n",
    "\n",
    "\n",
    "<center>\n",
    "<img src=\"https://miro.medium.com/max/810/1*xiYI_rl-_pX_27BAjxBL3g.png\"  height=\"40%\" width=\"50%\">"
   ],
   "cell_type": "markdown",
   "metadata": {}
  },
  {
   "source": [
    "### Create a Class Car\n",
    "\n",
    "Note:\n",
    "- [self](https://www.geeksforgeeks.org/self-in-python-class/):  By using the “self” keyword we can access the attributes and methods of the class in python. It binds the attributes with the given arguments. self is parameter in function and user can use another parameter name in place of it."
   ],
   "cell_type": "markdown",
   "metadata": {}
  },
  {
   "source": [
    "**Example 1**\n",
    "\n",
    "define a Class"
   ],
   "cell_type": "markdown",
   "metadata": {}
  },
  {
   "cell_type": "code",
   "execution_count": 61,
   "metadata": {},
   "outputs": [],
   "source": [
    "class Car():\n",
    "    marca = \"Auidi\"\n",
    "    largo = 250\n",
    "    ancho = 150\n",
    "    placa = \"AB3X\"\n",
    "    Estado = True\n",
    "    def cahge_estado(self, estado):\n",
    "        self.Estado = estado\n",
    "        return self.Estado \n",
    "    def resume(self):\n",
    "        print(f\"marca: {auto.marca}, ancho: {auto.ancho},  Estado: {auto.Estado}\")\n",
    "auto = Car()\n",
    "auto_2 = Car()"
   ]
  },
  {
   "source": [
    "### Access to atributtes and methods."
   ],
   "cell_type": "markdown",
   "metadata": {}
  },
  {
   "cell_type": "code",
   "execution_count": 62,
   "metadata": {},
   "outputs": [
    {
     "output_type": "stream",
     "name": "stdout",
     "text": [
      "marca: Auidi, ancho: 150,  Estado: False\n"
     ]
    }
   ],
   "source": [
    "auto.cahge_estado(False)\n",
    "\n",
    "auto.resume()\n"
   ]
  },
  {
   "source": [
    "### Compare"
   ],
   "cell_type": "markdown",
   "metadata": {}
  },
  {
   "source": [
    "auto.cahge_estado(True)\n",
    "\n",
    "auto_2.resume()"
   ],
   "cell_type": "code",
   "metadata": {},
   "execution_count": 64,
   "outputs": [
    {
     "output_type": "stream",
     "name": "stdout",
     "text": [
      "marca: Auidi, ancho: 150,  Estado: True\n"
     ]
    }
   ]
  },
  {
   "source": [
    "### **Constructor**\n",
    "\n",
    "**[Init](https://www.tutorialspoint.com/What-is-difference-between-self-and-init-methods-in-python-Class#:~:text=__init__%20method,the%20attributes%20of%20the%20class.)**: This method is called when an object is created from a class and it allows the class to initialize the attributes of the class.\n",
    "\n",
    "**Example 2**\n",
    "\n",
    "Use the  __init__ method"
   ],
   "cell_type": "markdown",
   "metadata": {}
  },
  {
   "source": [
    "class Laptop():\n",
    "    def __init__(self, name, processor, gpu, ram):\n",
    "        self.name = name\n",
    "        self.processor = processor\n",
    "        self.gpu = gpu\n",
    "        self.ram = ram \n",
    "    def resume(self):\n",
    "            return f\"The laptop {self.name}, the processor is {self.processor}, the GPU: {self.gpu} and the ram is {self.ram}.\"\n",
    "\n",
    "lap1 = Laptop(\"ASUS\",\"Intel\",\"RYZEN\",\"8GB\")\n",
    "lap2 = Laptop(\"Lenovo\",\"Intel\",\"Nvidea\",\"8GB\")"
   ],
   "cell_type": "code",
   "metadata": {},
   "execution_count": 51,
   "outputs": []
  },
  {
   "cell_type": "code",
   "execution_count": 52,
   "metadata": {},
   "outputs": [
    {
     "output_type": "stream",
     "name": "stdout",
     "text": [
      "The laptop ASUS, the processor is Intel, the GPU: RYZEN and the ram is 8GB.\nThe laptop Lenovo, the processor is Intel, the GPU: Nvidea and the ram is 8GB.\n"
     ]
    }
   ],
   "source": [
    "print(f\"{lap1.resume()}\\n{lap2.resume()}\")"
   ]
  }
 ]
}
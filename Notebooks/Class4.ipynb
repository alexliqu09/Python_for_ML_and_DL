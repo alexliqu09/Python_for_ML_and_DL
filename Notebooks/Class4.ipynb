{
 "metadata": {
  "language_info": {
   "codemirror_mode": {
    "name": "ipython",
    "version": 3
   },
   "file_extension": ".py",
   "mimetype": "text/x-python",
   "name": "python",
   "nbconvert_exporter": "python",
   "pygments_lexer": "ipython3",
   "version": "3.7.6-final"
  },
  "orig_nbformat": 2,
  "kernelspec": {
   "name": "python37664bitenvvenv21fe8ca208ed41e988733c4ab5dda3b2",
   "display_name": "Python 3.7.6 64-bit ('env': venv)",
   "language": "python"
  }
 },
 "nbformat": 4,
 "nbformat_minor": 2,
 "cells": [
  {
   "source": [
    "# ***Python for ML/DL***\n",
    "---\n",
    "<center>\n",
    "<img src=\"https://ehackz.com/wp-content/uploads/2018/02/Python.jpg\" height = \"40%\" width = \"60%\">"
   ],
   "cell_type": "markdown",
   "metadata": {}
  },
  {
   "source": [
    "## **Object Oriented Programming**\n",
    "\n",
    "OOP is a paradigm of program where the component is divided into objects that have data and behaviors and communicate with each other.\n",
    "<center>\n",
    "<img src=\"https://wideinfo.org/wp-content/uploads/2018/08/mahirkoding_oop-1200x762_c.jpg\" height=\"60%\" width=\"65%\">"
   ],
   "cell_type": "markdown",
   "metadata": {}
  },
  {
   "source": [
    "## **Class**\n",
    "\n",
    "The class is a template that contains general characteristics of the objects of that class.\n",
    "\n",
    "<center>\n",
    "<img src=\"https://media.geeksforgeeks.org/wp-content/cdn-uploads/20190501121513/inheritance.png\" height=\"60%\" width=\"50%\">"
   ],
   "cell_type": "markdown",
   "metadata": {}
  },
  {
   "source": [
    "## **Objects**\n",
    "\n",
    "**Objects** are generally real-life bodies that contain data and behaviors, and these objects are created by **instantiating** a class.\n",
    "\n",
    "-  Atributtes: Attributes are the individual characteristics that differentiate one object from another and determine its appearance, state, or other qualities.\n",
    "\n",
    "-  Methods: On objects it is possible to perform actions (operations, calculations)\n",
    "\n",
    "\n",
    "<center>\n",
    "<img src=\"https://miro.medium.com/max/810/1*xiYI_rl-_pX_27BAjxBL3g.png\"  height=\"40%\" width=\"50%\">"
   ],
   "cell_type": "markdown",
   "metadata": {}
  },
  {
   "source": [
    "## Note:\n",
    "- [self](https://www.geeksforgeeks.org/self-in-python-class/):  By using the “self” keyword we can access the attributes and methods of the class in python. It binds the attributes with the given arguments. self is parameter in function and user can use another parameter name in place of it."
   ],
   "cell_type": "markdown",
   "metadata": {}
  },
  {
   "source": [
    "**Example 1**\n",
    "\n",
    "define a Class"
   ],
   "cell_type": "markdown",
   "metadata": {}
  },
  {
   "cell_type": "code",
   "execution_count": 61,
   "metadata": {},
   "outputs": [],
   "source": [
    "class Car():\n",
    "    marca = \"Auidi\"\n",
    "    largo = 250\n",
    "    ancho = 150\n",
    "    placa = \"AB3X\"\n",
    "    Estado = True\n",
    "    def cahge_estado(self, estado):\n",
    "        self.Estado = estado\n",
    "        return self.Estado \n",
    "    def resume(self):\n",
    "        print(f\"marca: {auto.marca}, ancho: {auto.ancho},  Estado: {auto.Estado}\")\n",
    "auto = Car()\n",
    "auto_2 = Car()"
   ]
  },
  {
   "source": [
    "### Access to atributtes and methods."
   ],
   "cell_type": "markdown",
   "metadata": {}
  },
  {
   "cell_type": "code",
   "execution_count": 62,
   "metadata": {},
   "outputs": [
    {
     "output_type": "stream",
     "name": "stdout",
     "text": [
      "marca: Auidi, ancho: 150,  Estado: False\n"
     ]
    }
   ],
   "source": [
    "auto.cahge_estado(False)\n",
    "\n",
    "auto.resume()\n"
   ]
  },
  {
   "source": [
    "### Compare"
   ],
   "cell_type": "markdown",
   "metadata": {}
  },
  {
   "source": [
    "auto.cahge_estado(True)\n",
    "\n",
    "auto_2.resume()"
   ],
   "cell_type": "code",
   "metadata": {},
   "execution_count": 101,
   "outputs": [
    {
     "output_type": "stream",
     "name": "stdout",
     "text": [
      "marca: Auidi, ancho: 150,  Estado: True\n"
     ]
    }
   ]
  },
  {
   "source": [
    "## **Constructor**\n",
    "\n",
    "**[Init](https://www.tutorialspoint.com/What-is-difference-between-self-and-init-methods-in-python-Class#:~:text=__init__%20method,the%20attributes%20of%20the%20class.)**: This method is called when an object is created from a class and it allows the class to initialize the attributes of the class.\n",
    "\n",
    "**Example 2**\n",
    "\n",
    "Use the  __init__ method"
   ],
   "cell_type": "markdown",
   "metadata": {}
  },
  {
   "source": [
    "class Laptop():\n",
    "    def __init__(self, name, processor, gpu, ram):\n",
    "        self.name = name\n",
    "        self.processor = processor\n",
    "        self.gpu = gpu\n",
    "        self.ram = ram \n",
    "    def resume(self):\n",
    "            return f\"The laptop {self.name}, the processor is {self.processor}, the GPU: {self.gpu} and the ram is {self.ram}.\"\n",
    "\n",
    "lap1 = Laptop(\"ASUS\",\"Intel\",\"GEFORCE_RTX_3070\",\"8GB\")\n",
    "lap2 = Laptop(\"Lenovo\",\"Intel\",\"GEFORCE_RTX_3070\",\"8GB\")"
   ],
   "cell_type": "code",
   "metadata": {},
   "execution_count": 200,
   "outputs": []
  },
  {
   "cell_type": "code",
   "execution_count": 201,
   "metadata": {},
   "outputs": [
    {
     "output_type": "stream",
     "name": "stdout",
     "text": [
      "The laptop ASUS, the processor is Intel, the GPU: GEFORCE_RTX_3070 and the ram is 8GB.\nThe laptop Lenovo, the processor is Intel, the GPU: GEFORCE_RTX_3070 and the ram is 8GB.\n"
     ]
    }
   ],
   "source": [
    "print(f\"{lap1.resume()}\\n{lap2.resume()}\")"
   ]
  },
  {
   "source": [
    " ## **Encapsulate**\n",
    " you can restrict access to methods and variables. This can prevent the data from being modified by accident and is known as encapsulation."
   ],
   "cell_type": "markdown",
   "metadata": {}
  },
  {
   "source": [
    "class Student():\n",
    "    def __init__(self, name, surname, id, carrear):\n",
    "        self.__name = name\n",
    "        self.__surname = surname\n",
    "        self.__id = id\n",
    "        self.__carrear = carrear\n",
    "    def resume(self):\n",
    "        return f\"the name: {self.__name}, the surname: {self.__surname}, the id: {self.__id} and the carrear: {self.__carrear}\"\n",
    "student1 = Student(\"Alexander\", \"Lique\", \"20192196K\", \"computer science\")"
   ],
   "cell_type": "code",
   "metadata": {},
   "execution_count": 7,
   "outputs": []
  },
  {
   "cell_type": "code",
   "execution_count": 8,
   "metadata": {},
   "outputs": [
    {
     "output_type": "execute_result",
     "data": {
      "text/plain": [
       "'the name: Alexander, the surname: Lique, the id: 20192196K and the carrear: computer science'"
      ]
     },
     "metadata": {},
     "execution_count": 8
    }
   ],
   "source": [
    "student1.resume()\n",
    "student1.__name = \"R\"\n",
    "student1.resume()"
   ]
  },
  {
   "cell_type": "code",
   "execution_count": 170,
   "metadata": {},
   "outputs": [],
   "source": [
    "save = lap1.__str__()"
   ]
  },
  {
   "source": [
    "## **Special methods**\n",
    "---\n",
    "\n",
    "Python has\n",
    "Multiple special predefined methods in your classes and you can easily recognize as they have two underscores _ _method_ _ ()"
   ],
   "cell_type": "markdown",
   "metadata": {}
  },
  {
   "source": [
    "### **del**\n",
    "\n",
    "The __del__() method is a known as a destructor method in Python. It is called when all references to the object have been deleted i.e when an object is garbage collected.\n",
    "\n",
    "### **str**\n",
    "\n",
    "This method is applied when the object is called to display, in other words this is a representative string of the class.\n"
   ],
   "cell_type": "markdown",
   "metadata": {}
  },
  {
   "cell_type": "code",
   "execution_count": 166,
   "metadata": {},
   "outputs": [],
   "source": [
    "class Laptop():\n",
    "    def __init__(self, name=\"Asus\", processor=\"Intel\", gpu=\"GEFORCE_RTX_3070\", ram=\"8GB\"):\n",
    "        self.name = name\n",
    "        self.processor = processor\n",
    "        self.gpu = gpu\n",
    "        self.ram = ram \n",
    "    def __str__(self):\n",
    "            return f\"The laptop {self.name}, the processor is {self.processor}, the GPU: {self.gpu} and the ram is {self.ram}.\"\n",
    "    def __del__(self):\n",
    "        print(f\"Delete the objetc:  {self.__str__()}\")"
   ]
  },
  {
   "cell_type": "code",
   "execution_count": 167,
   "metadata": {},
   "outputs": [
    {
     "output_type": "stream",
     "name": "stdout",
     "text": [
      "Delete the objetc:  The laptop Asus, the processor is Intel, the GPU: GEFORCE_RTX_3070 and the ram is 8GB.\n"
     ]
    }
   ],
   "source": [
    "if __name__ == \"__main__\":\n",
    "    lap3 = Laptop()\n",
    "    lap3 = Laptop(\"Asus\",\"Ryzen\",\"GEFORCE_RTX_3070\",\"16GB\")"
   ]
  },
  {
   "source": [
    "**Compare lap1 and lap3**"
   ],
   "cell_type": "markdown",
   "metadata": {}
  },
  {
   "cell_type": "code",
   "execution_count": 168,
   "metadata": {},
   "outputs": [
    {
     "output_type": "stream",
     "name": "stdout",
     "text": [
      "The laptop Asus, the processor is Ryzen, the GPU: GEFORCE_RTX_3070 and the ram is 16GB.\n"
     ]
    }
   ],
   "source": [
    "print(lap3)"
   ]
  },
  {
   "cell_type": "code",
   "execution_count": 171,
   "metadata": {},
   "outputs": [
    {
     "output_type": "stream",
     "name": "stdout",
     "text": [
      "<__main__.Laptop object at 0x7efc63e8a250>\n"
     ]
    }
   ],
   "source": [
    "print(save)"
   ]
  },
  {
   "source": [
    "### [len](https://docs.python.org/3/reference/datamodel.html#special-method-names):\n",
    "\n",
    "Called to implement the built-in function len(). Should return the length of the object, an integer >= 0. Also, an object that doesn’t define a __bool__() method and whose __len__() method returns zero is considered to be false in a Boolean context.\n",
    "\n",
    "\n",
    "### [getitem](https://www.geeksforgeeks.org/__getitem__-in-python/#:~:text=The%20__getitem__%20magic,Python's%20most%20underutilized%20magic%20methods.):\n",
    "The __getitem__ method is usually used for list indexing, dictionary lookup, or accessing ranges of values. Considering how versatile it is, it’s probably one of Python’s most underutilized magic methods. \n",
    "\n",
    "### [repr](https://www.journaldev.com/22460/python-str-repr-functions):\n",
    "function returns the object representation in string format."
   ],
   "cell_type": "markdown",
   "metadata": {}
  },
  {
   "cell_type": "code",
   "execution_count": 212,
   "metadata": {},
   "outputs": [],
   "source": [
    "class DataSet():\n",
    "    def __init__(self, data):\n",
    "        self.data = data\n",
    "    def __len__(self):\n",
    "        return len(self.data)\n",
    "    def __getitem__(self, item):\n",
    "        return type(self.data),item, self.data[item]\n",
    "    def __repr__(self):\n",
    "        return f\"Data(data = {self.data})\"\n",
    "    def __setitem__(self, item, value):\n",
    "        self.data[item] = value\n",
    "\n",
    "data = ['image1.jpg','imag2.jpg','image3.jpg','img4.jpg']\n",
    "\n",
    "d = DataSet(data)\n"
   ]
  },
  {
   "cell_type": "code",
   "execution_count": 213,
   "metadata": {},
   "outputs": [
    {
     "output_type": "execute_result",
     "data": {
      "text/plain": [
       "4"
      ]
     },
     "metadata": {},
     "execution_count": 213
    }
   ],
   "source": [
    "len(d)"
   ]
  },
  {
   "cell_type": "code",
   "execution_count": 214,
   "metadata": {},
   "outputs": [
    {
     "output_type": "stream",
     "name": "stdout",
     "text": [
      "(<class 'list'>, 0, 'image1.jpg')\n(<class 'list'>, slice(None, None, None), ['image1.jpg', 'imag2.jpg', 'image3.jpg', 'img4.jpg'])\n"
     ]
    }
   ],
   "source": [
    "print(f\"{d[0]}\\n{d[::]}\")"
   ]
  },
  {
   "cell_type": "code",
   "execution_count": 215,
   "metadata": {},
   "outputs": [
    {
     "output_type": "execute_result",
     "data": {
      "text/plain": [
       "Data(data = ['image1.jpg', 'imag2.jpg', 'image3.jpg', 'img4.jpg'])"
      ]
     },
     "metadata": {},
     "execution_count": 215
    }
   ],
   "source": [
    "d"
   ]
  },
  {
   "cell_type": "code",
   "execution_count": 216,
   "metadata": {},
   "outputs": [
    {
     "output_type": "execute_result",
     "data": {
      "text/plain": [
       "Data(data = ['image5.jpg', 'imag2.jpg', 'image3.jpg', 'img4.jpg'])"
      ]
     },
     "metadata": {},
     "execution_count": 216
    }
   ],
   "source": [
    "d[0] = \"image5.jpg\"\n",
    "\n",
    "d"
   ]
  },
  {
   "source": [
    "## **Inheritance**\n",
    "\n",
    "Inheritance is an object-oriented programming mechanism used to create new classes from existing classes. Attributes and behaviors are taken (inherited) from old classes and modified to model a new situation."
   ],
   "cell_type": "markdown",
   "metadata": {}
  },
  {
   "source": [
    "class Human():\n",
    "    def __init__(self, name, \n",
    "                 years, sex, id):\n",
    "        self.name = name\n",
    "        self.years = years\n",
    "        self.sex = sex\n",
    "        self.id = id\n",
    "    def __str__(self):\n",
    "        return \"I'm {}\".format(self.name)\n",
    "    def __repr__(self):\n",
    "        return \"My name is {}, I have {} years and my DNI is {}\".format(self.name,self.years,self.id)\n",
    "    def edad(self):\n",
    "        return self.years\n",
    "Human(\"Alexander\", 20, \"M\", 75359501)"
   ],
   "cell_type": "code",
   "metadata": {},
   "execution_count": 21,
   "outputs": [
    {
     "output_type": "execute_result",
     "data": {
      "text/plain": [
       "My name is Alexander, I have 20 years and my DNI is 75359501"
      ]
     },
     "metadata": {},
     "execution_count": 21
    }
   ]
  },
  {
   "cell_type": "code",
   "execution_count": 22,
   "metadata": {},
   "outputs": [
    {
     "output_type": "execute_result",
     "data": {
      "text/plain": [
       "My name is Alexander, I have 20 years and my DNI is 75359501"
      ]
     },
     "metadata": {},
     "execution_count": 22
    }
   ],
   "source": [
    "class Empleado(Human):\n",
    "    def __init__(self, name, years, \n",
    "        sex, id, specialization, salary):\n",
    "        super(Empleado, self).__init__(name, years, sex, id)\n",
    "        self.specialization = specialization\n",
    "        self.salary = salary\n",
    "    \n",
    "    def __str__(self):\n",
    "        return \"I am {} and my specialization is {} \".format(\n",
    "            self.name, self.specialization)\n",
    "\n",
    "\n",
    "Empleado(\"Alexander\", 20, \"sex\", 75359501, \"Deep Learning Engineer\", 2500)"
   ]
  },
  {
   "source": [
    "You can see Employee Inheritance the \"age\" methods"
   ],
   "cell_type": "markdown",
   "metadata": {}
  },
  {
   "cell_type": "code",
   "execution_count": 23,
   "metadata": {},
   "outputs": [
    {
     "output_type": "execute_result",
     "data": {
      "text/plain": [
       "20"
      ]
     },
     "metadata": {},
     "execution_count": 23
    }
   ],
   "source": [
    "e1 = Empleado(\"Alexander\", 20, \"sex\", 75359501, \"Deep Learning Engineer\", 2500)\n",
    "e1.edad()"
   ]
  },
  {
   "source": [
    "## **Polymorphism**\n",
    "\n",
    "The OOP polymorphism technique means the ability to take on more than one shape. An operation can exhibit different behaviors in different instances"
   ],
   "cell_type": "markdown",
   "metadata": {}
  },
  {
   "cell_type": "code",
   "execution_count": 37,
   "metadata": {},
   "outputs": [
    {
     "output_type": "stream",
     "name": "stdout",
     "text": [
      "la velocidad es: 30km/h\n"
     ]
    }
   ],
   "source": [
    "class Vehiculo():\n",
    "    def __init__(self, velocidad):\n",
    "        self.velocidad = velocidad\n",
    "\n",
    "    def __str__(self):\n",
    "        return \"\"\n",
    "\n",
    "\n",
    "class Coche(Vehiculo):\n",
    "    def __init__(self, velocidad):\n",
    "        super(Coche, self).__init__(velocidad)\n",
    "    \n",
    "    def  __str__(self):\n",
    "        return f\"la velocidad es: {self.velocidad}\"\n",
    "\n",
    "class Camion(Vehiculo):\n",
    "    def __init__(self, velocidad):\n",
    "        super(Camion, self).__init__(velocidad)\n",
    "    \n",
    "    def  __str__(self):\n",
    "        return f\"la velocidad es: {self.velocidad}\"    \n",
    "\n",
    "def velocidad_vehiculo(Vehiculo):\n",
    "    print(Vehiculo)\n",
    "\n",
    "mi_vehiculo = Camion(\"30km/h\")\n",
    "\n",
    "mi_segundo_vehiculo = Coche(\"50km\")\n",
    "\n",
    "velocidad_vehiculo(mi_vehiculo)"
   ]
  },
  {
   "cell_type": "code",
   "execution_count": 36,
   "metadata": {},
   "outputs": [
    {
     "output_type": "stream",
     "name": "stdout",
     "text": [
      "la velocidad es: 50km\n"
     ]
    }
   ],
   "source": [
    "velocidad_vehiculo(mi_segundo_vehiculo)"
   ]
  },
  {
   "source": [
    "## **Funciones Lambda**\n",
    "\n",
    "This is an anonymous function that in Python makes it easier to simplify fractions, however, if you use the conditional loop, it is not recommended to use this.\n",
    "This function does not need to be declared as a conventional function because it just needs in a specific place."
   ],
   "cell_type": "markdown",
   "metadata": {}
  },
  {
   "source": [
    "**Example 1**"
   ],
   "cell_type": "markdown",
   "metadata": {}
  },
  {
   "cell_type": "code",
   "execution_count": 3,
   "metadata": {},
   "outputs": [
    {
     "output_type": "execute_result",
     "data": {
      "text/plain": [
       "7.5"
      ]
     },
     "metadata": {},
     "execution_count": 3
    }
   ],
   "source": [
    "area_triangulo = lambda base, altura: (base*altura)/2\n",
    "area_triangulo(3,5)"
   ]
  },
  {
   "source": [
    "**Example 2**"
   ],
   "cell_type": "markdown",
   "metadata": {}
  },
  {
   "cell_type": "code",
   "execution_count": 20,
   "metadata": {},
   "outputs": [
    {
     "output_type": "execute_result",
     "data": {
      "text/plain": [
       "True"
      ]
     },
     "metadata": {},
     "execution_count": 20
    }
   ],
   "source": [
    "impar = lambda num: num%2 != 0"
   ]
  },
  {
   "source": [
    "**Example 3**"
   ],
   "cell_type": "markdown",
   "metadata": {}
  },
  {
   "cell_type": "code",
   "execution_count": 22,
   "metadata": {},
   "outputs": [
    {
     "output_type": "execute_result",
     "data": {
      "text/plain": [
       "[4, 2, 1]"
      ]
     },
     "metadata": {},
     "execution_count": 22
    }
   ],
   "source": [
    "reverse  = lambda cadena: cadena[::-1]"
   ]
  },
  {
   "source": [
    "**Example 4**"
   ],
   "cell_type": "markdown",
   "metadata": {}
  },
  {
   "source": [
    "a = [1, 2, 4, 7]\n",
    "s = list(map(lambda x : x ** 2, a))\n",
    "print(s)"
   ],
   "cell_type": "code",
   "metadata": {},
   "execution_count": 52,
   "outputs": [
    {
     "output_type": "stream",
     "name": "stdout",
     "text": [
      "[1, 4, 16, 49]\n"
     ]
    }
   ]
  },
  {
   "source": [
    "**Example 5**"
   ],
   "cell_type": "markdown",
   "metadata": {}
  },
  {
   "source": [
    "high_ord_func = lambda x, func: x + func(x)\n",
    "high_ord_func(4, lambda x: x**2 * x+x)"
   ],
   "cell_type": "code",
   "metadata": {},
   "execution_count": 10,
   "outputs": [
    {
     "output_type": "execute_result",
     "data": {
      "text/plain": [
       "72"
      ]
     },
     "metadata": {},
     "execution_count": 10
    }
   ]
  },
  {
   "source": [
    "**Save lambda function in a tuple**"
   ],
   "cell_type": "markdown",
   "metadata": {}
  },
  {
   "source": [
    "<font color=\"red\">\n",
    "Sigmoid Activaction Function\n",
    "<center>\n",
    "<img src =\"https://user-images.githubusercontent.com/12709287/30514320-5c0ba90e-9b4d-11e7-8ec4-1cd5c13db681.png\" height=\"40%\" width=\"40%\"> "
   ],
   "cell_type": "markdown",
   "metadata": {}
  },
  {
   "cell_type": "code",
   "execution_count": 40,
   "metadata": {},
   "outputs": [
    {
     "output_type": "execute_result",
     "data": {
      "text/plain": [
       "array([0.73105858, 0.88079708, 0.95257413, 0.98201379])"
      ]
     },
     "metadata": {},
     "execution_count": 40
    }
   ],
   "source": [
    "import numpy as np\n",
    "\n",
    "sigmoide  =  (lambda x: 1/(1+np.e**(-x)),\n",
    "              lambda x: x*(1-x))\n",
    "              \n",
    "x = np.array([1,2,3,4])\n",
    "sigmoide[0](x)"
   ]
  },
  {
   "cell_type": "code",
   "execution_count": 50,
   "metadata": {},
   "outputs": [
    {
     "output_type": "execute_result",
     "data": {
      "text/plain": [
       "array([0.19661193, 0.10499359, 0.04517666, 0.01766271])"
      ]
     },
     "metadata": {},
     "execution_count": 50
    }
   ],
   "source": [
    "sigmoide[1](sigmoide[0](x))"
   ]
  },
  {
   "source": [
    "The [map](https://www.w3schools.com/python/ref_func_map.asp) function executes a specified function for each item in an iterable. The item is sent to the function as a parameter."
   ],
   "cell_type": "markdown",
   "metadata": {}
  },
  {
   "cell_type": "code",
   "execution_count": 55,
   "metadata": {},
   "outputs": [
    {
     "output_type": "stream",
     "name": "stdout",
     "text": [
      "[0.7310585786300049, 0]\n[0.8807970779778823, -2]\n[0.9525741268224331, -6]\n[0.9820137900379085, -12]\n"
     ]
    }
   ],
   "source": [
    "valores = []\n",
    "for e in x:\n",
    "    valores=(list(map(lambda x: x(e),sigmoide)))\n",
    "    print(valores)"
   ]
  },
  {
   "cell_type": "code",
   "execution_count": 48,
   "metadata": {},
   "outputs": [
    {
     "output_type": "execute_result",
     "data": {
      "text/plain": [
       "'My model have 2000000 of parameters'"
      ]
     },
     "metadata": {},
     "execution_count": 48
    }
   ],
   "source": [
    "message = lambda parameters : \"My model have {} of parameters\".format(parameters)\n",
    "message(2000000)"
   ]
  },
  {
   "source": [
    "<font color=\"GREEN\">\n",
    "Relu Activaction Function\n",
    "<center>\n",
    "<img src =\"https://miro.medium.com/max/754/1*3JUMOqugWKB2SDra6x6v0A.png\" width=\"30%\" height=\"30%\">"
   ],
   "cell_type": "markdown",
   "metadata": {}
  },
  {
   "cell_type": "code",
   "execution_count": 8,
   "metadata": {},
   "outputs": [
    {
     "output_type": "execute_result",
     "data": {
      "text/plain": [
       "array([0, 2, 0, 4])"
      ]
     },
     "metadata": {},
     "execution_count": 8
    }
   ],
   "source": [
    "relu = lambda x: np.maximum(0, x)\n",
    "\n",
    "x = np.array([-1,2,-3,4])\n",
    "\n",
    "relu(x)"
   ]
  },
  {
   "source": [
    "<font color=\"Blue\">\n",
    "hyperbolic tangent\n",
    "<center>\n",
    "<img src=\"https://paperswithcode.com/media/methods/Screen_Shot_2020-05-27_at_4.23.22_PM_dcuMBJl.png\" height=\"30%\" width=\"40%\">"
   ],
   "cell_type": "markdown",
   "metadata": {}
  },
  {
   "cell_type": "code",
   "execution_count": 44,
   "metadata": {},
   "outputs": [
    {
     "output_type": "execute_result",
     "data": {
      "text/plain": [
       "array([ 2.71828183,  7.3890561 , 20.08553692, 54.59815003])"
      ]
     },
     "metadata": {},
     "execution_count": 44
    }
   ],
   "source": [
    "tanh = lambda x: (np.e**(x)-np.e**(-x))/(np.e**(-x)+np.e**(x))\n",
    "\n",
    "x = np.array([1,2,3,4])\n",
    "\n",
    "tanh(x)"
   ]
  }
 ]
}
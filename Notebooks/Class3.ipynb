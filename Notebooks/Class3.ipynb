{
 "metadata": {
  "language_info": {
   "codemirror_mode": {
    "name": "ipython",
    "version": 3
   },
   "file_extension": ".py",
   "mimetype": "text/x-python",
   "name": "python",
   "nbconvert_exporter": "python",
   "pygments_lexer": "ipython3",
   "version": "3.7.6-final"
  },
  "orig_nbformat": 2,
  "kernelspec": {
   "name": "python37664bitenvvenv21fe8ca208ed41e988733c4ab5dda3b2",
   "display_name": "Python 3.7.6 64-bit ('env': venv)",
   "language": "python"
  }
 },
 "nbformat": 4,
 "nbformat_minor": 2,
 "cells": [
  {
   "source": [
    "# ***Python for ML/DL***\n",
    "---\n",
    "<center>\n",
    "<img src=\"https://ehackz.com/wp-content/uploads/2018/02/Python.jpg\" height = \"40%\" width = \"60%\">"
   ],
   "cell_type": "markdown",
   "metadata": {}
  },
  {
   "source": [
    "## **File handling**\n",
    "---\n",
    "Until now we design programs where when the program closes we lose all the information used at that time. For this reason, with file management we look for how to store this information provided when executing the program and then reuse it. An example of this in the field of deep learning, where we want to save the information of the weights after training or in the use of machine learning where we want to read the structured data.\n",
    "\n",
    "<center>\n",
    "<img src=\"https://miro.medium.com/max/960/1*VO63z5PHBP1E9oCXdUD_3A.jpeg\" heigth=\"50%\"  width=\"50%\">"
   ],
   "cell_type": "markdown",
   "metadata": {}
  },
  {
   "source": [
    "## **[Open Files](https://medium.com/edureka/file-handling-in-python-e0a6ff96ede9)** \n",
    "---\n",
    "We will use the function **open** that return an file object.\n",
    "\n",
    "**Variable = open(\"path\",mode)**\n",
    "\n",
    "- with **path** we mean the location of the file by default if you type the name, the  function assumes that the file exists in the directory where you currently work.\n",
    "\n",
    "- with **mode** we specify the type of action for example read,write or add. \n",
    "    \n",
    "    - **r** :  Read mode which is used when the file is only being read.\n",
    "\n",
    "    - **w** : Write mode which is used to edit and write new information to the file.\n",
    "    \n",
    "    - **a** :  Appending mode, which is used to add new data to the end of the file.\n",
    "    \n",
    "    - **r+**: Special read and write mode, which is used to handle both actions when working                with a file.\n"
   ],
   "cell_type": "markdown",
   "metadata": {}
  },
  {
   "source": [
    "**Aplication**\n",
    "\n",
    " Write a txt with open function\n",
    "\n",
    "Note:\n",
    "\n",
    "- Write: Write an specific text in the file and depende where mode use(\"a\"/\"w\"). \n",
    "\n",
    "- Close: With the close method we close a file object and no operation that requires the open file will return an error"
   ],
   "cell_type": "markdown",
   "metadata": {}
  },
  {
   "source": [
    "file = open(\"../src/train.txt\", \"w\")\n",
    "file.write(\"============== Trainig Loss ===============\")\n",
    "file.close()"
   ],
   "cell_type": "code",
   "metadata": {},
   "execution_count": 41,
   "outputs": []
  },
  {
   "source": [
    "**Example 2**\n",
    "\n",
    "Use the loops and write any loss function in a txt.\n",
    "\n",
    "Note:\n",
    "\n",
    "- If you lear about the **binary crossentropy** you would see [here](https://towardsdatascience.com/understanding-binary-cross-entropy-log-loss-a-visual-explanation-a3ac6025181a)\n",
    "\n",
    "<center>\n",
    "<img src=\"../src/crossontropy.png\" height=\"50%\" width=\"50%\">"
   ],
   "cell_type": "markdown",
   "metadata": {}
  },
  {
   "cell_type": "code",
   "execution_count": 42,
   "metadata": {},
   "outputs": [],
   "source": [
    "import numpy as np\n",
    "\n",
    "Y = np.array([[0, 0, 1, 0], [0, 0, 0, 1], [1, 0, 0, 0], [0, 0, 0, 1]])\n",
    "\n",
    "Y_hat = np.array(\n",
    "    [\n",
    "        [0.01, 0.005, 0.8, 0.005],\n",
    "        [0.01, 0.08, 0.01, 0.9],\n",
    "        [0.9, 0.01, 0.02, 0.07],\n",
    "        [0.001, 0.001, 0.08, 0.9],\n",
    "    ]\n",
    ")\n",
    "\n",
    "\n",
    "def binary_crossentropy(Y, Y_hat):\n",
    "    n = len(Y)\n",
    "    return (-1 / n) * np.sum(\n",
    "        np.multiply(Y, np.log(Y_hat)) + np.multiply((1 - Y), np.log(1 - Y_hat)), axis=1\n",
    "    )\n",
    "\n",
    "\n",
    "loss = binary_crossentropy(Y, Y_hat)\n",
    "\n",
    "for l in loss:\n",
    "    file = open(\"../src/train.txt\", \"a\")\n",
    "    file.write(f\"\\nloss: {l}\")\n",
    "file.close()\n"
   ]
  },
  {
   "source": [
    "**Example 3**\n",
    "\n",
    "Use the previously created txt and read this."
   ],
   "cell_type": "markdown",
   "metadata": {}
  },
  {
   "cell_type": "code",
   "execution_count": 43,
   "metadata": {},
   "outputs": [
    {
     "output_type": "stream",
     "name": "stdout",
     "text": [
      "============== Trainig Loss ===============\nloss: 0.060804742703699934\nloss: 0.05221069907597005\nloss: 0.05204606291592068\nloss: 0.04768578131601109\n"
     ]
    }
   ],
   "source": [
    "file = open(\"../src/train.txt\", \"r\")\n",
    "texto = file.read()\n",
    "file.close()\n",
    "print(texto)"
   ]
  },
  {
   "cell_type": "code",
   "execution_count": 44,
   "metadata": {},
   "outputs": [
    {
     "output_type": "execute_result",
     "data": {
      "text/plain": [
       "'============== Trainig Loss ===============\\nloss: 0.060804742703699934\\nloss: 0.05221069907597005\\nloss: 0.05204606291592068\\nloss: 0.04768578131601109'"
      ]
     },
     "metadata": {},
     "execution_count": 44
    }
   ],
   "source": [
    "texto"
   ]
  },
  {
   "source": [
    "Use a file iterators for print the txt"
   ],
   "cell_type": "markdown",
   "metadata": {}
  },
  {
   "cell_type": "code",
   "execution_count": 57,
   "metadata": {},
   "outputs": [
    {
     "output_type": "stream",
     "name": "stdout",
     "text": [
      "============== Trainig Loss ===============\nloss: 0.060804742703699934\nloss: 0.05221069907597005\nloss: 0.05204606291592068\nloss: 0.04768578131601109"
     ]
    }
   ],
   "source": [
    "for text in open(\"../src/train.txt\", \"r\"):\n",
    "    print(text,end=\"\")"
   ]
  },
  {
   "source": [
    "compare the **read()** method with the **readlines()**\n",
    "\n",
    "- [read](https://www.w3schools.com/python/ref_file_read.asp): This method reads everything at once in a string while not specifying where the star is.\n",
    "\n",
    "- [readline](https://www.w3schools.com/python/ref_file_readline.asp): This method return one line from the film. "
   ],
   "cell_type": "markdown",
   "metadata": {}
  },
  {
   "cell_type": "code",
   "execution_count": 31,
   "metadata": {},
   "outputs": [
    {
     "output_type": "stream",
     "name": "stdout",
     "text": [
      "============ Trainig Loss ===============\nloss: 0.05204606291592068\nloss: 0.6838625438227062\nloss: 0.04768578131601109\nloss: 0.060804742703699934"
     ]
    }
   ],
   "source": [
    "file = open(\"../src/train.txt\")\n",
    "\n",
    "linea = file.readline()\n",
    "\n",
    "count = 0\n",
    "\n",
    "while linea !='':\n",
    "    print(linea, end=\"\")\n",
    "    linea = file.readline()\n",
    "\n",
    "file.close()"
   ]
  },
  {
   "source": [
    "## **With**\n",
    "\n",
    "with is a context control system that is given as follows.\n",
    "\n",
    "with expression:\n",
    "\n",
    "      context_block\n",
    "    \n",
    "For our case, we will use in the use of files where this will open this and when all operations are carried out it will be closed automatically.\n",
    "\n",
    "Note:\n",
    "\n",
    "-     The context managers or context managers allow to allocate or release resources in an express way.\n",
    "\n",
    "-     Example of use with file, block, network connection."
   ],
   "cell_type": "markdown",
   "metadata": {}
  },
  {
   "source": [
    "**Use** one text of this [dataset](https://www.kaggle.com/sabermalek/iranian-traditional-music)"
   ],
   "cell_type": "markdown",
   "metadata": {}
  },
  {
   "cell_type": "code",
   "execution_count": 56,
   "metadata": {},
   "outputs": [
    {
     "output_type": "stream",
     "name": "stdout",
     "text": [
      "Abouata\n\n0\n\nAfshari\n\n1\n\nDashti\n\n2\n\nBayate Tork\n\n3\n\nBayate Esfahan\n\n4\n"
     ]
    }
   ],
   "source": [
    "with open(\"../src/class.txt\") as f:\n",
    "    l = f.readline()\n",
    "    while l:\n",
    "        print(f\"{l}\")\n",
    "        l  = f.readline()"
   ]
  },
  {
   "source": [
    "## **Json**\n",
    "\n",
    "The json module provides an easy way to encode and decode data in JSON. The two\n",
    "main functions are json.dumps() and json.loads() , mirroring the interface used in\n",
    "other serialization libraries, such as pickle . Here is how you turn a Python data struc‐\n",
    "ture into JSON"
   ],
   "cell_type": "markdown",
   "metadata": {}
  },
  {
   "cell_type": "code",
   "execution_count": 62,
   "metadata": {},
   "outputs": [],
   "source": [
    "import json\n",
    "\n",
    "with open(\"../src/intents.json\",\"r\") as f:\n",
    "    data = json.load(f)\n"
   ]
  },
  {
   "source": [
    "What kind of variable data are they?"
   ],
   "cell_type": "markdown",
   "metadata": {}
  },
  {
   "cell_type": "code",
   "execution_count": 64,
   "metadata": {},
   "outputs": [
    {
     "output_type": "execute_result",
     "data": {
      "text/plain": [
       "dict"
      ]
     },
     "metadata": {},
     "execution_count": 64
    }
   ],
   "source": [
    "type(data)"
   ]
  },
  {
   "cell_type": "code",
   "execution_count": 65,
   "metadata": {},
   "outputs": [
    {
     "output_type": "execute_result",
     "data": {
      "text/plain": [
       "{'intents': [{'tag': 'greeting',\n",
       "   'patterns': ['Hello', 'HYA', 'Hello there', 'Bonjour', 'Ciao', 'Hola'],\n",
       "   'responses': ['Welcome to my page.',\n",
       "    'I was not waiting visit , tell me What is is your query.',\n",
       "    'Ohayo goshujin sama, Tell me about your doubt , do not worry It is my pleasure read you.',\n",
       "    'Rimay tuikray.',\n",
       "    'Buenas digame cual es su consulta.']},\n",
       "  {'tag': 'goodbye',\n",
       "   'patterns': ['bye',\n",
       "    'see you later',\n",
       "    'Nos vemos',\n",
       "    'au revoir',\n",
       "    'Arrivederci'],\n",
       "   'responses': ['Bye for now',\n",
       "    'I am wainting for you',\n",
       "    'It is cheerless but I understand... bye,bye.',\n",
       "    'aaaaaa xd nos vemos.',\n",
       "    ':c']},\n",
       "  {'tag': 'thanks',\n",
       "   'patterns': ['Merci', 'thank you', 'thanks', 'Gracias'],\n",
       "   'responses': ['Agradecido con el de arriba',\n",
       "    'Do not worry , It is my pleasure',\n",
       "    'Yamete!!',\n",
       "    'Es un gusto ayudarte']},\n",
       "  {'tag': 'items',\n",
       "   'patterns': ['Wich items do you have?',\n",
       "    'What kinds of items  are there?',\n",
       "    'What do you sell?'],\n",
       "   'responses': ['mmm ... I do not sell anything',\n",
       "    'I am only bot!! Take it or leave you']},\n",
       "  {'tag': 'payments',\n",
       "   'patterns': ['Do you take a credit cards?',\n",
       "    'Do you accept Mastercard?',\n",
       "    'Can I pay with Paypal?',\n",
       "    'Are you cash only?'],\n",
       "   'responses': ['In this momento I do not accept moneys',\n",
       "    'Maybe need create a OnlyFans xddd']},\n",
       "  {'tag': 'funny',\n",
       "   'patterns': ['Dime una broma',\n",
       "    'Tell me something funny!',\n",
       "    'Do you know jokes?'],\n",
       "   'responses': ['I am afraid not.',\n",
       "    'mmmm...sorry xddd I can not make my mind',\n",
       "    'car turning right']}]}"
      ]
     },
     "metadata": {},
     "execution_count": 65
    }
   ],
   "source": [
    "data"
   ]
  }
 ]
}
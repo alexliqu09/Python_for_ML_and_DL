{
 "metadata": {
  "language_info": {
   "codemirror_mode": {
    "name": "ipython",
    "version": 3
   },
   "file_extension": ".py",
   "mimetype": "text/x-python",
   "name": "python",
   "nbconvert_exporter": "python",
   "pygments_lexer": "ipython3",
   "version": 3
  },
  "orig_nbformat": 2
 },
 "nbformat": 4,
 "nbformat_minor": 2,
 "cells": [
  {
   "source": [
    "# ***Python for ML/DL***\n",
    "---\n",
    "<center>\n",
    "<img src=\"https://ehackz.com/wp-content/uploads/2018/02/Python.jpg\" height = \"40%\" width = \"60%\">"
   ],
   "cell_type": "markdown",
   "metadata": {}
  },
  {
   "source": [
    "## **File handling**\n",
    "---\n",
    "Until now we design programs where when the program closes we lose all the information used at that time. For this reason, with file management we look for how to store this information provided when executing the program and then reuse it. An example of this in the field of deep learning, where we want to save the information of the weights after training or in the use of machine learning where we want to read the structured data."
   ],
   "cell_type": "markdown",
   "metadata": {}
  }
 ]
}
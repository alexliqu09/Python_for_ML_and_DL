{
 "metadata": {
  "language_info": {
   "codemirror_mode": {
    "name": "ipython",
    "version": 3
   },
   "file_extension": ".py",
   "mimetype": "text/x-python",
   "name": "python",
   "nbconvert_exporter": "python",
   "pygments_lexer": "ipython3",
   "version": "3.7.6-final"
  },
  "orig_nbformat": 2,
  "kernelspec": {
   "name": "python37664bitenvvenv21fe8ca208ed41e988733c4ab5dda3b2",
   "display_name": "Python 3.7.6 64-bit ('env': venv)",
   "language": "python"
  }
 },
 "nbformat": 4,
 "nbformat_minor": 2,
 "cells": [
  {
   "source": [
    "# ***Python for ML/DL***\n",
    "---\n",
    "<center>\n",
    "<img src=\"https://ehackz.com/wp-content/uploads/2018/02/Python.jpg\" height = \"40%\" width = \"60%\">"
   ],
   "cell_type": "markdown",
   "metadata": {}
  },
  {
   "source": [
    "## **File handling**\n",
    "---\n",
    "Until now we design programs where when the program closes we lose all the information used at that time. For this reason, with file management we look for how to store this information provided when executing the program and then reuse it. An example of this in the field of deep learning, where we want to save the information of the weights after training or in the use of machine learning where we want to read the structured data.\n",
    "\n",
    "<center>\n",
    "<img src=\"https://miro.medium.com/max/960/1*VO63z5PHBP1E9oCXdUD_3A.jpeg\" heigth=\"50%\"  width=\"50%\">"
   ],
   "cell_type": "markdown",
   "metadata": {}
  },
  {
   "source": [
    "## **[Open Files](https://medium.com/edureka/file-handling-in-python-e0a6ff96ede9)** \n",
    "---\n",
    "We will use the function **open** that return an file object.\n",
    "\n",
    "**Variable = open(\"path\",mode)**\n",
    "\n",
    "- with **path** we mean the location of the file by default if you type the name, the  function assumes that the file exists in the directory where you currently work.\n",
    "\n",
    "- with **mode** we specify the type of action for example read,write or add. \n",
    "    \n",
    "    - **r** :  Read mode which is used when the file is only being read.\n",
    "\n",
    "    - **w** : Write mode which is used to edit and write new information to the file.\n",
    "    \n",
    "    - **a** :  Appending mode, which is used to add new data to the end of the file.\n",
    "    \n",
    "    - **r+**: Special read and write mode, which is used to handle both actions when working                with a file.\n"
   ],
   "cell_type": "markdown",
   "metadata": {}
  },
  {
   "source": [
    "## **path**\n",
    "\n",
    "- Absolute path:  In this path indicate the address of a file including the root directory.\n",
    " \n",
    "- Relative path: The path from where you are at that moment is indicated. The root directory is not included.\n"
   ],
   "cell_type": "markdown",
   "metadata": {}
  },
  {
   "source": [
    "- Absolute path: /home/alex/Desktop/Python_for_ML_and_DL/src/datos.json\n",
    "\n",
    "- Relative path: ../src/datos.json"
   ],
   "cell_type": "markdown",
   "metadata": {}
  },
  {
   "source": [
    "<center>\n",
    "<img src=\"https://lcsistemasoperativos.files.wordpress.com/2015/02/directorios-jerc3a1rquicos.png\" height=\"60%\" width=\"60%\">"
   ],
   "cell_type": "markdown",
   "metadata": {}
  },
  {
   "source": [
    "**Example 1**\n",
    "\n",
    "Use the function open and write a text"
   ],
   "cell_type": "markdown",
   "metadata": {}
  },
  {
   "source": [
    "file = open(\"../src/train.txt\", \"w\")\n",
    "file.write(\"============== Trainig Loss ===============\")\n",
    "file.close()"
   ],
   "cell_type": "code",
   "metadata": {},
   "execution_count": 97,
   "outputs": []
  },
  {
   "source": [
    "**Example 2**\n",
    "\n",
    "Use the loops and write any loss function in a txt.\n",
    "\n",
    "Note:\n",
    "\n",
    "- If you lear about the **binary crossentropy** you would see [here](https://towardsdatascience.com/understanding-binary-cross-entropy-log-loss-a-visual-explanation-a3achttps://)\n",
    "\n",
    "<center>\n",
    "<img src=\"../src/crossontropy.png\" height=\"50%\" width=\"50%\">"
   ],
   "cell_type": "markdown",
   "metadata": {}
  },
  {
   "cell_type": "code",
   "execution_count": 98,
   "metadata": {},
   "outputs": [],
   "source": [
    "import numpy as np\n",
    "\n",
    "Y = np.array([[0, 0, 1, 0], [0, 0, 0, 1], [1, 0, 0, 0], [0, 0, 0, 1]])\n",
    "\n",
    "Y_hat = np.array(\n",
    "    [\n",
    "        [0.01, 0.005, 0.8, 0.005],\n",
    "        [0.01, 0.08, 0.01, 0.9],\n",
    "        [0.9, 0.01, 0.02, 0.07],\n",
    "        [0.001, 0.001, 0.08, 0.9],\n",
    "    ]\n",
    ")\n",
    "\n",
    "\n",
    "def binary_crossentropy(Y, Y_hat):\n",
    "    n = len(Y)\n",
    "    return (-1 / n) * np.sum(\n",
    "        np.multiply(Y, np.log(Y_hat)) + np.multiply((1 - Y), np.log(1 - Y_hat)), axis=1\n",
    "    )\n",
    "\n",
    "\n",
    "loss = binary_crossentropy(Y, Y_hat)\n",
    "\n",
    "for l in loss:\n",
    "    file = open(\"../src/train.txt\", \"a\")\n",
    "    file.write(f\"\\nloss: {l}\")\n",
    "file.close()\n"
   ]
  },
  {
   "source": [
    "**Example 3**\n",
    "\n",
    "Use the previously created txt and read this.\n",
    "\n",
    "- [read](https://www.w3schools.com/python/ref_file_read.asp): This method reads everything at once in a string while not specifying where the star is.\n"
   ],
   "cell_type": "markdown",
   "metadata": {}
  },
  {
   "cell_type": "code",
   "execution_count": 99,
   "metadata": {},
   "outputs": [
    {
     "output_type": "stream",
     "name": "stdout",
     "text": [
      "============== Trainig Loss ===============\nloss: 0.060804742703699934\nloss: 0.05221069907597005\nloss: 0.05204606291592068\nloss: 0.04768578131601109\n"
     ]
    }
   ],
   "source": [
    "file = open(\"../src/train.txt\", \"r\")\n",
    "texto = file.read()\n",
    "file.close()\n",
    "print(texto)"
   ]
  },
  {
   "cell_type": "code",
   "execution_count": 44,
   "metadata": {},
   "outputs": [
    {
     "output_type": "execute_result",
     "data": {
      "text/plain": [
       "'============== Trainig Loss ===============\\nloss: 0.060804742703699934\\nloss: 0.05221069907597005\\nloss: 0.05204606291592068\\nloss: 0.04768578131601109'"
      ]
     },
     "metadata": {},
     "execution_count": 44
    }
   ],
   "source": [
    "texto"
   ]
  },
  {
   "source": [
    "Use a file iterators for print the txt"
   ],
   "cell_type": "markdown",
   "metadata": {}
  },
  {
   "cell_type": "code",
   "execution_count": 109,
   "metadata": {},
   "outputs": [
    {
     "output_type": "stream",
     "name": "stdout",
     "text": [
      "| ============== Trainig Loss ===============\n| loss: 0.060804742703699934\n| loss: 0.05221069907597005\n| loss: 0.05204606291592068\n| loss: 0.04768578131601109"
     ]
    }
   ],
   "source": [
    "for text in open(\"../src/train.txt\", \"r\"):\n",
    "    print(\"|\",text,end=\"\")"
   ]
  },
  {
   "cell_type": "code",
   "execution_count": 104,
   "metadata": {},
   "outputs": [
    {
     "output_type": "stream",
     "name": "stdout",
     "text": [
      "| =| =| =| =| =| =| =| =| =| =| =| =| =| =|  | T| r| a| i| n| i| g|  | L| o| s| s|  | =| =| =| =| =| =| =| =| =| =| =| =| =| =| =| \n| l| o| s| s| :|  | 0| .| 0| 6| 0| 8| 0| 4| 7| 4| 2| 7| 0| 3| 6| 9| 9| 9| 3| 4| \n| l| o| s| s| :|  | 0| .| 0| 5| 2| 2| 1| 0| 6| 9| 9| 0| 7| 5| 9| 7| 0| 0| 5| \n| l| o| s| s| :|  | 0| .| 0| 5| 2| 0| 4| 6| 0| 6| 2| 9| 1| 5| 9| 2| 0| 6| 8| \n| l| o| s| s| :|  | 0| .| 0| 4| 7| 6| 8| 5| 7| 8| 1| 3| 1| 6| 0| 1| 1| 0| 9"
     ]
    }
   ],
   "source": [
    "for text in open(\"../src/train.txt\", \"r\").read():\n",
    "    print(\"|\",text,end=\"\")"
   ]
  },
  {
   "source": [
    "compare the **read()** method with the **readlines()**\n",
    "\n",
    "- [readline](https://www.w3schools.com/python/ref_file_readline.asp): This method return one line from the film. "
   ],
   "cell_type": "markdown",
   "metadata": {}
  },
  {
   "cell_type": "code",
   "execution_count": 31,
   "metadata": {},
   "outputs": [
    {
     "output_type": "stream",
     "name": "stdout",
     "text": [
      "============ Trainig Loss ===============\nloss: 0.05204606291592068\nloss: 0.6838625438227062\nloss: 0.04768578131601109\nloss: 0.060804742703699934"
     ]
    }
   ],
   "source": [
    "file = open(\"../src/train.txt\")\n",
    "\n",
    "linea = file.readline()\n",
    "\n",
    "count = 0\n",
    "\n",
    "while linea !='':\n",
    "    print(linea, end=\"\")\n",
    "    linea = file.readline()\n",
    "\n",
    "file.close()"
   ]
  },
  {
   "source": [
    "## **With**\n",
    "\n",
    "with is a context control system that is given as follows.\n",
    "\n",
    "with expression:\n",
    "\n",
    "      context_block\n",
    "    \n",
    "For our case, we will use in the use of files where this will open this and when all operations are carried out it will be closed automatically.\n",
    "\n",
    "Note:\n",
    "\n",
    "-     The context managers or context managers allow to allocate or release resources in an express way.\n",
    "\n",
    "-     Example of use with file, block, network connection."
   ],
   "cell_type": "markdown",
   "metadata": {}
  },
  {
   "source": [
    "**Use** one text of this [dataset](https://www.kaggle.com/sabermalek/iranian-traditional-music)"
   ],
   "cell_type": "markdown",
   "metadata": {}
  },
  {
   "cell_type": "code",
   "execution_count": 56,
   "metadata": {},
   "outputs": [
    {
     "output_type": "stream",
     "name": "stdout",
     "text": [
      "Abouata\n\n0\n\nAfshari\n\n1\n\nDashti\n\n2\n\nBayate Tork\n\n3\n\nBayate Esfahan\n\n4\n"
     ]
    }
   ],
   "source": [
    "with open(\"../src/class.txt\") as f:\n",
    "    l = f.readline()\n",
    "    while l:\n",
    "        print(f\"{l}\")\n",
    "        l  = f.readline()"
   ]
  },
  {
   "source": [
    "## **Json**\n",
    "\n",
    "The json module provides an easy way to encode and decode data in JSON. The two\n",
    "main functions are json.dumps() and json.loads() , mirroring the interface used in\n",
    "other serialization libraries, such as pickle . Here is how you turn a Python data struc‐\n",
    "ture into JSON"
   ],
   "cell_type": "markdown",
   "metadata": {}
  },
  {
   "source": [
    "**Example**"
   ],
   "cell_type": "markdown",
   "metadata": {}
  },
  {
   "cell_type": "code",
   "execution_count": 139,
   "metadata": {},
   "outputs": [
    {
     "output_type": "execute_result",
     "data": {
      "text/plain": [
       "{'name': {'first': 'Alex', 'surname': 'Lique'},\n",
       " 'carrerar': 'computer science',\n",
       " 'experience': 1}"
      ]
     },
     "metadata": {},
     "execution_count": 139
    }
   ],
   "source": [
    "name = dict(first='Alex',surname='Lique')\n",
    "\n",
    "datos = dict(name=name, carrerar='computer science',experience= 1)\n",
    "\n",
    "datos"
   ]
  },
  {
   "source": [
    "convert this dict a json file\n",
    "\n",
    "Use **json dump**\n",
    "\n",
    "- The dump() method is used when the Python objects have to be stored in a file.\n",
    "- The dump() needs the json file name in which the output has to be stored as an argument.\n",
    "- This method writes in the memory and then command for writing to disk is executed separately.\n",
    "- Faster method.\t\n",
    "\t\n"
   ],
   "cell_type": "markdown",
   "metadata": {}
  },
  {
   "cell_type": "code",
   "execution_count": 131,
   "metadata": {},
   "outputs": [],
   "source": [
    "import json\n",
    "\n",
    "json.dump(datos, open(\"../src/datos.json\",\"w\"),indent=4)\n"
   ]
  },
  {
   "source": [
    "Use **json dumps**\n",
    "\n",
    "- The dumps() is used when the objects are required to be in string format and is used for parsing, printing, etc, .\n",
    "- The dumps() does not require any such file name to be passed.\n",
    "- This method directly writes to the json file.\n",
    "- 2 times slower.\n"
   ],
   "cell_type": "markdown",
   "metadata": {}
  },
  {
   "cell_type": "code",
   "execution_count": 132,
   "metadata": {},
   "outputs": [
    {
     "output_type": "execute_result",
     "data": {
      "text/plain": [
       "'{\"name\": {\"first\": \"Alex\", \"surname\": \"Lique\"}, \"carrerar\": \"computer science\", \"experience\": 1}'"
      ]
     },
     "metadata": {},
     "execution_count": 132
    }
   ],
   "source": [
    "j = json.dumps(datos)\n",
    "j"
   ]
  },
  {
   "cell_type": "code",
   "execution_count": 119,
   "metadata": {},
   "outputs": [
    {
     "output_type": "execute_result",
     "data": {
      "text/plain": [
       "str"
      ]
     },
     "metadata": {},
     "execution_count": 119
    }
   ],
   "source": [
    "type(j)"
   ]
  },
  {
   "source": [
    "Use **json load**\n",
    "\n",
    "load : accepts the file object and fills a Python dictionary with the data and returns it to you."
   ],
   "cell_type": "markdown",
   "metadata": {}
  },
  {
   "cell_type": "code",
   "execution_count": 18,
   "metadata": {},
   "outputs": [
    {
     "output_type": "execute_result",
     "data": {
      "text/plain": [
       "{'name': {'first': 'Alex', 'surname': 'Lique'},\n",
       " 'carrerar': 'computer science',\n",
       " 'experience': 1}"
      ]
     },
     "metadata": {},
     "execution_count": 18
    }
   ],
   "source": [
    "d = json.load(open(\"../src/datos.json\"))\n",
    "d"
   ]
  },
  {
   "source": [
    "Use **loads**\n",
    "\n",
    "loads:  Method can be used to parse a valid JSON string and convert it into a Python Dictionary"
   ],
   "cell_type": "markdown",
   "metadata": {}
  },
  {
   "cell_type": "code",
   "execution_count": 146,
   "metadata": {},
   "outputs": [
    {
     "output_type": "execute_result",
     "data": {
      "text/plain": [
       "{'name': {'first': 'Alex', 'surname': 'Lique'},\n",
       " 'carrerar': 'computer science',\n",
       " 'experience': 1}"
      ]
     },
     "metadata": {},
     "execution_count": 146
    }
   ],
   "source": [
    "s = json.loads(j)\n",
    "\n",
    "s"
   ]
  },
  {
   "source": [
    "Use **with** to **load** json file"
   ],
   "cell_type": "markdown",
   "metadata": {}
  },
  {
   "cell_type": "code",
   "execution_count": 26,
   "metadata": {},
   "outputs": [
    {
     "output_type": "execute_result",
     "data": {
      "text/plain": [
       "{'name': {'first': 'Alex', 'surname': 'Lique'},\n",
       " 'carrerar': 'computer science',\n",
       " 'experience': 1}"
      ]
     },
     "metadata": {},
     "execution_count": 26
    }
   ],
   "source": [
    "with open(\"../src/datos.json\",\"r\") as f:\n",
    "    d = json.load(f)\n",
    "d"
   ]
  },
  {
   "cell_type": "code",
   "execution_count": 27,
   "metadata": {},
   "outputs": [
    {
     "output_type": "execute_result",
     "data": {
      "text/plain": [
       "'computer science'"
      ]
     },
     "metadata": {},
     "execution_count": 27
    }
   ],
   "source": [
    "d[\"carrerar\"]"
   ]
  },
  {
   "source": [
    "### **Aplication**"
   ],
   "cell_type": "markdown",
   "metadata": {}
  },
  {
   "cell_type": "code",
   "execution_count": 151,
   "metadata": {},
   "outputs": [],
   "source": [
    "with open(\"../src/intents.json\",\"r\") as f:\n",
    "    data = json.load(f)\n"
   ]
  },
  {
   "cell_type": "code",
   "execution_count": 152,
   "metadata": {},
   "outputs": [
    {
     "output_type": "execute_result",
     "data": {
      "text/plain": [
       "{'intents': [{'tag': 'greeting',\n",
       "   'patterns': ['Hello', 'HYA', 'Hello there', 'Bonjour', 'Ciao', 'Hola'],\n",
       "   'responses': ['Welcome to my page.',\n",
       "    'I was not waiting visit , tell me What is is your query.',\n",
       "    'Ohayo goshujin sama, Tell me about your doubt , do not worry It is my pleasure read you.',\n",
       "    'Rimay tuikray.',\n",
       "    'Buenas digame cual es su consulta.']},\n",
       "  {'tag': 'goodbye',\n",
       "   'patterns': ['bye',\n",
       "    'see you later',\n",
       "    'Nos vemos',\n",
       "    'au revoir',\n",
       "    'Arrivederci'],\n",
       "   'responses': ['Bye for now',\n",
       "    'I am wainting for you',\n",
       "    'It is cheerless but I understand... bye,bye.',\n",
       "    'aaaaaa xd nos vemos.',\n",
       "    ':c']},\n",
       "  {'tag': 'thanks',\n",
       "   'patterns': ['Merci', 'thank you', 'thanks', 'Gracias'],\n",
       "   'responses': ['Agradecido con el de arriba',\n",
       "    'Do not worry , It is my pleasure',\n",
       "    'Yamete!!',\n",
       "    'Es un gusto ayudarte']},\n",
       "  {'tag': 'items',\n",
       "   'patterns': ['Wich items do you have?',\n",
       "    'What kinds of items  are there?',\n",
       "    'What do you sell?'],\n",
       "   'responses': ['mmm ... I do not sell anything',\n",
       "    'I am only bot!! Take it or leave you']},\n",
       "  {'tag': 'payments',\n",
       "   'patterns': ['Do you take a credit cards?',\n",
       "    'Do you accept Mastercard?',\n",
       "    'Can I pay with Paypal?',\n",
       "    'Are you cash only?'],\n",
       "   'responses': ['In this momento I do not accept moneys',\n",
       "    'Maybe need create a OnlyFans xddd']},\n",
       "  {'tag': 'funny',\n",
       "   'patterns': ['Dime una broma',\n",
       "    'Tell me something funny!',\n",
       "    'Do you know jokes?'],\n",
       "   'responses': ['I am afraid not.',\n",
       "    'mmmm...sorry xddd I can not make my mind',\n",
       "    'car turning right']}]}"
      ]
     },
     "metadata": {},
     "execution_count": 152
    }
   ],
   "source": [
    "data"
   ]
  },
  {
   "source": [
    "### Analysis the variable data"
   ],
   "cell_type": "markdown",
   "metadata": {}
  },
  {
   "source": [
    "**Example 1**\n",
    "\n",
    "You can see the keys are overwritten"
   ],
   "cell_type": "markdown",
   "metadata": {}
  },
  {
   "cell_type": "code",
   "execution_count": 153,
   "metadata": {},
   "outputs": [
    {
     "output_type": "execute_result",
     "data": {
      "text/plain": [
       "{'tag': 2}"
      ]
     },
     "metadata": {},
     "execution_count": 153
    }
   ],
   "source": [
    "dic = {\n",
    "    'tag' : 3,\n",
    "    'tag' : 1,\n",
    "    'tag' : 2,\n",
    "}\n",
    "dic"
   ]
  },
  {
   "cell_type": "code",
   "execution_count": 89,
   "metadata": {},
   "outputs": [],
   "source": [
    "dic_1 = {\n",
    "    'tag':'great',\n",
    "    'pattner':'hello',\n",
    "    'responses':'hya'\n",
    "}\n",
    "\n",
    "dic_2 = {\n",
    "    'tag': 'goodbye',\n",
    "    'pattner':'bye',\n",
    "    'respones':'see yous'\n",
    "}\n",
    "\n",
    "dic = {\n",
    "    \"intents\":\n",
    "    [\n",
    "        dic_1,\n",
    "        dic_2\n",
    "    ]\n",
    "}"
   ]
  },
  {
   "cell_type": "code",
   "execution_count": 90,
   "metadata": {},
   "outputs": [
    {
     "output_type": "execute_result",
     "data": {
      "text/plain": [
       "{'intents': [{'tag': 'great', 'pattner': 'hello', 'responses': 'hya'},\n",
       "  {'tag': 'goodbye', 'pattner': 'bye', 'respones': 'see yous'}]}"
      ]
     },
     "metadata": {},
     "execution_count": 90
    }
   ],
   "source": [
    "dic"
   ]
  },
  {
   "source": [
    "Now in data"
   ],
   "cell_type": "markdown",
   "metadata": {}
  },
  {
   "cell_type": "code",
   "execution_count": null,
   "metadata": {},
   "outputs": [],
   "source": [
    "data[\"intents\"]"
   ]
  },
  {
   "cell_type": "code",
   "execution_count": 154,
   "metadata": {},
   "outputs": [
    {
     "output_type": "execute_result",
     "data": {
      "text/plain": [
       "{'tag': 'greeting',\n",
       " 'patterns': ['Hello', 'HYA', 'Hello there', 'Bonjour', 'Ciao', 'Hola'],\n",
       " 'responses': ['Welcome to my page.',\n",
       "  'I was not waiting visit , tell me What is is your query.',\n",
       "  'Ohayo goshujin sama, Tell me about your doubt , do not worry It is my pleasure read you.',\n",
       "  'Rimay tuikray.',\n",
       "  'Buenas digame cual es su consulta.']}"
      ]
     },
     "metadata": {},
     "execution_count": 154
    }
   ],
   "source": [
    "data[\"intents\"][0]"
   ]
  },
  {
   "cell_type": "code",
   "execution_count": 83,
   "metadata": {},
   "outputs": [
    {
     "output_type": "execute_result",
     "data": {
      "text/plain": [
       "['Agradecido con el de arriba',\n",
       " 'Do not worry , It is my pleasure',\n",
       " 'Yamete!!',\n",
       " 'Es un gusto ayudarte']"
      ]
     },
     "metadata": {},
     "execution_count": 83
    }
   ],
   "source": [
    "data[\"intents\"][2][\"responses\"]"
   ]
  },
  {
   "cell_type": "code",
   "execution_count": 84,
   "metadata": {},
   "outputs": [
    {
     "output_type": "execute_result",
     "data": {
      "text/plain": [
       "'Agradecido con el de arriba'"
      ]
     },
     "metadata": {},
     "execution_count": 84
    }
   ],
   "source": [
    "data[\"intents\"][2][\"responses\"][0]"
   ]
  },
  {
   "cell_type": "code",
   "execution_count": 40,
   "metadata": {},
   "outputs": [
    {
     "output_type": "stream",
     "name": "stdout",
     "text": [
      "greeting\ngoodbye\nthanks\nitems\npayments\nfunny\n"
     ]
    }
   ],
   "source": [
    "tags = []\n",
    "\n",
    "for d in data[\"intents\"]:\n",
    "    tag = d[\"tag\"]\n",
    "    tags.append(tag)"
   ]
  }
 ]
}
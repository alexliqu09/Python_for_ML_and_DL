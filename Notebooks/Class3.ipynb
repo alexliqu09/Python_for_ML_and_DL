{
 "metadata": {
  "language_info": {
   "codemirror_mode": {
    "name": "ipython",
    "version": 3
   },
   "file_extension": ".py",
   "mimetype": "text/x-python",
   "name": "python",
   "nbconvert_exporter": "python",
   "pygments_lexer": "ipython3",
   "version": 3
  },
  "orig_nbformat": 2
 },
 "nbformat": 4,
 "nbformat_minor": 2,
 "cells": [
  {
   "source": [
    "# ***Python for ML/DL***\n",
    "---\n",
    "<center>\n",
    "<img src=\"https://ehackz.com/wp-content/uploads/2018/02/Python.jpg\" height = \"40%\" width = \"60%\">"
   ],
   "cell_type": "markdown",
   "metadata": {}
  },
  {
   "source": [
    "## **File handling**\n",
    "---\n",
    "Until now we design programs where when the program closes we lose all the information used at that time. For this reason, with file management we look for how to store this information provided when executing the program and then reuse it. An example of this in the field of deep learning, where we want to save the information of the weights after training or in the use of machine learning where we want to read the structured data.\n",
    "\n",
    "<center>\n",
    "<img src=\"https://miro.medium.com/max/960/1*VO63z5PHBP1E9oCXdUD_3A.jpeg\" heigth=\"50%\"  width=\"50%\">"
   ],
   "cell_type": "markdown",
   "metadata": {}
  },
  {
   "source": [
    "## **[Open Files](https://medium.com/edureka/file-handling-in-python-e0a6ff96ede9)** \n",
    "---\n",
    "We will use the function **open** that return an file object.\n",
    "\n",
    "**Variable = open(\"path\",mode)**\n",
    "\n",
    "- with **path** we mean the location of the file by default if you type the name, the  function assumes that the file exists in the directory where you currently work.\n",
    "\n",
    "- with **mode** we specify the type of action for example read,write or add. \n",
    "    \n",
    "    - **r** :  Read mode which is used when the file is only being read.\n",
    "\n",
    "    - **w** : Write mode which is used to edit and write new information to the file.\n",
    "    \n",
    "    - **a** :  Appending mode, which is used to add new data to the end of the file.\n",
    "    \n",
    "    - **r+**: Special read and write mode, which is used to handle both actions when working                with a file.\n"
   ],
   "cell_type": "markdown",
   "metadata": {}
  }
 ]
}
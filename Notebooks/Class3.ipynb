{
 "metadata": {
  "language_info": {
   "codemirror_mode": {
    "name": "ipython",
    "version": 3
   },
   "file_extension": ".py",
   "mimetype": "text/x-python",
   "name": "python",
   "nbconvert_exporter": "python",
   "pygments_lexer": "ipython3",
   "version": "3.7.6-final"
  },
  "orig_nbformat": 2,
  "kernelspec": {
   "name": "python37664bitenvvenv21fe8ca208ed41e988733c4ab5dda3b2",
   "display_name": "Python 3.7.6 64-bit ('env': venv)",
   "language": "python"
  }
 },
 "nbformat": 4,
 "nbformat_minor": 2,
 "cells": [
  {
   "source": [
    "# ***Python for ML/DL***\n",
    "---\n",
    "<center>\n",
    "<img src=\"https://ehackz.com/wp-content/uploads/2018/02/Python.jpg\" height = \"40%\" width = \"60%\">"
   ],
   "cell_type": "markdown",
   "metadata": {}
  },
  {
   "source": [
    "## **File handling**\n",
    "---\n",
    "Until now we design programs where when the program closes we lose all the information used at that time. For this reason, with file management we look for how to store this information provided when executing the program and then reuse it. An example of this in the field of deep learning, where we want to save the information of the weights after training or in the use of machine learning where we want to read the structured data.\n",
    "\n",
    "<center>\n",
    "<img src=\"https://miro.medium.com/max/960/1*VO63z5PHBP1E9oCXdUD_3A.jpeg\" heigth=\"50%\"  width=\"50%\">"
   ],
   "cell_type": "markdown",
   "metadata": {}
  },
  {
   "source": [
    "## **[Open Files](https://medium.com/edureka/file-handling-in-python-e0a6ff96ede9)** \n",
    "---\n",
    "We will use the function **open** that return an file object.\n",
    "\n",
    "**Variable = open(\"path\",mode)**\n",
    "\n",
    "- with **path** we mean the location of the file by default if you type the name, the  function assumes that the file exists in the directory where you currently work.\n",
    "\n",
    "- with **mode** we specify the type of action for example read,write or add. \n",
    "    \n",
    "    - **r** :  Read mode which is used when the file is only being read.\n",
    "\n",
    "    - **w** : Write mode which is used to edit and write new information to the file.\n",
    "    \n",
    "    - **a** :  Appending mode, which is used to add new data to the end of the file.\n",
    "    \n",
    "    - **r+**: Special read and write mode, which is used to handle both actions when working                with a file.\n"
   ],
   "cell_type": "markdown",
   "metadata": {}
  },
  {
   "source": [
    "**Example 1**\n",
    "\n",
    " Write a txt with open function\n",
    "\n",
    "Note:\n",
    "\n",
    "- Write: Write an especific text in the file and depende where mode use(\"a\"/\"w\"). \n",
    "\n",
    "- Close: With the close method we close a file object and no operation that requires the open file will return an error"
   ],
   "cell_type": "markdown",
   "metadata": {}
  },
  {
   "source": [
    "file = open(\"../src/train.txt\",\"w\")\n",
    "file.write(\"============ Trainig Loss ===============\")\n",
    "file.close()"
   ],
   "cell_type": "code",
   "metadata": {},
   "execution_count": 36,
   "outputs": []
  },
  {
   "source": [
    "**Example 2**\n",
    "\n",
    "Use the loops and write any loss function in a txt."
   ],
   "cell_type": "markdown",
   "metadata": {}
  },
  {
   "cell_type": "code",
   "execution_count": 37,
   "metadata": {},
   "outputs": [],
   "source": [
    "import numpy as np\n",
    "\n",
    "Y = np.array([[1,0,0,0],[0,1,0,0],[0,0,0,1],[0,0,1,0]])\n",
    "\n",
    "Y_hat = np.array([[0.9,0.01,0.02,0.07],[0.1,0.08,0.01,0.09],[0.001,0.001,0.08,0.9],[0.01,0.005,0.8,0.005]])\n",
    "\n",
    "def binary_crossentropy(Y,Y_hat):\n",
    "    n = len(Y)\n",
    "    return (-1/n)*np.sum(np.multiply(Y,np.log(Y_hat))+np.multiply((1-Y),np.log(1-Y_hat)),axis=1)\n",
    "loss = binary_crossentropy(Y,Y_hat)\n",
    "\n",
    "for l in loss:\n",
    "    file = open(\"../src/train.txt\",\"a\")\n",
    "    file.write(f\"\\nloss: {l}\")\n",
    "file.close()\n"
   ]
  }
 ]
}
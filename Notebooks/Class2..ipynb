{
 "metadata": {
  "language_info": {
   "codemirror_mode": {
    "name": "ipython",
    "version": 3
   },
   "file_extension": ".py",
   "mimetype": "text/x-python",
   "name": "python",
   "nbconvert_exporter": "python",
   "pygments_lexer": "ipython3",
   "version": "3.7.6-final"
  },
  "orig_nbformat": 2,
  "kernelspec": {
   "name": "python37664bitenvvenv21fe8ca208ed41e988733c4ab5dda3b2",
   "display_name": "Python 3.7.6 64-bit ('env': venv)",
   "language": "python"
  }
 },
 "nbformat": 4,
 "nbformat_minor": 2,
 "cells": [
  {
   "source": [
    "# ***Python for ML/DL***\n",
    "---\n",
    "<center>\n",
    "<img src=\"https://ehackz.com/wp-content/uploads/2018/02/Python.jpg\" height = \"40%\" width = \"60%\">"
   ],
   "cell_type": "markdown",
   "metadata": {}
  },
  {
   "source": [
    "## **Conditional**\n",
    "\n",
    "-----\n",
    "\n",
    "1. **if**\n",
    "2. ** if-else**\n",
    "3. **elif**\n",
    "4. **Short hand if-else**"
   ],
   "cell_type": "markdown",
   "metadata": {}
  },
  {
   "source": [
    "<center>\n",
    "<img src=\"https://media.geeksforgeeks.org/wp-content/uploads/if-else.jpg\" width=\"30%\" height=\"20%\"> "
   ],
   "cell_type": "markdown",
   "metadata": {}
  },
  {
   "source": [
    "### Use of if\n",
    "---"
   ],
   "cell_type": "markdown",
   "metadata": {}
  },
  {
   "cell_type": "code",
   "execution_count": 3,
   "metadata": {},
   "outputs": [
    {
     "output_type": "stream",
     "name": "stdout",
     "text": [
      "5 is least than 6\n"
     ]
    }
   ],
   "source": [
    "a = 5\n",
    "b = 6\n",
    "\n",
    "if a < b:\n",
    "    print(f\"{a} is least than {b}\") "
   ]
  },
  {
   "cell_type": "code",
   "execution_count": 14,
   "metadata": {},
   "outputs": [
    {
     "output_type": "stream",
     "name": "stdout",
     "text": [
      "The number 5 is positive\n"
     ]
    }
   ],
   "source": [
    "number = int(input(\"Give me a number: \"))\n",
    "\n",
    "if number >= 0:\n",
    "    print(f\"The number {number} is positive\")\n"
   ]
  },
  {
   "source": [
    "### **Aplication**\n",
    "---"
   ],
   "cell_type": "markdown",
   "metadata": {}
  },
  {
   "cell_type": "code",
   "execution_count": 62,
   "metadata": {},
   "outputs": [
    {
     "output_type": "stream",
     "name": "stdout",
     "text": [
      "He initializer: 0.6324555320336759\nXavier Initializer: 0.4472135954999579\n"
     ]
    }
   ],
   "source": [
    "import math\n",
    "\n",
    "\n",
    "def initializer_Normal(size_l, init=\"he\"):\n",
    "    if init == \"xavier\":\n",
    "        return math.sqrt(1 / (size_l))\n",
    "    return math.sqrt(2 / size_l)\n",
    "\n",
    "\n",
    "print(f\"He initializer: {initializer_Normal(size_l=5)}\")\n",
    "\n",
    "print(f'Xavier Initializer: {initializer_Normal(init=\"xavier\",size_l=5)}')\n"
   ]
  },
  {
   "cell_type": "code",
   "execution_count": 68,
   "metadata": {},
   "outputs": [
    {
     "output_type": "stream",
     "name": "stdout",
     "text": [
      "Sigmoid value is : 0.52497918747894\n"
     ]
    }
   ],
   "source": [
    "def Sigmoid(x):\n",
    "    return 1 / (1 + math.exp(-x))\n",
    "\n",
    "\n",
    "if __name__ == \"__main__\":\n",
    "\n",
    "    Z = Sigmoide(0.1)\n",
    "    print(f\"Sigmoid value is : {Z}\")"
   ]
  },
  {
   "source": [
    "### Use if-else\n",
    "---"
   ],
   "cell_type": "markdown",
   "metadata": {}
  },
  {
   "cell_type": "code",
   "execution_count": 64,
   "metadata": {},
   "outputs": [
    {
     "output_type": "stream",
     "name": "stdout",
     "text": [
      "loading...\n",
      "pass\n"
     ]
    }
   ],
   "source": [
    "import time\n",
    "\n",
    "password = input(\"Give me your password\")\n",
    "if password == \"2020k\":\n",
    "    print(\"loading...\")\n",
    "    time.sleep(1)\n",
    "    print(\"pass\")\n",
    "else:\n",
    "    print(\"incorrect\")"
   ]
  },
  {
   "source": [
    "### Aplication\n",
    "---"
   ],
   "cell_type": "markdown",
   "metadata": {}
  },
  {
   "cell_type": "code",
   "execution_count": 78,
   "metadata": {},
   "outputs": [
    {
     "output_type": "stream",
     "name": "stdout",
     "text": [
      "[<class 'torch.nn.modules.conv.Conv2d'>, <class 'torch.nn.modules.pooling.MaxPool2d'>]\n"
     ]
    }
   ],
   "source": [
    "Block = []\n",
    "apply_Batch = False\n",
    "if  apply_Batch:\n",
    "        Block.append(torch.nn.Conv2d)\n",
    "        Block.append(torch.nn.BatchNorm2d)\n",
    "else :\n",
    "        Block.append(torch.nn.Conv2d)\n",
    "        Block.append(torch.nn.MaxPool2d)\n",
    "print(Block)"
   ]
  },
  {
   "source": [
    "### **Use elif**\n",
    "---"
   ],
   "cell_type": "markdown",
   "metadata": {}
  },
  {
   "cell_type": "code",
   "execution_count": 112,
   "metadata": {},
   "outputs": [
    {
     "output_type": "stream",
     "name": "stdout",
     "text": [
      "Delimiter: ['Acecom', '', 'AI']\n"
     ]
    }
   ],
   "source": [
    "text = \"Acecom||AI\"\n",
    "\n",
    "op = input(\"Choose or lower\")\n",
    "\n",
    "if op == \"lower\":\n",
    "    print(f\"Text in lower: {text.lower()}\")\n",
    "elif op == \"upper\":\n",
    "    print(f\"Texto in upper: {text.upper()}\")\n",
    "elif op == \"replace\":\n",
    "    print(f\"Replace AI in the text: {text} / {text.replace('AI','DL')}\")\n",
    "elif op == \"delimiter\":\n",
    "    print(f'Delimiter: {text.split(\"|\")}')\n",
    "else:\n",
    "    print(text)"
   ]
  },
  {
   "source": [
    "### Use Short if - else"
   ],
   "cell_type": "markdown",
   "metadata": {}
  },
  {
   "cell_type": "code",
   "execution_count": 90,
   "metadata": {},
   "outputs": [
    {
     "output_type": "stream",
     "name": "stdout",
     "text": [
      "1 is least than 15\n"
     ]
    }
   ],
   "source": [
    "num = int(input(\"Give me a number: \"))\n",
    "print(f\"{num} is greater or equal than 15\") if num >= 15 else print(\n",
    "    f\"{num} is least than 15\"\n",
    ")"
   ]
  },
  {
   "source": [
    "### **Aplication**\n",
    "---"
   ],
   "cell_type": "markdown",
   "metadata": {}
  },
  {
   "cell_type": "code",
   "execution_count": 77,
   "metadata": {},
   "outputs": [
    {
     "output_type": "stream",
     "name": "stdout",
     "text": [
      "GPU available\n"
     ]
    }
   ],
   "source": [
    "device = torch.device(\"cuda\" if torch.cuda.is_available() else \"cpu\")\n",
    "if device:\n",
    "    print(\"GPU available\")\n",
    "else:\n",
    "    print(\"CPU is available\")"
   ]
  },
  {
   "source": [
    "## **Operator**\n",
    "---\n",
    "\n",
    "1. is\n",
    "2. in\n",
    "3. not in\n",
    "\n"
   ],
   "cell_type": "markdown",
   "metadata": {}
  },
  {
   "source": [
    "### **Use is**\n",
    "---"
   ],
   "cell_type": "markdown",
   "metadata": {}
  },
  {
   "cell_type": "code",
   "execution_count": 1,
   "metadata": {},
   "outputs": [
    {
     "output_type": "stream",
     "name": "stdout",
     "text": [
      " Is a equal b? False, \n Is a equal c? True\n"
     ]
    }
   ],
   "source": [
    "a = 4\n",
    "b = 5\n",
    "c = 4\n",
    "\n",
    "print(f\" Is a equal b? {a is b}, \\n Is a equal c? {a is c}\")"
   ]
  },
  {
   "cell_type": "code",
   "execution_count": 2,
   "metadata": {},
   "outputs": [
    {
     "output_type": "stream",
     "name": "stdout",
     "text": [
      "reflexive property\n"
     ]
    }
   ],
   "source": [
    "if a is a and a is a:\n",
    "    print(\"reflexive property\")"
   ]
  },
  {
   "source": [
    "### **Use in**\n",
    "---\n"
   ],
   "cell_type": "markdown",
   "metadata": {}
  },
  {
   "cell_type": "code",
   "execution_count": 34,
   "metadata": {},
   "outputs": [
    {
     "output_type": "stream",
     "name": "stdout",
     "text": [
      "New list:  [1, 5, 6, 8, 4]\n"
     ]
    }
   ],
   "source": [
    "lista = [1, 4, 6, 8, 5]\n",
    "a = 5\n",
    "b = 4\n",
    "if a in lista and b in lista:\n",
    "    lista[lista.index(a)],lista[lista.index(b)] = lista[lista.index(b)],lista[lista.index(a)]\n",
    "    print(\"New list: \",lista)\n",
    "elif a in lista or b in lista:\n",
    "    print(\"Not change\")\n",
    "    "
   ]
  },
  {
   "source": [
    "### **Use not in**\n",
    "---"
   ],
   "cell_type": "markdown",
   "metadata": {}
  },
  {
   "cell_type": "code",
   "execution_count": 4,
   "metadata": {},
   "outputs": [
    {
     "output_type": "execute_result",
     "data": {
      "text/plain": [
       "True"
      ]
     },
     "metadata": {},
     "execution_count": 4
    }
   ],
   "source": [
    "t = 1, 3, 3, 1\n",
    "2 not in t"
   ]
  },
  {
   "cell_type": "code",
   "execution_count": 5,
   "metadata": {},
   "outputs": [
    {
     "output_type": "execute_result",
     "data": {
      "text/plain": [
       "False"
      ]
     },
     "metadata": {},
     "execution_count": 5
    }
   ],
   "source": [
    "L = t, 1, 3, 5\n",
    "t not in L"
   ]
  },
  {
   "cell_type": "code",
   "execution_count": 11,
   "metadata": {},
   "outputs": [
    {
     "output_type": "execute_result",
     "data": {
      "text/plain": [
       "False"
      ]
     },
     "metadata": {},
     "execution_count": 11
    }
   ],
   "source": [
    "text = \"Would you like some breef?\"\n",
    "\n",
    "\"you\" not in text"
   ]
  }
 ]
}
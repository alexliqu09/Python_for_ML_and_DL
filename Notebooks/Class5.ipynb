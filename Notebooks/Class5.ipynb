{
 "metadata": {
  "language_info": {
   "codemirror_mode": {
    "name": "ipython",
    "version": 3
   },
   "file_extension": ".py",
   "mimetype": "text/x-python",
   "name": "python",
   "nbconvert_exporter": "python",
   "pygments_lexer": "ipython3",
   "version": "2.7.18-final"
  },
  "orig_nbformat": 2,
  "kernelspec": {
   "name": "python37664bitenvvenv21fe8ca208ed41e988733c4ab5dda3b2",
   "display_name": "Python 2.7.18 64-bit"
  },
  "metadata": {
   "interpreter": {
    "hash": "767d51c1340bd893661ea55ea3124f6de3c7a262a8b4abca0554b478b1e2ff90"
   }
  }
 },
 "nbformat": 4,
 "nbformat_minor": 2,
 "cells": [
  {
   "source": [
    "# ***Python for ML/DL***\n",
    "---\n",
    "\n",
    "<center>\n",
    "<img src=\"https://ehackz.com/wp-content/uploads/2018/02/Python.jpg\" height = \"40%\" width = \"60%\">"
   ],
   "cell_type": "markdown",
   "metadata": {}
  },
  {
   "source": [
    "## **Introduction PEP8**\n",
    "\n",
    "<center>\n",
    "<img src=\"https://d2o2utebsixu4k.cloudfront.net/media/images/1a38e5b6-4815-4390-ad92-a52b825fba0b.jpg\" height=\"70%\" width=\"80%\">"
   ],
   "cell_type": "markdown",
   "metadata": {}
  },
  {
   "source": [
    "## What is PEP8?\n",
    "\n",
    "[PEP 8](https://realpython.com/python-pep8/) (Python Enhancement Proposals), sometimes spelled PEP8 or PEP-8, is a document that provides guidelines and best practices on how to write Python code. It was written in 2001 by Guido van Rossum, Barry Warsaw, and Nick Coghlan. The primary focus of PEP 8 is to improve the readability and consistency of Python code."
   ],
   "cell_type": "markdown",
   "metadata": {}
  },
  {
   "source": [
    "### **Naming Conventions**\n",
    "\n",
    "When you write Python code, you will avoid the inappropriate variables names . Choosing  names will save you time and you’ll be able to figure out, from the name, what a certain variable, function, or class represents.\n",
    "\n",
    "### **Sytels**\n",
    "\n",
    "**Function**: Use a word or words in lowercase and separate with underscore.\n",
    "\n",
    "**Variable**: Use a lowercase single letter, word, or words. Separate words with underscores.\n",
    "\n",
    "**Class**: Use upper in the first letter and don't separate the words with underscore.\n",
    "\n",
    "**methods**: Use a lowercase word or words and separete with underscores.\n",
    "\n",
    "**Constant**: Use an uppercase single letter, word, or words. Separate words with underscores\n",
    "\n",
    "**Module**: Use lowercase word or words  with underscores.\n",
    "\n",
    "**package**: Use lowercase and do not underscores."
   ],
   "cell_type": "markdown",
   "metadata": {}
  },
  {
   "source": [
    "**Variable**"
   ],
   "cell_type": "markdown",
   "metadata": {}
  },
  {
   "cell_type": "code",
   "execution_count": 7,
   "metadata": {},
   "outputs": [
    {
     "output_type": "stream",
     "name": "stdout",
     "text": [
      "Juan Perez\n"
     ]
    }
   ],
   "source": [
    "full_name = \"Juan Perez\"\n",
    "name, surname = full_name.split()\n",
    "\n",
    "print(name, surname)"
   ]
  },
  {
   "source": [
    "## **Constant**"
   ],
   "cell_type": "markdown",
   "metadata": {}
  },
  {
   "cell_type": "code",
   "execution_count": 32,
   "metadata": {},
   "outputs": [
    {
     "output_type": "execute_result",
     "data": {
      "text/plain": [
       "['Samsung', 'Huaweii', 'Nokia', 'Claro']"
      ]
     },
     "metadata": {},
     "execution_count": 32
    }
   ],
   "source": [
    "NAME_MOVIL_PHONE = [\n",
    "    'Samsung',\n",
    "    'Huaweii',\n",
    "    'Nokia',\n",
    "    'Claro'\n",
    "]\n",
    "\n",
    "NAME_MOVIL_PHONE"
   ]
  },
  {
   "source": [
    "## **Function**"
   ],
   "cell_type": "markdown",
   "metadata": {}
  },
  {
   "cell_type": "code",
   "execution_count": 46,
   "metadata": {},
   "outputs": [],
   "source": [
    "def random_choise():\n",
    "    return None"
   ]
  },
  {
   "source": [
    "**Class**"
   ],
   "cell_type": "markdown",
   "metadata": {}
  },
  {
   "cell_type": "code",
   "execution_count": 44,
   "metadata": {},
   "outputs": [],
   "source": [
    "class MovilPhone():\n",
    "    pass"
   ]
  },
  {
   "source": [
    "### **Code Layout**\n",
    "\n",
    "We also learn about indentation because it is very important to make your code more readable. Here you will learn how to handle the PEP8 recommended limit of 79 lines of characters."
   ],
   "cell_type": "markdown",
   "metadata": {}
  },
  {
   "source": [
    "Surround top-level functions and classes with two blank lines. "
   ],
   "cell_type": "markdown",
   "metadata": {}
  },
  {
   "source": [
    "class FirstClass():\n",
    "    pass\n",
    "\n",
    "\n",
    "class SecondClass():\n",
    "    pass\n",
    "\n",
    "\n",
    "def top_level_function():\n",
    "    return None"
   ],
   "cell_type": "code",
   "metadata": {},
   "execution_count": 54,
   "outputs": []
  },
  {
   "source": [
    "Surround method definitions inside classes with a single blank line."
   ],
   "cell_type": "markdown",
   "metadata": {}
  },
  {
   "cell_type": "code",
   "execution_count": 55,
   "metadata": {},
   "outputs": [],
   "source": [
    "class MovilPhone():\n",
    "    \n",
    "    def __init__(self):\n",
    "        return None\n",
    "\n",
    "    def __str__(self):\n",
    "        return None"
   ]
  },
  {
   "source": [
    "Use blank lines sparingly inside functions to show clear steps."
   ],
   "cell_type": "markdown",
   "metadata": {}
  },
  {
   "source": [
    "import numpy as np\n",
    "\n",
    "\n",
    "def normalization(name_array):\n",
    "\n",
    "    mean = np.median(name_array)\n",
    "\n",
    "    std = np.std(name_array)\n",
    "\n",
    "    return (name_array - mean) / std"
   ],
   "cell_type": "code",
   "metadata": {},
   "execution_count": 52,
   "outputs": []
  },
  {
   "source": [
    "## **Maximum Line Length and Line Breaking**\n",
    "\n",
    "PEP 8 suggests lines should be limited to 79 characters. This is because it allows you to have multiple files open next to one another, while also avoiding line wrapping."
   ],
   "cell_type": "markdown",
   "metadata": {}
  },
  {
   "cell_type": "code",
   "execution_count": 56,
   "metadata": {},
   "outputs": [],
   "source": [
    "def function(arg_1, arg_2, \n",
    "             arg_3, arg_4):\n",
    "    return None"
   ]
  },
  {
   "cell_type": "code",
   "execution_count": 3,
   "metadata": {},
   "outputs": [],
   "source": [
    "from torch import (nn, \n",
    "                   functional, \n",
    "                   cuda, \n",
    "                   onnx)"
   ]
  },
  {
   "source": [
    "If line breaking needs to occur around binary operators, like + and *, it should occur before the operator. This rule stems from mathematics. Mathematicians agree that breaking before binary operators improves readability. "
   ],
   "cell_type": "markdown",
   "metadata": {}
  },
  {
   "cell_type": "code",
   "execution_count": 69,
   "metadata": {},
   "outputs": [],
   "source": [
    "lamda =  0.01\n",
    "\n",
    "size = 50\n",
    "\n",
    "weight_sum = 0.956 \n",
    "\n",
    "regularization = (lamda \n",
    "            * weight_sum \n",
    "            / size)"
   ]
  },
  {
   "source": [
    "## **Indentation Following Line Breaks**\n",
    "\n",
    "When you’re using line continuations to keep lines to under 79 characters, it is useful to use indentation to improve readability. It allows the reader to distinguish between two lines of code and a single line of code that spans two lines."
   ],
   "cell_type": "markdown",
   "metadata": {}
  },
  {
   "source": [
    "'''\n",
    "while (flag==True or \n",
    "       count<200):\n",
    "       print(count)\n",
    "       -----\n",
    "'''"
   ],
   "cell_type": "code",
   "metadata": {},
   "execution_count": null,
   "outputs": []
  },
  {
   "source": [
    "flag = True\n",
    "\n",
    "count = 0\n",
    "\n",
    "while (flag and \n",
    "              count<5):\n",
    "       count +=1"
   ],
   "cell_type": "code",
   "metadata": {},
   "execution_count": 64,
   "outputs": []
  },
  {
   "cell_type": "code",
   "execution_count": null,
   "metadata": {},
   "outputs": [],
   "source": [
    "flag = True\n",
    "\n",
    "count = 0\n",
    "\n",
    "while (flag==True and \n",
    "       count<5):\n",
    "       #Here initialize the code\n",
    "       count +=1"
   ]
  },
  {
   "source": [
    "## **hanging indent**"
   ],
   "cell_type": "markdown",
   "metadata": {}
  },
  {
   "cell_type": "code",
   "execution_count": 70,
   "metadata": {},
   "outputs": [],
   "source": [
    "def function(\n",
    "        arg_1, arg_2,\n",
    "        arg_3, arg_4):\n",
    "    return None"
   ]
  },
  {
   "cell_type": "code",
   "execution_count": 72,
   "metadata": {},
   "outputs": [],
   "source": [
    "var = function(\n",
    "    1, 2,\n",
    "    3, 4)\n"
   ]
  },
  {
   "source": [
    "## **Closing Brace**\n",
    "\n",
    "Line up the closing brace with the first non-whitespace character of the previous line:"
   ],
   "cell_type": "markdown",
   "metadata": {}
  },
  {
   "cell_type": "code",
   "execution_count": 73,
   "metadata": {},
   "outputs": [],
   "source": [
    "prime = [\n",
    "    2, 3, 5,\n",
    "    7, 11, 13\n",
    "    ]"
   ]
  },
  {
   "source": [
    "Line up the closing brace with the first character of the line that starts the construct:"
   ],
   "cell_type": "markdown",
   "metadata": {}
  },
  {
   "cell_type": "code",
   "execution_count": 74,
   "metadata": {},
   "outputs": [],
   "source": [
    "prime = [\n",
    "    2, 3, 5,\n",
    "    7, 11, 13\n",
    "]"
   ]
  },
  {
   "source": [
    "## **Block Comments**\n",
    "\n",
    "They are useful when you have to write several lines of code to perform a single action, such as importing data from a file or updating a database entry. They are important as they help others understand the purpose and functionality of a given code block.\n",
    "\n",
    "- Indent block comments to the same level as the code they describe.\n",
    "- Start each line with a # followed by a single space.\n",
    "- Separate paragraphs by a line containing a single #.\n",
    "\n"
   ],
   "cell_type": "markdown",
   "metadata": {}
  },
  {
   "cell_type": "code",
   "execution_count": 4,
   "metadata": {},
   "outputs": [],
   "source": [
    "x = \"John Smith\"  # Student Name\n",
    "\n",
    "empty_list = []  # Initialize empty list\n",
    "\n",
    "x = 5  # This is an inline comment\n",
    "x = x * 5  # Multiply x by 5"
   ]
  },
  {
   "source": [
    "## **Documentation Strings**\n",
    "\n",
    "\n",
    "Documentation strings, or docstrings, are strings enclosed in double (\"\"\") or single (''') quotation marks that appear on the first line of any function, class, method, or module. \n",
    "\n",
    "The most important rules applying to docstrings are the following:\n",
    "\n",
    "Surround docstrings with three double quotes on either side, as in \"\"\"This is a docstring\"\"\".\n",
    "\n",
    "Write them for all public modules, functions, classes, and methods.\n",
    "\n",
    "Put the \"\"\" that ends a multiline docstring on a line by itself"
   ],
   "cell_type": "markdown",
   "metadata": {}
  },
  {
   "cell_type": "code",
   "execution_count": 2,
   "metadata": {},
   "outputs": [],
   "source": [
    "import torch.nn as nn\n",
    "import torch.nn.functional as F\n",
    "\n",
    "\n",
    "class Model(nn.Module):\n",
    "    \"\"\"This  is an subclass of super class nn.Module\n",
    "    To create a subclass, you need implements the folowing two methods.\n",
    "       --<__init__>: initialize the class; this module call the super(Model, self).__init__()\n",
    "       --<forward>: produce intermediate results.\n",
    "    \"\"\"\n",
    "\n",
    "    def __init__(self, opt):\n",
    "        \"\"\"Initialize the Model class\n",
    "        Parameters:\n",
    "            opt (option )-- pass a dictionary with the hypeparameters.\n",
    "            when implements this class\n",
    "            -- self.device (str): specify the device type.\n",
    "            -- self.epoch (int): define the epoch.\n",
    "            -- self.conv1 (torch.nn.modules.conv.Conv2d):  define the first conv2d\n",
    "            -- self.conv2 (torch.nn.modules.conv.Conv2d): define the second conv2d\n",
    "        \"\"\"\n",
    "        super(Model, self).__init__()\n",
    "        self.device = opt[\"gpu_is\"]\n",
    "        self.epoch = opt[\"epoch\"]\n",
    "        self.conv1 = nn.Conv2d(1, 20, 5)\n",
    "        self.conv2 = nn.Conv2d(20, 20, 5)\n",
    "\n",
    "    def forward(self, x):\n",
    "        \"\"\"Run forward pass\"\"\"\n",
    "        x = F.relu(self.conv1(x))\n",
    "        return F.relu(self.conv2(x))\n"
   ]
  },
  {
   "source": [
    "## **Whitespace Around Binary Operators**\n",
    "\n",
    "urround the following binary operators with a single space on either side:\n",
    "\n",
    "- Assignment operators (=, +=, -=, and so forth)\n",
    "\n",
    "- Comparisons (==, !=, >, <. >=, <=) and (is, is not, in, not in)\n",
    "\n",
    "- Booleans (and, not, or)"
   ],
   "cell_type": "markdown",
   "metadata": {}
  },
  {
   "cell_type": "code",
   "execution_count": 77,
   "metadata": {},
   "outputs": [],
   "source": [
    "def function(default_parameter = 5):\n",
    "    pass"
   ]
  },
  {
   "cell_type": "code",
   "execution_count": 1,
   "metadata": {},
   "outputs": [],
   "source": [
    "x = 1\n",
    "\n",
    "y = x**4 + x**3 + x**2 + x + 0.1\n",
    "\n",
    "z = (x+y)**2 * (y-x)**3"
   ]
  },
  {
   "cell_type": "code",
   "execution_count": 80,
   "metadata": {},
   "outputs": [],
   "source": [
    "if x>5 and x%2==0:\n",
    "    print('x is larger than 5 and divisible by 2!')"
   ]
  },
  {
   "cell_type": "code",
   "execution_count": 84,
   "metadata": {},
   "outputs": [
    {
     "output_type": "stream",
     "name": "stdout",
     "text": [
      "\n"
     ]
    }
   ],
   "source": [
    "list_ = [1, 2, 4, 6, 7, 8]\n",
    "\n",
    "list_[3:5]\n",
    "\n",
    "# Treat the colon as the operator with lowest priority\n",
    "list_[z+1 : z+2]\n",
    "\n",
    "# In an extended slice, both colons must be\n",
    "# surrounded by the same amount of whitespace\n",
    "list_[3:4:5]\n",
    "list_[z+1 : x+2 : x+3]\n",
    "\n",
    "# The space is omitted if a slice parameter is omitted\n",
    "list_[z+1 : z+2 :]\n",
    "\n",
    "print(\"\")"
   ]
  },
  {
   "source": [
    "## **When to Avoid Adding Whitespace**\n",
    "\n",
    "The most important place to avoid adding whitespace is at the end of a line. This is known as trailing whitespace. It is invisible and can produce errors that are difficult to trace.\n",
    "\n"
   ],
   "cell_type": "markdown",
   "metadata": {}
  },
  {
   "cell_type": "code",
   "execution_count": null,
   "metadata": {},
   "outputs": [],
   "source": [
    "list_ = [1, 2, 4, 6, 7, 8]\n"
   ]
  },
  {
   "cell_type": "code",
   "execution_count": null,
   "metadata": {},
   "outputs": [],
   "source": [
    "print(x, y)"
   ]
  },
  {
   "source": [
    "- list_\\[1]\n",
    "\n",
    "- tuple_ = (1,)"
   ],
   "cell_type": "markdown",
   "metadata": {}
  },
  {
   "cell_type": "code",
   "execution_count": 88,
   "metadata": {},
   "outputs": [],
   "source": [
    "var1 = 5\n",
    "var2 = 6\n",
    "some_long_var = 7"
   ]
  },
  {
   "cell_type": "code",
   "execution_count": 90,
   "metadata": {},
   "outputs": [
    {
     "output_type": "stream",
     "name": "stdout",
     "text": [
      "6 is bigger than 5\n"
     ]
    }
   ],
   "source": [
    "my_bool = True\n",
    "\n",
    "if my_bool:\n",
    "    print('6 is bigger than 5')"
   ]
  },
  {
   "source": [
    "## **Online**\n",
    "\n",
    "---\n",
    "\n",
    "You so availble in the internet PEP8's corrector with for example:\n",
    "\n",
    "- [PEP8 Online](http://pep8online.com/)  \n",
    "- [PythonChecker](https://www.pythonchecker.com/)"
   ],
   "cell_type": "markdown",
   "metadata": {}
  },
  {
   "source": [
    "## **Formatters**\n",
    "\n",
    "- [Black](https://pypi.org/project/black/): **pip install black**\n",
    "\n",
    "Black is the uncompromising Python code formatter. By using it, you agree to cede   control over minutiae of hand-formatting. In return, Black gives you speed,                  determinism, and freedom from pycodestyle nagging about formatting. You will save            time and mental energy for more important matters."
   ],
   "cell_type": "markdown",
   "metadata": {}
  },
  {
   "source": [
    "# **Numpy**\n",
    "\n",
    "NumPy is the fundamental package for scientific computing in Python. It is a Python library that provides a multidimensional array object, various derived objects (such as masked arrays and matrices), and an assortment of routines for fast operations on arrays, including mathematical, logical, shape manipulation, sorting, selecting, I/O, discrete Fourier transforms, basic linear algebra, basic statistical operations, random simulation and much more.\n",
    "\n",
    "There are several important differences between NumPy arrays and the standard Python sequences:\n",
    "\n",
    "- NumPy arrays have a fixed size at creation, unlike Python lists (which can grow dynamically). Changing the size of an ndarray will create a new array and delete the original.\n",
    "\n",
    "- The elements in a NumPy array are all required to be of the same data type, and thus will be the same size in memory. The exception: one can have arrays of (Python, including NumPy) objects, thereby allowing for arrays of different sized elements.\n",
    "\n",
    "- NumPy arrays facilitate advanced mathematical and other types of operations on large numbers of data. Typically, such operations are executed more efficiently and with less code than is possible using Python’s built-in sequences.\n",
    "\n",
    "<center>\n",
    "<img src=\"https://techscript24.com/wp-content/uploads/2020/10/86498201-a8bd8680-bd39-11ea-9d08-66b610a8dc01.png\" width=\"20% height=\"30%\">\n"
   ],
   "cell_type": "markdown",
   "metadata": {}
  },
  {
   "source": [
    "**Install Numpy**\n",
    "\n",
    "pip install Numpy"
   ],
   "cell_type": "markdown",
   "metadata": {}
  },
  {
   "source": [
    "**Import numpy**"
   ],
   "cell_type": "markdown",
   "metadata": {}
  },
  {
   "cell_type": "code",
   "execution_count": 2,
   "metadata": {},
   "outputs": [],
   "source": [
    "import numpy as np"
   ]
  },
  {
   "source": [
    "Convert a list in **Numpy** array\n",
    "\n",
    "1."
   ],
   "cell_type": "markdown",
   "metadata": {}
  },
  {
   "cell_type": "code",
   "execution_count": 23,
   "metadata": {},
   "outputs": [
    {
     "output_type": "stream",
     "name": "stdout",
     "text": [
      "array:[[1 3 4 5]]\n\n type: <type 'numpy.ndarray'>\n"
     ]
    }
   ],
   "source": [
    "numpy_array_example_1 = np.array([[1, 3, 4, 5]])\n",
    "\n",
    "print(\"array:{}\\n\\n type: {}\".format(numpy_array_example_1, type(numpy_array_example_1)))"
   ]
  },
  {
   "cell_type": "code",
   "execution_count": 24,
   "metadata": {},
   "outputs": [
    {
     "output_type": "stream",
     "name": "stdout",
     "text": [
      "(1, 4)\n"
     ]
    }
   ],
   "source": [
    "print(numpy_array_example_1.shape)"
   ]
  },
  {
   "source": [
    "2."
   ],
   "cell_type": "markdown",
   "metadata": {}
  },
  {
   "cell_type": "code",
   "execution_count": 26,
   "metadata": {},
   "outputs": [
    {
     "output_type": "stream",
     "name": "stdout",
     "text": [
      "array:['1' '3' '4' 'hello']\n\n type: <type 'numpy.ndarray'>\n"
     ]
    }
   ],
   "source": [
    "numpy_array_example_2 = np.array([1, 3, 4, \"hello\"])\n",
    "\n",
    "print(\"array:{}\\n\\n type: {}\".format(numpy_array_example_2, type(numpy_array_example_2)))"
   ]
  },
  {
   "source": [
    "3. "
   ],
   "cell_type": "markdown",
   "metadata": {}
  },
  {
   "cell_type": "code",
   "execution_count": 51,
   "metadata": {},
   "outputs": [
    {
     "output_type": "stream",
     "name": "stdout",
     "text": [
      "array:(1, 4)\n\n type: <type 'numpy.ndarray'>\n"
     ]
    }
   ],
   "source": [
    "numpy_array_example_3 = np.array([[1, 3, 4, 3.4]])\n",
    "\n",
    "print(\"array:{}\\n\\n type: {}\".format(numpy_array_example_3, type(numpy_array_example_3)))"
   ]
  },
  {
   "source": [
    "---"
   ],
   "cell_type": "markdown",
   "metadata": {}
  },
  {
   "cell_type": "code",
   "execution_count": 55,
   "metadata": {},
   "outputs": [
    {
     "output_type": "execute_result",
     "data": {
      "text/plain": [
       "dtype('int64')"
      ]
     },
     "metadata": {},
     "execution_count": 55
    }
   ],
   "source": [
    "numpy_array_example_1.dtype"
   ]
  },
  {
   "cell_type": "code",
   "execution_count": 64,
   "metadata": {},
   "outputs": [
    {
     "output_type": "execute_result",
     "data": {
      "text/plain": [
       "(1, 4)"
      ]
     },
     "metadata": {},
     "execution_count": 64
    }
   ],
   "source": [
    "numpy_array_example_1.shape"
   ]
  },
  {
   "cell_type": "code",
   "execution_count": 62,
   "metadata": {},
   "outputs": [
    {
     "output_type": "execute_result",
     "data": {
      "text/plain": [
       "2"
      ]
     },
     "metadata": {},
     "execution_count": 62
    }
   ],
   "source": [
    "numpy_array_example_1.ndim"
   ]
  },
  {
   "source": [
    "numpy_array_example_1.size"
   ],
   "cell_type": "code",
   "metadata": {},
   "execution_count": 60,
   "outputs": [
    {
     "output_type": "execute_result",
     "data": {
      "text/plain": [
       "4"
      ]
     },
     "metadata": {},
     "execution_count": 60
    }
   ]
  },
  {
   "cell_type": "code",
   "execution_count": 69,
   "metadata": {},
   "outputs": [
    {
     "output_type": "execute_result",
     "data": {
      "text/plain": [
       "8"
      ]
     },
     "metadata": {},
     "execution_count": 69
    }
   ],
   "source": [
    "numpy_array_example_1.itemsize"
   ]
  },
  {
   "cell_type": "code",
   "execution_count": 70,
   "metadata": {},
   "outputs": [
    {
     "output_type": "execute_result",
     "data": {
      "text/plain": [
       "<read-write buffer for 0x7f8381cc8940, size 32, offset 0 at 0x7f8381c583b0>"
      ]
     },
     "metadata": {},
     "execution_count": 70
    }
   ],
   "source": [
    "numpy_array_example_1.data"
   ]
  },
  {
   "source": [
    "## **Operation with Numpy**\n",
    "---\n",
    "\n"
   ],
   "cell_type": "markdown",
   "metadata": {}
  },
  {
   "source": [
    "### **Sum**"
   ],
   "cell_type": "markdown",
   "metadata": {}
  },
  {
   "cell_type": "code",
   "execution_count": 72,
   "metadata": {},
   "outputs": [],
   "source": [
    "list_1 = [1, 2, 4, 5]  #Initialize a python's list\n",
    "\n",
    "list_2 = [1, 5, 5, 4]  #Initialize a python's list "
   ]
  },
  {
   "cell_type": "code",
   "execution_count": 81,
   "metadata": {},
   "outputs": [],
   "source": [
    "list_array_1 = np.array([[1, 2, 4, 5]])  #Initialize a numpy array shape (1, 4)\n",
    "\n",
    "list_array_2 = np.array([[1, 3, 5, 6]])  #Initialize a numpy array shape (1, 4)"
   ]
  },
  {
   "source": [
    "**Compare**"
   ],
   "cell_type": "markdown",
   "metadata": {}
  },
  {
   "cell_type": "code",
   "execution_count": 79,
   "metadata": {},
   "outputs": [
    {
     "output_type": "stream",
     "name": "stdout",
     "text": [
      "[1, 2, 4, 5, 1, 5, 5, 4]\n"
     ]
    }
   ],
   "source": [
    "print(list_1 + list_2)  #The list_2 is adding at the final of list_1"
   ]
  },
  {
   "cell_type": "code",
   "execution_count": 78,
   "metadata": {},
   "outputs": [
    {
     "output_type": "stream",
     "name": "stdout",
     "text": [
      "[[ 2  5  9 11]]\n"
     ]
    }
   ],
   "source": [
    "print(list_array_1 + list_array_2)  #Don't forget arrays' sum with (1, 4) + (1, 4) -> (1, 4)"
   ]
  },
  {
   "source": [
    "## Broadcasting\n",
    "---"
   ],
   "cell_type": "markdown",
   "metadata": {}
  },
  {
   "cell_type": "code",
   "execution_count": 80,
   "metadata": {},
   "outputs": [
    {
     "output_type": "execute_result",
     "data": {
      "text/plain": [
       "array([[5, 6, 8, 9]])"
      ]
     },
     "metadata": {},
     "execution_count": 80
    }
   ],
   "source": [
    "list_array_1 + 4  #Rember the shape for the list_array_1 ->(1,4) and the list is:[1, 2, 4, 5]"
   ]
  },
  {
   "cell_type": "code",
   "execution_count": 95,
   "metadata": {},
   "outputs": [
    {
     "output_type": "execute_result",
     "data": {
      "text/plain": [
       "array([[ 2,  6,  9, 11],\n",
       "       [ 2,  7, 10, 12]])"
      ]
     },
     "metadata": {},
     "execution_count": 95
    }
   ],
   "source": [
    "list_array_3 = [[1, 3, 4, 5], [1, 4, 5, 6]]  # Initialize a python's list  two sublist\n",
    "\n",
    "list_array_3 = np.array(list_array_3) #Convert the list in Numpy's array with shape -> (2, 4)\n",
    "\n",
    "list_array_2 + list_array_3  #Sum two Numpy arrays' with shape: (1, 4) + (2, 4) -> (2, 4)"
   ]
  },
  {
   "cell_type": "code",
   "execution_count": 106,
   "metadata": {},
   "outputs": [
    {
     "output_type": "execute_result",
     "data": {
      "text/plain": [
       "array([[ 2,  4,  5,  6],\n",
       "       [ 4,  6,  7,  8],\n",
       "       [ 6,  8,  9, 10],\n",
       "       [ 7,  9, 10, 11]])"
      ]
     },
     "metadata": {},
     "execution_count": 106
    }
   ],
   "source": [
    "list_array_4 =  [[1, 3, 4, 5]]  #Initialize a python's list (1, 4) \n",
    "\n",
    "list_array_4 = np.array(list_array_4) #Actualize the list_array_4 shape: (1, 4)\n",
    "\n",
    "list_array_4 + list_array_2.T #shape (1, 4) + (4, 1) -> (4, 4)"
   ]
  },
  {
   "source": [
    "Is it possible? What is the shape of this?\n",
    "\n",
    "list_array_4 + list_array_3.T #shape (1, 4) + (4, 2) -> ?"
   ],
   "cell_type": "markdown",
   "metadata": {}
  },
  {
   "source": [
    "**Division**"
   ],
   "cell_type": "markdown",
   "metadata": {}
  },
  {
   "cell_type": "code",
   "execution_count": 109,
   "metadata": {},
   "outputs": [],
   "source": [
    "list_array_5 = np.random.randn(2, 6) #Initialize numpy's array \n",
    "\n",
    "list_array_6 = np.random.randn(1,6) #Initialize numpy's array"
   ]
  },
  {
   "cell_type": "code",
   "execution_count": 123,
   "metadata": {},
   "outputs": [
    {
     "output_type": "execute_result",
     "data": {
      "text/plain": [
       "array([[ 0.08880278, -0.15692396,  0.50227734,  0.75372394, -0.10482422,\n",
       "        -0.09868096],\n",
       "       [-0.0394082 ,  0.03715227, -0.12289026,  0.00133819,  0.38420478,\n",
       "        -0.16264112]])"
      ]
     },
     "metadata": {},
     "execution_count": 123
    }
   ],
   "source": [
    "list_array_5 / 3 #Divide with three"
   ]
  },
  {
   "cell_type": "code",
   "execution_count": 113,
   "metadata": {},
   "outputs": [
    {
     "output_type": "execute_result",
     "data": {
      "text/plain": [
       "array([[ -2.23436106,  -5.16067012,  -0.20325389,  -0.05027103,\n",
       "          1.08418275,   1.68437749],\n",
       "       [  5.03492905,  21.79766721,   0.83073972, -28.31463808,\n",
       "         -0.29580217,   1.02198009]])"
      ]
     },
     "metadata": {},
     "execution_count": 113
    }
   ],
   "source": [
    "list_array_6 / list_array_5 # Divide (1, 6) / (2, 6) -> (2, 6)"
   ]
  },
  {
   "cell_type": "code",
   "execution_count": 117,
   "metadata": {},
   "outputs": [
    {
     "output_type": "execute_result",
     "data": {
      "text/plain": [
       "array([[ -1.6799595 ,  -5.0398785 ,  -6.71983801,  -8.39979751],\n",
       "       [  0.41160759,   1.23482277,   1.64643036,   2.05803795],\n",
       "       [ -3.26509852,  -9.79529557, -13.06039409, -16.32549262],\n",
       "       [ -8.79728437, -26.39185312, -35.18913749, -43.98642186],\n",
       "       [ -2.93301735,  -8.79905204, -11.73206939, -14.66508673],\n",
       "       [ -2.00542277,  -6.01626831,  -8.02169108, -10.02711386]])"
      ]
     },
     "metadata": {},
     "execution_count": 117
    }
   ],
   "source": [
    "list_array_4 / list_array_6.T #Divede (1, 4) / (6, 1) -> (6, 4)"
   ]
  },
  {
   "source": [
    "Is it possible?  What is the shape of this?\n",
    "\n",
    "- list_array_4 / list_array_6 #shape (1, 4) / (1, 6) -> ?\n",
    "\n",
    "- shape (2, 5) / (3, 1) -> ?"
   ],
   "cell_type": "markdown",
   "metadata": {}
  },
  {
   "source": [
    "## **Vectorization**"
   ],
   "cell_type": "markdown",
   "metadata": {}
  },
  {
   "cell_type": "code",
   "execution_count": 142,
   "metadata": {},
   "outputs": [],
   "source": [
    "import math\n",
    "\n",
    "math_sigmoid = lambda x: 1 / (1 + math.exp(-x))\n",
    "\n",
    "numpy_sigmoid = lambda x : 1 / (1 + np.exp(-x)) "
   ]
  },
  {
   "cell_type": "code",
   "execution_count": 132,
   "metadata": {},
   "outputs": [
    {
     "output_type": "execute_result",
     "data": {
      "text/plain": [
       "array([[0.66228848, 0.14566119, 0.32989347, 0.02052255, 0.36830701,\n",
       "        0.15360747]])"
      ]
     },
     "metadata": {},
     "execution_count": 132
    }
   ],
   "source": [
    "vector_example_1 = np.random.rand(1, 6)\n",
    "\n",
    "vector_example_1"
   ]
  },
  {
   "cell_type": "code",
   "execution_count": 176,
   "metadata": {},
   "outputs": [
    {
     "output_type": "execute_result",
     "data": {
      "text/plain": [
       "array([0.65977428, 0.53635105, 0.58173346, 0.50513046, 0.59104983,\n",
       "       0.53832654])"
      ]
     },
     "metadata": {},
     "execution_count": 176
    }
   ],
   "source": [
    "auxiliar_array = np.empty(vector_example_1.shape[1])\n",
    "\n",
    "for ix in range(vector_example_1.shape[1]):\n",
    "    auxiliar_array[ix] = math_sigmoid(vector_example_1[0][ix])\n",
    "\n",
    "auxiliar_array"
   ]
  },
  {
   "cell_type": "code",
   "execution_count": 143,
   "metadata": {},
   "outputs": [
    {
     "output_type": "execute_result",
     "data": {
      "text/plain": [
       "array([[0.65977428, 0.53635105, 0.58173346, 0.50513046, 0.59104983,\n",
       "        0.53832654]])"
      ]
     },
     "metadata": {},
     "execution_count": 143
    }
   ],
   "source": [
    "numpy_sigmoid(vector_example_1)"
   ]
  }
 ]
}
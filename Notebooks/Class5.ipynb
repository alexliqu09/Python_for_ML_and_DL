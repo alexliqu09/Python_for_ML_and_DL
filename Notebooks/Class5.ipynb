{
 "metadata": {
  "language_info": {
   "codemirror_mode": {
    "name": "ipython",
    "version": 3
   },
   "file_extension": ".py",
   "mimetype": "text/x-python",
   "name": "python",
   "nbconvert_exporter": "python",
   "pygments_lexer": "ipython3",
   "version": "3.7.6-final"
  },
  "orig_nbformat": 2,
  "kernelspec": {
   "name": "python37664bitenvedcaa27485164f5ca1e6f919bbcb0a3d",
   "display_name": "Python 3.7.6 64-bit ('env')",
   "language": "python"
  }
 },
 "nbformat": 4,
 "nbformat_minor": 2,
 "cells": [
  {
   "source": [
    "# ***Python for ML/DL***\n",
    "---\n",
    "\n",
    "<center>\n",
    "<img src=\"https://ehackz.com/wp-content/uploads/2018/02/Python.jpg\" height = \"40%\" width = \"60%\">"
   ],
   "cell_type": "markdown",
   "metadata": {}
  },
  {
   "source": [
    "## **Introduction PEP8**\n",
    "\n",
    "<center>\n",
    "<img src=\"https://d2o2utebsixu4k.cloudfront.net/media/images/1a38e5b6-4815-4390-ad92-a52b825fba0b.jpg\" height=\"70%\" width=\"80%\">"
   ],
   "cell_type": "markdown",
   "metadata": {}
  },
  {
   "source": [
    "### **Naming Conventions**\n",
    "\n",
    "When you write Python code, you will avoid the inappropriate variables names . Choosing  names will save you time and you’ll be able to figure out, from the name, what a certain variable, function, or class represents.\n",
    "\n",
    "### **Sytels**\n",
    "\n",
    "**Function**: Use a word or words in lowercase and separate with underscore.\n",
    "\n",
    "**Variable**: Use a lowercase single letter, word, or words. Separate words with underscores.\n",
    "\n",
    "**Class**: Use upper in the first letter and don't separate the words with underscore.\n",
    "\n",
    "**methods**: Use a lowercase word or words and separete with underscores.\n",
    "\n",
    "**Constant**: Use an uppercase single letter, word, or words. Separate words with underscores\n",
    "\n",
    "**Module**: Use lowercase word or words  with underscores.\n",
    "\n",
    "**package**: Use lowercase and do not underscores."
   ],
   "cell_type": "markdown",
   "metadata": {}
  },
  {
   "source": [
    "**Variable**"
   ],
   "cell_type": "markdown",
   "metadata": {}
  },
  {
   "cell_type": "code",
   "execution_count": 7,
   "metadata": {},
   "outputs": [
    {
     "output_type": "stream",
     "name": "stdout",
     "text": [
      "Juan Perez\n"
     ]
    }
   ],
   "source": [
    "full_name = \"Juan Perez\"\n",
    "name, surname = full_name.split()\n",
    "\n",
    "print(name, surname)"
   ]
  },
  {
   "source": [
    "**Constant**"
   ],
   "cell_type": "markdown",
   "metadata": {}
  },
  {
   "cell_type": "code",
   "execution_count": 32,
   "metadata": {},
   "outputs": [
    {
     "output_type": "execute_result",
     "data": {
      "text/plain": [
       "['Samsung', 'Huaweii', 'Nokia', 'Claro']"
      ]
     },
     "metadata": {},
     "execution_count": 32
    }
   ],
   "source": [
    "NAME_MOVIL_PHONE = [\n",
    "    'Samsung',\n",
    "    'Huaweii',\n",
    "    'Nokia',\n",
    "    'Claro'\n",
    "]\n",
    "\n",
    "NAME_MOVIL_PHONE"
   ]
  },
  {
   "source": [
    "**Function**"
   ],
   "cell_type": "markdown",
   "metadata": {}
  },
  {
   "cell_type": "code",
   "execution_count": 46,
   "metadata": {},
   "outputs": [],
   "source": [
    "def random_choise():\n",
    "    return None"
   ]
  },
  {
   "source": [
    "**Class**"
   ],
   "cell_type": "markdown",
   "metadata": {}
  },
  {
   "cell_type": "code",
   "execution_count": 44,
   "metadata": {},
   "outputs": [],
   "source": [
    "class MovilPhone():\n",
    "    pass"
   ]
  },
  {
   "source": [
    "### **Code Layout**\n",
    "\n",
    "We also learn about indentation because it is very important to make your code more readable. Here you will learn how to handle the PEP8 recommended limit of 79 lines of characters."
   ],
   "cell_type": "markdown",
   "metadata": {}
  },
  {
   "source": [
    "Surround top-level functions and classes with two blank lines. "
   ],
   "cell_type": "markdown",
   "metadata": {}
  },
  {
   "source": [
    "class FirstClass():\n",
    "    pass\n",
    "\n",
    "\n",
    "class SecondClass():\n",
    "    pass\n",
    "\n",
    "\n",
    "def top_level_function():\n",
    "    return None"
   ],
   "cell_type": "code",
   "metadata": {},
   "execution_count": 54,
   "outputs": []
  },
  {
   "source": [
    "Surround method definitions inside classes with a single blank line."
   ],
   "cell_type": "markdown",
   "metadata": {}
  },
  {
   "cell_type": "code",
   "execution_count": 55,
   "metadata": {},
   "outputs": [],
   "source": [
    "class MovilPhone():\n",
    "    def __init__(self):\n",
    "        return None\n",
    "\n",
    "    def __str__(self):\n",
    "        return None"
   ]
  },
  {
   "source": [
    "Use blank lines sparingly inside functions to show clear steps."
   ],
   "cell_type": "markdown",
   "metadata": {}
  },
  {
   "source": [
    "import numpy as np\n",
    "\n",
    "def normalization(name_array):\n",
    "    mean = np.median(name_array)\n",
    "\n",
    "    std = np.std(name_array)\n",
    "\n",
    "    return (name_array-mean)/std"
   ],
   "cell_type": "code",
   "metadata": {},
   "execution_count": 52,
   "outputs": []
  },
  {
   "source": [
    "Maximum Line Length and Line Breaking\n",
    "\n",
    "PEP 8 suggests lines should be limited to 79 characters. This is because it allows you to have multiple files open next to one another, while also avoiding line wrapping."
   ],
   "cell_type": "markdown",
   "metadata": {}
  },
  {
   "cell_type": "code",
   "execution_count": 56,
   "metadata": {},
   "outputs": [],
   "source": [
    "def function(arg_1,arg_2,\n",
    "             arg_3,arg_4):\n",
    "    return None"
   ]
  },
  {
   "cell_type": "code",
   "execution_count": 57,
   "metadata": {},
   "outputs": [],
   "source": [
    "from torch import nn, functional, \\\n",
    "    cuda, onnx"
   ]
  },
  {
   "source": [
    "If line breaking needs to occur around binary operators, like + and *, it should occur before the operator. This rule stems from mathematics. Mathematicians agree that breaking before binary operators improves readability. "
   ],
   "cell_type": "markdown",
   "metadata": {}
  },
  {
   "cell_type": "code",
   "execution_count": 69,
   "metadata": {},
   "outputs": [],
   "source": [
    "lamda =  0.01\n",
    "\n",
    "size = 50\n",
    "\n",
    "weight_sum = 0.956 \n",
    "\n",
    "regularization = (lamda\n",
    "            * weight_sum\n",
    "            / size)"
   ]
  },
  {
   "source": [
    "**Indentation Following Line Breaks**\n",
    "\n",
    "When you’re using line continuations to keep lines to under 79 characters, it is useful to use indentation to improve readability. It allows the reader to distinguish between two lines of code and a single line of code that spans two lines."
   ],
   "cell_type": "markdown",
   "metadata": {}
  },
  {
   "source": [
    "'''\n",
    "while (flag=True or \n",
    "       count<200):\n",
    "       print(count)\n",
    "       -----\n",
    "'''"
   ],
   "cell_type": "code",
   "metadata": {},
   "execution_count": null,
   "outputs": []
  },
  {
   "source": [
    "flag = True\n",
    "\n",
    "count = 0\n",
    "\n",
    "while (flag == True and \n",
    "              count<5):\n",
    "       count +=1"
   ],
   "cell_type": "code",
   "metadata": {},
   "execution_count": 64,
   "outputs": []
  },
  {
   "cell_type": "code",
   "execution_count": null,
   "metadata": {},
   "outputs": [],
   "source": [
    "flag = True\n",
    "\n",
    "count = 0\n",
    "\n",
    "while (flag == True and \n",
    "       count<5):\n",
    "       #Here initialize the code\n",
    "       count +=1"
   ]
  },
  {
   "source": [
    "**hanging indent**"
   ],
   "cell_type": "markdown",
   "metadata": {}
  },
  {
   "cell_type": "code",
   "execution_count": 70,
   "metadata": {},
   "outputs": [],
   "source": [
    "def function(\n",
    "        arg_1, arg_2,\n",
    "        arg_3, arg_4):\n",
    "    return None"
   ]
  },
  {
   "cell_type": "code",
   "execution_count": 72,
   "metadata": {},
   "outputs": [],
   "source": [
    "var = function(\n",
    "    1, 2,\n",
    "    3, 4)\n"
   ]
  },
  {
   "source": [
    "**Closing Brace**\n",
    "\n",
    "Line up the closing brace with the first non-whitespace character of the previous line:"
   ],
   "cell_type": "markdown",
   "metadata": {}
  },
  {
   "cell_type": "code",
   "execution_count": 73,
   "metadata": {},
   "outputs": [],
   "source": [
    "prime = [\n",
    "    2, 3, 5,\n",
    "    7, 11, 13\n",
    "    ]"
   ]
  },
  {
   "source": [
    "Line up the closing brace with the first character of the line that starts the construct:"
   ],
   "cell_type": "markdown",
   "metadata": {}
  },
  {
   "cell_type": "code",
   "execution_count": 74,
   "metadata": {},
   "outputs": [],
   "source": [
    "prime = [\n",
    "    2, 3, 5,\n",
    "    7, 11, 13\n",
    "]"
   ]
  },
  {
   "source": [
    "**Block Comments**\n",
    "\n",
    "They are useful when you have to write several lines of code to perform a single action, such as importing data from a file or updating a database entry. They are important as they help others understand the purpose and functionality of a given code block.\n",
    "\n",
    "- Indent block comments to the same level as the code they describe.\n",
    "- Start each line with a # followed by a single space.\n",
    "- Separate paragraphs by a line containing a single #.\n",
    "\n"
   ],
   "cell_type": "markdown",
   "metadata": {}
  },
  {
   "cell_type": "code",
   "execution_count": 76,
   "metadata": {},
   "outputs": [],
   "source": [
    "x = 5  # This is an inline comment\n",
    "\n",
    "x = 'John Smith'  # Student Name\n",
    "\n",
    "empty_list = []  # Initialize empty list\n",
    "\n",
    "x = 5\n",
    "x = x * 5  # Multiply x by 5    "
   ]
  },
  {
   "source": [
    "**Documentation Strings**\n",
    "\n",
    "\n",
    "Documentation strings, or docstrings, are strings enclosed in double (\"\"\") or single (''') quotation marks that appear on the first line of any function, class, method, or module. \n",
    "\n",
    "The most important rules applying to docstrings are the following:\n",
    "\n",
    "Surround docstrings with three double quotes on either side, as in \"\"\"This is a docstring\"\"\".\n",
    "\n",
    "Write them for all public modules, functions, classes, and methods.\n",
    "\n",
    "Put the \"\"\" that ends a multiline docstring on a line by itself"
   ],
   "cell_type": "markdown",
   "metadata": {}
  },
  {
   "cell_type": "code",
   "execution_count": null,
   "metadata": {},
   "outputs": [],
   "source": [
    "import torch.nn as nn\n",
    "import torch.nn.functional as F\n",
    "\n",
    "class Model(nn.Module):\n",
    "    \"\"\"This  is an subclass of super class nn.Module\n",
    "    To create a subclass, you need implements the folowing two methods.\n",
    "       --<__init__>: initialize the class; this module call the super(Model, self).__init__()\n",
    "       --<forward>: produce intermediate results.\n",
    "    \"\"\" \n",
    "    def __init__(self, opt):\n",
    "    \"\"\"Initialize the Model class\n",
    "    Parameters:\n",
    "        opt (option )-- pass a dictionary with the hypeparameters.\n",
    "    when implements this class\n",
    "        -- self.device (str): specify the device type.\n",
    "        -- self.epoch (int): define the epoch.\n",
    "        -- self.conv1 (torch.nn.modules.conv.Conv2d):  define the first conv2d\n",
    "        -- self.conv2 (torch.nn.modules.conv.Conv2d): define the second conv2d\n",
    "    \"\"\"\n",
    "        super(Model, self).__init__()\n",
    "        self.device = opt[\"gpu_is\"]\n",
    "        self.epoch = opt[\"epoch\"]\n",
    "        self.conv1 = nn.Conv2d(1, 20, 5)\n",
    "        self.conv2 = nn.Conv2d(20, 20, 5)\n",
    "\n",
    "    def forward(self, x):\n",
    "        \"\"\"Run forward pass\"\"\"\n",
    "        x = F.relu(self.conv1(x))\n",
    "        return F.relu(self.conv2(x))"
   ]
  }
 ]
}
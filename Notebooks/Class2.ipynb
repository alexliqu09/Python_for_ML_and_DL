{
 "metadata": {
  "language_info": {
   "codemirror_mode": {
    "name": "ipython",
    "version": 3
   },
   "file_extension": ".py",
   "mimetype": "text/x-python",
   "name": "python",
   "nbconvert_exporter": "python",
   "pygments_lexer": "ipython3",
   "version": "3.7.6-final"
  },
  "orig_nbformat": 2,
  "kernelspec": {
   "name": "python37664bitenvvenv21fe8ca208ed41e988733c4ab5dda3b2",
   "display_name": "Python 3.7.6 64-bit ('env': venv)",
   "language": "python"
  }
 },
 "nbformat": 4,
 "nbformat_minor": 2,
 "cells": [
  {
   "source": [
    "# ***Python for ML/DL***\n",
    "---\n",
    "<center>\n",
    "<img src=\"https://ehackz.com/wp-content/uploads/2018/02/Python.jpg\" height = \"40%\" width = \"60%\">"
   ],
   "cell_type": "markdown",
   "metadata": {}
  },
  {
   "source": [
    "## **Conditional**\n",
    "\n",
    "-----\n",
    "\n",
    "1. **if**\n",
    "2. ** if-else**\n",
    "3. **elif**\n",
    "4. **Short hand if-else**"
   ],
   "cell_type": "markdown",
   "metadata": {}
  },
  {
   "source": [
    "<center>\n",
    "<img src=\"https://media.geeksforgeeks.org/wp-content/uploads/if-else.jpg\" width=\"30%\" height=\"20%\"> "
   ],
   "cell_type": "markdown",
   "metadata": {}
  },
  {
   "source": [
    "### Use of if\n",
    "---"
   ],
   "cell_type": "markdown",
   "metadata": {}
  },
  {
   "source": [
    "**Example 1**\n",
    "\n",
    "Use the if statement and show that this number is positive."
   ],
   "cell_type": "markdown",
   "metadata": {}
  },
  {
   "cell_type": "code",
   "execution_count": 14,
   "metadata": {},
   "outputs": [
    {
     "output_type": "stream",
     "name": "stdout",
     "text": [
      "The number 5 is positive\n"
     ]
    }
   ],
   "source": [
    "number = int(input(\"Give me a number: \"))\n",
    "\n",
    "if number >= 0:\n",
    "    print(f\"The number {number} is positive\")\n"
   ]
  },
  {
   "source": [
    "**Example 2**\n",
    "\n",
    "Use only \"if\" statement to compare 2 numbers."
   ],
   "cell_type": "markdown",
   "metadata": {}
  },
  {
   "cell_type": "code",
   "execution_count": 2,
   "metadata": {},
   "outputs": [
    {
     "output_type": "stream",
     "name": "stdout",
     "text": [
      "4 is greater than 3\n"
     ]
    }
   ],
   "source": [
    "a = input(\"Give me a Number\")\n",
    "b = input(\"Give me a Number\")\n",
    "\n",
    "if a < b:\n",
    "    print(f\" {b} is greater than {a}\")\n",
    "if b < a:\n",
    "    print(f\" {a} is greater than {b}\")\n",
    "if b == a:\n",
    "    print(f\" {b} and {a} are the same\")"
   ]
  },
  {
   "source": [
    "### **Aplication**\n",
    "---\n",
    "1. Define the function initializer_Normal with 2 parameters (size_l/init) where for          default init =\"He\" and use only if statement with the condition  (init = \"xavier\" ) to    return the [Xavier](https://www.deeplearning.ai/ai-notes/initialization/#IV) initializer otherwise return the [He](https://www.machinecurve.com/index.php/2019/09/16/he-xavier-initialization-activation-functions-choose-wisely/#he-initialization) initializer.\n"
   ],
   "cell_type": "markdown",
   "metadata": {}
  },
  {
   "cell_type": "code",
   "execution_count": 39,
   "metadata": {},
   "outputs": [
    {
     "output_type": "stream",
     "name": "stdout",
     "text": [
      "He initializer: 0.6324555320336759\nXavier Initializer: 0.4472135954999579\n"
     ]
    }
   ],
   "source": [
    "import math\n",
    "\n",
    "\n",
    "def initializer_Normal(size_l, init=\"he\"):\n",
    "    if init == \"xavier\":\n",
    "        return math.sqrt(1 / (size_l))\n",
    "    return math.sqrt(2 / size_l)\n",
    "\n",
    "\n",
    "print(f\"He initializer: {initializer_Normal(size_l=5)}\")\n",
    "\n",
    "print(f'Xavier Initializer: {initializer_Normal(init=\"xavier\",size_l=5)}')\n"
   ]
  },
  {
   "source": [
    "2. Define the [Sigmoid](https://en.wikipedia.org/wiki/Sigmoid_function) function and use the if statement for define the main function"
   ],
   "cell_type": "markdown",
   "metadata": {}
  },
  {
   "cell_type": "code",
   "execution_count": 40,
   "metadata": {},
   "outputs": [
    {
     "output_type": "stream",
     "name": "stdout",
     "text": [
      "Sigmoid value is : 0.52497918747894\n"
     ]
    }
   ],
   "source": [
    "def Sigmoid(x):\n",
    "    return 1 / (1 + math.exp(-x))\n",
    "\n",
    "\n",
    "if __name__ == \"__main__\":\n",
    "\n",
    "    Z = Sigmoid(0.1)\n",
    "    print(f\"Sigmoid value is : {Z}\")"
   ]
  },
  {
   "source": [
    "### Use if-else\n",
    "---"
   ],
   "cell_type": "markdown",
   "metadata": {}
  },
  {
   "source": [
    "**Example 1**\n",
    "\n",
    "Use the input function for receive a String and apply the **if - else** Statement where if the string is \"2020k\" print(\"loading...\") , wait a second and print(\"pass\") otherwise print(\"incorrect\")..\n",
    "\n",
    "Note: \n",
    "\n",
    "- Use the **[time](https://docs.python.org/3/library/time.html)** module."
   ],
   "cell_type": "markdown",
   "metadata": {}
  },
  {
   "cell_type": "code",
   "execution_count": 64,
   "metadata": {},
   "outputs": [
    {
     "output_type": "stream",
     "name": "stdout",
     "text": [
      "loading...\n",
      "pass\n"
     ]
    }
   ],
   "source": [
    "import time\n",
    "\n",
    "password = input(\"Give me your password\")\n",
    "if password == \"2020k\":\n",
    "    print(\"loading...\")\n",
    "    time.sleep(1)\n",
    "    print(\"pass\")\n",
    "else:\n",
    "    print(\"incorrect\")"
   ]
  },
  {
   "source": [
    "### Aplication\n",
    "---\n",
    "\n",
    "Define a list and use [input](https://www.programiz.com/python-programming/methods/built-in/input#:~:text=The%20input()%20method%20reads%20a%20line%20from%20the%20input,trailing%20newline%2C%20and%20returns%20it.) method where you give (0/1)  if 0 [append](https://www.w3schools.com/python/ref_list_append.asp) [Conv2d](https://pytorch.org/docs/stable/generated/torch.nn.Conv2d.html) and [BatchNorm2d](https://pytorch.org/docs/stable/generated/torch.nn.BatchNorm2d.html) otherwise [append](https://www.w3schools.com/python/ref_list_append.asp) [Conv2d](https://pytorch.org/docs/stable/generated/torch.nn.Conv2d.html) and [MaxPool2d](https://pytorch.org/docs/stable/generated/torch.nn.MaxPool2d.html#torch.nn.MaxPool2d) with [Pytorch](https://pytorch.org/).\n"
   ],
   "cell_type": "markdown",
   "metadata": {}
  },
  {
   "cell_type": "code",
   "execution_count": 10,
   "metadata": {},
   "outputs": [
    {
     "output_type": "stream",
     "name": "stdout",
     "text": [
      "[<class 'torch.nn.modules.conv.Conv2d'>, <class 'torch.nn.modules.pooling.MaxPool2d'>]\n"
     ]
    }
   ],
   "source": [
    "Block = []\n",
    "apply_Batch = int(input(\"Give me a 0/1\"))\n",
    "\n",
    "if  apply_Batch:\n",
    "        Block.append(torch.nn.Conv2d)\n",
    "        Block.append(torch.nn.BatchNorm2d)\n",
    "else :\n",
    "        Block.append(torch.nn.Conv2d)\n",
    "        Block.append(torch.nn.MaxPool2d)\n",
    "print(Block)"
   ]
  },
  {
   "source": [
    "### **Use elif**\n",
    "---"
   ],
   "cell_type": "markdown",
   "metadata": {}
  },
  {
   "source": [
    "**Example 1**\n",
    "\n",
    "Make a Menu with 4 options that modifies the text \"Acecom || AI\":\n",
    "\n",
    "1. [lower](https://www.w3schools.com/python/ref_string_lower.asp)\n",
    "\n",
    "2. [upper](https://www.w3schools.com/python/ref_string_upper.asp)\n",
    "\n",
    "3. [split](https://www.w3schools.com/python/ref_string_split.asp)\n",
    "\n",
    "4. [print](https://www.w3schools.com/python/ref_func_print.asp)\n",
    "\n"
   ],
   "cell_type": "markdown",
   "metadata": {}
  },
  {
   "cell_type": "code",
   "execution_count": 112,
   "metadata": {},
   "outputs": [
    {
     "output_type": "stream",
     "name": "stdout",
     "text": [
      "Delimiter: ['Acecom', '', 'AI']\n"
     ]
    }
   ],
   "source": [
    "\n",
    "text = \"Acecom||AI\"\n",
    "\n",
    "op = input(\"Choose or lower\")\n",
    "\n",
    "if op == \"lower\":\n",
    "    print(f\"Text in lower: {text.lower()}\")\n",
    "elif op == \"upper\":\n",
    "    print(f\"Texto in upper: {text.upper()}\")\n",
    "elif op == \"replace\":\n",
    "    print(f\"Replace AI in the text: {text} / {text.replace('AI','DL')}\")\n",
    "elif op == \"delimiter\":\n",
    "    print(f'Delimiter: {text.split(\"|\")}')\n",
    "else:\n",
    "    print(text)"
   ]
  },
  {
   "source": [
    "### Use Short if - else"
   ],
   "cell_type": "markdown",
   "metadata": {}
  },
  {
   "source": [
    "**Example 1**\n",
    "\n",
    "Use the short if - else Statement where you give a number  and compare with the number 15"
   ],
   "cell_type": "markdown",
   "metadata": {}
  },
  {
   "cell_type": "code",
   "execution_count": 21,
   "metadata": {},
   "outputs": [
    {
     "output_type": "stream",
     "name": "stdout",
     "text": [
      "20 is greater or equal than 15\n"
     ]
    }
   ],
   "source": [
    "num = int(input(\"Give me a number: \"))\n",
    "print(f\"{num} is greater or equal than 15\") if num >= 15 else print(f\"{num} is least than 15\" )"
   ]
  },
  {
   "source": [
    "### **Aplication**\n",
    "---\n",
    "\n",
    "Use the short if - else statement for select cude if the method [device](https://pytorch.org/docs/stable/cuda.html) of pytorch find \"cuda\" print(\"GPU available\") else use the \"cpu\" (\"CPU available\").\n",
    "\n",
    "- Note: torch.device() return a boolen."
   ],
   "cell_type": "markdown",
   "metadata": {}
  },
  {
   "cell_type": "code",
   "execution_count": 77,
   "metadata": {},
   "outputs": [
    {
     "output_type": "stream",
     "name": "stdout",
     "text": [
      "GPU available\n"
     ]
    }
   ],
   "source": [
    "device = torch.device(\"cuda\" if torch.cuda.is_available() else \"cpu\")\n",
    "if device:\n",
    "    print(\"GPU available\")\n",
    "else:\n",
    "    print(\"CPU is available\")"
   ]
  },
  {
   "source": [
    "## **Operator**\n",
    "---\n",
    "\n",
    "1. is\n",
    "2. in\n",
    "3. not in\n",
    "\n"
   ],
   "cell_type": "markdown",
   "metadata": {}
  },
  {
   "source": [
    "### **Use is**\n",
    "---\n",
    "\n",
    "This operator compares 2 objects is much stricter than == since the latter focuses on the values and is on the objects. "
   ],
   "cell_type": "markdown",
   "metadata": {}
  },
  {
   "source": [
    "**Example 1**\n",
    "\n",
    "Use the operator is and declarate 2 variables (type int) with the same value \n",
    "and compare."
   ],
   "cell_type": "markdown",
   "metadata": {}
  },
  {
   "cell_type": "code",
   "execution_count": 31,
   "metadata": {},
   "outputs": [
    {
     "output_type": "stream",
     "name": "stdout",
     "text": [
      " Is a equal b? False\n"
     ]
    }
   ],
   "source": [
    "a = 3\n",
    "b = 3\n",
    "\n",
    "print(f\" Is a equal b? {a is b}\")"
   ]
  },
  {
   "source": [
    "**Example 2**\n",
    "Use the operator is and declarate 2 variables (type float) with the same value and compare."
   ],
   "cell_type": "markdown",
   "metadata": {}
  },
  {
   "cell_type": "code",
   "execution_count": 34,
   "metadata": {},
   "outputs": [
    {
     "output_type": "stream",
     "name": "stdout",
     "text": [
      " Is a equal b? False\n"
     ]
    }
   ],
   "source": [
    "a = 5.1\n",
    "b = 3.2\n",
    "print(f\" Is a equal b? {a is b}\")"
   ]
  },
  {
   "source": [
    "**Example 3**\n",
    "\n",
    "Use the operator is and declarate 2 list with same values and compare."
   ],
   "cell_type": "markdown",
   "metadata": {}
  },
  {
   "cell_type": "code",
   "execution_count": 26,
   "metadata": {},
   "outputs": [
    {
     "output_type": "stream",
     "name": "stdout",
     "text": [
      "Is a equal b: False\n"
     ]
    }
   ],
   "source": [
    "a = [1,2,3]\n",
    "b = [1,2,3]\n",
    "\n",
    "print(f\"Is a equal b: {a is b}\")"
   ]
  },
  {
   "source": [
    "**Example 4**\n",
    "\n",
    "Use the operator is and declarate 2 String with same values and compare."
   ],
   "cell_type": "markdown",
   "metadata": {}
  },
  {
   "cell_type": "code",
   "execution_count": 35,
   "metadata": {},
   "outputs": [
    {
     "output_type": "stream",
     "name": "stdout",
     "text": [
      "Is a equal b: True\n"
     ]
    }
   ],
   "source": [
    "a = \"Hello\"\n",
    "b = \"Hello\"\n",
    "print(f\"Is a equal b: {a is b}\")"
   ]
  },
  {
   "source": [
    "### **Use in**\n",
    "---\n",
    "\n",
    "We use the [in](https://www.analyticslane.com/2020/09/28/diferencia-entre-los-operadores-is-y-en-python/) operator to be able to check if a value is found in the specified list by returning a boolean."
   ],
   "cell_type": "markdown",
   "metadata": {}
  },
  {
   "source": [
    "**Example 1**"
   ],
   "cell_type": "markdown",
   "metadata": {}
  },
  {
   "cell_type": "code",
   "execution_count": 34,
   "metadata": {},
   "outputs": [
    {
     "output_type": "stream",
     "name": "stdout",
     "text": [
      "New list:  [1, 5, 6, 8, 4]\n"
     ]
    }
   ],
   "source": [
    "lista = [1, 4, 6, 8, 5]\n",
    "a = 5\n",
    "b = 4\n",
    "if a in lista and b in lista:\n",
    "    lista[lista.index(a)],lista[lista.index(b)] = lista[lista.index(b)],lista[lista.index(a)]\n",
    "    print(\"New list: \",lista)\n",
    "elif a in lista or b in lista:\n",
    "    print(\"Not change\")\n",
    "    "
   ]
  },
  {
   "source": [
    "### **Use not in**\n",
    "---"
   ],
   "cell_type": "markdown",
   "metadata": {}
  },
  {
   "source": [
    "**Example 1**"
   ],
   "cell_type": "markdown",
   "metadata": {}
  },
  {
   "cell_type": "code",
   "execution_count": 4,
   "metadata": {},
   "outputs": [
    {
     "output_type": "execute_result",
     "data": {
      "text/plain": [
       "True"
      ]
     },
     "metadata": {},
     "execution_count": 4
    }
   ],
   "source": [
    "t = 1, 3, 3, 1\n",
    "2 not in t"
   ]
  },
  {
   "source": [
    "**Example 2**"
   ],
   "cell_type": "markdown",
   "metadata": {}
  },
  {
   "cell_type": "code",
   "execution_count": 5,
   "metadata": {},
   "outputs": [
    {
     "output_type": "execute_result",
     "data": {
      "text/plain": [
       "False"
      ]
     },
     "metadata": {},
     "execution_count": 5
    }
   ],
   "source": [
    "L = t, 1, 3, 5\n",
    "t not in L"
   ]
  },
  {
   "source": [
    "**Example 3**"
   ],
   "cell_type": "markdown",
   "metadata": {}
  },
  {
   "cell_type": "code",
   "execution_count": 11,
   "metadata": {},
   "outputs": [
    {
     "output_type": "execute_result",
     "data": {
      "text/plain": [
       "False"
      ]
     },
     "metadata": {},
     "execution_count": 11
    }
   ],
   "source": [
    "text = \"Would you like some breef?\"\n",
    "\n",
    "\"you\" not in text"
   ]
  },
  {
   "source": [
    "## Loops\n",
    "---\n",
    "\n",
    "1. While \n",
    "2. For"
   ],
   "cell_type": "markdown",
   "metadata": {}
  },
  {
   "source": [
    "## **While**\n",
    "---\n"
   ],
   "cell_type": "markdown",
   "metadata": {}
  },
  {
   "source": [
    "### **Single Statement**\n",
    "\n",
    "**Example 1**"
   ],
   "cell_type": "markdown",
   "metadata": {}
  },
  {
   "cell_type": "code",
   "execution_count": 4,
   "metadata": {},
   "outputs": [
    {
     "output_type": "stream",
     "name": "stdout",
     "text": [
      "count:  1\nflag: True\ncount:  2\nflag: True\ncount:  3\nflag: True\ncount:  4\nflag: True\ncount:  5\nflag: True\n"
     ]
    }
   ],
   "source": [
    "count = 0\n",
    "flag = True\n",
    "while count<5 : count+=1 ; print(\"count: \",count) ; print(\"flag:\",flag)   "
   ]
  },
  {
   "source": [
    "### Control Statement\n",
    "---\n",
    "**Example 1**"
   ],
   "cell_type": "markdown",
   "metadata": {}
  },
  {
   "cell_type": "code",
   "execution_count": 40,
   "metadata": {},
   "outputs": [
    {
     "output_type": "stream",
     "name": "stdout",
     "text": [
      "count: 1  flag:  True\ncount: 2  flag:  True\ncount: 3  flag:  True\ncount: 4  flag:  True\ncount: 5  flag:  True\ncount: 6  flag:  True\ncount: 7  flag:  False\n"
     ]
    }
   ],
   "source": [
    "flag = True \n",
    "count = 0\n",
    "while flag :\n",
    "    if count>5:\n",
    "        flag = False\n",
    "    count += 1\n",
    "    print(\"count:\",count,\" flag: \",flag)"
   ]
  },
  {
   "source": [
    "**Example 2**"
   ],
   "cell_type": "markdown",
   "metadata": {}
  },
  {
   "cell_type": "code",
   "execution_count": 46,
   "metadata": {
    "tags": []
   },
   "outputs": [
    {
     "output_type": "stream",
     "name": "stdout",
     "text": [
      "Repetir\nBika\nTrika\nExpulsión\n"
     ]
    }
   ],
   "source": [
    "linea = [\"Repetir\",\"Bika\",\"Trika\",\"Expulsión\"]\n",
    "count  = 0\n",
    "while  count < len(linea):\n",
    "    print(f\"{linea[count]}\")\n",
    "    count += 1"
   ]
  },
  {
   "source": [
    "**Example 3**"
   ],
   "cell_type": "markdown",
   "metadata": {}
  },
  {
   "cell_type": "code",
   "execution_count": 50,
   "metadata": {},
   "outputs": [
    {
     "output_type": "execute_result",
     "data": {
      "text/plain": [
       "4"
      ]
     },
     "metadata": {},
     "execution_count": 50
    }
   ],
   "source": [
    "def mcd(a, b):\n",
    "\tresto = 0\n",
    "\twhile(b > 0):\n",
    "\t\tresto = b\n",
    "\t\tb = a % b\n",
    "\t\ta = resto\n",
    "\treturn a\n",
    "mcd(100,5352)"
   ]
  },
  {
   "source": [
    "**Example 5**"
   ],
   "cell_type": "markdown",
   "metadata": {}
  },
  {
   "cell_type": "code",
   "execution_count": 54,
   "metadata": {},
   "outputs": [
    {
     "output_type": "stream",
     "name": "stdout",
     "text": [
      "el numero:  2 |  el modulo:  11 |  el residuo dado:  2 | el exponente:  1\nel numero:  2 |  el modulo:  11 |  el residuo dado:  4 | el exponente:  2\nel numero:  2 |  el modulo:  11 |  el residuo dado:  8 | el exponente:  3\nel numero:  2 |  el modulo:  11 |  el residuo dado:  5 | el exponente:  4\nel numero:  2 |  el modulo:  11 |  el residuo dado:  10 | el exponente:  5\nel numero:  2 |  el modulo:  11 |  el residuo dado:  9 | el exponente:  6\nel numero:  2 |  el modulo:  11 |  el residuo dado:  7 | el exponente:  7\nel numero:  2 |  el modulo:  11 |  el residuo dado:  3 | el exponente:  8\nel numero:  2 |  el modulo:  11 |  el residuo dado:  6 | el exponente:  9\nel numero:  2 |  el modulo:  11 |  el residuo dado:  1 | el exponente:  10\n"
     ]
    },
    {
     "output_type": "execute_result",
     "data": {
      "text/plain": [
       "10"
      ]
     },
     "metadata": {},
     "execution_count": 54
    }
   ],
   "source": [
    "def imprimir_orden_numero(num1, mod):\n",
    "    if mcd(num1, mod) != 1:\n",
    "        return \"ERROR\"\n",
    "    i = 1\n",
    "    while 1:\n",
    "        if (num1 ** i) % mod == 1:\n",
    "            print(\n",
    "                \"el numero: \",\n",
    "                num1,\n",
    "                \"|\",\n",
    "                \" el modulo: \",\n",
    "                mod,\n",
    "                \"|\",\n",
    "                \" el residuo dado: \",\n",
    "                (num1 ** i) % mod,\n",
    "                \"|\",\n",
    "                \"el exponente: \",\n",
    "                i,\n",
    "            )\n",
    "            break\n",
    "        print(\n",
    "            \"el numero: \",\n",
    "            num1,\n",
    "            \"|\",\n",
    "            \" el modulo: \",\n",
    "            mod,\n",
    "            \"|\",\n",
    "            \" el residuo dado: \",\n",
    "            (num1 ** i) % mod,\n",
    "            \"|\",\n",
    "            \"el exponente: \",\n",
    "            i,\n",
    "        )\n",
    "        i += 1\n",
    "    return i\n",
    "\n",
    "\n",
    "imprimir_orden_numero(2, 11)"
   ]
  },
  {
   "source": [
    "**Example 6**"
   ],
   "cell_type": "markdown",
   "metadata": {}
  },
  {
   "cell_type": "code",
   "execution_count": 43,
   "metadata": {},
   "outputs": [
    {
     "output_type": "stream",
     "name": "stdout",
     "text": [
      "Derivates Sigmoid is: 0.19661193324148185\n",
      "Finish\n"
     ]
    }
   ],
   "source": [
    "import time\n",
    "import random\n",
    "\n",
    "\n",
    "def derivadeSigmoid(x):\n",
    "    return Sigmoid(x) * (1 - Sigmoid(x))\n",
    "\n",
    "\n",
    "while True:\n",
    "    opcion = input(\n",
    "    \"\"\"Choose a Option: \n",
    "    1- Sigmoid\n",
    "    2- derivadeSigmoid\n",
    "    \"\"\"\n",
    "    )\n",
    "    x = random.randrange(0, 5)\n",
    "    if opcion == \"1\":\n",
    "        print(f\"Sigmoid function is: {Sigmoid(x)}\")\n",
    "        break\n",
    "    elif opcion == \"2\":\n",
    "        print(f\"Derivates Sigmoid is: {derivadeSigmoid(x)}\")\n",
    "        break\n",
    "    else:\n",
    "        print(\"You must choose  (1, 2)\")\n",
    "\n",
    "time.sleep(1)\n",
    "\n",
    "print(\"Finish\")"
   ]
  },
  {
   "source": [
    "## **For** \n",
    "---\n",
    "\n",
    "1. in-line\n",
    "2. range\n",
    "3. enumerate\n",
    "4. reversed "
   ],
   "cell_type": "markdown",
   "metadata": {}
  },
  {
   "source": [
    "### **Use in-line**\n",
    "\n",
    "**Example 1**"
   ],
   "cell_type": "markdown",
   "metadata": {}
  },
  {
   "cell_type": "code",
   "execution_count": 50,
   "metadata": {},
   "outputs": [
    {
     "output_type": "stream",
     "name": "stdout",
     "text": [
      "ichi\nni\nsan\nyon\ngo\nroku\nshichi\nhachi\nkyu\n"
     ]
    }
   ],
   "source": [
    "tupla = \"ichi\",\"ni\",\"san\",\"yon\",\"go\",\"roku\",\"shichi\",\"hachi\",\"kyu\"\n",
    "\n",
    "for x in tupla: print(f\"{x}\")"
   ]
  },
  {
   "source": [
    "**Example 2**"
   ],
   "cell_type": "markdown",
   "metadata": {}
  },
  {
   "cell_type": "code",
   "execution_count": 134,
   "metadata": {},
   "outputs": [
    {
     "output_type": "stream",
     "name": "stdout",
     "text": [
      "[0, 2, 4, 6, 8]\n"
     ]
    }
   ],
   "source": [
    "Even = [tupla.index(v) for v in tupla if tupla.index(v)%2==0]\n",
    "print(Even)"
   ]
  },
  {
   "source": [
    "**Example 3**"
   ],
   "cell_type": "markdown",
   "metadata": {}
  },
  {
   "cell_type": "code",
   "execution_count": 49,
   "metadata": {},
   "outputs": [
    {
     "output_type": "stream",
     "name": "stdout",
     "text": [
      "['Python', 'Artificial', 'Deep', 'Pytorch', 'Tensorflow']\n"
     ]
    }
   ],
   "source": [
    "lst =[\"Python\",\"Artificial\",\"AI\",\"Deep\",\"Pytorch\",\"Tensorflow\"]\n",
    "\n",
    "lista = [word for word in lst if lst.index(word)!=2 ]\n",
    "print(lista)"
   ]
  },
  {
   "source": [
    "**Example 4**"
   ],
   "cell_type": "markdown",
   "metadata": {}
  },
  {
   "cell_type": "code",
   "execution_count": 138,
   "metadata": {},
   "outputs": [
    {
     "output_type": "stream",
     "name": "stdout",
     "text": [
      "[('Deep', 0), ('Deep', 2), ('Deep', 4), ('Deep', 6), ('Deep', 8), ('Pytorch', 0), ('Pytorch', 2), ('Pytorch', 4), ('Pytorch', 6), ('Pytorch', 8), ('Tensorflow', 0), ('Tensorflow', 2), ('Tensorflow', 4), ('Tensorflow', 6), ('Tensorflow', 8)]\n"
     ]
    }
   ],
   "source": [
    "print([(word,number) for word in lista for number in Even])"
   ]
  },
  {
   "source": [
    "### **Use Range**\n",
    "---"
   ],
   "cell_type": "markdown",
   "metadata": {}
  },
  {
   "source": [
    "**Example 1**"
   ],
   "cell_type": "markdown",
   "metadata": {}
  },
  {
   "cell_type": "code",
   "execution_count": 131,
   "metadata": {},
   "outputs": [
    {
     "output_type": "stream",
     "name": "stdout",
     "text": [
      "[0, 1, 4, 9, 16]\n"
     ]
    }
   ],
   "source": [
    "print([i**2 for i in range(5)])"
   ]
  },
  {
   "cell_type": "code",
   "execution_count": 52,
   "metadata": {},
   "outputs": [
    {
     "output_type": "stream",
     "name": "stdout",
     "text": [
      "I: 1\nI: 3\nI: 5\n"
     ]
    }
   ],
   "source": [
    "for i in range(1,6,2):\n",
    "    print(f\"I: {i}\")  "
   ]
  },
  {
   "cell_type": "code",
   "execution_count": 56,
   "metadata": {},
   "outputs": [
    {
     "output_type": "stream",
     "name": "stdout",
     "text": [
      "I: 2\nI: 3\nI: 4\nI: 5\nI: 6\nI: 7\nI: 8\nI: 9\nI: 10\nI: 11\nI: 12\nI: 13\nI: 14\n"
     ]
    }
   ],
   "source": [
    "for i in range(20)[2:15]:\n",
    "    print(f\"I: {i}\")"
   ]
  },
  {
   "source": [
    "**Example 2** "
   ],
   "cell_type": "markdown",
   "metadata": {}
  },
  {
   "cell_type": "code",
   "execution_count": 128,
   "metadata": {},
   "outputs": [
    {
     "output_type": "stream",
     "name": "stdout",
     "text": [
      "Sum: 0.08566334577288241\n"
     ]
    }
   ],
   "source": [
    "sum = 0\n",
    "Y = [0,0,1,0,0]\n",
    "Y_hat = [0.05,0.05,0.8,0.05,0.05]\n",
    "\n",
    "def cross_entropy(Y,Y_hat,i):\n",
    "    return  -(1-Y[i])*math.log(1-Y_hat[i]) - Y[i]*math.log(Y_hat[i])\n",
    "\n",
    "for i in range(5): sum+=cross_entropy(Y,Y_hat,i)\n",
    "print(f\"Sum: {sum/5}\")"
   ]
  },
  {
   "source": [
    "### **Use Enumerate**\n",
    "---"
   ],
   "cell_type": "markdown",
   "metadata": {}
  },
  {
   "source": [
    "**Example 1**"
   ],
   "cell_type": "markdown",
   "metadata": {}
  },
  {
   "cell_type": "code",
   "execution_count": 33,
   "metadata": {},
   "outputs": [
    {
     "output_type": "stream",
     "name": "stdout",
     "text": [
      "Bag: [0, 0, 1.0, 0, 1.0, 1.0, 0, 0, 0, 0, 0, 0, 1.0, 0]\n"
     ]
    }
   ],
   "source": [
    "tokenize_sentences = [\"I\",\"fine\",\"thank\",\"Bye\"]\n",
    "tokenize_sentences = [word.lower() for word in tokenize_sentences]\n",
    "\n",
    "all_word = [\"Hello\", \"HYA\" , \"I\", \"you\",\"fine\",\"thank\",\"how\",\"are\",\"cool\",\"Alright\",\"know\",\"joke\",\"Bye\",\"See\"]\n",
    "all_word = [word.lower() for word in all_word]\n",
    "\n",
    "Bag = [0,0,0,0,0,0,0,0,0,0,0,0,0,0]\n",
    "\n",
    "\n",
    "for i,w in  enumerate(all_word):\n",
    "    if w  in tokenize_sentences:\n",
    "        Bag[i] = 1.0\n",
    "print(f\"Bag: {Bag}\")"
   ]
  },
  {
   "source": [
    "**Compare 'Use for'of Example 1 with the cell bellow**\n"
   ],
   "cell_type": "markdown",
   "metadata": {}
  },
  {
   "cell_type": "code",
   "execution_count": 34,
   "metadata": {},
   "outputs": [
    {
     "output_type": "execute_result",
     "data": {
      "text/plain": [
       "[0, 0, 1.0, 0, 1.0, 1.0, 0, 0, 0, 0, 0, 0, 1.0, 0]"
      ]
     },
     "metadata": {},
     "execution_count": 34
    }
   ],
   "source": [
    "bag = [1.0 if w  in tokenize_sentences  else 0 for w in all_word]\n",
    "bag "
   ]
  },
  {
   "source": [
    "### **Use Reversed**\n",
    "---\n",
    "\n",
    "**Example 1**"
   ],
   "cell_type": "markdown",
   "metadata": {}
  },
  {
   "cell_type": "code",
   "execution_count": 87,
   "metadata": {},
   "outputs": [
    {
     "output_type": "stream",
     "name": "stdout",
     "text": [
      "Tensorflow\nPytorch\nDeep\nAI\nArtificial\nPython\n"
     ]
    }
   ],
   "source": [
    "for i in reversed(lst):\n",
    "    print(f\"{i}\")"
   ]
  },
  {
   "source": [
    "**Compare 'Use for'of Example 1 with the cell bellow**"
   ],
   "cell_type": "markdown",
   "metadata": {}
  },
  {
   "cell_type": "code",
   "execution_count": 88,
   "metadata": {},
   "outputs": [
    {
     "output_type": "stream",
     "name": "stdout",
     "text": [
      "Tensorflow\nPytorch\nDeep\nAI\nArtificial\nPython\n"
     ]
    }
   ],
   "source": [
    "for i in lst[::-1]:\n",
    "    print(f\"{i}\")"
   ]
  },
  {
   "source": [
    "**Example 2**"
   ],
   "cell_type": "markdown",
   "metadata": {}
  },
  {
   "cell_type": "code",
   "execution_count": 101,
   "metadata": {},
   "outputs": [
    {
     "output_type": "stream",
     "name": "stdout",
     "text": [
      "Esrever\nReverse\n5\n1\n"
     ]
    }
   ],
   "source": [
    "Tupla = 1,5,\"Reverse\",\"Esrever\"\n",
    "\n",
    "for value in reversed(Tupla):\n",
    "    print(value)\n"
   ]
  }
 ]
}
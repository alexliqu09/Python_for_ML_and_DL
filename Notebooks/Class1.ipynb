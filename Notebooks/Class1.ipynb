{
  "nbformat": 4,
  "nbformat_minor": 0,
  "metadata": {
    "kernelspec": {
      "display_name": "Python 3",
      "language": "python",
      "name": "python3"
    },
    "colab": {
      "name": "Class1.ipynb",
      "provenance": [],
      "include_colab_link": true
    }
  },
  "cells": [
    {
      "cell_type": "markdown",
      "metadata": {
        "id": "view-in-github",
        "colab_type": "text"
      },
      "source": [
        "<a href=\"https://colab.research.google.com/github/alexliqu09/Python_for_ML_and_DL/blob/main/Notebooks/Class1.ipynb\" target=\"_parent\"><img src=\"https://colab.research.google.com/assets/colab-badge.svg\" alt=\"Open In Colab\"/></a>"
      ]
    },
    {
      "cell_type": "markdown",
      "metadata": {
        "id": "8iG-DBJu2vuY"
      },
      "source": [
        "# ***Python for ML/DL***\n",
        "---\n",
        "<center>\n",
        "<img src=\"https://ehackz.com/wp-content/uploads/2018/02/Python.jpg\" height = \"40%\" width = \"60%\">\n"
      ]
    },
    {
      "cell_type": "markdown",
      "metadata": {
        "id": "XQqDVScW2vue"
      },
      "source": [
        "## **List**\n",
        "\n",
        "---\n"
      ]
    },
    {
      "cell_type": "markdown",
      "metadata": {
        "id": "mTC0tjWR2vue"
      },
      "source": [
        "### **Initialize list**\n",
        "\n",
        "---"
      ]
    },
    {
      "cell_type": "code",
      "metadata": {
        "id": "e5DhzSpd2vuf"
      },
      "source": [
        "Blanck = [] \n",
        "List = [1, 2, 3, \"Acecom\", 'AI', \"\"]\n",
        "Number = [0, 1, 4, 5, 3, 4]"
      ],
      "execution_count": null,
      "outputs": []
    },
    {
      "cell_type": "markdown",
      "metadata": {
        "id": "FI2CGlBb2vuf"
      },
      "source": [
        "### **Index operation**\n",
        "\n",
        "---\n",
        "\n",
        "<p>\n",
        "Example = [star : stop : step]\n",
        "</p>\n",
        "\n",
        "remember that range is **star** throught **stop** - 1"
      ]
    },
    {
      "cell_type": "markdown",
      "metadata": {
        "id": "meB96Glv2vuf"
      },
      "source": [
        "<center>\n",
        "<img width=\"60%\" height=\"40%\" src=\"https://railsware.com/blog/wp-content/uploads/2018/10/first-slice.png\"></img>\n",
        "\n",
        "<a href=\"https://railsware.com/blog/wp-content/uploads/2018/10/first-slice.png\">\n",
        "<center> Slicing of a List<a>"
      ]
    },
    {
      "cell_type": "markdown",
      "metadata": {
        "id": "l7jyRjnA2vug"
      },
      "source": [
        "0.   Example \\[ 0 ]\n",
        "1.   Example1 \\[ : ]\n",
        "2.   Example2 \\[ 1 : ]\n",
        "3.   Example3 \\[ 4 :9 ] "
      ]
    },
    {
      "cell_type": "code",
      "metadata": {
        "id": "B0GboOjb2vug",
        "outputId": "34a24d84-e2b6-4d95-9e9a-30a4f081db2d"
      },
      "source": [
        "Example = [255,164,135,100,45,95,24,49,25,14,1,3,67]\n",
        "print(f'Example0: {Example[0]},\\nExample1:{Example[:]},\\nExample2:{Example[1:]},\\nExample3:{Example[4:9]}')"
      ],
      "execution_count": null,
      "outputs": [
        {
          "output_type": "stream",
          "text": [
            "Example0: 255,\n",
            "Example1:[255, 164, 135, 100, 45, 95, 24, 49, 25, 14, 1, 3, 67],\n",
            "Example2:[164, 135, 100, 45, 95, 24, 49, 25, 14, 1, 3, 67],\n",
            "Example3:[45, 95, 24, 49, 25]\n"
          ],
          "name": "stdout"
        }
      ]
    }
  ]
}
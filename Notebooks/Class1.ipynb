{
<<<<<<< HEAD
 "cells": [
  {
   "source": [
    "# ***Python for ML/DL***\n",
    "---\n",
    "<center>\n",
    "<img src=\"https://ehackz.com/wp-content/uploads/2018/02/Python.jpg\" height = \"40%\" width = \"60%\">\n"
   ],
   "cell_type": "markdown",
   "metadata": {}
  },
  {
   "source": [
    "## **List**\n",
    "\n",
    "---\n"
   ],
   "cell_type": "markdown",
   "metadata": {}
  },
  {
   "source": [
    "### **Initialize list**\n",
    "\n",
    "---"
   ],
   "cell_type": "markdown",
   "metadata": {}
  },
  {
   "cell_type": "code",
   "execution_count": 2,
   "metadata": {},
   "outputs": [],
   "source": [
    "Blanck = [] \n",
    "List = [1, 2, 3, \"Acecom\", 'AI', \"\"]\n",
    "Number = [0, 1, 4, 5, 3, 4]"
   ]
  },
  {
   "source": [
    "### **Index operation**\n",
    "\n",
    "---\n",
    "\n",
    "<p>\n",
    "Example = [star : stop : step]\n",
    "</p>\n",
    "\n",
    "remember that range is **star** throught **stop** - 1"
   ],
   "cell_type": "markdown",
   "metadata": {}
  },
  {
   "source": [
    "<center>\n",
    "<img width=\"60%\" height=\"40%\" src=\"https://railsware.com/blog/wp-content/uploads/2018/10/first-slice.png\"></img>\n",
    "\n",
    "<a href=\"https://railsware.com/blog/wp-content/uploads/2018/10/first-slice.png\">\n",
    "<center> Slicing of a List<a>"
   ],
   "cell_type": "markdown",
   "metadata": {}
  },
  {
   "source": [
    "0.   Example \\[ 0 ]\n",
    "1.   Example1 \\[ : ]\n",
    "2.   Example2 \\[ 1 : ]\n",
    "3.   Example3 \\[ 4 :9 ] "
   ],
   "cell_type": "markdown",
   "metadata": {}
  },
  {
   "cell_type": "code",
   "execution_count": 4,
   "metadata": {},
   "outputs": [
    {
     "output_type": "stream",
     "name": "stdout",
     "text": [
      "Example0: 255,\nExample1:[255, 164, 135, 100, 45, 95, 24, 49, 25, 14, 1, 3, 67],\nExample2:[164, 135, 100, 45, 95, 24, 49, 25, 14, 1, 3, 67],\nExample3:[45, 95, 24, 49, 25]\n"
     ]
    }
   ],
   "source": [
    "Example = [255,164,135,100,45,95,24,49,25,14,1,3,67]\n",
    "print(f'Example0: {Example[0]},\\nExample1:{Example[:]},\\nExample2:{Example[1:]},\\nExample3:{Example[4:9]}')"
   ]
  },
  {
   "source": [
    "5. Example5 \\[5:10]\n",
    "6. Example6 \\[9 : : len(Example)%2]"
   ],
   "cell_type": "markdown",
   "metadata": {}
  },
  {
   "cell_type": "code",
   "execution_count": 5,
   "metadata": {},
   "outputs": [
    {
     "output_type": "stream",
     "name": "stdout",
     "text": [
      "Example5:[95, 24, 49, 25, 14],\nExample6:[14, 1, 3, 67]\n"
     ]
    }
   ],
   "source": [
    "print(f'Example5:{Example[5:10]},\\nExample6:{Example[9::len(Example)%2]}')"
   ]
  },
  {
   "source": [
    "<center>\n",
    "<img width=\"60%\" height=\"40%\" src=\"https://miro.medium.com/max/1838/1*HqdR129XR8-1ojtTYLou7g.png\">\n",
    "<center>\n",
    "<a href=\"https://miro.medium.com/max/1838/1*HqdR129XR8-1ojtTYLou7g.png\">Negative Index\n",
    "</img>"
   ],
   "cell_type": "markdown",
   "metadata": {}
  },
  {
   "source": [
    "7. Example \\[-1]\n",
    "8. Example7 \\[ : :-1]\n",
    "9. Example8 \\[ :-4]\n",
    "10. Example10 \\[-4:-1]\n",
    "11. Example11 \\[-10:-1:2]"
   ],
   "cell_type": "markdown",
   "metadata": {}
  },
  {
   "cell_type": "code",
   "execution_count": 6,
   "metadata": {},
   "outputs": [
    {
     "output_type": "stream",
     "name": "stdout",
     "text": [
      "Example7:67,\nExample8:[67, 3, 1, 14, 25, 49, 24, 95, 45, 100, 135, 164, 255],\nExample9:[255, 164, 135, 100, 45, 95, 24, 49, 25],\nExample10:[14, 1, 3],\nExample11:[100, 95, 49, 14, 3]\n"
     ]
    }
   ],
   "source": [
    "print(f\"Example7:{Example[-1]},\\nExample8:{Example[::-1]},\\nExample9:{Example[:-4]},\\nExample10:{Example[-4:-1]},\\nExample11:{Example[-10:-1:2]}\")"
   ]
  },
  {
   "source": [
    "### **SubList**\n",
    "\n",
    "---"
   ],
   "cell_type": "markdown",
   "metadata": {}
  },
  {
   "cell_type": "code",
   "execution_count": 10,
   "metadata": {},
   "outputs": [
    {
     "output_type": "stream",
     "name": "stdout",
     "text": [
      "Matrix: [[1, 2, 4, 0, 14], [2, 3, 5, 2, 6], [3, 4, 5, 12, 25]],\n\nList_1: [1, 2, 6, [1, 2, 3]],\n\nList_2: [[1, 2, 3], [1, 2, [1, 2]], [1, 5, 4]]\n"
     ]
    }
   ],
   "source": [
    "Matrix = [[1, 2, 4, 0, 14], [2, 3, 5, 2, 6], [3, 4, 5, 12, 25]]\n",
    "List_1 = [1, 2, 6, [1, 2, 3]]\n",
    "List_2 = [[1, 2, 3], [1, 2, [1, 2]], [1, 5, 4]]\n",
    "\n",
    "print(f'Matrix: {Matrix},\\n\\nList_1: {List_1},\\n\\nList_2: {List_2}')"
   ]
  },
  {
   "source": [
    "12. Example12: Matrix \\[ 0 ]\n",
    "13. Example13: Matrix \\[ 0 : 2 ]\n",
    "14. Example14: Matrix \\[ 0 ]\\[ 0 : 3 ]\n",
    "15. Example15: Matrix \\[ 1 ]\\[ : -1 ] "
   ],
   "cell_type": "markdown",
   "metadata": {}
  },
  {
   "source": [
    "print(f'Example12: {Matrix[0]},\\nExample13: {Matrix[0:2]},\\nExample14: {Matrix[0][0:3]},\\nExample15: {Matrix[1][:-1]}')"
   ],
   "cell_type": "code",
   "metadata": {},
   "execution_count": 11,
   "outputs": [
    {
     "output_type": "stream",
     "name": "stdout",
     "text": [
      "Example12: [1, 2, 4, 0, 14],\nExample13: [[1, 2, 4, 0, 14], [2, 3, 5, 2, 6]],\nExample14: [1, 2, 4],\nExample15: [2, 3, 5, 2]\n"
     ]
    }
   ]
  },
  {
   "source": [
    "16. Example16: List_1 \\[ 0 ]\n",
    "17. Example17: List_1 \\[ 3 ]\\[ : : -1]\n",
    "18. Example18: List_2 \\[ 1 ]\\[ 1 : ]\n",
    "19. Example19: List_2 \\[ 1 ]\\[ 2 ]\\[ : -1 ]"
   ],
   "cell_type": "markdown",
   "metadata": {}
  },
  {
   "cell_type": "code",
   "execution_count": 12,
   "metadata": {},
   "outputs": [
    {
     "output_type": "stream",
     "name": "stdout",
     "text": [
      "Example16: 1, \nExample17: [3, 2, 1],\nExample18: [2, [1, 2]],\nExample19: [1]\n"
     ]
    }
   ],
   "source": [
    "print(f'Example16: {List_1[0]}, \\nExample17: {List_1[3][::-1]},\\nExample18: {List_2[1][1:]},\\nExample19: {List_2 [1][2][:-1]}')"
   ]
  },
  {
   "source": [
    "### **List Methods**\n",
    "\n",
    "---\n"
   ],
   "cell_type": "markdown",
   "metadata": {}
  },
  {
   "cell_type": "code",
   "execution_count": 13,
   "metadata": {},
   "outputs": [
    {
     "output_type": "stream",
     "name": "stdout",
     "text": [
      "Eg: [[1, 2, 4], [2, 5, 7]], \nEg_1: [[1, 2, 4], [2, 5, 7]],\nEg_2: []\n"
     ]
    }
   ],
   "source": [
    "Eg = [[1, 2, 4], [2, 5,7]]\n",
    "Eg_1 = [[1, 2, 4], [2, 5,7]]\n",
    "Eg_2 =[]\n",
    "print(f'Eg: {Eg}, \\nEg_1: {Eg_1},\\nEg_2: {Eg_2}')"
   ]
  },
  {
   "source": [
    "20. **Append**\n",
    "21. **Extend** \n",
    "22. **Insert**\n",
    "23. **Remove**"
   ],
   "cell_type": "markdown",
   "metadata": {}
  },
  {
   "cell_type": "code",
   "execution_count": 14,
   "metadata": {},
   "outputs": [
    {
     "output_type": "stream",
     "name": "stdout",
     "text": [
      "Append Methods: [[1, 2, 4], [2, 5, 7]], \nsame: [[1, 2, 4], [2, 5, 7], 3], \nOther example [2, 3, 5, 7]\n"
     ]
    }
   ],
   "source": [
    "Eg_1[len(Eg_1):]= [3]\n",
    "Eg_2 += [2,3,5,7]\n",
    "print(f'Append Methods: {Eg}, \\nsame: {Eg_1}, \\nOther example {Eg_2}' )"
   ]
  },
  {
   "cell_type": "code",
   "execution_count": 15,
   "metadata": {},
   "outputs": [
    {
     "output_type": "stream",
     "name": "stdout",
     "text": [
      "Extend Methods: [[1, 2, 4], [2, 5, 7], 1, 2], \nsame: [[1, 2, 4], [2, 5, 7], 1, 2]\n"
     ]
    }
   ],
   "source": [
    "Eg.extend([1,2])\n",
    "Eg_1[len(Eg_1):]= [1,2,5]\n",
    "print(f'Extend Methods: {Eg}, \\nsame: {Eg}')"
   ]
  },
  {
   "cell_type": "code",
   "execution_count": 16,
   "metadata": {},
   "outputs": [
    {
     "output_type": "stream",
     "name": "stdout",
     "text": [
      "Insert Methods: [[1, 2, 4], [2, 5, 7], 4, 1, 2], \nRemove methoda[[1, 2, 4], [2, 5, 7], 1, 2, 5]\n"
     ]
    }
   ],
   "source": [
    "Eg.insert(2,4)\n",
    "Eg_1.remove(3)\n",
    "print(f'Insert Methods: {Eg}, \\nRemove methoda{Eg_1}')"
   ]
  },
  {
   "source": [
    "24. **Pop**\n",
    "25. **Clear**"
   ],
   "cell_type": "markdown",
   "metadata": {}
  },
  {
   "cell_type": "code",
   "execution_count": 17,
   "metadata": {},
   "outputs": [
    {
     "output_type": "stream",
     "name": "stdout",
     "text": [
      "Pop methods[[1, 2, 4], [2, 5, 7], 4, 1], \nRemove the last element: [[1, 2, 4], [2, 5, 7], 1, 2]\n"
     ]
    },
    {
     "output_type": "execute_result",
     "data": {
      "text/plain": [
       "[]"
      ]
     },
     "metadata": {},
     "execution_count": 17
    }
   ],
   "source": [
    "Eg.pop(4)\n",
    "Eg_1.pop()\n",
    "print(f'Pop methods{Eg}, \\nRemove the last element: {Eg_1}')\n",
    "Eg.clear()\n",
    "Eg"
   ]
  },
  {
   "source": [
    "26. **Index**\n",
    "27. **Count**"
   ],
   "cell_type": "markdown",
   "metadata": {}
  },
  {
   "cell_type": "code",
   "execution_count": 18,
   "metadata": {},
   "outputs": [
    {
     "output_type": "stream",
     "name": "stdout",
     "text": [
      "The index is : 0,\nNumber of times 2 appears in the list: 1\n"
     ]
    }
   ],
   "source": [
    "print(f'The index is : {Eg_1.index([1,2,4])},\\nNumber of times {2} appears in the list: {Eg_1.count(2)}')\n"
   ]
  },
  {
   "source": [
    "### **Deep Learning Aplication**\n"
   ],
   "cell_type": "markdown",
   "metadata": {}
  },
  {
   "cell_type": "code",
   "execution_count": 19,
   "metadata": {},
   "outputs": [],
   "source": [
    "import torch\n",
    "import torch.nn as nn\n",
    "import torch.nn.functional as F\n",
    "\n",
    "class Model(nn.Module):\n",
    "    \n",
    "    def __init__(self):\n",
    "        super(Model,self).__init__()\n",
    "        \n",
    "        self.num_filters= [64,128,256]\n",
    "        \n",
    "        self.Hyperparameters = [self.num_filters, 4, 2]\n",
    "        \n",
    "        self.block1 = self.downsample(self.Hyperparameters[0][0], \n",
    "                                      self.Hyperparameters[0][1], \n",
    "                                      self.Hyperparameters[1],\n",
    "                                      self.Hyperparameters[2], \n",
    "                                      apply_normalizate=False)\n",
    "        \n",
    "        self.block2 = self.downsample(self.Hyperparameters[0][1], \n",
    "                                      self.Hyperparameters[0][2], \n",
    "                                      self.Hyperparameters[1],\n",
    "                                      self.Hyperparameters[2])\n",
    "        \n",
    "        self.dense = nn.Linear(self.Hyperparameters[0][2], \n",
    "                               self.Hyperparameters[0][2]//2)\n",
    "        \n",
    "        self.dense2 = nn.Linear(self.Hyperparameters[0][2]//2, \n",
    "                                self.Hyperparameters[0][2]//4)\n",
    "        \n",
    "        self.block = [self.block1, \n",
    "                      self.block2, \n",
    "                      self.dense, \n",
    "                      self.dense2]\n",
    "    \n",
    "    def downsample(self, filters, output, kernel_size, stride, apply_normalizate=True):\n",
    "        if apply_normalizate:\n",
    "            block = [\n",
    "                        nn.Conv2d(filters, output, kernel_size=kernel_size, stride=stride),\n",
    "                        nn.BatchNorm2d(output),\n",
    "                        nn.ReLU()\n",
    "                    ]\n",
    "        else:\n",
    "            block = [\n",
    "                            nn.Conv2d(filters, output, kernel_size=kernel_size, stride=stride),\n",
    "                            nn.ReLU()\n",
    "                        ]        \n",
    "        return block\n",
    "    def forward(self, x):\n",
    "        x = self.block[0][0](x)\n",
    "        x = self.block[0][1](x)\n",
    "        x = self.block[1][0](x)\n",
    "        x = self.block[1][1](x)\n",
    "        x = self.block[1][2](x)\n",
    "        x = x.view(-1,x.shape[1])\n",
    "        x = F.relu(self.block[2](x))\n",
    "        x = F.relu(self.block[3](x))\n",
    "        return x\n",
    "Net = Model()\n"
   ]
  },
  {
   "source": [
    "## **Tuples**\n",
    "\n",
    "---"
   ],
   "cell_type": "markdown",
   "metadata": {}
  },
  {
   "source": [
    "### **Initialize Tuple**\n",
    "\n",
    "---"
   ],
   "cell_type": "markdown",
   "metadata": {}
  },
  {
   "cell_type": "code",
   "execution_count": 20,
   "metadata": {},
   "outputs": [
    {
     "output_type": "stream",
     "name": "stdout",
     "text": [
      "Example tuple 1: (), \nExample tuple 2:(1.3, 4, 'Alexander', 'A', 'I'), \nExample 3: ('Deep Learning',)\n"
     ]
    }
   ],
   "source": [
    "tuple_1 = ()\n",
    "tuple_2 = 1.3,4,\"Alexander\",'A',\"I\"\n",
    "tuple_3 = ('Deep Learning',)\n",
    "print(f'Example tuple 1: {tuple_1}, \\nExample tuple 2:{tuple_2}, \\nExample 3: {tuple_3}')"
   ]
  },
  {
   "source": [
    "### **Index operation**\n",
    "\n",
    "---\n"
   ],
   "cell_type": "markdown",
   "metadata": {}
  },
  {
   "source": [
    "1. Example_1: tuple_2 \\[ 0 ]\n",
    "2. Example_2: tuple_2 \\[ 1 : 4 ]\n",
    "3. Example_3: tuple_2 \\[ : -2 ]\n",
    "4. Example_4: tuple_2 \\[ : : -1 ]\n",
    "5. Example_5: tuple_3 \\[ 0 ]\\[ : : -1 ]"
   ],
   "cell_type": "markdown",
   "metadata": {}
  },
  {
   "cell_type": "code",
   "execution_count": 25,
   "metadata": {},
   "outputs": [
    {
     "output_type": "stream",
     "name": "stdout",
     "text": [
      "Example1: 1.3, \nExample2: (4, 'Alexander', 'A'),\nExample3: (1.3, 4, 'Alexander'), \nExample4: ('I', 'A', 'Alexander', 4, 1.3), \nExample5: gninraeL peeD\n"
     ]
    }
   ],
   "source": [
    "print(f'Example1: {tuple_2[0]}, \\nExample2: {tuple_2[1:4]},\\nExample3: {tuple_2[:-2]}, \\nExample4: {tuple_2[::-1]}, \\nExample5: {tuple_3[0][::-1]}')"
   ]
  },
  {
   "source": [
    "### **SubTuple**\n",
    "\n",
    "---"
   ],
   "cell_type": "markdown",
   "metadata": {}
  },
  {
   "cell_type": "code",
   "execution_count": 22,
   "metadata": {},
   "outputs": [
    {
     "output_type": "stream",
     "name": "stdout",
     "text": [
      "Tuple: ('Acecom', ('Deep', 'Learning', 'A', 'I'), 'NN')\n"
     ]
    }
   ],
   "source": [
    "tupla = 'Acecom',('Deep','Learning','A','I'),'NN'\n",
    "print(f'Tuple: {tupla}')"
   ]
  },
  {
   "source": [
    "6. Example_6 : tupla \\[ 0 ]\n",
    "7. Example_7 : tupla \\[ 0 ]\\[ : -2 ]\n",
    "8. Example_8 : tupla \\[ 1 ]\\[ 1 ]\\[ : : -1 ]"
   ],
   "cell_type": "markdown",
   "metadata": {}
  },
  {
   "cell_type": "code",
   "execution_count": 26,
   "metadata": {},
   "outputs": [
    {
     "output_type": "stream",
     "name": "stdout",
     "text": [
      "Example6: Acecom, \nExample7: Acec,\nExample8: gninraeL\n"
     ]
    }
   ],
   "source": [
    "print(f'Example6: {tupla[0]}, \\nExample7: {tupla[0][:-2]},\\nExample8: {tupla[1][1][::-1]}')"
   ]
  },
  {
   "source": [
    "### **Tuple Methods**\n",
    "\n",
    "---\n"
   ],
   "cell_type": "markdown",
   "metadata": {}
  },
  {
   "source": [
    "9. **count**\n",
    "10. **index**"
   ],
   "cell_type": "markdown",
   "metadata": {}
  },
  {
   "cell_type": "code",
   "execution_count": 29,
   "metadata": {},
   "outputs": [
    {
     "output_type": "stream",
     "name": "stdout",
     "text": [
      "Count Examples: \nNum of time apperends NN: 1,\nNum of time apperends e in the position[1][0]: 2 \n\nIndex Example: \nThe index of 'Acecom' is : 0 , \nThe index of 'A' is: 2\n"
     ]
    }
   ],
   "source": [
    "print('Count Examples: ')\n",
    "print(f\"Num of time apperends NN: {tupla.count('NN')},\\nNum of time apperends e in the position[1][0]: {tupla[1][0].count('e')} \")\n",
    "print('\\nIndex Example: ')\n",
    "print(f\"The index of 'Acecom' is : {tupla.index('Acecom')} , \\nThe index of 'A' is: {tupla[1].index('A')}\")\n"
   ]
  },
  {
   "source": [
    "### **Structured Data** \n",
    "\n",
    "---\n"
   ],
   "cell_type": "markdown",
   "metadata": {}
  },
  {
   "cell_type": "code",
   "execution_count": 30,
   "metadata": {},
   "outputs": [
    {
     "output_type": "execute_result",
     "data": {
      "text/html": "<div>\n<style scoped>\n    .dataframe tbody tr th:only-of-type {\n        vertical-align: middle;\n    }\n\n    .dataframe tbody tr th {\n        vertical-align: top;\n    }\n\n    .dataframe thead th {\n        text-align: right;\n    }\n</style>\n<table border=\"1\" class=\"dataframe\">\n  <thead>\n    <tr style=\"text-align: right;\">\n      <th></th>\n      <th>bmi</th>\n      <th>charges</th>\n    </tr>\n  </thead>\n  <tbody>\n    <tr>\n      <th>0</th>\n      <td>27.900</td>\n      <td>16884.92400</td>\n    </tr>\n    <tr>\n      <th>1</th>\n      <td>33.770</td>\n      <td>1725.55230</td>\n    </tr>\n    <tr>\n      <th>2</th>\n      <td>33.000</td>\n      <td>4449.46200</td>\n    </tr>\n    <tr>\n      <th>3</th>\n      <td>22.705</td>\n      <td>21984.47061</td>\n    </tr>\n    <tr>\n      <th>4</th>\n      <td>28.880</td>\n      <td>3866.85520</td>\n    </tr>\n    <tr>\n      <th>5</th>\n      <td>25.740</td>\n      <td>3756.62160</td>\n    </tr>\n    <tr>\n      <th>6</th>\n      <td>33.440</td>\n      <td>8240.58960</td>\n    </tr>\n    <tr>\n      <th>7</th>\n      <td>27.740</td>\n      <td>7281.50560</td>\n    </tr>\n    <tr>\n      <th>8</th>\n      <td>29.830</td>\n      <td>6406.41070</td>\n    </tr>\n    <tr>\n      <th>9</th>\n      <td>25.840</td>\n      <td>28923.13692</td>\n    </tr>\n    <tr>\n      <th>10</th>\n      <td>26.220</td>\n      <td>2721.32080</td>\n    </tr>\n    <tr>\n      <th>11</th>\n      <td>26.290</td>\n      <td>27808.72510</td>\n    </tr>\n    <tr>\n      <th>12</th>\n      <td>34.400</td>\n      <td>1826.84300</td>\n    </tr>\n    <tr>\n      <th>13</th>\n      <td>39.820</td>\n      <td>11090.71780</td>\n    </tr>\n    <tr>\n      <th>14</th>\n      <td>42.130</td>\n      <td>39611.75770</td>\n    </tr>\n    <tr>\n      <th>15</th>\n      <td>24.600</td>\n      <td>1837.23700</td>\n    </tr>\n    <tr>\n      <th>16</th>\n      <td>30.780</td>\n      <td>10797.33620</td>\n    </tr>\n    <tr>\n      <th>17</th>\n      <td>23.845</td>\n      <td>2395.17155</td>\n    </tr>\n    <tr>\n      <th>18</th>\n      <td>40.300</td>\n      <td>10602.38500</td>\n    </tr>\n    <tr>\n      <th>19</th>\n      <td>35.300</td>\n      <td>36837.46700</td>\n    </tr>\n    <tr>\n      <th>20</th>\n      <td>36.005</td>\n      <td>13228.84695</td>\n    </tr>\n    <tr>\n      <th>21</th>\n      <td>32.400</td>\n      <td>4149.73600</td>\n    </tr>\n    <tr>\n      <th>22</th>\n      <td>34.100</td>\n      <td>1137.01100</td>\n    </tr>\n    <tr>\n      <th>23</th>\n      <td>31.920</td>\n      <td>37701.87680</td>\n    </tr>\n    <tr>\n      <th>24</th>\n      <td>28.025</td>\n      <td>6203.90175</td>\n    </tr>\n    <tr>\n      <th>25</th>\n      <td>27.720</td>\n      <td>14001.13380</td>\n    </tr>\n    <tr>\n      <th>26</th>\n      <td>23.085</td>\n      <td>14451.83515</td>\n    </tr>\n    <tr>\n      <th>27</th>\n      <td>32.775</td>\n      <td>12268.63225</td>\n    </tr>\n    <tr>\n      <th>28</th>\n      <td>17.385</td>\n      <td>2775.19215</td>\n    </tr>\n    <tr>\n      <th>29</th>\n      <td>36.300</td>\n      <td>38711.00000</td>\n    </tr>\n    <tr>\n      <th>...</th>\n      <td>...</td>\n      <td>...</td>\n    </tr>\n    <tr>\n      <th>1308</th>\n      <td>30.200</td>\n      <td>33900.65300</td>\n    </tr>\n    <tr>\n      <th>1309</th>\n      <td>32.200</td>\n      <td>6875.96100</td>\n    </tr>\n    <tr>\n      <th>1310</th>\n      <td>26.315</td>\n      <td>6940.90985</td>\n    </tr>\n    <tr>\n      <th>1311</th>\n      <td>26.695</td>\n      <td>4571.41305</td>\n    </tr>\n    <tr>\n      <th>1312</th>\n      <td>42.900</td>\n      <td>4536.25900</td>\n    </tr>\n    <tr>\n      <th>1313</th>\n      <td>34.700</td>\n      <td>36397.57600</td>\n    </tr>\n    <tr>\n      <th>1314</th>\n      <td>23.655</td>\n      <td>18765.87545</td>\n    </tr>\n    <tr>\n      <th>1315</th>\n      <td>28.310</td>\n      <td>11272.33139</td>\n    </tr>\n    <tr>\n      <th>1316</th>\n      <td>20.600</td>\n      <td>1731.67700</td>\n    </tr>\n    <tr>\n      <th>1317</th>\n      <td>53.130</td>\n      <td>1163.46270</td>\n    </tr>\n    <tr>\n      <th>1318</th>\n      <td>39.710</td>\n      <td>19496.71917</td>\n    </tr>\n    <tr>\n      <th>1319</th>\n      <td>26.315</td>\n      <td>7201.70085</td>\n    </tr>\n    <tr>\n      <th>1320</th>\n      <td>31.065</td>\n      <td>5425.02335</td>\n    </tr>\n    <tr>\n      <th>1321</th>\n      <td>26.695</td>\n      <td>28101.33305</td>\n    </tr>\n    <tr>\n      <th>1322</th>\n      <td>38.830</td>\n      <td>12981.34570</td>\n    </tr>\n    <tr>\n      <th>1323</th>\n      <td>40.370</td>\n      <td>43896.37630</td>\n    </tr>\n    <tr>\n      <th>1324</th>\n      <td>25.935</td>\n      <td>4239.89265</td>\n    </tr>\n    <tr>\n      <th>1325</th>\n      <td>33.535</td>\n      <td>13143.33665</td>\n    </tr>\n    <tr>\n      <th>1326</th>\n      <td>32.870</td>\n      <td>7050.02130</td>\n    </tr>\n    <tr>\n      <th>1327</th>\n      <td>30.030</td>\n      <td>9377.90470</td>\n    </tr>\n    <tr>\n      <th>1328</th>\n      <td>24.225</td>\n      <td>22395.74424</td>\n    </tr>\n    <tr>\n      <th>1329</th>\n      <td>38.600</td>\n      <td>10325.20600</td>\n    </tr>\n    <tr>\n      <th>1330</th>\n      <td>25.740</td>\n      <td>12629.16560</td>\n    </tr>\n    <tr>\n      <th>1331</th>\n      <td>33.400</td>\n      <td>10795.93733</td>\n    </tr>\n    <tr>\n      <th>1332</th>\n      <td>44.700</td>\n      <td>11411.68500</td>\n    </tr>\n    <tr>\n      <th>1333</th>\n      <td>30.970</td>\n      <td>10600.54830</td>\n    </tr>\n    <tr>\n      <th>1334</th>\n      <td>31.920</td>\n      <td>2205.98080</td>\n    </tr>\n    <tr>\n      <th>1335</th>\n      <td>36.850</td>\n      <td>1629.83350</td>\n    </tr>\n    <tr>\n      <th>1336</th>\n      <td>25.800</td>\n      <td>2007.94500</td>\n    </tr>\n    <tr>\n      <th>1337</th>\n      <td>29.070</td>\n      <td>29141.36030</td>\n    </tr>\n  </tbody>\n</table>\n<p>1338 rows × 2 columns</p>\n</div>",
      "text/plain": [
       "         bmi      charges\n",
       "0     27.900  16884.92400\n",
       "1     33.770   1725.55230\n",
       "2     33.000   4449.46200\n",
       "3     22.705  21984.47061\n",
       "4     28.880   3866.85520\n",
       "5     25.740   3756.62160\n",
       "6     33.440   8240.58960\n",
       "7     27.740   7281.50560\n",
       "8     29.830   6406.41070\n",
       "9     25.840  28923.13692\n",
       "10    26.220   2721.32080\n",
       "11    26.290  27808.72510\n",
       "12    34.400   1826.84300\n",
       "13    39.820  11090.71780\n",
       "14    42.130  39611.75770\n",
       "15    24.600   1837.23700\n",
       "16    30.780  10797.33620\n",
       "17    23.845   2395.17155\n",
       "18    40.300  10602.38500\n",
       "19    35.300  36837.46700\n",
       "20    36.005  13228.84695\n",
       "21    32.400   4149.73600\n",
       "22    34.100   1137.01100\n",
       "23    31.920  37701.87680\n",
       "24    28.025   6203.90175\n",
       "25    27.720  14001.13380\n",
       "26    23.085  14451.83515\n",
       "27    32.775  12268.63225\n",
       "28    17.385   2775.19215\n",
       "29    36.300  38711.00000\n",
       "...      ...          ...\n",
       "1308  30.200  33900.65300\n",
       "1309  32.200   6875.96100\n",
       "1310  26.315   6940.90985\n",
       "1311  26.695   4571.41305\n",
       "1312  42.900   4536.25900\n",
       "1313  34.700  36397.57600\n",
       "1314  23.655  18765.87545\n",
       "1315  28.310  11272.33139\n",
       "1316  20.600   1731.67700\n",
       "1317  53.130   1163.46270\n",
       "1318  39.710  19496.71917\n",
       "1319  26.315   7201.70085\n",
       "1320  31.065   5425.02335\n",
       "1321  26.695  28101.33305\n",
       "1322  38.830  12981.34570\n",
       "1323  40.370  43896.37630\n",
       "1324  25.935   4239.89265\n",
       "1325  33.535  13143.33665\n",
       "1326  32.870   7050.02130\n",
       "1327  30.030   9377.90470\n",
       "1328  24.225  22395.74424\n",
       "1329  38.600  10325.20600\n",
       "1330  25.740  12629.16560\n",
       "1331  33.400  10795.93733\n",
       "1332  44.700  11411.68500\n",
       "1333  30.970  10600.54830\n",
       "1334  31.920   2205.98080\n",
       "1335  36.850   1629.83350\n",
       "1336  25.800   2007.94500\n",
       "1337  29.070  29141.36030\n",
       "\n",
       "[1338 rows x 2 columns]"
      ]
     },
     "metadata": {},
     "execution_count": 30
    }
   ],
   "source": [
    "import pandas as pd \n",
    "\n",
    "column = 'bmi','charges'\n",
    "data = pd.read_csv('../src/insurance.csv',usecols=column)\n",
    "\n",
    "data"
   ]
  },
  {
   "cell_type": "code",
   "execution_count": 31,
   "metadata": {},
   "outputs": [
    {
     "output_type": "stream",
     "name": "stdout",
     "text": [
      "X\n\n0       27.900\n1       33.770\n2       33.000\n3       22.705\n4       28.880\n5       25.740\n6       33.440\n7       27.740\n8       29.830\n9       25.840\n10      26.220\n11      26.290\n12      34.400\n13      39.820\n14      42.130\n15      24.600\n16      30.780\n17      23.845\n18      40.300\n19      35.300\n20      36.005\n21      32.400\n22      34.100\n23      31.920\n24      28.025\n25      27.720\n26      23.085\n27      32.775\n28      17.385\n29      36.300\n         ...  \n1308    30.200\n1309    32.200\n1310    26.315\n1311    26.695\n1312    42.900\n1313    34.700\n1314    23.655\n1315    28.310\n1316    20.600\n1317    53.130\n1318    39.710\n1319    26.315\n1320    31.065\n1321    26.695\n1322    38.830\n1323    40.370\n1324    25.935\n1325    33.535\n1326    32.870\n1327    30.030\n1328    24.225\n1329    38.600\n1330    25.740\n1331    33.400\n1332    44.700\n1333    30.970\n1334    31.920\n1335    36.850\n1336    25.800\n1337    29.070\nName: bmi, Length: 1338, dtype: float64\n"
     ]
    }
   ],
   "source": [
    "x,y = data\n",
    "\n",
    "t = x,y\n",
    "\n",
    "print(f'X\\n\\n{data[t[0]]}')\n"
   ]
  },
  {
   "source": [
    "## **Extra List and Tuple**\n",
    "\n",
    "---"
   ],
   "cell_type": "markdown",
   "metadata": {}
  },
  {
   "source": [
    "### **List and Tuple Combination**\n",
    "\n",
    "---\n"
   ],
   "cell_type": "markdown",
   "metadata": {}
  },
  {
   "cell_type": "code",
   "execution_count": 32,
   "metadata": {},
   "outputs": [
    {
     "output_type": "stream",
     "name": "stdout",
     "text": [
      "Tuple of list : (['Artficial', 'Intelligence'], ['Machine', 'Learninig'], 'Deep Larning'),\nList of tuple [('key', 1), ('Weight', [[0.5, 0.3, 0.2], [1, 0, 0.2, 0.6], [0.3, 0.0, 1]]), ('learning_rate', 0.001), ('bias', 0.3)]\n"
     ]
    }
   ],
   "source": [
    "tuple_of_list = ['Artficial', 'Intelligence'], ['Machine', 'Learninig'], 'Deep Larning'\n",
    "\n",
    "list_of_tuple = [('key', 1), \n",
    "                 ('Weight', [[0.5,0.3,0.2], [1,0,0.2,0.6], [0.3,0.0,1]]),\n",
    "                 ('learning_rate', 0.001),\n",
    "                 ('bias', 0.3)\n",
    "                 ]\n",
    "\n",
    "print(f'Tuple of list : {tuple_of_list},\\nList of tuple {list_of_tuple}')"
   ]
  },
  {
   "cell_type": "code",
   "execution_count": 34,
   "metadata": {},
   "outputs": [
    {
     "output_type": "stream",
     "name": "stdout",
     "text": [
      "List of tuple [('key', 1), ('Weight', [[0.5, 0.3, 0.2], [1, 0, 0.2, 0.6], [0.3, 0.0, 1]]), ('learning_rate', 0.001), ('bias', 0.3), '09']\n"
     ]
    }
   ],
   "source": [
    "list_of_tuple.append(\"09\")\n",
    "print(f'List of tuple {list_of_tuple}')"
   ]
  },
  {
   "cell_type": "code",
   "execution_count": 33,
   "metadata": {},
   "outputs": [
    {
     "output_type": "stream",
     "name": "stdout",
     "text": [
      "Tuple_of_list: (['Artficial', 'Intelligence', 'Cool'], ['Machine', 'Learninig'], 'Deep Larning')\nTuple_of_list: (['Artficial', 'Intelligence'], ['Machine', 'Learninig'], 'Deep Larning')\n"
     ]
    }
   ],
   "source": [
    "tuple_of_list[0].append('Cool') \n",
    "print(f'Tuple_of_list: {tuple_of_list}')\n",
    "tuple_of_list[0].remove('Cool') \n",
    "print(f'Tuple_of_list: {tuple_of_list}')"
   ]
  },
  {
   "source": [
    "## **Dictionary**\n",
    "\n",
    "---"
   ],
   "cell_type": "markdown",
   "metadata": {}
  },
  {
   "source": [
    "### **Initialize Directory**\n",
    "\n",
    "---\n"
   ],
   "cell_type": "markdown",
   "metadata": {}
  },
  {
   "cell_type": "code",
   "execution_count": 35,
   "metadata": {},
   "outputs": [
    {
     "output_type": "stream",
     "name": "stdout",
     "text": [
      "Dictionary 1: {}, \nDictionary 2 : {'key': [1, 3, 4, 5, 6, 7], 'key2': 2, 'key3': 3}\n"
     ]
    }
   ],
   "source": [
    "Dictionary_1 = {}\n",
    "\n",
    "Dictionary_2 = {\n",
    "    'key': [1,3,4,5,6,7],\n",
    "    'key2':2,\n",
    "    'key3':3\n",
    "}\n",
    "print(f'Dictionary 1: {Dictionary_1}, \\nDictionary 2 : {Dictionary_2}')"
   ]
  },
  {
   "source": [
    "### **SubDictionary**\n",
    "\n",
    "---"
   ],
   "cell_type": "markdown",
   "metadata": {}
  },
  {
   "cell_type": "code",
   "execution_count": 36,
   "metadata": {},
   "outputs": [
    {
     "output_type": "stream",
     "name": "stdout",
     "text": [
      "Dictionary: {'list': [3, 4, 2, 5, 8], 'A': [1, 2], 'tuple': ('A', 'E', 'I', 'O'), 'Dictionary_2': {'key': [1, 3, 4, 5, 6, 7], 'key2': 2, 'key3': 3}}\n"
     ]
    }
   ],
   "source": [
    "Dictionary_3 = { \n",
    "                'list': [3,4,2,5,8],\n",
    "                'A': [1,2],\n",
    "                'tuple': ('A','E','I','O'),\n",
    "                'Dictionary_2':Dictionary_2\n",
    "            }\n",
    "print(f'Dictionary: {Dictionary_3}')"
   ]
  },
  {
   "source": [
    "### **Index Operations**\n",
    "\n",
    "---"
   ],
   "cell_type": "markdown",
   "metadata": {}
  },
  {
   "source": [
    "1.   Example1: Dictionary_3 \\[ \"A\" ]\n",
    "2.   Example2: Dictionary_3 \\[ \"Dictionary_2\" ]\n",
    "3.   Example3: Dictionary_3 \\[ \"Dictionary_2\" ]\\[ \"key2\" ]"
   ],
   "cell_type": "markdown",
   "metadata": {}
  },
  {
   "cell_type": "code",
   "execution_count": 38,
   "metadata": {},
   "outputs": [
    {
     "output_type": "stream",
     "name": "stdout",
     "text": [
      "Example1 : [1, 2],\nExample2: {'key': [1, 3, 4, 5, 6, 7], 'key2': 2, 'key3': 3},\nExample3: 2 \n"
     ]
    }
   ],
   "source": [
    "print(f'Example1 : {Dictionary_3[\"A\"]},\\nExample2: {Dictionary_3[\"Dictionary_2\"]},\\nExample3: {Dictionary_3[\"Dictionary_2\"][\"key2\"]} ')"
   ]
  },
  {
   "source": [
    "4. Example4: Dictionary_3 \\[ \"A\" ] \\[ 0 ]\n",
    "5. Example5: Dictionary_3 \\[ \"tuple\"] \\[ 1 : -1 ]\n",
    "6. Example6: Dictionary_3 \\[ \"Dictionary_2\" ] \\[ \"key\" ] \\[ : : 2 ]"
   ],
   "cell_type": "markdown",
   "metadata": {}
  },
  {
   "source": [
    "print(f'Example1 : {Dictionary_3[\"A\"][0]},\\nExample2: {Dictionary_3[\"tuple\"][1:-1]},\\nExample3: {Dictionary_3[\"Dictionary_2\"][\"key\"][::2]} ')"
   ],
   "cell_type": "code",
   "metadata": {},
   "execution_count": 39,
   "outputs": [
    {
     "output_type": "stream",
     "name": "stdout",
     "text": [
      "Example1 : 1,\nExample2: ('E', 'I'),\nExample3: [1, 4, 6] \n"
     ]
    }
   ]
  },
  {
   "source": [
    "### **Dictionary Methods**\n",
    "\n",
    "---"
   ],
   "cell_type": "markdown",
   "metadata": {}
  },
  {
   "source": [
    "7.  **get**\n",
    "8.  **pop**\n",
    "9.  **clear**"
   ],
   "cell_type": "markdown",
   "metadata": {}
  },
  {
   "cell_type": "code",
   "execution_count": 40,
   "metadata": {},
   "outputs": [
    {
     "output_type": "stream",
     "name": "stdout",
     "text": [
      "Use get: [1, 2]\n"
     ]
    }
   ],
   "source": [
    "print(f'Use get: {Dictionary_3.get(\"A\")}')"
   ]
  },
  {
   "cell_type": "code",
   "execution_count": 41,
   "metadata": {},
   "outputs": [
    {
     "output_type": "stream",
     "name": "stdout",
     "text": [
      "Directory : [1, 2],\nNew Dictionary: {'list': [3, 4, 2, 5, 8], 'tuple': ('A', 'E', 'I', 'O'), 'Dictionary_2': {'key': [1, 3, 4, 5, 6, 7], 'key2': 2, 'key3': 3}}\n"
     ]
    }
   ],
   "source": [
    "print(f'Directory : {Dictionary_3.pop(\"A\")},\\nNew Dictionary: {Dictionary_3}')"
   ]
  },
  {
   "cell_type": "code",
   "execution_count": 42,
   "metadata": {},
   "outputs": [
    {
     "output_type": "stream",
     "name": "stdout",
     "text": [
      "Clear: None\n"
     ]
    }
   ],
   "source": [
    "print(f\"Clear: {Dictionary_2.clear()}\")"
   ]
  },
  {
   "source": [
    "10. **Keys**\n",
    "11. **Items**\n",
    "13. **Values**\n",
    "12. **Copy**"
   ],
   "cell_type": "markdown",
   "metadata": {}
  },
  {
   "cell_type": "code",
   "execution_count": 43,
   "metadata": {},
   "outputs": [
    {
     "output_type": "stream",
     "name": "stdout",
     "text": [
      "Keys: dict_keys(['list', 'tuple', 'Dictionary_2'])\n"
     ]
    }
   ],
   "source": [
    "print(f'Keys: {Dictionary_3.keys()}')"
   ]
  },
  {
   "cell_type": "code",
   "execution_count": 44,
   "metadata": {},
   "outputs": [
    {
     "output_type": "stream",
     "name": "stdout",
     "text": [
      "Items in the directory: dict_items([('list', [3, 4, 2, 5, 8]), ('tuple', ('A', 'E', 'I', 'O')), ('Dictionary_2', {})])\n"
     ]
    }
   ],
   "source": [
    "print(f'Items in the directory: {Dictionary_3.items()}')"
   ]
  },
  {
   "cell_type": "code",
   "execution_count": 45,
   "metadata": {},
   "outputs": [
    {
     "output_type": "stream",
     "name": "stdout",
     "text": [
      "Values: dict_values([[3, 4, 2, 5, 8], ('A', 'E', 'I', 'O'), {}])\n"
     ]
    }
   ],
   "source": [
    "print(f'Values: {Dictionary_3.values()}')"
   ]
  },
  {
   "cell_type": "code",
   "execution_count": 46,
   "metadata": {},
   "outputs": [
    {
     "output_type": "stream",
     "name": "stdout",
     "text": [
      "Compare: {'num': 3, 'bmi': 4, 's': 5}, {'num': 3, 'bmi': 4}\n"
     ]
    }
   ],
   "source": [
    "Dictionary_2 = {'num':3, 'bmi':4}\n",
    "Dictionary_1 = Dictionary_2.copy()\n",
    "Dictionary_1[\"s\"]=5\n",
    "print(f'Compare: {Dictionary_1}, {Dictionary_2}')"
   ]
  },
  {
   "source": [
    "### **Deep Learning Aplication**"
   ],
   "cell_type": "markdown",
   "metadata": {}
  },
  {
   "cell_type": "code",
   "execution_count": 47,
   "metadata": {},
   "outputs": [],
   "source": [
    "data = torch.load('../src/data.pth')"
   ]
  },
  {
   "cell_type": "code",
   "execution_count": 48,
   "metadata": {},
   "outputs": [
    {
     "output_type": "execute_result",
     "data": {
      "text/plain": [
       "dict"
      ]
     },
     "metadata": {},
     "execution_count": 48
    }
   ],
   "source": [
    "type(data)"
   ]
  },
  {
   "cell_type": "code",
   "execution_count": 49,
   "metadata": {},
   "outputs": [
    {
     "output_type": "stream",
     "name": "stdout",
     "text": [
      "Tags in the Trained Model: ['funny', 'goodbye', 'greeting', 'items', 'payments', 'thanks']\n"
     ]
    }
   ],
   "source": [
    "print(f'Tags in the Trained Model: {data[\"tags\"]}')"
   ]
  },
  {
   "cell_type": "code",
   "execution_count": 50,
   "metadata": {},
   "outputs": [
    {
     "output_type": "stream",
     "name": "stdout",
     "text": [
      "dict_keys(['Modelo', 'Entrada', 'Capa Oculta', 'Salida', 'All_Words', 'Etiquetas'])\n"
     ]
    }
   ],
   "source": [
    "Directory_Model = {\n",
    "    'Modelo': data[\"model_state\"],\n",
    "    'Entrada': data[\"input_size\"],\n",
    "    'Capa Oculta': data[\"hidden_size\"],\n",
    "    'Salida': data[\"output_size\"],\n",
    "    'All_Words': data['all_words'],\n",
    "    'Etiquetas': data['tags'],\n",
    "}\n",
    "print(Directory_Model.keys())"
   ]
  },
  {
   "cell_type": "code",
   "execution_count": 51,
   "metadata": {},
   "outputs": [
    {
     "output_type": "stream",
     "name": "stdout",
     "text": [
      "dict_values([OrderedDict([('l1.weight', tensor([[ 4.0461e-01,  5.1110e-01,  5.0938e-01, -3.3592e-01, -2.3031e-01,\n         -2.3533e-01,  5.3419e-01, -3.3393e-01,  3.3877e-01,  2.9501e-01,\n          3.0186e-01, -1.9770e-01,  2.7925e-01,  5.1635e-01,  6.4590e-01,\n          4.8844e-01, -2.7206e-01,  5.7271e-03, -9.0965e-03, -1.2634e-01,\n         -2.5795e-01,  3.8432e-01,  2.1556e-01,  5.9339e-01,  1.8010e-01,\n          6.1452e-01, -1.8910e-01,  2.7487e-01,  3.3907e-01, -3.2972e-01,\n         -1.1885e-01,  2.0211e-01,  3.3027e-01,  3.7157e-01,  2.5410e-01,\n         -1.0486e-01, -1.8539e-01, -1.1248e-01,  4.6320e-01,  2.7265e-01,\n          4.9216e-01, -3.9614e-01,  1.4544e-01,  3.4490e-01, -2.1509e-01,\n         -1.2904e-02, -1.0464e-01,  2.1905e-01,  2.8120e-01],\n        [ 4.3946e-01,  3.7857e-01,  3.3507e-01,  1.0823e-01,  2.1776e-01,\n          5.5525e-01,  4.8283e-01,  1.1381e-01,  2.1478e-01,  2.0638e-01,\n          5.1354e-01,  3.9004e-01,  1.9047e-01,  3.9594e-01,  7.6565e-02,\n          3.6950e-01, -4.8242e-01, -1.5889e-01,  3.8969e-01,  4.3972e-01,\n          4.7409e-01,  4.2614e-01, -2.8295e-01,  6.1540e-01, -2.3041e-01,\n          5.9092e-01,  3.8168e-01,  4.0698e-01,  5.3549e-01, -5.9742e-01,\n          1.8569e-01, -2.0299e-01,  3.9594e-01,  4.2389e-01,  2.5814e-01,\n          9.6149e-02,  2.2071e-01, -2.8447e-01,  3.1377e-01,  1.8197e-01,\n          4.6359e-01, -5.9740e-01,  2.7099e-01,  4.6646e-01,  2.1176e-01,\n         -3.8963e-01, -2.9581e-01,  3.2567e-01,  6.4139e-02],\n        [-9.5400e-02, -2.9641e-01, -3.3739e-01,  3.8057e-01,  3.4309e-01,\n         -5.0480e-01,  3.8277e-01,  4.5059e-01, -1.0515e-01, -1.8273e-01,\n         -2.9429e-01, -4.6403e-01, -2.6429e-01,  3.9364e-01, -3.1344e-01,\n          4.0792e-01,  7.5256e-01, -3.3431e-01, -4.8791e-01, -4.4817e-01,\n         -3.9199e-01, -1.2284e-01, -1.1440e-01,  5.6129e-01, -5.5861e-02,\n          6.4251e-01,  4.7859e-01, -3.3850e-01,  4.7506e-01,  7.5679e-01,\n          2.7271e-01,  6.8658e-03, -3.1782e-01, -2.6938e-01, -6.6960e-02,\n          1.9951e-01,  2.9603e-01, -3.3515e-01,  2.7105e-01, -9.1898e-02,\n          4.6690e-01,  6.8683e-01, -6.1817e-02,  4.0693e-01,  4.6221e-01,\n         -2.9925e-01, -1.4327e-01, -1.8770e-01,  1.9633e-01],\n        [ 3.3252e-01,  4.4513e-01,  5.4094e-01,  3.9327e-01,  9.5263e-02,\n          4.4622e-01,  3.1936e-02,  5.2704e-01,  5.1745e-01,  3.2412e-01,\n          5.8402e-01,  3.7102e-01,  3.6339e-01, -1.4725e-01,  3.5815e-01,\n         -1.0086e-01, -3.1781e-01,  1.3536e-01,  3.4681e-01,  5.1759e-01,\n          5.1964e-01,  4.1255e-01,  2.2148e-01, -3.5324e-01,  1.1256e-01,\n         -4.6057e-01,  3.3986e-01,  3.8903e-01,  5.3445e-02, -3.1788e-01,\n          4.1467e-01,  1.6103e-01,  3.7810e-01,  3.0940e-01,  4.2545e-01,\n          2.1650e-01,  4.7099e-01,  1.3939e-01, -1.1859e-01,  4.2073e-01,\n         -1.5181e-01, -4.1312e-01,  1.0789e-01, -2.0506e-01,  3.8263e-01,\n          4.3495e-02,  3.7131e-02,  4.1413e-01,  1.3984e-01],\n        [-1.7283e-01, -4.5110e-02, -1.9251e-01,  7.2729e-01,  5.1005e-01,\n          2.8090e-01, -1.8852e-01,  5.8171e-01, -8.4429e-02,  5.5190e-02,\n         -1.5074e-01,  4.2037e-01, -9.9972e-02, -2.9838e-01, -1.0793e-01,\n         -1.9661e-01, -7.4443e-01,  1.4433e-02,  7.4497e-01,  5.0354e-01,\n          5.0015e-01, -1.0174e-01, -1.5229e-01, -2.4571e-01, -4.9586e-02,\n         -2.5269e-01,  4.8498e-01, -1.7109e-01, -1.8594e-01, -6.0810e-01,\n          5.7453e-01, -1.2631e-01, -1.1154e-01, -1.3980e-01, -1.4613e-01,\n          5.2808e-01,  3.3258e-01, -1.3221e-01, -2.1021e-01, -3.7926e-02,\n         -1.5417e-01, -7.4405e-01,  1.4772e-01, -2.5768e-01,  4.2090e-01,\n         -2.1805e-01, -7.7462e-02, -1.7159e-01, -1.3430e-01],\n        [ 2.1163e-01, -5.2813e-02,  1.8866e-02, -5.7631e-01, -2.7872e-01,\n          5.3578e-01, -1.5713e-01, -5.9725e-01, -3.0603e-02,  1.1877e-01,\n         -1.3473e-01,  5.8074e-01,  1.6634e-02, -9.0236e-02,  1.0757e-01,\n         -1.0522e-01,  4.8367e-01, -8.0426e-02,  5.4114e-01,  5.0412e-01,\n          4.6550e-01, -4.0676e-02, -1.2237e-01, -5.8713e-02, -2.2736e-01,\n         -1.5586e-01, -3.6811e-01,  5.2173e-02, -1.5524e-01,  5.3499e-01,\n         -4.4220e-01, -1.3293e-01, -3.7898e-02, -5.5922e-02,  8.3237e-02,\n         -2.2204e-01, -2.7350e-01, -2.5177e-02, -1.0858e-01,  1.3402e-01,\n         -1.7803e-01,  4.8857e-01,  4.1136e-01, -3.5554e-01, -2.0179e-01,\n         -2.1302e-01,  5.9511e-02,  3.1514e-02, -5.8896e-04],\n        [ 3.3664e-01,  5.7410e-01,  2.8836e-01,  8.6043e-01,  6.4089e-01,\n         -3.5064e-01,  2.6215e-01,  7.1662e-01,  4.1035e-01,  3.4279e-01,\n          3.6703e-01, -3.5076e-01,  4.5162e-01,  3.2214e-01,  3.3628e-01,\n          2.6937e-01, -3.5055e-01, -2.1572e-01, -3.5088e-01, -3.5059e-01,\n         -3.5052e-01,  3.6444e-01, -2.1158e-01,  3.8159e-01, -8.6509e-02,\n          4.0903e-01,  4.8272e-01,  4.6445e-01,  4.0738e-01, -3.5042e-01,\n          4.3724e-01, -1.1283e-02,  4.9344e-01,  1.9912e-01,  3.7770e-01,\n          5.5559e-01,  5.5442e-01, -2.6144e-01,  4.8640e-01,  3.6484e-01,\n          3.4772e-01, -4.8162e-01, -7.8831e-02,  1.6487e-01,  3.5728e-01,\n         -3.2466e-01, -7.3041e-02,  2.4023e-01,  1.3528e-01],\n        [-1.2626e-02,  8.6218e-02,  3.7284e-01,  4.5048e-01,  5.0728e-01,\n         -1.1202e-01, -3.8928e-01,  3.3697e-01,  2.5260e-01,  6.8176e-02,\n          8.9654e-02, -3.7401e-01,  1.5940e-01, -3.5527e-01,  2.7256e-01,\n         -3.8391e-01,  4.5440e-01,  7.3097e-01, -2.2944e-01, -1.7465e-01,\n         -3.6595e-01,  2.3459e-01,  6.8393e-01, -6.7864e-01,  5.1048e-01,\n         -4.3248e-01,  2.5152e-01, -8.2457e-02, -1.7658e-01,  6.3016e-01,\n          3.7484e-01,  5.5410e-01, -8.0437e-02,  8.9109e-02,  1.1868e-01,\n          2.5391e-01,  4.5807e-01,  7.0506e-01, -2.1001e-01, -3.2314e-02,\n         -2.5928e-01,  6.1172e-01,  3.9082e-01, -2.7893e-01,  2.9881e-01,\n          7.9423e-01,  5.9405e-01,  1.5303e-01,  6.4431e-01]], device='cuda:0')), ('l1.bias', tensor([0.3338, 0.5977, 0.7520, 0.3179, 0.7446, 0.6440, 0.3505, 1.0297],\n       device='cuda:0')), ('l2.weight', tensor([[ 9.4369e-01,  8.7398e-01, -1.2052e+00,  1.0056e+00,  4.1430e-01,\n          4.0469e-01,  8.2585e-01,  4.7064e-01],\n        [-3.1791e-01, -9.0522e-02,  1.0854e-01, -8.5694e-02, -1.0654e-01,\n         -2.1853e-01, -6.2740e-02, -2.3716e-01],\n        [-5.8762e-01,  4.8994e-01,  1.5600e+00, -2.0599e-01,  8.3106e-01,\n          9.4997e-01, -2.8633e-01, -5.5783e-02],\n        [-1.2220e+00,  7.9690e-01, -1.9478e-01,  1.2044e+00,  1.5135e+00,\n          2.5890e-01,  7.7327e-01,  1.3777e-01],\n        [-6.7694e-01, -7.3168e-01,  1.0403e+00, -1.4596e-01,  1.5219e-01,\n         -6.3780e-01,  1.3575e-01,  1.2388e+00],\n        [ 9.6482e-01,  6.4848e-01,  8.9394e-01, -2.8560e-01, -4.1210e-01,\n         -3.4451e-01,  1.0254e+00, -3.3161e-01],\n        [ 2.8829e-02,  5.3271e-02,  6.9180e-02, -4.8189e-01, -1.0397e-03,\n          1.5130e+00, -1.2538e+00,  7.8512e-01],\n        [-1.3554e-02, -5.1770e-02,  1.3121e+00, -6.6763e-01,  6.5053e-03,\n         -4.9550e-01,  5.8032e-01,  4.7807e-01]], device='cuda:0')), ('l2.bias', tensor([ 0.5010, -0.2176,  0.4860,  0.3160,  0.4429,  0.2879,  0.4817,  0.3678],\n       device='cuda:0')), ('l3.weight', tensor([[-0.1425,  0.2719,  0.1509, -0.6514, -1.3363,  0.7052, -0.8406,  0.4918],\n        [-0.2768, -0.1936,  0.0370,  0.3352,  0.4280, -0.2847, -1.2489,  0.3838],\n        [ 0.3067,  0.0192,  0.6556,  0.2579, -1.3965, -1.1775,  0.6666, -0.9961],\n        [ 0.3383,  0.2628, -1.4995, -0.4162,  0.5821, -1.4054,  0.5869,  0.0978],\n        [ 0.8275, -0.1634, -1.1728,  0.0769, -1.1802,  0.0993, -0.8554, -0.4821],\n        [-1.1748, -0.2064,  0.2529, -0.5879,  0.4780, -0.5528,  0.8293,  0.3568]],\n       device='cuda:0')), ('l3.bias', tensor([-0.0117,  0.0786, -0.1471,  0.2346, -0.0989, -0.2817], device='cuda:0'))]), 49, 8, 6, ['a', 'accept', 'are', 'arrivederci', 'au', 'bonjour', 'broma', 'bye', 'can', 'card', 'cash', 'ciao', 'credit', 'dime', 'do', 'funni', 'gracia', 'have', 'hello', 'hola', 'hya', 'i', 'item', 'joke', 'kind', 'know', 'later', 'mastercard', 'me', 'merci', 'no', 'of', 'onli', 'pay', 'paypal', 'revoir', 'see', 'sell', 'someth', 'take', 'tell', 'thank', 'there', 'una', 'vemo', 'what', 'wich', 'with', 'you'], ['funny', 'goodbye', 'greeting', 'items', 'payments', 'thanks']])\n"
     ]
    }
   ],
   "source": [
    "Model = data.copy()\n",
    "print(Model.values())"
   ]
  }
 ],
 "metadata": {
  "kernelspec": {
   "display_name": "Python 3",
   "language": "python",
   "name": "python3"
  }
 },
 "nbformat": 4,
 "nbformat_minor": 4
=======
  "nbformat": 4,
  "nbformat_minor": 0,
  "metadata": {
    "kernelspec": {
      "display_name": "Python 3",
      "language": "python",
      "name": "python3"
    },
    "colab": {
      "name": "Class1.ipynb",
      "provenance": [],
      "include_colab_link": true
    }
  },
  "cells": [
    {
      "cell_type": "markdown",
      "metadata": {
        "id": "view-in-github",
        "colab_type": "text"
      },
      "source": [
        "<a href=\"https://colab.research.google.com/github/alexliqu09/Python_for_ML_and_DL/blob/main/Notebooks/Class1.ipynb\" target=\"_parent\"><img src=\"https://colab.research.google.com/assets/colab-badge.svg\" alt=\"Open In Colab\"/></a>"
      ]
    },
    {
      "cell_type": "markdown",
      "metadata": {
        "id": "SyQ553eyEHUm"
      },
      "source": [
        "# ***Python for ML/DL***\n",
        "---\n",
        "<center>\n",
        "<img src=\"https://ehackz.com/wp-content/uploads/2018/02/Python.jpg\" height = \"40%\" width = \"60%\">\n"
      ]
    },
    {
      "cell_type": "markdown",
      "metadata": {
        "id": "hVsttMRtEHUu"
      },
      "source": [
        "## **List**\n",
        "\n",
        "---\n"
      ]
    },
    {
      "cell_type": "markdown",
      "metadata": {
        "id": "TKKp69BaEHUu"
      },
      "source": [
        "### **Initialize list**\n",
        "\n",
        "---"
      ]
    },
    {
      "cell_type": "code",
      "metadata": {
        "id": "cx3wwp2KEHUv"
      },
      "source": [
        "Blanck = [] \n",
        "List = [1, 2, 3, \"Acecom\", 'AI', \"\"]\n",
        "Number = [0, 1, 4, 5, 3, 4]"
      ],
      "execution_count": 1,
      "outputs": []
    },
    {
      "cell_type": "markdown",
      "metadata": {
        "id": "PGSV06NPEHUw"
      },
      "source": [
        "### **Index operation**\n",
        "\n",
        "---\n",
        "\n",
        "<p>\n",
        "Example = [star : stop : step]\n",
        "</p>\n",
        "\n",
        "remember that range is **star** throught **stop** - 1"
      ]
    },
    {
      "cell_type": "markdown",
      "metadata": {
        "id": "E3Ll7g8PEHUw"
      },
      "source": [
        "<center>\n",
        "<img width=\"60%\" height=\"40%\" src=\"https://railsware.com/blog/wp-content/uploads/2018/10/first-slice.png\"></img>\n",
        "\n",
        "<a href=\"https://railsware.com/blog/wp-content/uploads/2018/10/first-slice.png\">\n",
        "<center> Slicing of a List<a>"
      ]
    },
    {
      "cell_type": "markdown",
      "metadata": {
        "id": "TWD_FIEgEHUx"
      },
      "source": [
        "0.   Example \\[ 0 ]\n",
        "1.   Example1 \\[ : ]\n",
        "2.   Example2 \\[ 1 : ]\n",
        "3.   Example3 \\[ 4 :9 ] "
      ]
    },
    {
      "cell_type": "code",
      "metadata": {
        "id": "xRONeP1qEHUx",
        "outputId": "043533bd-1c7f-4814-9973-aab834a51f0f",
        "colab": {
          "base_uri": "https://localhost:8080/"
        }
      },
      "source": [
        "Example = [255, 164, 135, 100, 45, 95, 24, 49, 25, 14, 1, 3, 67]\n",
        "print(\n",
        "    f\"Example0: {Example[0]},\\nExample1:{Example[:]},\\nExample2:{Example[1:]},\\nExample3:{Example[4:9]}\"\n",
        ")"
      ],
      "execution_count": 2,
      "outputs": [
        {
          "output_type": "stream",
          "text": [
            "Example0: 255,\n",
            "Example1:[255, 164, 135, 100, 45, 95, 24, 49, 25, 14, 1, 3, 67],\n",
            "Example2:[164, 135, 100, 45, 95, 24, 49, 25, 14, 1, 3, 67],\n",
            "Example3:[45, 95, 24, 49, 25]\n"
          ],
          "name": "stdout"
        }
      ]
    },
    {
      "cell_type": "markdown",
      "metadata": {
        "id": "dNHirN0FEHUz"
      },
      "source": [
        "5. Example5 \\[5:10]\n",
        "6. Example6 \\[9 : : len(Example)%2]"
      ]
    },
    {
      "cell_type": "code",
      "metadata": {
        "id": "Vo22MgheEHUz",
        "outputId": "a66f8f39-b678-4605-abd2-0a6d99399684",
        "colab": {
          "base_uri": "https://localhost:8080/"
        }
      },
      "source": [
        "print(f\"Example5: {Example[5:10]},\\nExample6: {Example[9::len(Example)%2]}\")"
      ],
      "execution_count": 15,
      "outputs": [
        {
          "output_type": "stream",
          "text": [
            "Example5: [95, 24, 49, 25, 14],\n",
            "Example6: [14, 1, 3, 67]\n"
          ],
          "name": "stdout"
        }
      ]
    },
    {
      "cell_type": "markdown",
      "metadata": {
        "id": "jqUs_H-sEHUz"
      },
      "source": [
        "<center>\n",
        "<img width=\"60%\" height=\"40%\" src=\"https://miro.medium.com/max/1838/1*HqdR129XR8-1ojtTYLou7g.png\">\n",
        "<center>\n",
        "<a href=\"https://miro.medium.com/max/1838/1*HqdR129XR8-1ojtTYLou7g.png\">Negative Index\n",
        "</img>"
      ]
    },
    {
      "cell_type": "markdown",
      "metadata": {
        "id": "TV-N-cGWEHU0"
      },
      "source": [
        "7. Example \\[-1]\n",
        "8. Example7 \\[ : :-1]\n",
        "9. Example8 \\[ :-4]\n",
        "10. Example10 \\[-4:-1]\n",
        "11. Example11 \\[-10:-1:2]"
      ]
    },
    {
      "cell_type": "code",
      "metadata": {
        "id": "Pc_OyMGlEHU0",
        "outputId": "27fe53ce-2ec6-4e44-d41c-c8cb172d835e",
        "colab": {
          "base_uri": "https://localhost:8080/"
        }
      },
      "source": [
        "print(\n",
        "    f\"Example7: {Example[-1]},\\nExample8: {Example[::-1]},\\nExample9: {Example[:-4]},\\nExample10: {Example[-4:-1]},\\nExample11: {Example[-10:-1:2]}\"\n",
        ")"
      ],
      "execution_count": 16,
      "outputs": [
        {
          "output_type": "stream",
          "text": [
            "Example7: 67,\n",
            "Example8: [67, 3, 1, 14, 25, 49, 24, 95, 45, 100, 135, 164, 255],\n",
            "Example9: [255, 164, 135, 100, 45, 95, 24, 49, 25],\n",
            "Example10: [14, 1, 3],\n",
            "Example11: [100, 95, 49, 14, 3]\n"
          ],
          "name": "stdout"
        }
      ]
    },
    {
      "cell_type": "markdown",
      "metadata": {
        "id": "Z1oty_7LEHU2"
      },
      "source": [
        "### **SubList**\n",
        "\n",
        "---"
      ]
    },
    {
      "cell_type": "code",
      "metadata": {
        "id": "WQxpQzzqEHU2",
        "outputId": "d3e72af4-245d-4e12-fcf5-98364312975c"
      },
      "source": [
        "Matrix = [[1, 2, 4, 0, 14], [2, 3, 5, 2, 6], [3, 4, 5, 12, 25]]\n",
        "List_1 = [1, 2, 6, [1, 2, 3]]\n",
        "List_2 = [[1, 2, 3], [1, 2, [1, 2]], [1, 5, 4]]\n",
        "\n",
        "print(f\"Matrix: {Matrix},\\n\\nList_1: {List_1},\\n\\nList_2: {List_2}\")"
      ],
      "execution_count": null,
      "outputs": [
        {
          "output_type": "stream",
          "text": [
            "Matrix: [[1, 2, 4, 0, 14], [2, 3, 5, 2, 6], [3, 4, 5, 12, 25]],\n",
            "\n",
            "List_1: [1, 2, 6, [1, 2, 3]],\n",
            "\n",
            "List_2: [[1, 2, 3], [1, 2, [1, 2]], [1, 5, 4]]\n"
          ],
          "name": "stdout"
        }
      ]
    },
    {
      "cell_type": "markdown",
      "metadata": {
        "id": "MFoyVQnCEHU3"
      },
      "source": [
        "12. Example12: Matrix \\[ 0 ]\n",
        "13. Example13: Matrix \\[ 0 : 2 ]\n",
        "14. Example14: Matrix \\[ 0 ]\\[ 0 : 3 ]\n",
        "15. Example15: Matrix \\[ 1 ]\\[ : -1 ] "
      ]
    },
    {
      "cell_type": "code",
      "metadata": {
        "id": "5JpdUsm6EHU3",
        "outputId": "4d529d6c-3efc-4fba-e225-8e7a74c90a32"
      },
      "source": [
        "print(\n",
        "    f\"Example12: {Matrix[0]},\\nExample13: {Matrix[0:2]},\\nExample14: {Matrix[0][0:3]},\\nExample15: {Matrix[1][:-1]}\"\n",
        ")"
      ],
      "execution_count": null,
      "outputs": [
        {
          "output_type": "stream",
          "text": [
            "Example12: [1, 2, 4, 0, 14],\n",
            "Example13: [[1, 2, 4, 0, 14], [2, 3, 5, 2, 6]],\n",
            "Example14: [1, 2, 4],\n",
            "Example15: [2, 3, 5, 2]\n"
          ],
          "name": "stdout"
        }
      ]
    },
    {
      "cell_type": "markdown",
      "metadata": {
        "id": "C--tt9yBEHU4"
      },
      "source": [
        "16. Example16: List_1 \\[ 0 ]\n",
        "17. Example17: List_1 \\[ 3 ]\\[ : : -1]\n",
        "18. Example18: List_2 \\[ 1 ]\\[ 1 : ]\n",
        "19. Example19: List_2 \\[ 1 ]\\[ 2 ]\\[ : -1 ]"
      ]
    },
    {
      "cell_type": "code",
      "metadata": {
        "id": "uH-rhjvREHU4",
        "outputId": "7c80a03a-1866-44a8-9f4c-3a8ace556718"
      },
      "source": [
        "print(\n",
        "    f\"Example16: {List_1[0]}, \\nExample17: {List_1[3][::-1]},\\nExample18: {List_2[1][1:]},\\nExample19: {List_2 [1][2][:-1]}\"\n",
        ")\n"
      ],
      "execution_count": null,
      "outputs": [
        {
          "output_type": "stream",
          "text": [
            "Example16: 1, \n",
            "Example17: [3, 2, 1],\n",
            "Example18: [2, [1, 2]],\n",
            "Example19: [1]\n"
          ],
          "name": "stdout"
        }
      ]
    },
    {
      "cell_type": "markdown",
      "metadata": {
        "id": "TJIvmBOOEHU4"
      },
      "source": [
        "### **List Methods**\n",
        "\n",
        "---\n"
      ]
    },
    {
      "cell_type": "code",
      "metadata": {
        "id": "B1pWrtW2EHU5",
        "outputId": "0da81798-77c7-4d78-f5db-368fb3e33fe6",
        "colab": {
          "base_uri": "https://localhost:8080/"
        }
      },
      "source": [
        "Eg = [[1, 2, 4], [2, 5, 7]]\n",
        "Eg_1 = [[1, 2, 4], [2, 5, 7]]\n",
        "Eg_2 = []\n",
        "print(f\"Eg: {Eg}, \\nEg_1: {Eg_1},\\nEg_2: {Eg_2}\")"
      ],
      "execution_count": 12,
      "outputs": [
        {
          "output_type": "stream",
          "text": [
            "Eg: [[1, 2, 4], [2, 5, 7]], \n",
            "Eg_1: [[1, 2, 4], [2, 5, 7]],\n",
            "Eg_2: []\n"
          ],
          "name": "stdout"
        }
      ]
    },
    {
      "cell_type": "markdown",
      "metadata": {
        "id": "GWZpDfelEHU5"
      },
      "source": [
        "20. **Append**\n",
        "21. **Extend** \n",
        "22. **Insert**\n",
        "23. **Remove**"
      ]
    },
    {
      "cell_type": "code",
      "metadata": {
        "id": "l5mooTjBEHU5",
        "outputId": "27e3f59a-7802-440a-ca3a-c5c1ca1cfefa",
        "colab": {
          "base_uri": "https://localhost:8080/"
        }
      },
      "source": [
        "Eg.append(3)\n",
        "Eg_1[len(Eg_1) :] = [3]\n",
        "Eg_2 += [2, 3, 5, 7]\n",
        "print(f\"Append Methods: {Eg}, \\nsame: {Eg_1}, \\nOther example: {Eg_2}\")"
      ],
      "execution_count": 13,
      "outputs": [
        {
          "output_type": "stream",
          "text": [
            "Append Methods: [[1, 2, 4], [2, 5, 7], 3], \n",
            "same: [[1, 2, 4], [2, 5, 7], 3], \n",
            "Other example [2, 3, 5, 7]\n"
          ],
          "name": "stdout"
        }
      ]
    },
    {
      "cell_type": "code",
      "metadata": {
        "id": "IsifBZ9iEHU6",
        "outputId": "323f8ea7-3665-4e15-f9a8-1d8abda1bc4d",
        "colab": {
          "base_uri": "https://localhost:8080/"
        }
      },
      "source": [
        "Eg.extend([1,2])\n",
        "Eg_1[len(Eg_1) :] = [1, 2]\n",
        "print(f\"Extend Methods: {Eg}, \\nsame: {Eg_1}\")"
      ],
      "execution_count": 14,
      "outputs": [
        {
          "output_type": "stream",
          "text": [
            "Extend Methods: [[1, 2, 4], [2, 5, 7], 3, 1, 2], \n",
            "same: [[1, 2, 4], [2, 5, 7], 3, 1, 2]\n"
          ],
          "name": "stdout"
        }
      ]
    },
    {
      "cell_type": "code",
      "metadata": {
        "id": "p5HUc-jFEHU6",
        "outputId": "c69557ec-c895-4795-bce9-6c37da664ce1"
      },
      "source": [
        "Eg.insert(2, 4)\n",
        "Eg_1.remove(3)\n",
        "print(f\"Insert Methods: {Eg}, \\nRemove methods: {Eg_1}\")"
      ],
      "execution_count": null,
      "outputs": [
        {
          "output_type": "stream",
          "text": [
            "Insert Methods: [[1, 2, 4], [2, 5, 7], 4, 1, 2], \n",
            "Remove methoda[[1, 2, 4], [2, 5, 7], 1, 2, 5]\n"
          ],
          "name": "stdout"
        }
      ]
    },
    {
      "cell_type": "markdown",
      "metadata": {
        "id": "QJv0KgClEHU6"
      },
      "source": [
        "24. **Pop**\n",
        "25. **Clear**"
      ]
    },
    {
      "cell_type": "code",
      "metadata": {
        "id": "gN-uQSZkEHU6",
        "outputId": "7020c96c-1b20-4117-a7e8-ba2bf12df753"
      },
      "source": [
        "Eg.pop(4)\n",
        "Eg_1.pop()\n",
        "print(f\"Pop methods: {Eg}, \\nRemove the last element: {Eg_1}\")\n",
        "Eg.clear()\n",
        "Eg"
      ],
      "execution_count": null,
      "outputs": [
        {
          "output_type": "stream",
          "text": [
            "Pop methods[[1, 2, 4], [2, 5, 7], 4, 1], \n",
            "Remove the last element: [[1, 2, 4], [2, 5, 7], 1, 2]\n"
          ],
          "name": "stdout"
        },
        {
          "output_type": "execute_result",
          "data": {
            "text/plain": [
              "[]"
            ]
          },
          "metadata": {
            "tags": []
          },
          "execution_count": 17
        }
      ]
    },
    {
      "cell_type": "markdown",
      "metadata": {
        "id": "TnDPffwwEHU7"
      },
      "source": [
        "26. **Index**\n",
        "27. **Count**"
      ]
    },
    {
      "cell_type": "code",
      "metadata": {
        "id": "wD_sdyOXEHU7",
        "outputId": "ae0191fb-39c0-48b7-af7d-6d705c75e90c"
      },
      "source": [
        "print(\n",
        "    f\"The index is : {Eg_1.index([1,2,4])},\\nNumber of times {2} appears in the list: {Eg_1.count(2)}\"\n",
        ")"
      ],
      "execution_count": null,
      "outputs": [
        {
          "output_type": "stream",
          "text": [
            "The index is : 0,\n",
            "Number of times 2 appears in the list: 1\n"
          ],
          "name": "stdout"
        }
      ]
    },
    {
      "cell_type": "markdown",
      "metadata": {
        "id": "Px3FGnswEHU8"
      },
      "source": [
        "### **Deep Learning Aplication**\n"
      ]
    },
    {
      "cell_type": "code",
      "metadata": {
        "id": "tuHrbuySEHU8"
      },
      "source": [
        "import torch\n",
        "import torch.nn as nn\n",
        "import torch.nn.functional as F\n",
        "\n",
        "\n",
        "class Model(nn.Module):\n",
        "    def __init__(self):\n",
        "        super(Model, self).__init__()\n",
        "\n",
        "        self.num_filters = [64, 128, 256]\n",
        "\n",
        "        self.Hyperparameters = [self.num_filters, 4, 2]\n",
        "\n",
        "        self.block1 = self.downsample(\n",
        "            self.Hyperparameters[0][0],\n",
        "            self.Hyperparameters[0][1],\n",
        "            self.Hyperparameters[1],\n",
        "            self.Hyperparameters[2],\n",
        "            apply_normalizate=False,\n",
        "        )\n",
        "\n",
        "        self.block2 = self.downsample(\n",
        "            self.Hyperparameters[0][1],\n",
        "            self.Hyperparameters[0][2],\n",
        "            self.Hyperparameters[1],\n",
        "            self.Hyperparameters[2],\n",
        "        )\n",
        "\n",
        "        self.dense = nn.Linear(\n",
        "            self.Hyperparameters[0][2], self.Hyperparameters[0][2] // 2\n",
        "        )\n",
        "\n",
        "        self.dense2 = nn.Linear(\n",
        "            self.Hyperparameters[0][2] // 2, self.Hyperparameters[0][2] // 4\n",
        "        )\n",
        "\n",
        "        self.block = [self.block1, self.block2, self.dense, self.dense2]\n",
        "\n",
        "    def downsample(self, filters, output, kernel_size, stride, apply_normalizate=True):\n",
        "        if apply_normalizate:\n",
        "            block = [\n",
        "                nn.Conv2d(filters, output, kernel_size=kernel_size, stride=stride),\n",
        "                nn.BatchNorm2d(output),\n",
        "                nn.ReLU(),\n",
        "            ]\n",
        "        else:\n",
        "            block = [\n",
        "                nn.Conv2d(filters, output, kernel_size=kernel_size, stride=stride),\n",
        "                nn.ReLU(),\n",
        "            ]\n",
        "        return block\n",
        "\n",
        "    def forward(self, x):\n",
        "        x = self.block[0][0](x)\n",
        "        x = self.block[0][1](x)\n",
        "        x = self.block[1][0](x)\n",
        "        x = self.block[1][1](x)\n",
        "        x = self.block[1][2](x)\n",
        "        x = x.view(-1, x.shape[1])\n",
        "        x = F.relu(self.block[2](x))\n",
        "        x = F.relu(self.block[3](x))\n",
        "        return x\n",
        "\n",
        "\n",
        "Net = Model()\n"
      ],
      "execution_count": 17,
      "outputs": []
    },
    {
      "cell_type": "markdown",
      "metadata": {
        "id": "wqp-B28QEHU9"
      },
      "source": [
        "## **Tuples**\n",
        "\n",
        "---"
      ]
    },
    {
      "cell_type": "markdown",
      "metadata": {
        "id": "IUpV1qUbEHU9"
      },
      "source": [
        "### **Initialize Tuple**\n",
        "\n",
        "---"
      ]
    },
    {
      "cell_type": "code",
      "metadata": {
        "id": "oHxhUCqtEHU9",
        "outputId": "16a47ca2-14bb-4e99-9d44-9453e3e93e06"
      },
      "source": [
        "tuple_1 = ()\n",
        "tuple_2 = 1.3, 4, \"Alexander\", \"A\", \"I\"\n",
        "tuple_3 = (\"Deep Learning\",)\n",
        "print(\n",
        "    f\"Example tuple 1: {tuple_1}, \\nExample tuple 2:{tuple_2}, \\nExample 3: {tuple_3}\"\n",
        ")"
      ],
      "execution_count": null,
      "outputs": [
        {
          "output_type": "stream",
          "text": [
            "Example tuple 1: (), \n",
            "Example tuple 2:(1.3, 4, 'Alexander', 'A', 'I'), \n",
            "Example 3: ('Deep Learning',)\n"
          ],
          "name": "stdout"
        }
      ]
    },
    {
      "cell_type": "markdown",
      "metadata": {
        "id": "oWzUPVtYEHU-"
      },
      "source": [
        "### **Index operation**\n",
        "\n",
        "---\n"
      ]
    },
    {
      "cell_type": "markdown",
      "metadata": {
        "id": "-eSvIZu2EHU-"
      },
      "source": [
        "1. Example_1: tuple_2 \\[ 0 ]\n",
        "2. Example_2: tuple_2 \\[ 1 : 4 ]\n",
        "3. Example_3: tuple_2 \\[ : -2 ]\n",
        "4. Example_4: tuple_2 \\[ : : -1 ]\n",
        "5. Example_5: tuple_3 \\[ 0 ]\\[ : : -1 ]"
      ]
    },
    {
      "cell_type": "code",
      "metadata": {
        "id": "nZhTTdaLEHU_",
        "outputId": "5580cc77-2032-4924-841c-9cb81df36dc4"
      },
      "source": [
        "print(\n",
        "    f\"Example1: {tuple_2[0]}, \\nExample2: {tuple_2[1:4]},\\nExample3: {tuple_2[:-2]}, \\nExample4: {tuple_2[::-1]}, \\nExample5: {tuple_3[0][::-1]}\"\n",
        ")"
      ],
      "execution_count": null,
      "outputs": [
        {
          "output_type": "stream",
          "text": [
            "Example1: 1.3, \n",
            "Example2: (4, 'Alexander', 'A'),\n",
            "Example3: (1.3, 4, 'Alexander'), \n",
            "Example4: ('I', 'A', 'Alexander', 4, 1.3), \n",
            "Example5: gninraeL peeD\n"
          ],
          "name": "stdout"
        }
      ]
    },
    {
      "cell_type": "markdown",
      "metadata": {
        "id": "KCtF8LZnEHU_"
      },
      "source": [
        "### **SubTuple**\n",
        "\n",
        "---"
      ]
    },
    {
      "cell_type": "code",
      "metadata": {
        "id": "d1HBs-oYEHVA",
        "outputId": "d99a1bf0-9ae0-448a-f1a7-b381293e0fa6"
      },
      "source": [
        "tupla = \"Acecom\", (\"Deep\", \"Learning\", \"A\", \"I\"), \"NN\"\n",
        "print(f\"Tuple: {tupla}\")"
      ],
      "execution_count": null,
      "outputs": [
        {
          "output_type": "stream",
          "text": [
            "Tuple: ('Acecom', ('Deep', 'Learning', 'A', 'I'), 'NN')\n"
          ],
          "name": "stdout"
        }
      ]
    },
    {
      "cell_type": "markdown",
      "metadata": {
        "id": "64XH3m4YEHVA"
      },
      "source": [
        "6. Example_6 : tupla \\[ 0 ]\n",
        "7. Example_7 : tupla \\[ 0 ]\\[ : -2 ]\n",
        "8. Example_8 : tupla \\[ 1 ]\\[ 1 ]\\[ : : -1 ]"
      ]
    },
    {
      "cell_type": "code",
      "metadata": {
        "id": "BKAzZ7LZEHVB",
        "outputId": "2198191e-0d18-4f96-93e0-a6879dd1499e"
      },
      "source": [
        "print(\n",
        "    f\"Example6: {tupla[0]}, \\nExample7: {tupla[0][:-2]},\\nExample8: {tupla[1][1][::-1]}\"\n",
        ")"
      ],
      "execution_count": null,
      "outputs": [
        {
          "output_type": "stream",
          "text": [
            "Example6: Acecom, \n",
            "Example7: Acec,\n",
            "Example8: gninraeL\n"
          ],
          "name": "stdout"
        }
      ]
    },
    {
      "cell_type": "markdown",
      "metadata": {
        "id": "C_CYpfQEEHVB"
      },
      "source": [
        "### **Tuple Methods**\n",
        "\n",
        "---\n"
      ]
    },
    {
      "cell_type": "markdown",
      "metadata": {
        "id": "f3ggwyl0EHVB"
      },
      "source": [
        "9. **count**\n",
        "10. **index**"
      ]
    },
    {
      "cell_type": "code",
      "metadata": {
        "id": "FPkcdXv1EHVC",
        "outputId": "6cf05d70-f237-4044-d742-a2dc899563c2"
      },
      "source": [
        "print(\"Count Examples: \")\n",
        "print(\n",
        "    f\"Num of time apperends NN: {tupla.count('NN')},\\nNum of time apperends e in the position[1][0]: {tupla[1][0].count('e')} \"\n",
        ")\n",
        "print(\"\\nIndex Example: \")\n",
        "print(\n",
        "    f\"The index of 'Acecom' is : {tupla.index('Acecom')} , \\nThe index of 'A' is: {tupla[1].index('A')}\"\n",
        ")"
      ],
      "execution_count": null,
      "outputs": [
        {
          "output_type": "stream",
          "text": [
            "Count Examples: \n",
            "Num of time apperends NN: 1,\n",
            "Num of time apperends e in the position[1][0]: 2 \n",
            "\n",
            "Index Example: \n",
            "The index of 'Acecom' is : 0 , \n",
            "The index of 'A' is: 2\n"
          ],
          "name": "stdout"
        }
      ]
    },
    {
      "cell_type": "markdown",
      "metadata": {
        "id": "tqopTkUhEHVC"
      },
      "source": [
        "### **Structured Data** \n",
        "\n",
        "---\n"
      ]
    },
    {
      "cell_type": "code",
      "metadata": {
        "id": "71J75eHXEHVD",
        "outputId": "1462d488-dd27-4ea6-f18b-57994927511f"
      },
      "source": [
        "import pandas as pd\n",
        "\n",
        "column = \"bmi\", \"charges\"\n",
        "data = pd.read_csv(\"../src/insurance.csv\", usecols=column)\n",
        "\n",
        "data"
      ],
      "execution_count": null,
      "outputs": [
        {
          "output_type": "execute_result",
          "data": {
            "text/html": [
              "<div>\n",
              "<style scoped>\n",
              "    .dataframe tbody tr th:only-of-type {\n",
              "        vertical-align: middle;\n",
              "    }\n",
              "\n",
              "    .dataframe tbody tr th {\n",
              "        vertical-align: top;\n",
              "    }\n",
              "\n",
              "    .dataframe thead th {\n",
              "        text-align: right;\n",
              "    }\n",
              "</style>\n",
              "<table border=\"1\" class=\"dataframe\">\n",
              "  <thead>\n",
              "    <tr style=\"text-align: right;\">\n",
              "      <th></th>\n",
              "      <th>bmi</th>\n",
              "      <th>charges</th>\n",
              "    </tr>\n",
              "  </thead>\n",
              "  <tbody>\n",
              "    <tr>\n",
              "      <th>0</th>\n",
              "      <td>27.900</td>\n",
              "      <td>16884.92400</td>\n",
              "    </tr>\n",
              "    <tr>\n",
              "      <th>1</th>\n",
              "      <td>33.770</td>\n",
              "      <td>1725.55230</td>\n",
              "    </tr>\n",
              "    <tr>\n",
              "      <th>2</th>\n",
              "      <td>33.000</td>\n",
              "      <td>4449.46200</td>\n",
              "    </tr>\n",
              "    <tr>\n",
              "      <th>3</th>\n",
              "      <td>22.705</td>\n",
              "      <td>21984.47061</td>\n",
              "    </tr>\n",
              "    <tr>\n",
              "      <th>4</th>\n",
              "      <td>28.880</td>\n",
              "      <td>3866.85520</td>\n",
              "    </tr>\n",
              "    <tr>\n",
              "      <th>5</th>\n",
              "      <td>25.740</td>\n",
              "      <td>3756.62160</td>\n",
              "    </tr>\n",
              "    <tr>\n",
              "      <th>6</th>\n",
              "      <td>33.440</td>\n",
              "      <td>8240.58960</td>\n",
              "    </tr>\n",
              "    <tr>\n",
              "      <th>7</th>\n",
              "      <td>27.740</td>\n",
              "      <td>7281.50560</td>\n",
              "    </tr>\n",
              "    <tr>\n",
              "      <th>8</th>\n",
              "      <td>29.830</td>\n",
              "      <td>6406.41070</td>\n",
              "    </tr>\n",
              "    <tr>\n",
              "      <th>9</th>\n",
              "      <td>25.840</td>\n",
              "      <td>28923.13692</td>\n",
              "    </tr>\n",
              "    <tr>\n",
              "      <th>10</th>\n",
              "      <td>26.220</td>\n",
              "      <td>2721.32080</td>\n",
              "    </tr>\n",
              "    <tr>\n",
              "      <th>11</th>\n",
              "      <td>26.290</td>\n",
              "      <td>27808.72510</td>\n",
              "    </tr>\n",
              "    <tr>\n",
              "      <th>12</th>\n",
              "      <td>34.400</td>\n",
              "      <td>1826.84300</td>\n",
              "    </tr>\n",
              "    <tr>\n",
              "      <th>13</th>\n",
              "      <td>39.820</td>\n",
              "      <td>11090.71780</td>\n",
              "    </tr>\n",
              "    <tr>\n",
              "      <th>14</th>\n",
              "      <td>42.130</td>\n",
              "      <td>39611.75770</td>\n",
              "    </tr>\n",
              "    <tr>\n",
              "      <th>15</th>\n",
              "      <td>24.600</td>\n",
              "      <td>1837.23700</td>\n",
              "    </tr>\n",
              "    <tr>\n",
              "      <th>16</th>\n",
              "      <td>30.780</td>\n",
              "      <td>10797.33620</td>\n",
              "    </tr>\n",
              "    <tr>\n",
              "      <th>17</th>\n",
              "      <td>23.845</td>\n",
              "      <td>2395.17155</td>\n",
              "    </tr>\n",
              "    <tr>\n",
              "      <th>18</th>\n",
              "      <td>40.300</td>\n",
              "      <td>10602.38500</td>\n",
              "    </tr>\n",
              "    <tr>\n",
              "      <th>19</th>\n",
              "      <td>35.300</td>\n",
              "      <td>36837.46700</td>\n",
              "    </tr>\n",
              "    <tr>\n",
              "      <th>20</th>\n",
              "      <td>36.005</td>\n",
              "      <td>13228.84695</td>\n",
              "    </tr>\n",
              "    <tr>\n",
              "      <th>21</th>\n",
              "      <td>32.400</td>\n",
              "      <td>4149.73600</td>\n",
              "    </tr>\n",
              "    <tr>\n",
              "      <th>22</th>\n",
              "      <td>34.100</td>\n",
              "      <td>1137.01100</td>\n",
              "    </tr>\n",
              "    <tr>\n",
              "      <th>23</th>\n",
              "      <td>31.920</td>\n",
              "      <td>37701.87680</td>\n",
              "    </tr>\n",
              "    <tr>\n",
              "      <th>24</th>\n",
              "      <td>28.025</td>\n",
              "      <td>6203.90175</td>\n",
              "    </tr>\n",
              "    <tr>\n",
              "      <th>25</th>\n",
              "      <td>27.720</td>\n",
              "      <td>14001.13380</td>\n",
              "    </tr>\n",
              "    <tr>\n",
              "      <th>26</th>\n",
              "      <td>23.085</td>\n",
              "      <td>14451.83515</td>\n",
              "    </tr>\n",
              "    <tr>\n",
              "      <th>27</th>\n",
              "      <td>32.775</td>\n",
              "      <td>12268.63225</td>\n",
              "    </tr>\n",
              "    <tr>\n",
              "      <th>28</th>\n",
              "      <td>17.385</td>\n",
              "      <td>2775.19215</td>\n",
              "    </tr>\n",
              "    <tr>\n",
              "      <th>29</th>\n",
              "      <td>36.300</td>\n",
              "      <td>38711.00000</td>\n",
              "    </tr>\n",
              "    <tr>\n",
              "      <th>...</th>\n",
              "      <td>...</td>\n",
              "      <td>...</td>\n",
              "    </tr>\n",
              "    <tr>\n",
              "      <th>1308</th>\n",
              "      <td>30.200</td>\n",
              "      <td>33900.65300</td>\n",
              "    </tr>\n",
              "    <tr>\n",
              "      <th>1309</th>\n",
              "      <td>32.200</td>\n",
              "      <td>6875.96100</td>\n",
              "    </tr>\n",
              "    <tr>\n",
              "      <th>1310</th>\n",
              "      <td>26.315</td>\n",
              "      <td>6940.90985</td>\n",
              "    </tr>\n",
              "    <tr>\n",
              "      <th>1311</th>\n",
              "      <td>26.695</td>\n",
              "      <td>4571.41305</td>\n",
              "    </tr>\n",
              "    <tr>\n",
              "      <th>1312</th>\n",
              "      <td>42.900</td>\n",
              "      <td>4536.25900</td>\n",
              "    </tr>\n",
              "    <tr>\n",
              "      <th>1313</th>\n",
              "      <td>34.700</td>\n",
              "      <td>36397.57600</td>\n",
              "    </tr>\n",
              "    <tr>\n",
              "      <th>1314</th>\n",
              "      <td>23.655</td>\n",
              "      <td>18765.87545</td>\n",
              "    </tr>\n",
              "    <tr>\n",
              "      <th>1315</th>\n",
              "      <td>28.310</td>\n",
              "      <td>11272.33139</td>\n",
              "    </tr>\n",
              "    <tr>\n",
              "      <th>1316</th>\n",
              "      <td>20.600</td>\n",
              "      <td>1731.67700</td>\n",
              "    </tr>\n",
              "    <tr>\n",
              "      <th>1317</th>\n",
              "      <td>53.130</td>\n",
              "      <td>1163.46270</td>\n",
              "    </tr>\n",
              "    <tr>\n",
              "      <th>1318</th>\n",
              "      <td>39.710</td>\n",
              "      <td>19496.71917</td>\n",
              "    </tr>\n",
              "    <tr>\n",
              "      <th>1319</th>\n",
              "      <td>26.315</td>\n",
              "      <td>7201.70085</td>\n",
              "    </tr>\n",
              "    <tr>\n",
              "      <th>1320</th>\n",
              "      <td>31.065</td>\n",
              "      <td>5425.02335</td>\n",
              "    </tr>\n",
              "    <tr>\n",
              "      <th>1321</th>\n",
              "      <td>26.695</td>\n",
              "      <td>28101.33305</td>\n",
              "    </tr>\n",
              "    <tr>\n",
              "      <th>1322</th>\n",
              "      <td>38.830</td>\n",
              "      <td>12981.34570</td>\n",
              "    </tr>\n",
              "    <tr>\n",
              "      <th>1323</th>\n",
              "      <td>40.370</td>\n",
              "      <td>43896.37630</td>\n",
              "    </tr>\n",
              "    <tr>\n",
              "      <th>1324</th>\n",
              "      <td>25.935</td>\n",
              "      <td>4239.89265</td>\n",
              "    </tr>\n",
              "    <tr>\n",
              "      <th>1325</th>\n",
              "      <td>33.535</td>\n",
              "      <td>13143.33665</td>\n",
              "    </tr>\n",
              "    <tr>\n",
              "      <th>1326</th>\n",
              "      <td>32.870</td>\n",
              "      <td>7050.02130</td>\n",
              "    </tr>\n",
              "    <tr>\n",
              "      <th>1327</th>\n",
              "      <td>30.030</td>\n",
              "      <td>9377.90470</td>\n",
              "    </tr>\n",
              "    <tr>\n",
              "      <th>1328</th>\n",
              "      <td>24.225</td>\n",
              "      <td>22395.74424</td>\n",
              "    </tr>\n",
              "    <tr>\n",
              "      <th>1329</th>\n",
              "      <td>38.600</td>\n",
              "      <td>10325.20600</td>\n",
              "    </tr>\n",
              "    <tr>\n",
              "      <th>1330</th>\n",
              "      <td>25.740</td>\n",
              "      <td>12629.16560</td>\n",
              "    </tr>\n",
              "    <tr>\n",
              "      <th>1331</th>\n",
              "      <td>33.400</td>\n",
              "      <td>10795.93733</td>\n",
              "    </tr>\n",
              "    <tr>\n",
              "      <th>1332</th>\n",
              "      <td>44.700</td>\n",
              "      <td>11411.68500</td>\n",
              "    </tr>\n",
              "    <tr>\n",
              "      <th>1333</th>\n",
              "      <td>30.970</td>\n",
              "      <td>10600.54830</td>\n",
              "    </tr>\n",
              "    <tr>\n",
              "      <th>1334</th>\n",
              "      <td>31.920</td>\n",
              "      <td>2205.98080</td>\n",
              "    </tr>\n",
              "    <tr>\n",
              "      <th>1335</th>\n",
              "      <td>36.850</td>\n",
              "      <td>1629.83350</td>\n",
              "    </tr>\n",
              "    <tr>\n",
              "      <th>1336</th>\n",
              "      <td>25.800</td>\n",
              "      <td>2007.94500</td>\n",
              "    </tr>\n",
              "    <tr>\n",
              "      <th>1337</th>\n",
              "      <td>29.070</td>\n",
              "      <td>29141.36030</td>\n",
              "    </tr>\n",
              "  </tbody>\n",
              "</table>\n",
              "<p>1338 rows × 2 columns</p>\n",
              "</div>"
            ],
            "text/plain": [
              "         bmi      charges\n",
              "0     27.900  16884.92400\n",
              "1     33.770   1725.55230\n",
              "2     33.000   4449.46200\n",
              "3     22.705  21984.47061\n",
              "4     28.880   3866.85520\n",
              "5     25.740   3756.62160\n",
              "6     33.440   8240.58960\n",
              "7     27.740   7281.50560\n",
              "8     29.830   6406.41070\n",
              "9     25.840  28923.13692\n",
              "10    26.220   2721.32080\n",
              "11    26.290  27808.72510\n",
              "12    34.400   1826.84300\n",
              "13    39.820  11090.71780\n",
              "14    42.130  39611.75770\n",
              "15    24.600   1837.23700\n",
              "16    30.780  10797.33620\n",
              "17    23.845   2395.17155\n",
              "18    40.300  10602.38500\n",
              "19    35.300  36837.46700\n",
              "20    36.005  13228.84695\n",
              "21    32.400   4149.73600\n",
              "22    34.100   1137.01100\n",
              "23    31.920  37701.87680\n",
              "24    28.025   6203.90175\n",
              "25    27.720  14001.13380\n",
              "26    23.085  14451.83515\n",
              "27    32.775  12268.63225\n",
              "28    17.385   2775.19215\n",
              "29    36.300  38711.00000\n",
              "...      ...          ...\n",
              "1308  30.200  33900.65300\n",
              "1309  32.200   6875.96100\n",
              "1310  26.315   6940.90985\n",
              "1311  26.695   4571.41305\n",
              "1312  42.900   4536.25900\n",
              "1313  34.700  36397.57600\n",
              "1314  23.655  18765.87545\n",
              "1315  28.310  11272.33139\n",
              "1316  20.600   1731.67700\n",
              "1317  53.130   1163.46270\n",
              "1318  39.710  19496.71917\n",
              "1319  26.315   7201.70085\n",
              "1320  31.065   5425.02335\n",
              "1321  26.695  28101.33305\n",
              "1322  38.830  12981.34570\n",
              "1323  40.370  43896.37630\n",
              "1324  25.935   4239.89265\n",
              "1325  33.535  13143.33665\n",
              "1326  32.870   7050.02130\n",
              "1327  30.030   9377.90470\n",
              "1328  24.225  22395.74424\n",
              "1329  38.600  10325.20600\n",
              "1330  25.740  12629.16560\n",
              "1331  33.400  10795.93733\n",
              "1332  44.700  11411.68500\n",
              "1333  30.970  10600.54830\n",
              "1334  31.920   2205.98080\n",
              "1335  36.850   1629.83350\n",
              "1336  25.800   2007.94500\n",
              "1337  29.070  29141.36030\n",
              "\n",
              "[1338 rows x 2 columns]"
            ]
          },
          "metadata": {
            "tags": []
          },
          "execution_count": 30
        }
      ]
    },
    {
      "cell_type": "code",
      "metadata": {
        "id": "B2cVFncLEHVD",
        "outputId": "dcf852e9-b932-4e53-9d4b-d2a570de0f77"
      },
      "source": [
        "x, y = data\n",
        "\n",
        "t = x, y\n",
        "\n",
        "print(f\"X\\n\\n{data[t[0]]}\")\n"
      ],
      "execution_count": null,
      "outputs": [
        {
          "output_type": "stream",
          "text": [
            "X\n",
            "\n",
            "0       27.900\n",
            "1       33.770\n",
            "2       33.000\n",
            "3       22.705\n",
            "4       28.880\n",
            "5       25.740\n",
            "6       33.440\n",
            "7       27.740\n",
            "8       29.830\n",
            "9       25.840\n",
            "10      26.220\n",
            "11      26.290\n",
            "12      34.400\n",
            "13      39.820\n",
            "14      42.130\n",
            "15      24.600\n",
            "16      30.780\n",
            "17      23.845\n",
            "18      40.300\n",
            "19      35.300\n",
            "20      36.005\n",
            "21      32.400\n",
            "22      34.100\n",
            "23      31.920\n",
            "24      28.025\n",
            "25      27.720\n",
            "26      23.085\n",
            "27      32.775\n",
            "28      17.385\n",
            "29      36.300\n",
            "         ...  \n",
            "1308    30.200\n",
            "1309    32.200\n",
            "1310    26.315\n",
            "1311    26.695\n",
            "1312    42.900\n",
            "1313    34.700\n",
            "1314    23.655\n",
            "1315    28.310\n",
            "1316    20.600\n",
            "1317    53.130\n",
            "1318    39.710\n",
            "1319    26.315\n",
            "1320    31.065\n",
            "1321    26.695\n",
            "1322    38.830\n",
            "1323    40.370\n",
            "1324    25.935\n",
            "1325    33.535\n",
            "1326    32.870\n",
            "1327    30.030\n",
            "1328    24.225\n",
            "1329    38.600\n",
            "1330    25.740\n",
            "1331    33.400\n",
            "1332    44.700\n",
            "1333    30.970\n",
            "1334    31.920\n",
            "1335    36.850\n",
            "1336    25.800\n",
            "1337    29.070\n",
            "Name: bmi, Length: 1338, dtype: float64\n"
          ],
          "name": "stdout"
        }
      ]
    },
    {
      "cell_type": "markdown",
      "metadata": {
        "id": "_hjYcQntEHVD"
      },
      "source": [
        "## **Extra List and Tuple**\n",
        "\n",
        "---"
      ]
    },
    {
      "cell_type": "markdown",
      "metadata": {
        "id": "FfPjBXJcEHVD"
      },
      "source": [
        "### **List and Tuple Combination**\n",
        "\n",
        "---\n"
      ]
    },
    {
      "cell_type": "code",
      "metadata": {
        "id": "hMe36eeVEHVD",
        "outputId": "85168dfe-9d9d-4c47-f769-2714b74c0ff6"
      },
      "source": [
        "tuple_of_list = [\"Artficial\", \"Intelligence\"], [\"Machine\", \"Learninig\"], \"Deep Larning\"\n",
        "\n",
        "list_of_tuple = [\n",
        "    (\"key\", 1),\n",
        "    (\"Weight\", [[0.5, 0.3, 0.2], [1, 0, 0.2, 0.6], [0.3, 0.0, 1]]),\n",
        "    (\"learning_rate\", 0.001),\n",
        "    (\"bias\", 0.3),\n",
        "]\n",
        "\n",
        "print(f\"Tuple of list : {tuple_of_list},\\nList of tuple {list_of_tuple}\")"
      ],
      "execution_count": null,
      "outputs": [
        {
          "output_type": "stream",
          "text": [
            "Tuple of list : (['Artficial', 'Intelligence'], ['Machine', 'Learninig'], 'Deep Larning'),\n",
            "List of tuple [('key', 1), ('Weight', [[0.5, 0.3, 0.2], [1, 0, 0.2, 0.6], [0.3, 0.0, 1]]), ('learning_rate', 0.001), ('bias', 0.3)]\n"
          ],
          "name": "stdout"
        }
      ]
    },
    {
      "cell_type": "code",
      "metadata": {
        "id": "TF57htHbEHVE",
        "outputId": "40aed084-84a4-44e8-ef9d-a53721ae4c73"
      },
      "source": [
        "list_of_tuple.append(\"09\")\n",
        "print(f\"List of tuple {list_of_tuple}\")"
      ],
      "execution_count": null,
      "outputs": [
        {
          "output_type": "stream",
          "text": [
            "List of tuple [('key', 1), ('Weight', [[0.5, 0.3, 0.2], [1, 0, 0.2, 0.6], [0.3, 0.0, 1]]), ('learning_rate', 0.001), ('bias', 0.3), '09']\n"
          ],
          "name": "stdout"
        }
      ]
    },
    {
      "cell_type": "code",
      "metadata": {
        "id": "64J3UAAaEHVE",
        "outputId": "d0f5b630-2986-4477-d96c-210f5dc2c878"
      },
      "source": [
        "tuple_of_list[0].append(\"Cool\")\n",
        "print(f\"Tuple_of_list: {tuple_of_list}\")\n",
        "tuple_of_list[0].remove(\"Cool\")\n",
        "print(f\"Tuple_of_list: {tuple_of_list}\")"
      ],
      "execution_count": null,
      "outputs": [
        {
          "output_type": "stream",
          "text": [
            "Tuple_of_list: (['Artficial', 'Intelligence', 'Cool'], ['Machine', 'Learninig'], 'Deep Larning')\n",
            "Tuple_of_list: (['Artficial', 'Intelligence'], ['Machine', 'Learninig'], 'Deep Larning')\n"
          ],
          "name": "stdout"
        }
      ]
    },
    {
      "cell_type": "markdown",
      "metadata": {
        "id": "lb0KG153EHVE"
      },
      "source": [
        "## **Dictionary**\n",
        "\n",
        "---"
      ]
    },
    {
      "cell_type": "markdown",
      "metadata": {
        "id": "dwcxwOaPEHVF"
      },
      "source": [
        "### **Initialize Directory**\n",
        "\n",
        "---\n"
      ]
    },
    {
      "cell_type": "code",
      "metadata": {
        "id": "PCqX75sJEHVF",
        "outputId": "abf4f02c-0d3e-44dd-a950-6c5c2f267c7f"
      },
      "source": [
        "Dictionary_1 = {}\n",
        "\n",
        "Dictionary_2 = {\n",
        "    'key': [1,3,4,5,6,7],\n",
        "    'key2':2,\n",
        "    'key3':3\n",
        "}\n",
        "print(f'Dictionary 1: {Dictionary_1}, \\nDictionary 2 : {Dictionary_2}')"
      ],
      "execution_count": null,
      "outputs": [
        {
          "output_type": "stream",
          "text": [
            "Dictionary 1: {}, \n",
            "Dictionary 2 : {'key': [1, 3, 4, 5, 6, 7], 'key2': 2, 'key3': 3}\n"
          ],
          "name": "stdout"
        }
      ]
    },
    {
      "cell_type": "markdown",
      "metadata": {
        "id": "Ib12PZt3EHVF"
      },
      "source": [
        "### **SubDictionary**\n",
        "\n",
        "---"
      ]
    },
    {
      "cell_type": "code",
      "metadata": {
        "id": "bex6LZ3HEHVF",
        "outputId": "c7b44904-ec0a-4c56-d53d-85c1572faa21"
      },
      "source": [
        "Dictionary_3 = {\n",
        "    \"list\": [3, 4, 2, 5, 8],\n",
        "    \"A\": [1, 2],\n",
        "    \"tuple\": (\"A\", \"E\", \"I\", \"O\"),\n",
        "    \"Dictionary_2\": Dictionary_2,\n",
        "}\n",
        "print(f\"Dictionary: {Dictionary_3}\")"
      ],
      "execution_count": null,
      "outputs": [
        {
          "output_type": "stream",
          "text": [
            "Dictionary: {'list': [3, 4, 2, 5, 8], 'A': [1, 2], 'tuple': ('A', 'E', 'I', 'O'), 'Dictionary_2': {'key': [1, 3, 4, 5, 6, 7], 'key2': 2, 'key3': 3}}\n"
          ],
          "name": "stdout"
        }
      ]
    },
    {
      "cell_type": "markdown",
      "metadata": {
        "id": "jcmJDkcYEHVG"
      },
      "source": [
        "### **Index Operations**\n",
        "\n",
        "---"
      ]
    },
    {
      "cell_type": "markdown",
      "metadata": {
        "id": "rKfMqUfHEHVG"
      },
      "source": [
        "1.   Example1: Dictionary_3 \\[ \"A\" ]\n",
        "2.   Example2: Dictionary_3 \\[ \"Dictionary_2\" ]\n",
        "3.   Example3: Dictionary_3 \\[ \"Dictionary_2\" ]\\[ \"key2\" ]"
      ]
    },
    {
      "cell_type": "code",
      "metadata": {
        "id": "PKnyulIREHVG",
        "outputId": "11fec238-cd34-4366-bcee-75207d9faa64"
      },
      "source": [
        "print(\n",
        "    f'Example1 : {Dictionary_3[\"A\"]},\\nExample2: {Dictionary_3[\"Dictionary_2\"]},\\nExample3: {Dictionary_3[\"Dictionary_2\"][\"key2\"]} '\n",
        ")"
      ],
      "execution_count": null,
      "outputs": [
        {
          "output_type": "stream",
          "text": [
            "Example1 : [1, 2],\n",
            "Example2: {'key': [1, 3, 4, 5, 6, 7], 'key2': 2, 'key3': 3},\n",
            "Example3: 2 \n"
          ],
          "name": "stdout"
        }
      ]
    },
    {
      "cell_type": "markdown",
      "metadata": {
        "id": "VKM6PoIyEHVG"
      },
      "source": [
        "4. Example4: Dictionary_3 \\[ \"A\" ] \\[ 0 ]\n",
        "5. Example5: Dictionary_3 \\[ \"tuple\"] \\[ 1 : -1 ]\n",
        "6. Example6: Dictionary_3 \\[ \"Dictionary_2\" ] \\[ \"key\" ] \\[ : : 2 ]"
      ]
    },
    {
      "cell_type": "code",
      "metadata": {
        "id": "_gxc-CUVEHVH",
        "outputId": "062bfece-b93f-440a-8a9a-128c75fbc5fb"
      },
      "source": [
        "print(\n",
        "    f'Example1 : {Dictionary_3[\"A\"][0]},\\nExample2: {Dictionary_3[\"tuple\"][1:-1]},\\nExample3: {Dictionary_3[\"Dictionary_2\"][\"key\"][::2]} '\n",
        ")"
      ],
      "execution_count": null,
      "outputs": [
        {
          "output_type": "stream",
          "text": [
            "Example1 : 1,\n",
            "Example2: ('E', 'I'),\n",
            "Example3: [1, 4, 6] \n"
          ],
          "name": "stdout"
        }
      ]
    },
    {
      "cell_type": "markdown",
      "metadata": {
        "id": "iGGTmYnCEHVH"
      },
      "source": [
        "### **Dictionary Methods**\n",
        "\n",
        "---"
      ]
    },
    {
      "cell_type": "markdown",
      "metadata": {
        "id": "h1Vfo0cJEHVH"
      },
      "source": [
        "7.  **get**\n",
        "8.  **pop**\n",
        "9.  **clear**"
      ]
    },
    {
      "cell_type": "code",
      "metadata": {
        "id": "IGbf46cxEHVH",
        "outputId": "a771aeb8-8df0-427f-9c12-e07e6ba03955"
      },
      "source": [
        "print(f'Use get: {Dictionary_3.get(\"A\")}')"
      ],
      "execution_count": null,
      "outputs": [
        {
          "output_type": "stream",
          "text": [
            "Use get: [1, 2]\n"
          ],
          "name": "stdout"
        }
      ]
    },
    {
      "cell_type": "code",
      "metadata": {
        "id": "o3RwsgOEEHVH",
        "outputId": "471df1b8-43d4-4727-b72a-3f9972fed016"
      },
      "source": [
        "print(f'Directory : {Dictionary_3.pop(\"A\")},\\nNew Dictionary: {Dictionary_3}')"
      ],
      "execution_count": null,
      "outputs": [
        {
          "output_type": "stream",
          "text": [
            "Directory : [1, 2],\n",
            "New Dictionary: {'list': [3, 4, 2, 5, 8], 'tuple': ('A', 'E', 'I', 'O'), 'Dictionary_2': {'key': [1, 3, 4, 5, 6, 7], 'key2': 2, 'key3': 3}}\n"
          ],
          "name": "stdout"
        }
      ]
    },
    {
      "cell_type": "code",
      "metadata": {
        "id": "21C2eDWrEHVI",
        "outputId": "a20a6dcd-4cef-4639-c45e-7bfdd8ee7557"
      },
      "source": [
        "print(f\"Clear: {Dictionary_2.clear()}\")"
      ],
      "execution_count": null,
      "outputs": [
        {
          "output_type": "stream",
          "text": [
            "Clear: None\n"
          ],
          "name": "stdout"
        }
      ]
    },
    {
      "cell_type": "markdown",
      "metadata": {
        "id": "hj9XXPgoEHVI"
      },
      "source": [
        "10. **Keys**\n",
        "11. **Items**\n",
        "13. **Values**\n",
        "12. **Copy**"
      ]
    },
    {
      "cell_type": "code",
      "metadata": {
        "id": "HwwKd3sFEHVI",
        "outputId": "b91a4e17-b357-47bf-a86c-3e936d04e7e4"
      },
      "source": [
        "print(f'Keys: {Dictionary_3.keys()}')"
      ],
      "execution_count": null,
      "outputs": [
        {
          "output_type": "stream",
          "text": [
            "Keys: dict_keys(['list', 'tuple', 'Dictionary_2'])\n"
          ],
          "name": "stdout"
        }
      ]
    },
    {
      "cell_type": "code",
      "metadata": {
        "id": "82eHtzMWEHVI",
        "outputId": "9b2bcf8b-2fe2-491e-abed-a4e720cf314a"
      },
      "source": [
        "print(f\"Items in the directory: {Dictionary_3.items()}\")"
      ],
      "execution_count": null,
      "outputs": [
        {
          "output_type": "stream",
          "text": [
            "Items in the directory: dict_items([('list', [3, 4, 2, 5, 8]), ('tuple', ('A', 'E', 'I', 'O')), ('Dictionary_2', {})])\n"
          ],
          "name": "stdout"
        }
      ]
    },
    {
      "cell_type": "code",
      "metadata": {
        "id": "s5FoQB-IEHVJ",
        "outputId": "b9beb722-c903-4f89-e789-db881b2f788c"
      },
      "source": [
        "print(f\"Values: {Dictionary_3.values()}\")"
      ],
      "execution_count": null,
      "outputs": [
        {
          "output_type": "stream",
          "text": [
            "Values: dict_values([[3, 4, 2, 5, 8], ('A', 'E', 'I', 'O'), {}])\n"
          ],
          "name": "stdout"
        }
      ]
    },
    {
      "cell_type": "code",
      "metadata": {
        "id": "KutLw2koEHVJ",
        "outputId": "7004aff5-33f3-49de-dda7-5db22ef53eb4"
      },
      "source": [
        "Dictionary_2 = {\"num\": 3, \"bmi\": 4}\n",
        "Dictionary_1 = Dictionary_2.copy()\n",
        "Dictionary_1[\"s\"] = 5\n",
        "print(f\"Compare: {Dictionary_1}, {Dictionary_2}\")"
      ],
      "execution_count": null,
      "outputs": [
        {
          "output_type": "stream",
          "text": [
            "Compare: {'num': 3, 'bmi': 4, 's': 5}, {'num': 3, 'bmi': 4}\n"
          ],
          "name": "stdout"
        }
      ]
    },
    {
      "cell_type": "markdown",
      "metadata": {
        "id": "UpMt7_RHEHVK"
      },
      "source": [
        "### **Deep Learning Aplication**"
      ]
    },
    {
      "cell_type": "code",
      "metadata": {
        "id": "cX2Qtoc-EHVK"
      },
      "source": [
        "data = torch.load(\"../src/data.pth\")\n"
      ],
      "execution_count": null,
      "outputs": []
    },
    {
      "cell_type": "code",
      "metadata": {
        "id": "J50Ydz4MEHVK",
        "outputId": "e075d079-25b3-4c63-950b-c7d52001f046"
      },
      "source": [
        "type(data)"
      ],
      "execution_count": null,
      "outputs": [
        {
          "output_type": "execute_result",
          "data": {
            "text/plain": [
              "dict"
            ]
          },
          "metadata": {
            "tags": []
          },
          "execution_count": 48
        }
      ]
    },
    {
      "cell_type": "code",
      "metadata": {
        "id": "6Vhhc9GLEHVL",
        "outputId": "148d727b-69a3-4c17-cafb-cbb0ae8fe3df"
      },
      "source": [
        "print(f'Tags in the Trained Model: {data[\"tags\"]}')"
      ],
      "execution_count": null,
      "outputs": [
        {
          "output_type": "stream",
          "text": [
            "Tags in the Trained Model: ['funny', 'goodbye', 'greeting', 'items', 'payments', 'thanks']\n"
          ],
          "name": "stdout"
        }
      ]
    },
    {
      "cell_type": "code",
      "metadata": {
        "id": "sTwPsRcQEHVL",
        "outputId": "298ee5fa-d616-4ac1-871d-ac6842bd7cbf"
      },
      "source": [
        "Directory_Model = {\n",
        "    \"Modelo\": data[\"model_state\"],\n",
        "    \"Entrada\": data[\"input_size\"],\n",
        "    \"Capa Oculta\": data[\"hidden_size\"],\n",
        "    \"Salida\": data[\"output_size\"],\n",
        "    \"All_Words\": data[\"all_words\"],\n",
        "    \"Etiquetas\": data[\"tags\"],\n",
        "}\n",
        "print(Directory_Model.keys())"
      ],
      "execution_count": null,
      "outputs": [
        {
          "output_type": "stream",
          "text": [
            "dict_keys(['Modelo', 'Entrada', 'Capa Oculta', 'Salida', 'All_Words', 'Etiquetas'])\n"
          ],
          "name": "stdout"
        }
      ]
    },
    {
      "cell_type": "code",
      "metadata": {
        "id": "luyKGJ_NEHVL",
        "outputId": "a997a6eb-8bce-4017-d527-c554dd9ef1d7"
      },
      "source": [
        "Model = data.copy()\n",
        "print(Model.values())"
      ],
      "execution_count": null,
      "outputs": [
        {
          "output_type": "stream",
          "text": [
            "dict_values([OrderedDict([('l1.weight', tensor([[ 4.0461e-01,  5.1110e-01,  5.0938e-01, -3.3592e-01, -2.3031e-01,\n",
            "         -2.3533e-01,  5.3419e-01, -3.3393e-01,  3.3877e-01,  2.9501e-01,\n",
            "          3.0186e-01, -1.9770e-01,  2.7925e-01,  5.1635e-01,  6.4590e-01,\n",
            "          4.8844e-01, -2.7206e-01,  5.7271e-03, -9.0965e-03, -1.2634e-01,\n",
            "         -2.5795e-01,  3.8432e-01,  2.1556e-01,  5.9339e-01,  1.8010e-01,\n",
            "          6.1452e-01, -1.8910e-01,  2.7487e-01,  3.3907e-01, -3.2972e-01,\n",
            "         -1.1885e-01,  2.0211e-01,  3.3027e-01,  3.7157e-01,  2.5410e-01,\n",
            "         -1.0486e-01, -1.8539e-01, -1.1248e-01,  4.6320e-01,  2.7265e-01,\n",
            "          4.9216e-01, -3.9614e-01,  1.4544e-01,  3.4490e-01, -2.1509e-01,\n",
            "         -1.2904e-02, -1.0464e-01,  2.1905e-01,  2.8120e-01],\n",
            "        [ 4.3946e-01,  3.7857e-01,  3.3507e-01,  1.0823e-01,  2.1776e-01,\n",
            "          5.5525e-01,  4.8283e-01,  1.1381e-01,  2.1478e-01,  2.0638e-01,\n",
            "          5.1354e-01,  3.9004e-01,  1.9047e-01,  3.9594e-01,  7.6565e-02,\n",
            "          3.6950e-01, -4.8242e-01, -1.5889e-01,  3.8969e-01,  4.3972e-01,\n",
            "          4.7409e-01,  4.2614e-01, -2.8295e-01,  6.1540e-01, -2.3041e-01,\n",
            "          5.9092e-01,  3.8168e-01,  4.0698e-01,  5.3549e-01, -5.9742e-01,\n",
            "          1.8569e-01, -2.0299e-01,  3.9594e-01,  4.2389e-01,  2.5814e-01,\n",
            "          9.6149e-02,  2.2071e-01, -2.8447e-01,  3.1377e-01,  1.8197e-01,\n",
            "          4.6359e-01, -5.9740e-01,  2.7099e-01,  4.6646e-01,  2.1176e-01,\n",
            "         -3.8963e-01, -2.9581e-01,  3.2567e-01,  6.4139e-02],\n",
            "        [-9.5400e-02, -2.9641e-01, -3.3739e-01,  3.8057e-01,  3.4309e-01,\n",
            "         -5.0480e-01,  3.8277e-01,  4.5059e-01, -1.0515e-01, -1.8273e-01,\n",
            "         -2.9429e-01, -4.6403e-01, -2.6429e-01,  3.9364e-01, -3.1344e-01,\n",
            "          4.0792e-01,  7.5256e-01, -3.3431e-01, -4.8791e-01, -4.4817e-01,\n",
            "         -3.9199e-01, -1.2284e-01, -1.1440e-01,  5.6129e-01, -5.5861e-02,\n",
            "          6.4251e-01,  4.7859e-01, -3.3850e-01,  4.7506e-01,  7.5679e-01,\n",
            "          2.7271e-01,  6.8658e-03, -3.1782e-01, -2.6938e-01, -6.6960e-02,\n",
            "          1.9951e-01,  2.9603e-01, -3.3515e-01,  2.7105e-01, -9.1898e-02,\n",
            "          4.6690e-01,  6.8683e-01, -6.1817e-02,  4.0693e-01,  4.6221e-01,\n",
            "         -2.9925e-01, -1.4327e-01, -1.8770e-01,  1.9633e-01],\n",
            "        [ 3.3252e-01,  4.4513e-01,  5.4094e-01,  3.9327e-01,  9.5263e-02,\n",
            "          4.4622e-01,  3.1936e-02,  5.2704e-01,  5.1745e-01,  3.2412e-01,\n",
            "          5.8402e-01,  3.7102e-01,  3.6339e-01, -1.4725e-01,  3.5815e-01,\n",
            "         -1.0086e-01, -3.1781e-01,  1.3536e-01,  3.4681e-01,  5.1759e-01,\n",
            "          5.1964e-01,  4.1255e-01,  2.2148e-01, -3.5324e-01,  1.1256e-01,\n",
            "         -4.6057e-01,  3.3986e-01,  3.8903e-01,  5.3445e-02, -3.1788e-01,\n",
            "          4.1467e-01,  1.6103e-01,  3.7810e-01,  3.0940e-01,  4.2545e-01,\n",
            "          2.1650e-01,  4.7099e-01,  1.3939e-01, -1.1859e-01,  4.2073e-01,\n",
            "         -1.5181e-01, -4.1312e-01,  1.0789e-01, -2.0506e-01,  3.8263e-01,\n",
            "          4.3495e-02,  3.7131e-02,  4.1413e-01,  1.3984e-01],\n",
            "        [-1.7283e-01, -4.5110e-02, -1.9251e-01,  7.2729e-01,  5.1005e-01,\n",
            "          2.8090e-01, -1.8852e-01,  5.8171e-01, -8.4429e-02,  5.5190e-02,\n",
            "         -1.5074e-01,  4.2037e-01, -9.9972e-02, -2.9838e-01, -1.0793e-01,\n",
            "         -1.9661e-01, -7.4443e-01,  1.4433e-02,  7.4497e-01,  5.0354e-01,\n",
            "          5.0015e-01, -1.0174e-01, -1.5229e-01, -2.4571e-01, -4.9586e-02,\n",
            "         -2.5269e-01,  4.8498e-01, -1.7109e-01, -1.8594e-01, -6.0810e-01,\n",
            "          5.7453e-01, -1.2631e-01, -1.1154e-01, -1.3980e-01, -1.4613e-01,\n",
            "          5.2808e-01,  3.3258e-01, -1.3221e-01, -2.1021e-01, -3.7926e-02,\n",
            "         -1.5417e-01, -7.4405e-01,  1.4772e-01, -2.5768e-01,  4.2090e-01,\n",
            "         -2.1805e-01, -7.7462e-02, -1.7159e-01, -1.3430e-01],\n",
            "        [ 2.1163e-01, -5.2813e-02,  1.8866e-02, -5.7631e-01, -2.7872e-01,\n",
            "          5.3578e-01, -1.5713e-01, -5.9725e-01, -3.0603e-02,  1.1877e-01,\n",
            "         -1.3473e-01,  5.8074e-01,  1.6634e-02, -9.0236e-02,  1.0757e-01,\n",
            "         -1.0522e-01,  4.8367e-01, -8.0426e-02,  5.4114e-01,  5.0412e-01,\n",
            "          4.6550e-01, -4.0676e-02, -1.2237e-01, -5.8713e-02, -2.2736e-01,\n",
            "         -1.5586e-01, -3.6811e-01,  5.2173e-02, -1.5524e-01,  5.3499e-01,\n",
            "         -4.4220e-01, -1.3293e-01, -3.7898e-02, -5.5922e-02,  8.3237e-02,\n",
            "         -2.2204e-01, -2.7350e-01, -2.5177e-02, -1.0858e-01,  1.3402e-01,\n",
            "         -1.7803e-01,  4.8857e-01,  4.1136e-01, -3.5554e-01, -2.0179e-01,\n",
            "         -2.1302e-01,  5.9511e-02,  3.1514e-02, -5.8896e-04],\n",
            "        [ 3.3664e-01,  5.7410e-01,  2.8836e-01,  8.6043e-01,  6.4089e-01,\n",
            "         -3.5064e-01,  2.6215e-01,  7.1662e-01,  4.1035e-01,  3.4279e-01,\n",
            "          3.6703e-01, -3.5076e-01,  4.5162e-01,  3.2214e-01,  3.3628e-01,\n",
            "          2.6937e-01, -3.5055e-01, -2.1572e-01, -3.5088e-01, -3.5059e-01,\n",
            "         -3.5052e-01,  3.6444e-01, -2.1158e-01,  3.8159e-01, -8.6509e-02,\n",
            "          4.0903e-01,  4.8272e-01,  4.6445e-01,  4.0738e-01, -3.5042e-01,\n",
            "          4.3724e-01, -1.1283e-02,  4.9344e-01,  1.9912e-01,  3.7770e-01,\n",
            "          5.5559e-01,  5.5442e-01, -2.6144e-01,  4.8640e-01,  3.6484e-01,\n",
            "          3.4772e-01, -4.8162e-01, -7.8831e-02,  1.6487e-01,  3.5728e-01,\n",
            "         -3.2466e-01, -7.3041e-02,  2.4023e-01,  1.3528e-01],\n",
            "        [-1.2626e-02,  8.6218e-02,  3.7284e-01,  4.5048e-01,  5.0728e-01,\n",
            "         -1.1202e-01, -3.8928e-01,  3.3697e-01,  2.5260e-01,  6.8176e-02,\n",
            "          8.9654e-02, -3.7401e-01,  1.5940e-01, -3.5527e-01,  2.7256e-01,\n",
            "         -3.8391e-01,  4.5440e-01,  7.3097e-01, -2.2944e-01, -1.7465e-01,\n",
            "         -3.6595e-01,  2.3459e-01,  6.8393e-01, -6.7864e-01,  5.1048e-01,\n",
            "         -4.3248e-01,  2.5152e-01, -8.2457e-02, -1.7658e-01,  6.3016e-01,\n",
            "          3.7484e-01,  5.5410e-01, -8.0437e-02,  8.9109e-02,  1.1868e-01,\n",
            "          2.5391e-01,  4.5807e-01,  7.0506e-01, -2.1001e-01, -3.2314e-02,\n",
            "         -2.5928e-01,  6.1172e-01,  3.9082e-01, -2.7893e-01,  2.9881e-01,\n",
            "          7.9423e-01,  5.9405e-01,  1.5303e-01,  6.4431e-01]], device='cuda:0')), ('l1.bias', tensor([0.3338, 0.5977, 0.7520, 0.3179, 0.7446, 0.6440, 0.3505, 1.0297],\n",
            "       device='cuda:0')), ('l2.weight', tensor([[ 9.4369e-01,  8.7398e-01, -1.2052e+00,  1.0056e+00,  4.1430e-01,\n",
            "          4.0469e-01,  8.2585e-01,  4.7064e-01],\n",
            "        [-3.1791e-01, -9.0522e-02,  1.0854e-01, -8.5694e-02, -1.0654e-01,\n",
            "         -2.1853e-01, -6.2740e-02, -2.3716e-01],\n",
            "        [-5.8762e-01,  4.8994e-01,  1.5600e+00, -2.0599e-01,  8.3106e-01,\n",
            "          9.4997e-01, -2.8633e-01, -5.5783e-02],\n",
            "        [-1.2220e+00,  7.9690e-01, -1.9478e-01,  1.2044e+00,  1.5135e+00,\n",
            "          2.5890e-01,  7.7327e-01,  1.3777e-01],\n",
            "        [-6.7694e-01, -7.3168e-01,  1.0403e+00, -1.4596e-01,  1.5219e-01,\n",
            "         -6.3780e-01,  1.3575e-01,  1.2388e+00],\n",
            "        [ 9.6482e-01,  6.4848e-01,  8.9394e-01, -2.8560e-01, -4.1210e-01,\n",
            "         -3.4451e-01,  1.0254e+00, -3.3161e-01],\n",
            "        [ 2.8829e-02,  5.3271e-02,  6.9180e-02, -4.8189e-01, -1.0397e-03,\n",
            "          1.5130e+00, -1.2538e+00,  7.8512e-01],\n",
            "        [-1.3554e-02, -5.1770e-02,  1.3121e+00, -6.6763e-01,  6.5053e-03,\n",
            "         -4.9550e-01,  5.8032e-01,  4.7807e-01]], device='cuda:0')), ('l2.bias', tensor([ 0.5010, -0.2176,  0.4860,  0.3160,  0.4429,  0.2879,  0.4817,  0.3678],\n",
            "       device='cuda:0')), ('l3.weight', tensor([[-0.1425,  0.2719,  0.1509, -0.6514, -1.3363,  0.7052, -0.8406,  0.4918],\n",
            "        [-0.2768, -0.1936,  0.0370,  0.3352,  0.4280, -0.2847, -1.2489,  0.3838],\n",
            "        [ 0.3067,  0.0192,  0.6556,  0.2579, -1.3965, -1.1775,  0.6666, -0.9961],\n",
            "        [ 0.3383,  0.2628, -1.4995, -0.4162,  0.5821, -1.4054,  0.5869,  0.0978],\n",
            "        [ 0.8275, -0.1634, -1.1728,  0.0769, -1.1802,  0.0993, -0.8554, -0.4821],\n",
            "        [-1.1748, -0.2064,  0.2529, -0.5879,  0.4780, -0.5528,  0.8293,  0.3568]],\n",
            "       device='cuda:0')), ('l3.bias', tensor([-0.0117,  0.0786, -0.1471,  0.2346, -0.0989, -0.2817], device='cuda:0'))]), 49, 8, 6, ['a', 'accept', 'are', 'arrivederci', 'au', 'bonjour', 'broma', 'bye', 'can', 'card', 'cash', 'ciao', 'credit', 'dime', 'do', 'funni', 'gracia', 'have', 'hello', 'hola', 'hya', 'i', 'item', 'joke', 'kind', 'know', 'later', 'mastercard', 'me', 'merci', 'no', 'of', 'onli', 'pay', 'paypal', 'revoir', 'see', 'sell', 'someth', 'take', 'tell', 'thank', 'there', 'una', 'vemo', 'what', 'wich', 'with', 'you'], ['funny', 'goodbye', 'greeting', 'items', 'payments', 'thanks']])\n"
          ],
          "name": "stdout"
        }
      ]
    }
  ]
>>>>>>> 7a9372802e796e38faec29d329625b768f586c0b
}